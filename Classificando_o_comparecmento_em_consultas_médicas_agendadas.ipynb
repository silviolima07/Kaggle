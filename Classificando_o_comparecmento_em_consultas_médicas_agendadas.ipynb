{
  "nbformat": 4,
  "nbformat_minor": 0,
  "metadata": {
    "colab": {
      "name": "Classificando_o_comparecmento_em_consultas_médicas_agendadas",
      "provenance": [],
      "collapsed_sections": [],
      "mount_file_id": "1ccYArh-awNB49wPRNwrpUsojClHgwtsC",
      "authorship_tag": "ABX9TyNcI2xYvEFxGqHKgAMI+EWo",
      "include_colab_link": true
    },
    "kernelspec": {
      "name": "python3",
      "display_name": "Python 3"
    }
  },
  "cells": [
    {
      "cell_type": "markdown",
      "metadata": {
        "id": "view-in-github",
        "colab_type": "text"
      },
      "source": [
        "<a href=\"https://colab.research.google.com/github/silviolima07/Kaggle/blob/master/Classificando_o_comparecmento_em_consultas_m%C3%A9dicas_agendadas.ipynb\" target=\"_parent\"><img src=\"https://colab.research.google.com/assets/colab-badge.svg\" alt=\"Open In Colab\"/></a>"
      ]
    },
    {
      "cell_type": "markdown",
      "metadata": {
        "id": "8gr-Sh1hwAld",
        "colab_type": "text"
      },
      "source": [
        "# Classificação de Consultas médicas no Serviço Público\n",
        "- Modelo:\n",
        "- Version: 1.0.0\n",
        "- kaggle: https://www.kaggle.com/joniarroba/noshowappointments\n"
      ]
    },
    {
      "cell_type": "markdown",
      "metadata": {
        "id": "zKQ7IjoHT_uG",
        "colab_type": "text"
      },
      "source": [
        "![alt text](https://drive.google.com/uc?id=1_fEXKa3uoQzhcL91m0zTKhtubDavWPul))"
      ]
    },
    {
      "cell_type": "code",
      "metadata": {
        "id": "shEZiT6DueQu",
        "colab_type": "code",
        "colab": {}
      },
      "source": [
        "# Carregando os pacotes\n",
        "import pandas as pd\n",
        "import numpy as np\n",
        "import seaborn as sns\n",
        "sns.set(color_codes=True)\n",
        "import matplotlib.pyplot as plt\n",
        "\n",
        "from sklearn.model_selection import train_test_split\n",
        "from sklearn.ensemble import RandomForestClassifier\n",
        "from sklearn.ensemble import ExtraTreesClassifier\n",
        "from sklearn.model_selection import cross_val_score\n",
        "from sklearn.ensemble import GradientBoostingClassifier\n",
        "from sklearn.metrics import matthews_corrcoef\n",
        "\n",
        "\n",
        "from scipy import stats\n",
        "from sklearn.preprocessing import StandardScaler\n",
        "import imblearn\n",
        "\n",
        "from imblearn.over_sampling import SMOTE\n",
        "\n",
        "from sklearn import preprocessing, metrics\n",
        "\n",
        "import warnings\n",
        "warnings.filterwarnings('ignore')\n",
        "\n",
        "import os\n",
        "\n",
        "# Evitar que aparece os warnings\n",
        "import warnings\n",
        "warnings.filterwarnings(\"ignore\")\n",
        "\n",
        "# Seta algumas opções no Jupyter para exibição dos datasets\n",
        "pd.set_option('display.max_columns', 200)\n",
        "pd.set_option('display.max_rows', 200)"
      ],
      "execution_count": 0,
      "outputs": []
    },
    {
      "cell_type": "code",
      "metadata": {
        "id": "QNN1BYS-xRjx",
        "colab_type": "code",
        "colab": {}
      },
      "source": [
        "# Funcao para reducao da memoria utilizada\n",
        "def reduce_mem_usage(df, verbose=True):\n",
        "    numerics = ['int16', 'int32', 'int64', 'float16', 'float32', 'float64']\n",
        "    start_mem = df.memory_usage().sum() / 1024**2    \n",
        "    for col in df.columns:\n",
        "        col_type = df[col].dtypes\n",
        "        if col_type in numerics:\n",
        "            c_min = df[col].min()\n",
        "            c_max = df[col].max()\n",
        "            if str(col_type)[:3] == 'int':\n",
        "                if c_min > np.iinfo(np.int8).min and c_max < np.iinfo(np.int8).max:\n",
        "                    df[col] = df[col].astype(np.int8)\n",
        "                elif c_min > np.iinfo(np.int16).min and c_max < np.iinfo(np.int16).max:\n",
        "                    df[col] = df[col].astype(np.int16)\n",
        "                elif c_min > np.iinfo(np.int32).min and c_max < np.iinfo(np.int32).max:\n",
        "                    df[col] = df[col].astype(np.int32)\n",
        "                elif c_min > np.iinfo(np.int64).min and c_max < np.iinfo(np.int64).max:\n",
        "                    df[col] = df[col].astype(np.int64)  \n",
        "            else:\n",
        "                if c_min > np.finfo(np.float16).min and c_max < np.finfo(np.float16).max:\n",
        "                    df[col] = df[col].astype(np.float16)\n",
        "                elif c_min > np.finfo(np.float32).min and c_max < np.finfo(np.float32).max:\n",
        "                    df[col] = df[col].astype(np.float32)\n",
        "                else:\n",
        "                    df[col] = df[col].astype(np.float64)    \n",
        "    end_mem = df.memory_usage().sum() / 1024**2\n",
        "    if verbose: print('Mem. usage decreased to {:5.2f} Mb ({:.1f}% reduction)'.format(end_mem, 100 * (start_mem - end_mem) / start_mem))\n",
        "    return df"
      ],
      "execution_count": 0,
      "outputs": []
    },
    {
      "cell_type": "code",
      "metadata": {
        "id": "wW_aUhMtxfzw",
        "colab_type": "code",
        "colab": {}
      },
      "source": [
        "# Funcao para realizar a leitura dos arquivos\n",
        "def read_data():\n",
        "     \n",
        "        print('Carregando os arquivos...')\n",
        "        data = pd.read_csv('/content/drive/My Drive/Colab Notebooks/Dataset/KaggleV2-May-2016.csv', encoding='latin')\n",
        "        data = reduce_mem_usage(data)\n",
        "        print('KaggleV2-May-2016.csv tem {} linhas e {} colunas'.format(data.shape[0], data.shape[1]))\n",
        "    \n",
        "        return data"
      ],
      "execution_count": 0,
      "outputs": []
    },
    {
      "cell_type": "code",
      "metadata": {
        "id": "GjJa2EY-ye_E",
        "colab_type": "code",
        "outputId": "48196b48-62fe-4406-841e-63f0ad6a3a7a",
        "colab": {
          "base_uri": "https://localhost:8080/",
          "height": 66
        }
      },
      "source": [
        "# Leitura dos dados\n",
        "df = read_data()"
      ],
      "execution_count": 0,
      "outputs": [
        {
          "output_type": "stream",
          "text": [
            "Carregando os arquivos...\n",
            "Mem. usage decreased to  5.80 Mb (50.9% reduction)\n",
            "KaggleV2-May-2016.csv tem 110527 linhas e 14 colunas\n"
          ],
          "name": "stdout"
        }
      ]
    },
    {
      "cell_type": "code",
      "metadata": {
        "id": "rKHg7IC_90CC",
        "colab_type": "code",
        "outputId": "427171a4-1247-4c7a-b254-223de697e37a",
        "colab": {
          "base_uri": "https://localhost:8080/",
          "height": 297
        }
      },
      "source": [
        "df.head()"
      ],
      "execution_count": 0,
      "outputs": [
        {
          "output_type": "execute_result",
          "data": {
            "text/html": [
              "<div>\n",
              "<style scoped>\n",
              "    .dataframe tbody tr th:only-of-type {\n",
              "        vertical-align: middle;\n",
              "    }\n",
              "\n",
              "    .dataframe tbody tr th {\n",
              "        vertical-align: top;\n",
              "    }\n",
              "\n",
              "    .dataframe thead th {\n",
              "        text-align: right;\n",
              "    }\n",
              "</style>\n",
              "<table border=\"1\" class=\"dataframe\">\n",
              "  <thead>\n",
              "    <tr style=\"text-align: right;\">\n",
              "      <th></th>\n",
              "      <th>PatientId</th>\n",
              "      <th>AppointmentID</th>\n",
              "      <th>Gender</th>\n",
              "      <th>ScheduledDay</th>\n",
              "      <th>AppointmentDay</th>\n",
              "      <th>Age</th>\n",
              "      <th>Neighbourhood</th>\n",
              "      <th>Scholarship</th>\n",
              "      <th>Hipertension</th>\n",
              "      <th>Diabetes</th>\n",
              "      <th>Alcoholism</th>\n",
              "      <th>Handcap</th>\n",
              "      <th>SMS_received</th>\n",
              "      <th>No-show</th>\n",
              "    </tr>\n",
              "  </thead>\n",
              "  <tbody>\n",
              "    <tr>\n",
              "      <th>0</th>\n",
              "      <td>2.987250e+13</td>\n",
              "      <td>5642903</td>\n",
              "      <td>F</td>\n",
              "      <td>2016-04-29T18:38:08Z</td>\n",
              "      <td>2016-04-29T00:00:00Z</td>\n",
              "      <td>62</td>\n",
              "      <td>JARDIM DA PENHA</td>\n",
              "      <td>0</td>\n",
              "      <td>1</td>\n",
              "      <td>0</td>\n",
              "      <td>0</td>\n",
              "      <td>0</td>\n",
              "      <td>0</td>\n",
              "      <td>No</td>\n",
              "    </tr>\n",
              "    <tr>\n",
              "      <th>1</th>\n",
              "      <td>5.589980e+14</td>\n",
              "      <td>5642503</td>\n",
              "      <td>M</td>\n",
              "      <td>2016-04-29T16:08:27Z</td>\n",
              "      <td>2016-04-29T00:00:00Z</td>\n",
              "      <td>56</td>\n",
              "      <td>JARDIM DA PENHA</td>\n",
              "      <td>0</td>\n",
              "      <td>0</td>\n",
              "      <td>0</td>\n",
              "      <td>0</td>\n",
              "      <td>0</td>\n",
              "      <td>0</td>\n",
              "      <td>No</td>\n",
              "    </tr>\n",
              "    <tr>\n",
              "      <th>2</th>\n",
              "      <td>4.262960e+12</td>\n",
              "      <td>5642549</td>\n",
              "      <td>F</td>\n",
              "      <td>2016-04-29T16:19:04Z</td>\n",
              "      <td>2016-04-29T00:00:00Z</td>\n",
              "      <td>62</td>\n",
              "      <td>MATA DA PRAIA</td>\n",
              "      <td>0</td>\n",
              "      <td>0</td>\n",
              "      <td>0</td>\n",
              "      <td>0</td>\n",
              "      <td>0</td>\n",
              "      <td>0</td>\n",
              "      <td>No</td>\n",
              "    </tr>\n",
              "    <tr>\n",
              "      <th>3</th>\n",
              "      <td>8.679510e+11</td>\n",
              "      <td>5642828</td>\n",
              "      <td>F</td>\n",
              "      <td>2016-04-29T17:29:31Z</td>\n",
              "      <td>2016-04-29T00:00:00Z</td>\n",
              "      <td>8</td>\n",
              "      <td>PONTAL DE CAMBURI</td>\n",
              "      <td>0</td>\n",
              "      <td>0</td>\n",
              "      <td>0</td>\n",
              "      <td>0</td>\n",
              "      <td>0</td>\n",
              "      <td>0</td>\n",
              "      <td>No</td>\n",
              "    </tr>\n",
              "    <tr>\n",
              "      <th>4</th>\n",
              "      <td>8.841190e+12</td>\n",
              "      <td>5642494</td>\n",
              "      <td>F</td>\n",
              "      <td>2016-04-29T16:07:23Z</td>\n",
              "      <td>2016-04-29T00:00:00Z</td>\n",
              "      <td>56</td>\n",
              "      <td>JARDIM DA PENHA</td>\n",
              "      <td>0</td>\n",
              "      <td>1</td>\n",
              "      <td>1</td>\n",
              "      <td>0</td>\n",
              "      <td>0</td>\n",
              "      <td>0</td>\n",
              "      <td>No</td>\n",
              "    </tr>\n",
              "  </tbody>\n",
              "</table>\n",
              "</div>"
            ],
            "text/plain": [
              "      PatientId  AppointmentID Gender          ScheduledDay  \\\n",
              "0  2.987250e+13        5642903      F  2016-04-29T18:38:08Z   \n",
              "1  5.589980e+14        5642503      M  2016-04-29T16:08:27Z   \n",
              "2  4.262960e+12        5642549      F  2016-04-29T16:19:04Z   \n",
              "3  8.679510e+11        5642828      F  2016-04-29T17:29:31Z   \n",
              "4  8.841190e+12        5642494      F  2016-04-29T16:07:23Z   \n",
              "\n",
              "         AppointmentDay  Age      Neighbourhood  Scholarship  Hipertension  \\\n",
              "0  2016-04-29T00:00:00Z   62    JARDIM DA PENHA            0             1   \n",
              "1  2016-04-29T00:00:00Z   56    JARDIM DA PENHA            0             0   \n",
              "2  2016-04-29T00:00:00Z   62      MATA DA PRAIA            0             0   \n",
              "3  2016-04-29T00:00:00Z    8  PONTAL DE CAMBURI            0             0   \n",
              "4  2016-04-29T00:00:00Z   56    JARDIM DA PENHA            0             1   \n",
              "\n",
              "   Diabetes  Alcoholism  Handcap  SMS_received No-show  \n",
              "0         0           0        0             0      No  \n",
              "1         0           0        0             0      No  \n",
              "2         0           0        0             0      No  \n",
              "3         0           0        0             0      No  \n",
              "4         1           0        0             0      No  "
            ]
          },
          "metadata": {
            "tags": []
          },
          "execution_count": 257
        }
      ]
    },
    {
      "cell_type": "code",
      "metadata": {
        "id": "EZWNBvFi0Hph",
        "colab_type": "code",
        "outputId": "cef82785-8fd7-4390-c425-d7bdd61db8b3",
        "colab": {
          "base_uri": "https://localhost:8080/",
          "height": 83
        }
      },
      "source": [
        "df.columns"
      ],
      "execution_count": 0,
      "outputs": [
        {
          "output_type": "execute_result",
          "data": {
            "text/plain": [
              "Index(['PatientId', 'AppointmentID', 'Gender', 'ScheduledDay',\n",
              "       'AppointmentDay', 'Age', 'Neighbourhood', 'Scholarship', 'Hipertension',\n",
              "       'Diabetes', 'Alcoholism', 'Handcap', 'SMS_received', 'No-show'],\n",
              "      dtype='object')"
            ]
          },
          "metadata": {
            "tags": []
          },
          "execution_count": 258
        }
      ]
    },
    {
      "cell_type": "code",
      "metadata": {
        "id": "soV7Vy1oX7cP",
        "colab_type": "code",
        "outputId": "b70e31e1-61df-409a-ddf2-3bc8ad9d255c",
        "colab": {
          "base_uri": "https://localhost:8080/",
          "height": 287
        }
      },
      "source": [
        "df.describe()"
      ],
      "execution_count": 0,
      "outputs": [
        {
          "output_type": "execute_result",
          "data": {
            "text/html": [
              "<div>\n",
              "<style scoped>\n",
              "    .dataframe tbody tr th:only-of-type {\n",
              "        vertical-align: middle;\n",
              "    }\n",
              "\n",
              "    .dataframe tbody tr th {\n",
              "        vertical-align: top;\n",
              "    }\n",
              "\n",
              "    .dataframe thead th {\n",
              "        text-align: right;\n",
              "    }\n",
              "</style>\n",
              "<table border=\"1\" class=\"dataframe\">\n",
              "  <thead>\n",
              "    <tr style=\"text-align: right;\">\n",
              "      <th></th>\n",
              "      <th>PatientId</th>\n",
              "      <th>AppointmentID</th>\n",
              "      <th>Age</th>\n",
              "      <th>Scholarship</th>\n",
              "      <th>Hipertension</th>\n",
              "      <th>Diabetes</th>\n",
              "      <th>Alcoholism</th>\n",
              "      <th>Handcap</th>\n",
              "      <th>SMS_received</th>\n",
              "    </tr>\n",
              "  </thead>\n",
              "  <tbody>\n",
              "    <tr>\n",
              "      <th>count</th>\n",
              "      <td>1.105270e+05</td>\n",
              "      <td>1.105270e+05</td>\n",
              "      <td>110527.000000</td>\n",
              "      <td>110527.000000</td>\n",
              "      <td>110527.000000</td>\n",
              "      <td>110527.000000</td>\n",
              "      <td>110527.000000</td>\n",
              "      <td>110527.000000</td>\n",
              "      <td>110527.000000</td>\n",
              "    </tr>\n",
              "    <tr>\n",
              "      <th>mean</th>\n",
              "      <td>1.474953e+14</td>\n",
              "      <td>5.675305e+06</td>\n",
              "      <td>37.088874</td>\n",
              "      <td>0.098266</td>\n",
              "      <td>0.197246</td>\n",
              "      <td>0.071865</td>\n",
              "      <td>0.030400</td>\n",
              "      <td>0.022248</td>\n",
              "      <td>0.321026</td>\n",
              "    </tr>\n",
              "    <tr>\n",
              "      <th>std</th>\n",
              "      <td>2.560998e+14</td>\n",
              "      <td>7.129575e+04</td>\n",
              "      <td>23.110205</td>\n",
              "      <td>0.297675</td>\n",
              "      <td>0.397921</td>\n",
              "      <td>0.258265</td>\n",
              "      <td>0.171686</td>\n",
              "      <td>0.161543</td>\n",
              "      <td>0.466873</td>\n",
              "    </tr>\n",
              "    <tr>\n",
              "      <th>min</th>\n",
              "      <td>3.920000e+04</td>\n",
              "      <td>5.030230e+06</td>\n",
              "      <td>-1.000000</td>\n",
              "      <td>0.000000</td>\n",
              "      <td>0.000000</td>\n",
              "      <td>0.000000</td>\n",
              "      <td>0.000000</td>\n",
              "      <td>0.000000</td>\n",
              "      <td>0.000000</td>\n",
              "    </tr>\n",
              "    <tr>\n",
              "      <th>25%</th>\n",
              "      <td>4.172615e+12</td>\n",
              "      <td>5.640286e+06</td>\n",
              "      <td>18.000000</td>\n",
              "      <td>0.000000</td>\n",
              "      <td>0.000000</td>\n",
              "      <td>0.000000</td>\n",
              "      <td>0.000000</td>\n",
              "      <td>0.000000</td>\n",
              "      <td>0.000000</td>\n",
              "    </tr>\n",
              "    <tr>\n",
              "      <th>50%</th>\n",
              "      <td>3.173180e+13</td>\n",
              "      <td>5.680573e+06</td>\n",
              "      <td>37.000000</td>\n",
              "      <td>0.000000</td>\n",
              "      <td>0.000000</td>\n",
              "      <td>0.000000</td>\n",
              "      <td>0.000000</td>\n",
              "      <td>0.000000</td>\n",
              "      <td>0.000000</td>\n",
              "    </tr>\n",
              "    <tr>\n",
              "      <th>75%</th>\n",
              "      <td>9.439170e+13</td>\n",
              "      <td>5.725524e+06</td>\n",
              "      <td>55.000000</td>\n",
              "      <td>0.000000</td>\n",
              "      <td>0.000000</td>\n",
              "      <td>0.000000</td>\n",
              "      <td>0.000000</td>\n",
              "      <td>0.000000</td>\n",
              "      <td>1.000000</td>\n",
              "    </tr>\n",
              "    <tr>\n",
              "      <th>max</th>\n",
              "      <td>9.999820e+14</td>\n",
              "      <td>5.790484e+06</td>\n",
              "      <td>115.000000</td>\n",
              "      <td>1.000000</td>\n",
              "      <td>1.000000</td>\n",
              "      <td>1.000000</td>\n",
              "      <td>1.000000</td>\n",
              "      <td>4.000000</td>\n",
              "      <td>1.000000</td>\n",
              "    </tr>\n",
              "  </tbody>\n",
              "</table>\n",
              "</div>"
            ],
            "text/plain": [
              "          PatientId  AppointmentID            Age    Scholarship  \\\n",
              "count  1.105270e+05   1.105270e+05  110527.000000  110527.000000   \n",
              "mean   1.474953e+14   5.675305e+06      37.088874       0.098266   \n",
              "std    2.560998e+14   7.129575e+04      23.110205       0.297675   \n",
              "min    3.920000e+04   5.030230e+06      -1.000000       0.000000   \n",
              "25%    4.172615e+12   5.640286e+06      18.000000       0.000000   \n",
              "50%    3.173180e+13   5.680573e+06      37.000000       0.000000   \n",
              "75%    9.439170e+13   5.725524e+06      55.000000       0.000000   \n",
              "max    9.999820e+14   5.790484e+06     115.000000       1.000000   \n",
              "\n",
              "        Hipertension       Diabetes     Alcoholism        Handcap  \\\n",
              "count  110527.000000  110527.000000  110527.000000  110527.000000   \n",
              "mean        0.197246       0.071865       0.030400       0.022248   \n",
              "std         0.397921       0.258265       0.171686       0.161543   \n",
              "min         0.000000       0.000000       0.000000       0.000000   \n",
              "25%         0.000000       0.000000       0.000000       0.000000   \n",
              "50%         0.000000       0.000000       0.000000       0.000000   \n",
              "75%         0.000000       0.000000       0.000000       0.000000   \n",
              "max         1.000000       1.000000       1.000000       4.000000   \n",
              "\n",
              "        SMS_received  \n",
              "count  110527.000000  \n",
              "mean        0.321026  \n",
              "std         0.466873  \n",
              "min         0.000000  \n",
              "25%         0.000000  \n",
              "50%         0.000000  \n",
              "75%         1.000000  \n",
              "max         1.000000  "
            ]
          },
          "metadata": {
            "tags": []
          },
          "execution_count": 259
        }
      ]
    },
    {
      "cell_type": "code",
      "metadata": {
        "id": "HZTtq_Zh8QHL",
        "colab_type": "code",
        "outputId": "35a62352-75fb-4469-9f84-8b2a0fb104cc",
        "colab": {
          "base_uri": "https://localhost:8080/",
          "height": 266
        }
      },
      "source": [
        "# Identificando o tipo das colunas\n",
        "df.dtypes"
      ],
      "execution_count": 0,
      "outputs": [
        {
          "output_type": "execute_result",
          "data": {
            "text/plain": [
              "PatientId         float32\n",
              "AppointmentID       int32\n",
              "Gender             object\n",
              "ScheduledDay       object\n",
              "AppointmentDay     object\n",
              "Age                  int8\n",
              "Neighbourhood      object\n",
              "Scholarship          int8\n",
              "Hipertension         int8\n",
              "Diabetes             int8\n",
              "Alcoholism           int8\n",
              "Handcap              int8\n",
              "SMS_received         int8\n",
              "No-show            object\n",
              "dtype: object"
            ]
          },
          "metadata": {
            "tags": []
          },
          "execution_count": 260
        }
      ]
    },
    {
      "cell_type": "code",
      "metadata": {
        "id": "CHA9hB4w8i6D",
        "colab_type": "code",
        "colab": {}
      },
      "source": [
        "# Colunas ScheduledDay e AppointmentDay deve ser convertidas no tipo data\n",
        "df.AppointmentDay = df.AppointmentDay.apply(np.datetime64)\n",
        "df.ScheduledDay = df.ScheduledDay.apply(np.datetime64)"
      ],
      "execution_count": 0,
      "outputs": []
    },
    {
      "cell_type": "code",
      "metadata": {
        "id": "3cB2WLmz64Ce",
        "colab_type": "code",
        "colab": {}
      },
      "source": [
        "# Nova coluna, o tempo de espera até a consulta\n",
        "# Criada a partir da diferença de tempo entre a marcação da consulta e a data de realização\n",
        "df['WaitingTime'] = pd.to_timedelta((df['AppointmentDay'] - df['ScheduledDay'])).dt.days\n",
        "df['WaitingTime'] = df['WaitingTime'].apply(np.int64)"
      ],
      "execution_count": 0,
      "outputs": []
    },
    {
      "cell_type": "code",
      "metadata": {
        "id": "yr_gC09P-sKp",
        "colab_type": "code",
        "colab": {}
      },
      "source": [
        "# O mês em que a consulta será realizada pode influenciar, pois há meses onde a pessoa tem mais compromissos: férias escolares, festas de fim de ano, clima frio ou chuvoso e outros motivos.\n",
        "# Extrair o mês para o qual a consulta foi marcada\n",
        "# O dia do mês também pode influenciar de acordo com o dia de pagamento da pessoa ( aposentadoria / pensão)\n",
        "# Serão usados Day e Month\n",
        "# Reset index\n",
        "df.reset_index(inplace=True)\n",
        "\n",
        "# Colunas Day, Month e Year\n",
        "df['Day'] = df['AppointmentDay'].dt.day\n",
        "df['Month'] = df['AppointmentDay'].dt.month\n",
        "#df['Year'] = df['AppointmentDay'].dt.year"
      ],
      "execution_count": 0,
      "outputs": []
    },
    {
      "cell_type": "code",
      "metadata": {
        "id": "ZIWDlLJ79gFO",
        "colab_type": "code",
        "outputId": "bdbd43b9-d6af-4ba0-bd90-73d8996c24e9",
        "colab": {
          "base_uri": "https://localhost:8080/",
          "height": 317
        }
      },
      "source": [
        "df.head()"
      ],
      "execution_count": 0,
      "outputs": [
        {
          "output_type": "execute_result",
          "data": {
            "text/html": [
              "<div>\n",
              "<style scoped>\n",
              "    .dataframe tbody tr th:only-of-type {\n",
              "        vertical-align: middle;\n",
              "    }\n",
              "\n",
              "    .dataframe tbody tr th {\n",
              "        vertical-align: top;\n",
              "    }\n",
              "\n",
              "    .dataframe thead th {\n",
              "        text-align: right;\n",
              "    }\n",
              "</style>\n",
              "<table border=\"1\" class=\"dataframe\">\n",
              "  <thead>\n",
              "    <tr style=\"text-align: right;\">\n",
              "      <th></th>\n",
              "      <th>index</th>\n",
              "      <th>PatientId</th>\n",
              "      <th>AppointmentID</th>\n",
              "      <th>Gender</th>\n",
              "      <th>ScheduledDay</th>\n",
              "      <th>AppointmentDay</th>\n",
              "      <th>Age</th>\n",
              "      <th>Neighbourhood</th>\n",
              "      <th>Scholarship</th>\n",
              "      <th>Hipertension</th>\n",
              "      <th>Diabetes</th>\n",
              "      <th>Alcoholism</th>\n",
              "      <th>Handcap</th>\n",
              "      <th>SMS_received</th>\n",
              "      <th>No-show</th>\n",
              "      <th>WaitingTime</th>\n",
              "      <th>Day</th>\n",
              "      <th>Month</th>\n",
              "    </tr>\n",
              "  </thead>\n",
              "  <tbody>\n",
              "    <tr>\n",
              "      <th>0</th>\n",
              "      <td>0</td>\n",
              "      <td>2.987250e+13</td>\n",
              "      <td>5642903</td>\n",
              "      <td>F</td>\n",
              "      <td>2016-04-29 18:38:08</td>\n",
              "      <td>2016-04-29</td>\n",
              "      <td>62</td>\n",
              "      <td>JARDIM DA PENHA</td>\n",
              "      <td>0</td>\n",
              "      <td>1</td>\n",
              "      <td>0</td>\n",
              "      <td>0</td>\n",
              "      <td>0</td>\n",
              "      <td>0</td>\n",
              "      <td>No</td>\n",
              "      <td>-1</td>\n",
              "      <td>29</td>\n",
              "      <td>4</td>\n",
              "    </tr>\n",
              "    <tr>\n",
              "      <th>1</th>\n",
              "      <td>1</td>\n",
              "      <td>5.589980e+14</td>\n",
              "      <td>5642503</td>\n",
              "      <td>M</td>\n",
              "      <td>2016-04-29 16:08:27</td>\n",
              "      <td>2016-04-29</td>\n",
              "      <td>56</td>\n",
              "      <td>JARDIM DA PENHA</td>\n",
              "      <td>0</td>\n",
              "      <td>0</td>\n",
              "      <td>0</td>\n",
              "      <td>0</td>\n",
              "      <td>0</td>\n",
              "      <td>0</td>\n",
              "      <td>No</td>\n",
              "      <td>-1</td>\n",
              "      <td>29</td>\n",
              "      <td>4</td>\n",
              "    </tr>\n",
              "    <tr>\n",
              "      <th>2</th>\n",
              "      <td>2</td>\n",
              "      <td>4.262960e+12</td>\n",
              "      <td>5642549</td>\n",
              "      <td>F</td>\n",
              "      <td>2016-04-29 16:19:04</td>\n",
              "      <td>2016-04-29</td>\n",
              "      <td>62</td>\n",
              "      <td>MATA DA PRAIA</td>\n",
              "      <td>0</td>\n",
              "      <td>0</td>\n",
              "      <td>0</td>\n",
              "      <td>0</td>\n",
              "      <td>0</td>\n",
              "      <td>0</td>\n",
              "      <td>No</td>\n",
              "      <td>-1</td>\n",
              "      <td>29</td>\n",
              "      <td>4</td>\n",
              "    </tr>\n",
              "    <tr>\n",
              "      <th>3</th>\n",
              "      <td>3</td>\n",
              "      <td>8.679510e+11</td>\n",
              "      <td>5642828</td>\n",
              "      <td>F</td>\n",
              "      <td>2016-04-29 17:29:31</td>\n",
              "      <td>2016-04-29</td>\n",
              "      <td>8</td>\n",
              "      <td>PONTAL DE CAMBURI</td>\n",
              "      <td>0</td>\n",
              "      <td>0</td>\n",
              "      <td>0</td>\n",
              "      <td>0</td>\n",
              "      <td>0</td>\n",
              "      <td>0</td>\n",
              "      <td>No</td>\n",
              "      <td>-1</td>\n",
              "      <td>29</td>\n",
              "      <td>4</td>\n",
              "    </tr>\n",
              "    <tr>\n",
              "      <th>4</th>\n",
              "      <td>4</td>\n",
              "      <td>8.841190e+12</td>\n",
              "      <td>5642494</td>\n",
              "      <td>F</td>\n",
              "      <td>2016-04-29 16:07:23</td>\n",
              "      <td>2016-04-29</td>\n",
              "      <td>56</td>\n",
              "      <td>JARDIM DA PENHA</td>\n",
              "      <td>0</td>\n",
              "      <td>1</td>\n",
              "      <td>1</td>\n",
              "      <td>0</td>\n",
              "      <td>0</td>\n",
              "      <td>0</td>\n",
              "      <td>No</td>\n",
              "      <td>-1</td>\n",
              "      <td>29</td>\n",
              "      <td>4</td>\n",
              "    </tr>\n",
              "  </tbody>\n",
              "</table>\n",
              "</div>"
            ],
            "text/plain": [
              "   index     PatientId  AppointmentID Gender        ScheduledDay  \\\n",
              "0      0  2.987250e+13        5642903      F 2016-04-29 18:38:08   \n",
              "1      1  5.589980e+14        5642503      M 2016-04-29 16:08:27   \n",
              "2      2  4.262960e+12        5642549      F 2016-04-29 16:19:04   \n",
              "3      3  8.679510e+11        5642828      F 2016-04-29 17:29:31   \n",
              "4      4  8.841190e+12        5642494      F 2016-04-29 16:07:23   \n",
              "\n",
              "  AppointmentDay  Age      Neighbourhood  Scholarship  Hipertension  Diabetes  \\\n",
              "0     2016-04-29   62    JARDIM DA PENHA            0             1         0   \n",
              "1     2016-04-29   56    JARDIM DA PENHA            0             0         0   \n",
              "2     2016-04-29   62      MATA DA PRAIA            0             0         0   \n",
              "3     2016-04-29    8  PONTAL DE CAMBURI            0             0         0   \n",
              "4     2016-04-29   56    JARDIM DA PENHA            0             1         1   \n",
              "\n",
              "   Alcoholism  Handcap  SMS_received No-show  WaitingTime  Day  Month  \n",
              "0           0        0             0      No           -1   29      4  \n",
              "1           0        0             0      No           -1   29      4  \n",
              "2           0        0             0      No           -1   29      4  \n",
              "3           0        0             0      No           -1   29      4  \n",
              "4           0        0             0      No           -1   29      4  "
            ]
          },
          "metadata": {
            "tags": []
          },
          "execution_count": 264
        }
      ]
    },
    {
      "cell_type": "code",
      "metadata": {
        "id": "TfzGd_tnIQG8",
        "colab_type": "code",
        "colab": {}
      },
      "source": [
        "# Remover colunas não utilizadas\n",
        "df.drop(columns=['index', 'ScheduledDay','AppointmentDay','PatientId','AppointmentID'],inplace=True)"
      ],
      "execution_count": 0,
      "outputs": []
    },
    {
      "cell_type": "code",
      "metadata": {
        "id": "MfqK1j3xNsJb",
        "colab_type": "code",
        "colab": {}
      },
      "source": [
        "# Todas colunas\n",
        "all_columns = np.array(df.columns)"
      ],
      "execution_count": 0,
      "outputs": []
    },
    {
      "cell_type": "code",
      "metadata": {
        "id": "Zl03oleJOa9N",
        "colab_type": "code",
        "outputId": "173e4d0e-f149-42f1-9491-b3f340c3d318",
        "colab": {
          "base_uri": "https://localhost:8080/",
          "height": 66
        }
      },
      "source": [
        "all_columns"
      ],
      "execution_count": 0,
      "outputs": [
        {
          "output_type": "execute_result",
          "data": {
            "text/plain": [
              "array(['Gender', 'Age', 'Neighbourhood', 'Scholarship', 'Hipertension',\n",
              "       'Diabetes', 'Alcoholism', 'Handcap', 'SMS_received', 'No-show',\n",
              "       'WaitingTime', 'Day', 'Month'], dtype=object)"
            ]
          },
          "metadata": {
            "tags": []
          },
          "execution_count": 267
        }
      ]
    },
    {
      "cell_type": "code",
      "metadata": {
        "id": "sUUohf01GN76",
        "colab_type": "code",
        "colab": {}
      },
      "source": [
        "# Analisando cada coluna dentro do contexto dos dados, algumas colunas são identificadas como sendo tipo int8 e na verdade seria tipo categórico.\n",
        "# Separando em númerico e categórico\n",
        "num_vars =np.array(['Age', \"WaitingTime\", \"Day\", \"Month\"])\n",
        "cat_vars = np.array(['Gender', 'Neighbourhood', 'Scholarship', 'Hipertension', 'Diabetes', 'Alcoholism', \"Handcap\",'SMS_received', 'No-show'])"
      ],
      "execution_count": 0,
      "outputs": []
    },
    {
      "cell_type": "code",
      "metadata": {
        "id": "8P7LIv9HRIOh",
        "colab_type": "code",
        "outputId": "629535f6-9001-4cb2-af45-29725c4dd353",
        "colab": {
          "base_uri": "https://localhost:8080/",
          "height": 66
        }
      },
      "source": [
        "cat_vars"
      ],
      "execution_count": 0,
      "outputs": [
        {
          "output_type": "execute_result",
          "data": {
            "text/plain": [
              "array(['Gender', 'Neighbourhood', 'Scholarship', 'Hipertension',\n",
              "       'Diabetes', 'Alcoholism', 'Handcap', 'SMS_received', 'No-show'],\n",
              "      dtype='<U13')"
            ]
          },
          "metadata": {
            "tags": []
          },
          "execution_count": 269
        }
      ]
    },
    {
      "cell_type": "code",
      "metadata": {
        "id": "rIQNXi0BXfUk",
        "colab_type": "code",
        "outputId": "75b54f24-77fd-431f-89c9-eea1216e49e5",
        "colab": {
          "base_uri": "https://localhost:8080/",
          "height": 250
        }
      },
      "source": [
        "# Converter para numérico e Categórico\n",
        "for var in num_vars:\n",
        "  df[var] = df[var].astype('int64')\n",
        "\n",
        "for var in cat_vars:\n",
        "  df[var] = df[var].astype('category')  \n",
        "df.dtypes  "
      ],
      "execution_count": 0,
      "outputs": [
        {
          "output_type": "execute_result",
          "data": {
            "text/plain": [
              "Gender           category\n",
              "Age                 int64\n",
              "Neighbourhood    category\n",
              "Scholarship      category\n",
              "Hipertension     category\n",
              "Diabetes         category\n",
              "Alcoholism       category\n",
              "Handcap          category\n",
              "SMS_received     category\n",
              "No-show          category\n",
              "WaitingTime         int64\n",
              "Day                 int64\n",
              "Month               int64\n",
              "dtype: object"
            ]
          },
          "metadata": {
            "tags": []
          },
          "execution_count": 270
        }
      ]
    },
    {
      "cell_type": "code",
      "metadata": {
        "id": "ZBUO_wzOcpZ0",
        "colab_type": "code",
        "outputId": "2c43e9dd-7e6f-45ba-8461-f9968a850843",
        "colab": {
          "base_uri": "https://localhost:8080/",
          "height": 250
        }
      },
      "source": [
        "# Através da função describe vimos que não há dados faltantes, confirmação\n",
        "df.isna().sum(axis=0)"
      ],
      "execution_count": 0,
      "outputs": [
        {
          "output_type": "execute_result",
          "data": {
            "text/plain": [
              "Gender           0\n",
              "Age              0\n",
              "Neighbourhood    0\n",
              "Scholarship      0\n",
              "Hipertension     0\n",
              "Diabetes         0\n",
              "Alcoholism       0\n",
              "Handcap          0\n",
              "SMS_received     0\n",
              "No-show          0\n",
              "WaitingTime      0\n",
              "Day              0\n",
              "Month            0\n",
              "dtype: int64"
            ]
          },
          "metadata": {
            "tags": []
          },
          "execution_count": 271
        }
      ]
    },
    {
      "cell_type": "code",
      "metadata": {
        "id": "cgfZR4skeFF1",
        "colab_type": "code",
        "outputId": "31f1957f-327d-468a-a22a-a7d4f3b3ca63",
        "colab": {
          "base_uri": "https://localhost:8080/",
          "height": 301
        }
      },
      "source": [
        "# Distribuição dos dados - histograma\n",
        "sns.distplot(df['Age'])"
      ],
      "execution_count": 0,
      "outputs": [
        {
          "output_type": "execute_result",
          "data": {
            "text/plain": [
              "<matplotlib.axes._subplots.AxesSubplot at 0x7ff1e6ee9828>"
            ]
          },
          "metadata": {
            "tags": []
          },
          "execution_count": 272
        },
        {
          "output_type": "display_data",
          "data": {
            "image/png": "[encoded data removed]",
            "text/plain": [
              "<Figure size 432x288 with 1 Axes>"
            ]
          },
          "metadata": {
            "tags": []
          }
        }
      ]
    },
    {
      "cell_type": "code",
      "metadata": {
        "id": "kq80h4Dyo5Ip",
        "colab_type": "code",
        "outputId": "b419d2e1-fa1f-4372-b61c-153e0743eb6f",
        "colab": {
          "base_uri": "https://localhost:8080/",
          "height": 301
        }
      },
      "source": [
        "# Distribuição dos dados - histograma\n",
        "sns.distplot(df['Day'])"
      ],
      "execution_count": 0,
      "outputs": [
        {
          "output_type": "execute_result",
          "data": {
            "text/plain": [
              "<matplotlib.axes._subplots.AxesSubplot at 0x7ff1e307c4e0>"
            ]
          },
          "metadata": {
            "tags": []
          },
          "execution_count": 273
        },
        {
          "output_type": "display_data",
          "data": {
            "image/png": "[encoded data removed]",
            "text/plain": [
              "<Figure size 432x288 with 1 Axes>"
            ]
          },
          "metadata": {
            "tags": []
          }
        }
      ]
    },
    {
      "cell_type": "code",
      "metadata": {
        "id": "KVeupAQMo_5i",
        "colab_type": "code",
        "outputId": "1e5a08bc-caef-4978-ef1b-15d62da6749e",
        "colab": {
          "base_uri": "https://localhost:8080/",
          "height": 301
        }
      },
      "source": [
        "# Distribuição dos dados - histograma\n",
        "sns.distplot(df['Month'])"
      ],
      "execution_count": 0,
      "outputs": [
        {
          "output_type": "execute_result",
          "data": {
            "text/plain": [
              "<matplotlib.axes._subplots.AxesSubplot at 0x7ff1e4ba6710>"
            ]
          },
          "metadata": {
            "tags": []
          },
          "execution_count": 274
        },
        {
          "output_type": "display_data",
          "data": {
            "image/png": "[encoded data removed]",
            "text/plain": [
              "<Figure size 432x288 with 1 Axes>"
            ]
          },
          "metadata": {
            "tags": []
          }
        }
      ]
    },
    {
      "cell_type": "code",
      "metadata": {
        "id": "dDOKnYG_pE6N",
        "colab_type": "code",
        "outputId": "0e387ea2-f882-4bf7-d8db-163ee417b9db",
        "colab": {
          "base_uri": "https://localhost:8080/",
          "height": 301
        }
      },
      "source": [
        "# Distribuição dos dados - histograma\n",
        "sns.distplot(df['WaitingTime'])"
      ],
      "execution_count": 0,
      "outputs": [
        {
          "output_type": "execute_result",
          "data": {
            "text/plain": [
              "<matplotlib.axes._subplots.AxesSubplot at 0x7ff1e4bf7c88>"
            ]
          },
          "metadata": {
            "tags": []
          },
          "execution_count": 275
        },
        {
          "output_type": "display_data",
          "data": {
            "image/png": "[encoded data removed]",
            "text/plain": [
              "<Figure size 432x288 with 1 Axes>"
            ]
          },
          "metadata": {
            "tags": []
          }
        }
      ]
    },
    {
      "cell_type": "code",
      "metadata": {
        "id": "Jm_2pBWSppBm",
        "colab_type": "code",
        "outputId": "bbff978f-6e9c-4374-cb27-0cd79a04f2b9",
        "colab": {
          "base_uri": "https://localhost:8080/",
          "height": 301
        }
      },
      "source": [
        "# Detecção de outliers\n",
        "# Age\n",
        "sns.boxplot(x = 'Age', data = df)"
      ],
      "execution_count": 0,
      "outputs": [
        {
          "output_type": "execute_result",
          "data": {
            "text/plain": [
              "<matplotlib.axes._subplots.AxesSubplot at 0x7ff1e19d3c18>"
            ]
          },
          "metadata": {
            "tags": []
          },
          "execution_count": 276
        },
        {
          "output_type": "display_data",
          "data": {
            "image/png": "[encoded data removed]",
            "text/plain": [
              "<Figure size 432x288 with 1 Axes>"
            ]
          },
          "metadata": {
            "tags": []
          }
        }
      ]
    },
    {
      "cell_type": "code",
      "metadata": {
        "id": "uTW2_O4bsQCS",
        "colab_type": "code",
        "colab": {}
      },
      "source": [
        "# Outliers esta acima de 3Z-scores de distância da média do conjunto de dados\n",
        "z = np.abs(stats.zscore(df[num_vars]))"
      ],
      "execution_count": 0,
      "outputs": []
    },
    {
      "cell_type": "code",
      "metadata": {
        "id": "dNgS3UvPt6mp",
        "colab_type": "code",
        "outputId": "3f1e0ab7-cefd-42a9-fc7d-027f5e5f57ed",
        "colab": {
          "base_uri": "https://localhost:8080/",
          "height": 33
        }
      },
      "source": [
        "# Shape original com outliers\n",
        "df.shape"
      ],
      "execution_count": 0,
      "outputs": [
        {
          "output_type": "execute_result",
          "data": {
            "text/plain": [
              "(110527, 13)"
            ]
          },
          "metadata": {
            "tags": []
          },
          "execution_count": 278
        }
      ]
    },
    {
      "cell_type": "code",
      "metadata": {
        "id": "_tEnerdotrTn",
        "colab_type": "code",
        "colab": {}
      },
      "source": [
        "df_o = df[(z < 3).all(axis=1)]"
      ],
      "execution_count": 0,
      "outputs": []
    },
    {
      "cell_type": "code",
      "metadata": {
        "id": "wqjhQIIouAEW",
        "colab_type": "code",
        "outputId": "61ac8f8e-27ea-4352-ed61-525e987b52ef",
        "colab": {
          "base_uri": "https://localhost:8080/",
          "height": 33
        }
      },
      "source": [
        "# Shape sem os outliers\n",
        "df_o.shape"
      ],
      "execution_count": 0,
      "outputs": [
        {
          "output_type": "execute_result",
          "data": {
            "text/plain": [
              "(107853, 13)"
            ]
          },
          "metadata": {
            "tags": []
          },
          "execution_count": 280
        }
      ]
    },
    {
      "cell_type": "code",
      "metadata": {
        "id": "8gvCvbazwlrv",
        "colab_type": "code",
        "outputId": "7d65e06d-8090-4fc1-e5b6-79caf521890e",
        "colab": {
          "base_uri": "https://localhost:8080/",
          "height": 301
        }
      },
      "source": [
        "# Detecção de outliers\n",
        "# Age\n",
        "sns.boxplot(x = 'Age', data = df_o)"
      ],
      "execution_count": 0,
      "outputs": [
        {
          "output_type": "execute_result",
          "data": {
            "text/plain": [
              "<matplotlib.axes._subplots.AxesSubplot at 0x7ff1e3084898>"
            ]
          },
          "metadata": {
            "tags": []
          },
          "execution_count": 281
        },
        {
          "output_type": "display_data",
          "data": {
            "image/png": "[encoded data removed]",
            "text/plain": [
              "<Figure size 432x288 with 1 Axes>"
            ]
          },
          "metadata": {
            "tags": []
          }
        }
      ]
    },
    {
      "cell_type": "code",
      "metadata": {
        "id": "YI2EstLMw8zl",
        "colab_type": "code",
        "outputId": "b47ae020-585e-438f-da41-37cf8a908f75",
        "colab": {
          "base_uri": "https://localhost:8080/",
          "height": 301
        }
      },
      "source": [
        "# Distribuição dos dados - histograma\n",
        "sns.distplot(df_o['Age'])"
      ],
      "execution_count": 0,
      "outputs": [
        {
          "output_type": "execute_result",
          "data": {
            "text/plain": [
              "<matplotlib.axes._subplots.AxesSubplot at 0x7ff1e19dbe48>"
            ]
          },
          "metadata": {
            "tags": []
          },
          "execution_count": 282
        },
        {
          "output_type": "display_data",
          "data": {
            "image/png": "[encoded data removed]",
            "text/plain": [
              "<Figure size 432x288 with 1 Axes>"
            ]
          },
          "metadata": {
            "tags": []
          }
        }
      ]
    },
    {
      "cell_type": "code",
      "metadata": {
        "id": "EUuundh9xRes",
        "colab_type": "code",
        "outputId": "272fa843-5db7-4804-e5d1-0fa9a7d03e6c",
        "colab": {
          "base_uri": "https://localhost:8080/",
          "height": 216
        }
      },
      "source": [
        "# Valor de Waiting_Time de -1 deve significar atendimento no mesmo dia, portanto será convertido em zero\n",
        "df_o['WaitingTime']"
      ],
      "execution_count": 0,
      "outputs": [
        {
          "output_type": "execute_result",
          "data": {
            "text/plain": [
              "0         -1\n",
              "1         -1\n",
              "2         -1\n",
              "3         -1\n",
              "4         -1\n",
              "          ..\n",
              "110522    34\n",
              "110523    34\n",
              "110524    40\n",
              "110525    40\n",
              "110526    40\n",
              "Name: WaitingTime, Length: 107853, dtype: int64"
            ]
          },
          "metadata": {
            "tags": []
          },
          "execution_count": 283
        }
      ]
    },
    {
      "cell_type": "code",
      "metadata": {
        "id": "xhn198D9y51I",
        "colab_type": "code",
        "colab": {}
      },
      "source": [
        "# Valor de Waiting_Time vira 0\n",
        "\n",
        "df_o['WaitingTime'] = np.where (df_o['WaitingTime'] == -1, 0, df_o['WaitingTime'])"
      ],
      "execution_count": 0,
      "outputs": []
    },
    {
      "cell_type": "code",
      "metadata": {
        "id": "tqhxGx9f0bVU",
        "colab_type": "code",
        "outputId": "4c3807e0-17a3-4238-bf16-26e7226d293b",
        "colab": {
          "base_uri": "https://localhost:8080/",
          "height": 197
        }
      },
      "source": [
        "df_o.head()"
      ],
      "execution_count": 0,
      "outputs": [
        {
          "output_type": "execute_result",
          "data": {
            "text/html": [
              "<div>\n",
              "<style scoped>\n",
              "    .dataframe tbody tr th:only-of-type {\n",
              "        vertical-align: middle;\n",
              "    }\n",
              "\n",
              "    .dataframe tbody tr th {\n",
              "        vertical-align: top;\n",
              "    }\n",
              "\n",
              "    .dataframe thead th {\n",
              "        text-align: right;\n",
              "    }\n",
              "</style>\n",
              "<table border=\"1\" class=\"dataframe\">\n",
              "  <thead>\n",
              "    <tr style=\"text-align: right;\">\n",
              "      <th></th>\n",
              "      <th>Gender</th>\n",
              "      <th>Age</th>\n",
              "      <th>Neighbourhood</th>\n",
              "      <th>Scholarship</th>\n",
              "      <th>Hipertension</th>\n",
              "      <th>Diabetes</th>\n",
              "      <th>Alcoholism</th>\n",
              "      <th>Handcap</th>\n",
              "      <th>SMS_received</th>\n",
              "      <th>No-show</th>\n",
              "      <th>WaitingTime</th>\n",
              "      <th>Day</th>\n",
              "      <th>Month</th>\n",
              "    </tr>\n",
              "  </thead>\n",
              "  <tbody>\n",
              "    <tr>\n",
              "      <th>0</th>\n",
              "      <td>F</td>\n",
              "      <td>62</td>\n",
              "      <td>JARDIM DA PENHA</td>\n",
              "      <td>0</td>\n",
              "      <td>1</td>\n",
              "      <td>0</td>\n",
              "      <td>0</td>\n",
              "      <td>0</td>\n",
              "      <td>0</td>\n",
              "      <td>No</td>\n",
              "      <td>0</td>\n",
              "      <td>29</td>\n",
              "      <td>4</td>\n",
              "    </tr>\n",
              "    <tr>\n",
              "      <th>1</th>\n",
              "      <td>M</td>\n",
              "      <td>56</td>\n",
              "      <td>JARDIM DA PENHA</td>\n",
              "      <td>0</td>\n",
              "      <td>0</td>\n",
              "      <td>0</td>\n",
              "      <td>0</td>\n",
              "      <td>0</td>\n",
              "      <td>0</td>\n",
              "      <td>No</td>\n",
              "      <td>0</td>\n",
              "      <td>29</td>\n",
              "      <td>4</td>\n",
              "    </tr>\n",
              "    <tr>\n",
              "      <th>2</th>\n",
              "      <td>F</td>\n",
              "      <td>62</td>\n",
              "      <td>MATA DA PRAIA</td>\n",
              "      <td>0</td>\n",
              "      <td>0</td>\n",
              "      <td>0</td>\n",
              "      <td>0</td>\n",
              "      <td>0</td>\n",
              "      <td>0</td>\n",
              "      <td>No</td>\n",
              "      <td>0</td>\n",
              "      <td>29</td>\n",
              "      <td>4</td>\n",
              "    </tr>\n",
              "    <tr>\n",
              "      <th>3</th>\n",
              "      <td>F</td>\n",
              "      <td>8</td>\n",
              "      <td>PONTAL DE CAMBURI</td>\n",
              "      <td>0</td>\n",
              "      <td>0</td>\n",
              "      <td>0</td>\n",
              "      <td>0</td>\n",
              "      <td>0</td>\n",
              "      <td>0</td>\n",
              "      <td>No</td>\n",
              "      <td>0</td>\n",
              "      <td>29</td>\n",
              "      <td>4</td>\n",
              "    </tr>\n",
              "    <tr>\n",
              "      <th>4</th>\n",
              "      <td>F</td>\n",
              "      <td>56</td>\n",
              "      <td>JARDIM DA PENHA</td>\n",
              "      <td>0</td>\n",
              "      <td>1</td>\n",
              "      <td>1</td>\n",
              "      <td>0</td>\n",
              "      <td>0</td>\n",
              "      <td>0</td>\n",
              "      <td>No</td>\n",
              "      <td>0</td>\n",
              "      <td>29</td>\n",
              "      <td>4</td>\n",
              "    </tr>\n",
              "  </tbody>\n",
              "</table>\n",
              "</div>"
            ],
            "text/plain": [
              "  Gender  Age      Neighbourhood Scholarship Hipertension Diabetes Alcoholism  \\\n",
              "0      F   62    JARDIM DA PENHA           0            1        0          0   \n",
              "1      M   56    JARDIM DA PENHA           0            0        0          0   \n",
              "2      F   62      MATA DA PRAIA           0            0        0          0   \n",
              "3      F    8  PONTAL DE CAMBURI           0            0        0          0   \n",
              "4      F   56    JARDIM DA PENHA           0            1        1          0   \n",
              "\n",
              "  Handcap SMS_received No-show  WaitingTime  Day  Month  \n",
              "0       0            0      No            0   29      4  \n",
              "1       0            0      No            0   29      4  \n",
              "2       0            0      No            0   29      4  \n",
              "3       0            0      No            0   29      4  \n",
              "4       0            0      No            0   29      4  "
            ]
          },
          "metadata": {
            "tags": []
          },
          "execution_count": 285
        }
      ]
    },
    {
      "cell_type": "code",
      "metadata": {
        "id": "p69nesNwrFYm",
        "colab_type": "code",
        "colab": {}
      },
      "source": [
        "# Convertendo F = 0  e M = 1\n",
        "df_o['Gender'] = df_o['Gender'].cat.codes"
      ],
      "execution_count": 0,
      "outputs": []
    },
    {
      "cell_type": "code",
      "metadata": {
        "id": "Mf-1t-2ztLDn",
        "colab_type": "code",
        "colab": {}
      },
      "source": [
        "# Criando nova coluna Class e convertendo No = 0  e Yes = 1\n",
        "df_o['Class'] = df_o['No-show'].cat.codes"
      ],
      "execution_count": 0,
      "outputs": []
    },
    {
      "cell_type": "code",
      "metadata": {
        "id": "MwUaNyNIh-gO",
        "colab_type": "code",
        "outputId": "f4e746a8-186a-4ae6-eb8c-4912bb828210",
        "colab": {
          "base_uri": "https://localhost:8080/",
          "height": 266
        }
      },
      "source": [
        "df_o.dtypes"
      ],
      "execution_count": 0,
      "outputs": [
        {
          "output_type": "execute_result",
          "data": {
            "text/plain": [
              "Gender               int8\n",
              "Age                 int64\n",
              "Neighbourhood    category\n",
              "Scholarship      category\n",
              "Hipertension     category\n",
              "Diabetes         category\n",
              "Alcoholism       category\n",
              "Handcap          category\n",
              "SMS_received     category\n",
              "No-show          category\n",
              "WaitingTime         int64\n",
              "Day                 int64\n",
              "Month               int64\n",
              "Class                int8\n",
              "dtype: object"
            ]
          },
          "metadata": {
            "tags": []
          },
          "execution_count": 288
        }
      ]
    },
    {
      "cell_type": "code",
      "metadata": {
        "id": "dQsoBesdffw5",
        "colab_type": "code",
        "colab": {}
      },
      "source": [
        "# Função para preencher uma nova coluna com o sexo do paciente\n",
        "# 0 - Mulher e 1 - Homem\n",
        "def tipoPessoa_func(gender):\n",
        "    if gender.values.item() == 1:\n",
        "        return 'Homem'\n",
        "    else:\n",
        "        return 'Mulher' \n",
        "\n",
        "# Aplica a função\n",
        "df_o['Sexo'] = df_o[['Gender']].apply(tipoPessoa_func, axis = 1)"
      ],
      "execution_count": 0,
      "outputs": []
    },
    {
      "cell_type": "code",
      "metadata": {
        "id": "Vg1FF9HyjYgk",
        "colab_type": "code",
        "colab": {}
      },
      "source": [
        "# Função para preencher uma nova coluna com o status: compareceu ou não\n",
        "# No (0)- nao compareceu e Yes (1)- compareceu\n",
        "def status(no_show):\n",
        "    if no_show.values.item() == 'No':\n",
        "        return 'nao compareceu'\n",
        "    else:\n",
        "        return 'compareceu' \n",
        "\n",
        "# Aplica a função\n",
        "df_o['Status'] = df_o[['No-show']].apply(status, axis = 1)"
      ],
      "execution_count": 0,
      "outputs": []
    },
    {
      "cell_type": "code",
      "metadata": {
        "id": "Jbw1kOLAiXx3",
        "colab_type": "code",
        "outputId": "02ea7c2f-76cb-4543-db8d-9a32b1c80e1a",
        "colab": {
          "base_uri": "https://localhost:8080/",
          "height": 197
        }
      },
      "source": [
        "df_o.head()"
      ],
      "execution_count": 0,
      "outputs": [
        {
          "output_type": "execute_result",
          "data": {
            "text/html": [
              "<div>\n",
              "<style scoped>\n",
              "    .dataframe tbody tr th:only-of-type {\n",
              "        vertical-align: middle;\n",
              "    }\n",
              "\n",
              "    .dataframe tbody tr th {\n",
              "        vertical-align: top;\n",
              "    }\n",
              "\n",
              "    .dataframe thead th {\n",
              "        text-align: right;\n",
              "    }\n",
              "</style>\n",
              "<table border=\"1\" class=\"dataframe\">\n",
              "  <thead>\n",
              "    <tr style=\"text-align: right;\">\n",
              "      <th></th>\n",
              "      <th>Gender</th>\n",
              "      <th>Age</th>\n",
              "      <th>Neighbourhood</th>\n",
              "      <th>Scholarship</th>\n",
              "      <th>Hipertension</th>\n",
              "      <th>Diabetes</th>\n",
              "      <th>Alcoholism</th>\n",
              "      <th>Handcap</th>\n",
              "      <th>SMS_received</th>\n",
              "      <th>No-show</th>\n",
              "      <th>WaitingTime</th>\n",
              "      <th>Day</th>\n",
              "      <th>Month</th>\n",
              "      <th>Class</th>\n",
              "      <th>Sexo</th>\n",
              "      <th>Status</th>\n",
              "    </tr>\n",
              "  </thead>\n",
              "  <tbody>\n",
              "    <tr>\n",
              "      <th>0</th>\n",
              "      <td>0</td>\n",
              "      <td>62</td>\n",
              "      <td>JARDIM DA PENHA</td>\n",
              "      <td>0</td>\n",
              "      <td>1</td>\n",
              "      <td>0</td>\n",
              "      <td>0</td>\n",
              "      <td>0</td>\n",
              "      <td>0</td>\n",
              "      <td>No</td>\n",
              "      <td>0</td>\n",
              "      <td>29</td>\n",
              "      <td>4</td>\n",
              "      <td>0</td>\n",
              "      <td>Mulher</td>\n",
              "      <td>nao compareceu</td>\n",
              "    </tr>\n",
              "    <tr>\n",
              "      <th>1</th>\n",
              "      <td>1</td>\n",
              "      <td>56</td>\n",
              "      <td>JARDIM DA PENHA</td>\n",
              "      <td>0</td>\n",
              "      <td>0</td>\n",
              "      <td>0</td>\n",
              "      <td>0</td>\n",
              "      <td>0</td>\n",
              "      <td>0</td>\n",
              "      <td>No</td>\n",
              "      <td>0</td>\n",
              "      <td>29</td>\n",
              "      <td>4</td>\n",
              "      <td>0</td>\n",
              "      <td>Homem</td>\n",
              "      <td>nao compareceu</td>\n",
              "    </tr>\n",
              "    <tr>\n",
              "      <th>2</th>\n",
              "      <td>0</td>\n",
              "      <td>62</td>\n",
              "      <td>MATA DA PRAIA</td>\n",
              "      <td>0</td>\n",
              "      <td>0</td>\n",
              "      <td>0</td>\n",
              "      <td>0</td>\n",
              "      <td>0</td>\n",
              "      <td>0</td>\n",
              "      <td>No</td>\n",
              "      <td>0</td>\n",
              "      <td>29</td>\n",
              "      <td>4</td>\n",
              "      <td>0</td>\n",
              "      <td>Mulher</td>\n",
              "      <td>nao compareceu</td>\n",
              "    </tr>\n",
              "    <tr>\n",
              "      <th>3</th>\n",
              "      <td>0</td>\n",
              "      <td>8</td>\n",
              "      <td>PONTAL DE CAMBURI</td>\n",
              "      <td>0</td>\n",
              "      <td>0</td>\n",
              "      <td>0</td>\n",
              "      <td>0</td>\n",
              "      <td>0</td>\n",
              "      <td>0</td>\n",
              "      <td>No</td>\n",
              "      <td>0</td>\n",
              "      <td>29</td>\n",
              "      <td>4</td>\n",
              "      <td>0</td>\n",
              "      <td>Mulher</td>\n",
              "      <td>nao compareceu</td>\n",
              "    </tr>\n",
              "    <tr>\n",
              "      <th>4</th>\n",
              "      <td>0</td>\n",
              "      <td>56</td>\n",
              "      <td>JARDIM DA PENHA</td>\n",
              "      <td>0</td>\n",
              "      <td>1</td>\n",
              "      <td>1</td>\n",
              "      <td>0</td>\n",
              "      <td>0</td>\n",
              "      <td>0</td>\n",
              "      <td>No</td>\n",
              "      <td>0</td>\n",
              "      <td>29</td>\n",
              "      <td>4</td>\n",
              "      <td>0</td>\n",
              "      <td>Mulher</td>\n",
              "      <td>nao compareceu</td>\n",
              "    </tr>\n",
              "  </tbody>\n",
              "</table>\n",
              "</div>"
            ],
            "text/plain": [
              "   Gender  Age      Neighbourhood Scholarship Hipertension Diabetes  \\\n",
              "0       0   62    JARDIM DA PENHA           0            1        0   \n",
              "1       1   56    JARDIM DA PENHA           0            0        0   \n",
              "2       0   62      MATA DA PRAIA           0            0        0   \n",
              "3       0    8  PONTAL DE CAMBURI           0            0        0   \n",
              "4       0   56    JARDIM DA PENHA           0            1        1   \n",
              "\n",
              "  Alcoholism Handcap SMS_received No-show  WaitingTime  Day  Month  Class  \\\n",
              "0          0       0            0      No            0   29      4      0   \n",
              "1          0       0            0      No            0   29      4      0   \n",
              "2          0       0            0      No            0   29      4      0   \n",
              "3          0       0            0      No            0   29      4      0   \n",
              "4          0       0            0      No            0   29      4      0   \n",
              "\n",
              "     Sexo          Status  \n",
              "0  Mulher  nao compareceu  \n",
              "1   Homem  nao compareceu  \n",
              "2  Mulher  nao compareceu  \n",
              "3  Mulher  nao compareceu  \n",
              "4  Mulher  nao compareceu  "
            ]
          },
          "metadata": {
            "tags": []
          },
          "execution_count": 291
        }
      ]
    },
    {
      "cell_type": "code",
      "metadata": {
        "id": "TR3ZvVmHi-_H",
        "colab_type": "code",
        "outputId": "8dc40ca1-86b7-4b4a-e7d4-665cfaf761c9",
        "colab": {
          "base_uri": "https://localhost:8080/",
          "height": 453
        }
      },
      "source": [
        "# Como o número de consultas é afetado pelo sexo da pessoa.\n",
        "mx = sns.catplot(x = \"Sexo\", hue = 'Status', data = df_o, kind = \"count\", height = 6)\n",
        "mx.set(ylabel = 'Número de Pacientes')\n",
        "plt.title('Pacientes Por Sexo');"
      ],
      "execution_count": 0,
      "outputs": [
        {
          "output_type": "display_data",
          "data": {
            "image/png": "[encoded data removed]",
            "text/plain": [
              "<Figure size 564.35x432 with 1 Axes>"
            ]
          },
          "metadata": {
            "tags": []
          }
        }
      ]
    },
    {
      "cell_type": "code",
      "metadata": {
        "id": "B_vldl2Hr6f9",
        "colab_type": "code",
        "colab": {}
      },
      "source": [
        "dataset = pd.get_dummies(df_o, columns = ['Neighbourhood'], prefix = [\"N\"])"
      ],
      "execution_count": 0,
      "outputs": []
    },
    {
      "cell_type": "code",
      "metadata": {
        "id": "IZFGKoPBtzgB",
        "colab_type": "code",
        "outputId": "cb5ea4bd-c222-4cb6-80b9-7503062a9c19",
        "colab": {
          "base_uri": "https://localhost:8080/",
          "height": 643
        }
      },
      "source": [
        "dataset"
      ],
      "execution_count": 0,
      "outputs": [
        {
          "output_type": "execute_result",
          "data": {
            "text/html": [
              "<div>\n",
              "<style scoped>\n",
              "    .dataframe tbody tr th:only-of-type {\n",
              "        vertical-align: middle;\n",
              "    }\n",
              "\n",
              "    .dataframe tbody tr th {\n",
              "        vertical-align: top;\n",
              "    }\n",
              "\n",
              "    .dataframe thead th {\n",
              "        text-align: right;\n",
              "    }\n",
              "</style>\n",
              "<table border=\"1\" class=\"dataframe\">\n",
              "  <thead>\n",
              "    <tr style=\"text-align: right;\">\n",
              "      <th></th>\n",
              "      <th>Gender</th>\n",
              "      <th>Age</th>\n",
              "      <th>Scholarship</th>\n",
              "      <th>Hipertension</th>\n",
              "      <th>Diabetes</th>\n",
              "      <th>Alcoholism</th>\n",
              "      <th>Handcap</th>\n",
              "      <th>SMS_received</th>\n",
              "      <th>No-show</th>\n",
              "      <th>WaitingTime</th>\n",
              "      <th>Day</th>\n",
              "      <th>Month</th>\n",
              "      <th>Class</th>\n",
              "      <th>Sexo</th>\n",
              "      <th>Status</th>\n",
              "      <th>N_AEROPORTO</th>\n",
              "      <th>N_ANDORINHAS</th>\n",
              "      <th>N_ANTÔNIO HONÓRIO</th>\n",
              "      <th>N_ARIOVALDO FAVALESSA</th>\n",
              "      <th>N_BARRO VERMELHO</th>\n",
              "      <th>N_BELA VISTA</th>\n",
              "      <th>N_BENTO FERREIRA</th>\n",
              "      <th>N_BOA VISTA</th>\n",
              "      <th>N_BONFIM</th>\n",
              "      <th>N_CARATOÍRA</th>\n",
              "      <th>N_CENTRO</th>\n",
              "      <th>N_COMDUSA</th>\n",
              "      <th>N_CONQUISTA</th>\n",
              "      <th>N_CONSOLAÇÃO</th>\n",
              "      <th>N_CRUZAMENTO</th>\n",
              "      <th>N_DA PENHA</th>\n",
              "      <th>N_DE LOURDES</th>\n",
              "      <th>N_DO CABRAL</th>\n",
              "      <th>N_DO MOSCOSO</th>\n",
              "      <th>N_DO QUADRO</th>\n",
              "      <th>N_ENSEADA DO SUÁ</th>\n",
              "      <th>N_ESTRELINHA</th>\n",
              "      <th>N_FONTE GRANDE</th>\n",
              "      <th>N_FORTE SÃO JOÃO</th>\n",
              "      <th>N_FRADINHOS</th>\n",
              "      <th>N_GOIABEIRAS</th>\n",
              "      <th>N_GRANDE VITÓRIA</th>\n",
              "      <th>N_GURIGICA</th>\n",
              "      <th>N_HORTO</th>\n",
              "      <th>N_ILHA DAS CAIEIRAS</th>\n",
              "      <th>N_ILHA DE SANTA MARIA</th>\n",
              "      <th>N_ILHA DO BOI</th>\n",
              "      <th>N_ILHA DO FRADE</th>\n",
              "      <th>N_ILHA DO PRÍNCIPE</th>\n",
              "      <th>N_ILHAS OCEÂNICAS DE TRINDADE</th>\n",
              "      <th>N_INHANGUETÁ</th>\n",
              "      <th>N_ITARARÉ</th>\n",
              "      <th>N_JABOUR</th>\n",
              "      <th>N_JARDIM CAMBURI</th>\n",
              "      <th>N_JARDIM DA PENHA</th>\n",
              "      <th>N_JESUS DE NAZARETH</th>\n",
              "      <th>N_JOANA D´ARC</th>\n",
              "      <th>N_JUCUTUQUARA</th>\n",
              "      <th>N_MARIA ORTIZ</th>\n",
              "      <th>N_MARUÍPE</th>\n",
              "      <th>N_MATA DA PRAIA</th>\n",
              "      <th>N_MONTE BELO</th>\n",
              "      <th>N_MORADA DE CAMBURI</th>\n",
              "      <th>N_MÁRIO CYPRESTE</th>\n",
              "      <th>N_NAZARETH</th>\n",
              "      <th>N_NOVA PALESTINA</th>\n",
              "      <th>N_PARQUE INDUSTRIAL</th>\n",
              "      <th>N_PARQUE MOSCOSO</th>\n",
              "      <th>N_PIEDADE</th>\n",
              "      <th>N_PONTAL DE CAMBURI</th>\n",
              "      <th>N_PRAIA DO CANTO</th>\n",
              "      <th>N_PRAIA DO SUÁ</th>\n",
              "      <th>N_REDENÇÃO</th>\n",
              "      <th>N_REPÚBLICA</th>\n",
              "      <th>N_RESISTÊNCIA</th>\n",
              "      <th>N_ROMÃO</th>\n",
              "      <th>N_SANTA CECÍLIA</th>\n",
              "      <th>N_SANTA CLARA</th>\n",
              "      <th>N_SANTA HELENA</th>\n",
              "      <th>N_SANTA LUÍZA</th>\n",
              "      <th>N_SANTA LÚCIA</th>\n",
              "      <th>N_SANTA MARTHA</th>\n",
              "      <th>N_SANTA TEREZA</th>\n",
              "      <th>N_SANTO ANDRÉ</th>\n",
              "      <th>N_SANTO ANTÔNIO</th>\n",
              "      <th>N_SANTOS DUMONT</th>\n",
              "      <th>N_SANTOS REIS</th>\n",
              "      <th>N_SEGURANÇA DO LAR</th>\n",
              "      <th>N_SOLON BORGES</th>\n",
              "      <th>N_SÃO BENEDITO</th>\n",
              "      <th>N_SÃO CRISTÓVÃO</th>\n",
              "      <th>N_SÃO JOSÉ</th>\n",
              "      <th>N_SÃO PEDRO</th>\n",
              "      <th>N_TABUAZEIRO</th>\n",
              "      <th>N_UNIVERSITÁRIO</th>\n",
              "      <th>N_VILA RUBIM</th>\n",
              "    </tr>\n",
              "  </thead>\n",
              "  <tbody>\n",
              "    <tr>\n",
              "      <th>0</th>\n",
              "      <td>0</td>\n",
              "      <td>62</td>\n",
              "      <td>0</td>\n",
              "      <td>1</td>\n",
              "      <td>0</td>\n",
              "      <td>0</td>\n",
              "      <td>0</td>\n",
              "      <td>0</td>\n",
              "      <td>No</td>\n",
              "      <td>0</td>\n",
              "      <td>29</td>\n",
              "      <td>4</td>\n",
              "      <td>0</td>\n",
              "      <td>Mulher</td>\n",
              "      <td>nao compareceu</td>\n",
              "      <td>0</td>\n",
              "      <td>0</td>\n",
              "      <td>0</td>\n",
              "      <td>0</td>\n",
              "      <td>0</td>\n",
              "      <td>0</td>\n",
              "      <td>0</td>\n",
              "      <td>0</td>\n",
              "      <td>0</td>\n",
              "      <td>0</td>\n",
              "      <td>0</td>\n",
              "      <td>0</td>\n",
              "      <td>0</td>\n",
              "      <td>0</td>\n",
              "      <td>0</td>\n",
              "      <td>0</td>\n",
              "      <td>0</td>\n",
              "      <td>0</td>\n",
              "      <td>0</td>\n",
              "      <td>0</td>\n",
              "      <td>0</td>\n",
              "      <td>0</td>\n",
              "      <td>0</td>\n",
              "      <td>0</td>\n",
              "      <td>0</td>\n",
              "      <td>0</td>\n",
              "      <td>0</td>\n",
              "      <td>0</td>\n",
              "      <td>0</td>\n",
              "      <td>0</td>\n",
              "      <td>0</td>\n",
              "      <td>0</td>\n",
              "      <td>0</td>\n",
              "      <td>0</td>\n",
              "      <td>0</td>\n",
              "      <td>0</td>\n",
              "      <td>0</td>\n",
              "      <td>0</td>\n",
              "      <td>0</td>\n",
              "      <td>1</td>\n",
              "      <td>0</td>\n",
              "      <td>0</td>\n",
              "      <td>0</td>\n",
              "      <td>0</td>\n",
              "      <td>0</td>\n",
              "      <td>0</td>\n",
              "      <td>0</td>\n",
              "      <td>0</td>\n",
              "      <td>0</td>\n",
              "      <td>0</td>\n",
              "      <td>0</td>\n",
              "      <td>0</td>\n",
              "      <td>0</td>\n",
              "      <td>0</td>\n",
              "      <td>0</td>\n",
              "      <td>0</td>\n",
              "      <td>0</td>\n",
              "      <td>0</td>\n",
              "      <td>0</td>\n",
              "      <td>0</td>\n",
              "      <td>0</td>\n",
              "      <td>0</td>\n",
              "      <td>0</td>\n",
              "      <td>0</td>\n",
              "      <td>0</td>\n",
              "      <td>0</td>\n",
              "      <td>0</td>\n",
              "      <td>0</td>\n",
              "      <td>0</td>\n",
              "      <td>0</td>\n",
              "      <td>0</td>\n",
              "      <td>0</td>\n",
              "      <td>0</td>\n",
              "      <td>0</td>\n",
              "      <td>0</td>\n",
              "      <td>0</td>\n",
              "      <td>0</td>\n",
              "      <td>0</td>\n",
              "      <td>0</td>\n",
              "      <td>0</td>\n",
              "      <td>0</td>\n",
              "    </tr>\n",
              "    <tr>\n",
              "      <th>1</th>\n",
              "      <td>1</td>\n",
              "      <td>56</td>\n",
              "      <td>0</td>\n",
              "      <td>0</td>\n",
              "      <td>0</td>\n",
              "      <td>0</td>\n",
              "      <td>0</td>\n",
              "      <td>0</td>\n",
              "      <td>No</td>\n",
              "      <td>0</td>\n",
              "      <td>29</td>\n",
              "      <td>4</td>\n",
              "      <td>0</td>\n",
              "      <td>Homem</td>\n",
              "      <td>nao compareceu</td>\n",
              "      <td>0</td>\n",
              "      <td>0</td>\n",
              "      <td>0</td>\n",
              "      <td>0</td>\n",
              "      <td>0</td>\n",
              "      <td>0</td>\n",
              "      <td>0</td>\n",
              "      <td>0</td>\n",
              "      <td>0</td>\n",
              "      <td>0</td>\n",
              "      <td>0</td>\n",
              "      <td>0</td>\n",
              "      <td>0</td>\n",
              "      <td>0</td>\n",
              "      <td>0</td>\n",
              "      <td>0</td>\n",
              "      <td>0</td>\n",
              "      <td>0</td>\n",
              "      <td>0</td>\n",
              "      <td>0</td>\n",
              "      <td>0</td>\n",
              "      <td>0</td>\n",
              "      <td>0</td>\n",
              "      <td>0</td>\n",
              "      <td>0</td>\n",
              "      <td>0</td>\n",
              "      <td>0</td>\n",
              "      <td>0</td>\n",
              "      <td>0</td>\n",
              "      <td>0</td>\n",
              "      <td>0</td>\n",
              "      <td>0</td>\n",
              "      <td>0</td>\n",
              "      <td>0</td>\n",
              "      <td>0</td>\n",
              "      <td>0</td>\n",
              "      <td>0</td>\n",
              "      <td>0</td>\n",
              "      <td>0</td>\n",
              "      <td>1</td>\n",
              "      <td>0</td>\n",
              "      <td>0</td>\n",
              "      <td>0</td>\n",
              "      <td>0</td>\n",
              "      <td>0</td>\n",
              "      <td>0</td>\n",
              "      <td>0</td>\n",
              "      <td>0</td>\n",
              "      <td>0</td>\n",
              "      <td>0</td>\n",
              "      <td>0</td>\n",
              "      <td>0</td>\n",
              "      <td>0</td>\n",
              "      <td>0</td>\n",
              "      <td>0</td>\n",
              "      <td>0</td>\n",
              "      <td>0</td>\n",
              "      <td>0</td>\n",
              "      <td>0</td>\n",
              "      <td>0</td>\n",
              "      <td>0</td>\n",
              "      <td>0</td>\n",
              "      <td>0</td>\n",
              "      <td>0</td>\n",
              "      <td>0</td>\n",
              "      <td>0</td>\n",
              "      <td>0</td>\n",
              "      <td>0</td>\n",
              "      <td>0</td>\n",
              "      <td>0</td>\n",
              "      <td>0</td>\n",
              "      <td>0</td>\n",
              "      <td>0</td>\n",
              "      <td>0</td>\n",
              "      <td>0</td>\n",
              "      <td>0</td>\n",
              "      <td>0</td>\n",
              "      <td>0</td>\n",
              "      <td>0</td>\n",
              "      <td>0</td>\n",
              "      <td>0</td>\n",
              "    </tr>\n",
              "    <tr>\n",
              "      <th>2</th>\n",
              "      <td>0</td>\n",
              "      <td>62</td>\n",
              "      <td>0</td>\n",
              "      <td>0</td>\n",
              "      <td>0</td>\n",
              "      <td>0</td>\n",
              "      <td>0</td>\n",
              "      <td>0</td>\n",
              "      <td>No</td>\n",
              "      <td>0</td>\n",
              "      <td>29</td>\n",
              "      <td>4</td>\n",
              "      <td>0</td>\n",
              "      <td>Mulher</td>\n",
              "      <td>nao compareceu</td>\n",
              "      <td>0</td>\n",
              "      <td>0</td>\n",
              "      <td>0</td>\n",
              "      <td>0</td>\n",
              "      <td>0</td>\n",
              "      <td>0</td>\n",
              "      <td>0</td>\n",
              "      <td>0</td>\n",
              "      <td>0</td>\n",
              "      <td>0</td>\n",
              "      <td>0</td>\n",
              "      <td>0</td>\n",
              "      <td>0</td>\n",
              "      <td>0</td>\n",
              "      <td>0</td>\n",
              "      <td>0</td>\n",
              "      <td>0</td>\n",
              "      <td>0</td>\n",
              "      <td>0</td>\n",
              "      <td>0</td>\n",
              "      <td>0</td>\n",
              "      <td>0</td>\n",
              "      <td>0</td>\n",
              "      <td>0</td>\n",
              "      <td>0</td>\n",
              "      <td>0</td>\n",
              "      <td>0</td>\n",
              "      <td>0</td>\n",
              "      <td>0</td>\n",
              "      <td>0</td>\n",
              "      <td>0</td>\n",
              "      <td>0</td>\n",
              "      <td>0</td>\n",
              "      <td>0</td>\n",
              "      <td>0</td>\n",
              "      <td>0</td>\n",
              "      <td>0</td>\n",
              "      <td>0</td>\n",
              "      <td>0</td>\n",
              "      <td>0</td>\n",
              "      <td>0</td>\n",
              "      <td>0</td>\n",
              "      <td>0</td>\n",
              "      <td>0</td>\n",
              "      <td>0</td>\n",
              "      <td>1</td>\n",
              "      <td>0</td>\n",
              "      <td>0</td>\n",
              "      <td>0</td>\n",
              "      <td>0</td>\n",
              "      <td>0</td>\n",
              "      <td>0</td>\n",
              "      <td>0</td>\n",
              "      <td>0</td>\n",
              "      <td>0</td>\n",
              "      <td>0</td>\n",
              "      <td>0</td>\n",
              "      <td>0</td>\n",
              "      <td>0</td>\n",
              "      <td>0</td>\n",
              "      <td>0</td>\n",
              "      <td>0</td>\n",
              "      <td>0</td>\n",
              "      <td>0</td>\n",
              "      <td>0</td>\n",
              "      <td>0</td>\n",
              "      <td>0</td>\n",
              "      <td>0</td>\n",
              "      <td>0</td>\n",
              "      <td>0</td>\n",
              "      <td>0</td>\n",
              "      <td>0</td>\n",
              "      <td>0</td>\n",
              "      <td>0</td>\n",
              "      <td>0</td>\n",
              "      <td>0</td>\n",
              "      <td>0</td>\n",
              "      <td>0</td>\n",
              "      <td>0</td>\n",
              "      <td>0</td>\n",
              "      <td>0</td>\n",
              "    </tr>\n",
              "    <tr>\n",
              "      <th>3</th>\n",
              "      <td>0</td>\n",
              "      <td>8</td>\n",
              "      <td>0</td>\n",
              "      <td>0</td>\n",
              "      <td>0</td>\n",
              "      <td>0</td>\n",
              "      <td>0</td>\n",
              "      <td>0</td>\n",
              "      <td>No</td>\n",
              "      <td>0</td>\n",
              "      <td>29</td>\n",
              "      <td>4</td>\n",
              "      <td>0</td>\n",
              "      <td>Mulher</td>\n",
              "      <td>nao compareceu</td>\n",
              "      <td>0</td>\n",
              "      <td>0</td>\n",
              "      <td>0</td>\n",
              "      <td>0</td>\n",
              "      <td>0</td>\n",
              "      <td>0</td>\n",
              "      <td>0</td>\n",
              "      <td>0</td>\n",
              "      <td>0</td>\n",
              "      <td>0</td>\n",
              "      <td>0</td>\n",
              "      <td>0</td>\n",
              "      <td>0</td>\n",
              "      <td>0</td>\n",
              "      <td>0</td>\n",
              "      <td>0</td>\n",
              "      <td>0</td>\n",
              "      <td>0</td>\n",
              "      <td>0</td>\n",
              "      <td>0</td>\n",
              "      <td>0</td>\n",
              "      <td>0</td>\n",
              "      <td>0</td>\n",
              "      <td>0</td>\n",
              "      <td>0</td>\n",
              "      <td>0</td>\n",
              "      <td>0</td>\n",
              "      <td>0</td>\n",
              "      <td>0</td>\n",
              "      <td>0</td>\n",
              "      <td>0</td>\n",
              "      <td>0</td>\n",
              "      <td>0</td>\n",
              "      <td>0</td>\n",
              "      <td>0</td>\n",
              "      <td>0</td>\n",
              "      <td>0</td>\n",
              "      <td>0</td>\n",
              "      <td>0</td>\n",
              "      <td>0</td>\n",
              "      <td>0</td>\n",
              "      <td>0</td>\n",
              "      <td>0</td>\n",
              "      <td>0</td>\n",
              "      <td>0</td>\n",
              "      <td>0</td>\n",
              "      <td>0</td>\n",
              "      <td>0</td>\n",
              "      <td>0</td>\n",
              "      <td>0</td>\n",
              "      <td>0</td>\n",
              "      <td>0</td>\n",
              "      <td>0</td>\n",
              "      <td>0</td>\n",
              "      <td>1</td>\n",
              "      <td>0</td>\n",
              "      <td>0</td>\n",
              "      <td>0</td>\n",
              "      <td>0</td>\n",
              "      <td>0</td>\n",
              "      <td>0</td>\n",
              "      <td>0</td>\n",
              "      <td>0</td>\n",
              "      <td>0</td>\n",
              "      <td>0</td>\n",
              "      <td>0</td>\n",
              "      <td>0</td>\n",
              "      <td>0</td>\n",
              "      <td>0</td>\n",
              "      <td>0</td>\n",
              "      <td>0</td>\n",
              "      <td>0</td>\n",
              "      <td>0</td>\n",
              "      <td>0</td>\n",
              "      <td>0</td>\n",
              "      <td>0</td>\n",
              "      <td>0</td>\n",
              "      <td>0</td>\n",
              "      <td>0</td>\n",
              "      <td>0</td>\n",
              "      <td>0</td>\n",
              "    </tr>\n",
              "    <tr>\n",
              "      <th>4</th>\n",
              "      <td>0</td>\n",
              "      <td>56</td>\n",
              "      <td>0</td>\n",
              "      <td>1</td>\n",
              "      <td>1</td>\n",
              "      <td>0</td>\n",
              "      <td>0</td>\n",
              "      <td>0</td>\n",
              "      <td>No</td>\n",
              "      <td>0</td>\n",
              "      <td>29</td>\n",
              "      <td>4</td>\n",
              "      <td>0</td>\n",
              "      <td>Mulher</td>\n",
              "      <td>nao compareceu</td>\n",
              "      <td>0</td>\n",
              "      <td>0</td>\n",
              "      <td>0</td>\n",
              "      <td>0</td>\n",
              "      <td>0</td>\n",
              "      <td>0</td>\n",
              "      <td>0</td>\n",
              "      <td>0</td>\n",
              "      <td>0</td>\n",
              "      <td>0</td>\n",
              "      <td>0</td>\n",
              "      <td>0</td>\n",
              "      <td>0</td>\n",
              "      <td>0</td>\n",
              "      <td>0</td>\n",
              "      <td>0</td>\n",
              "      <td>0</td>\n",
              "      <td>0</td>\n",
              "      <td>0</td>\n",
              "      <td>0</td>\n",
              "      <td>0</td>\n",
              "      <td>0</td>\n",
              "      <td>0</td>\n",
              "      <td>0</td>\n",
              "      <td>0</td>\n",
              "      <td>0</td>\n",
              "      <td>0</td>\n",
              "      <td>0</td>\n",
              "      <td>0</td>\n",
              "      <td>0</td>\n",
              "      <td>0</td>\n",
              "      <td>0</td>\n",
              "      <td>0</td>\n",
              "      <td>0</td>\n",
              "      <td>0</td>\n",
              "      <td>0</td>\n",
              "      <td>0</td>\n",
              "      <td>0</td>\n",
              "      <td>0</td>\n",
              "      <td>1</td>\n",
              "      <td>0</td>\n",
              "      <td>0</td>\n",
              "      <td>0</td>\n",
              "      <td>0</td>\n",
              "      <td>0</td>\n",
              "      <td>0</td>\n",
              "      <td>0</td>\n",
              "      <td>0</td>\n",
              "      <td>0</td>\n",
              "      <td>0</td>\n",
              "      <td>0</td>\n",
              "      <td>0</td>\n",
              "      <td>0</td>\n",
              "      <td>0</td>\n",
              "      <td>0</td>\n",
              "      <td>0</td>\n",
              "      <td>0</td>\n",
              "      <td>0</td>\n",
              "      <td>0</td>\n",
              "      <td>0</td>\n",
              "      <td>0</td>\n",
              "      <td>0</td>\n",
              "      <td>0</td>\n",
              "      <td>0</td>\n",
              "      <td>0</td>\n",
              "      <td>0</td>\n",
              "      <td>0</td>\n",
              "      <td>0</td>\n",
              "      <td>0</td>\n",
              "      <td>0</td>\n",
              "      <td>0</td>\n",
              "      <td>0</td>\n",
              "      <td>0</td>\n",
              "      <td>0</td>\n",
              "      <td>0</td>\n",
              "      <td>0</td>\n",
              "      <td>0</td>\n",
              "      <td>0</td>\n",
              "      <td>0</td>\n",
              "      <td>0</td>\n",
              "      <td>0</td>\n",
              "    </tr>\n",
              "    <tr>\n",
              "      <th>...</th>\n",
              "      <td>...</td>\n",
              "      <td>...</td>\n",
              "      <td>...</td>\n",
              "      <td>...</td>\n",
              "      <td>...</td>\n",
              "      <td>...</td>\n",
              "      <td>...</td>\n",
              "      <td>...</td>\n",
              "      <td>...</td>\n",
              "      <td>...</td>\n",
              "      <td>...</td>\n",
              "      <td>...</td>\n",
              "      <td>...</td>\n",
              "      <td>...</td>\n",
              "      <td>...</td>\n",
              "      <td>...</td>\n",
              "      <td>...</td>\n",
              "      <td>...</td>\n",
              "      <td>...</td>\n",
              "      <td>...</td>\n",
              "      <td>...</td>\n",
              "      <td>...</td>\n",
              "      <td>...</td>\n",
              "      <td>...</td>\n",
              "      <td>...</td>\n",
              "      <td>...</td>\n",
              "      <td>...</td>\n",
              "      <td>...</td>\n",
              "      <td>...</td>\n",
              "      <td>...</td>\n",
              "      <td>...</td>\n",
              "      <td>...</td>\n",
              "      <td>...</td>\n",
              "      <td>...</td>\n",
              "      <td>...</td>\n",
              "      <td>...</td>\n",
              "      <td>...</td>\n",
              "      <td>...</td>\n",
              "      <td>...</td>\n",
              "      <td>...</td>\n",
              "      <td>...</td>\n",
              "      <td>...</td>\n",
              "      <td>...</td>\n",
              "      <td>...</td>\n",
              "      <td>...</td>\n",
              "      <td>...</td>\n",
              "      <td>...</td>\n",
              "      <td>...</td>\n",
              "      <td>...</td>\n",
              "      <td>...</td>\n",
              "      <td>...</td>\n",
              "      <td>...</td>\n",
              "      <td>...</td>\n",
              "      <td>...</td>\n",
              "      <td>...</td>\n",
              "      <td>...</td>\n",
              "      <td>...</td>\n",
              "      <td>...</td>\n",
              "      <td>...</td>\n",
              "      <td>...</td>\n",
              "      <td>...</td>\n",
              "      <td>...</td>\n",
              "      <td>...</td>\n",
              "      <td>...</td>\n",
              "      <td>...</td>\n",
              "      <td>...</td>\n",
              "      <td>...</td>\n",
              "      <td>...</td>\n",
              "      <td>...</td>\n",
              "      <td>...</td>\n",
              "      <td>...</td>\n",
              "      <td>...</td>\n",
              "      <td>...</td>\n",
              "      <td>...</td>\n",
              "      <td>...</td>\n",
              "      <td>...</td>\n",
              "      <td>...</td>\n",
              "      <td>...</td>\n",
              "      <td>...</td>\n",
              "      <td>...</td>\n",
              "      <td>...</td>\n",
              "      <td>...</td>\n",
              "      <td>...</td>\n",
              "      <td>...</td>\n",
              "      <td>...</td>\n",
              "      <td>...</td>\n",
              "      <td>...</td>\n",
              "      <td>...</td>\n",
              "      <td>...</td>\n",
              "      <td>...</td>\n",
              "      <td>...</td>\n",
              "      <td>...</td>\n",
              "      <td>...</td>\n",
              "      <td>...</td>\n",
              "      <td>...</td>\n",
              "      <td>...</td>\n",
              "    </tr>\n",
              "    <tr>\n",
              "      <th>110522</th>\n",
              "      <td>0</td>\n",
              "      <td>56</td>\n",
              "      <td>0</td>\n",
              "      <td>0</td>\n",
              "      <td>0</td>\n",
              "      <td>0</td>\n",
              "      <td>0</td>\n",
              "      <td>1</td>\n",
              "      <td>No</td>\n",
              "      <td>34</td>\n",
              "      <td>7</td>\n",
              "      <td>6</td>\n",
              "      <td>0</td>\n",
              "      <td>Mulher</td>\n",
              "      <td>nao compareceu</td>\n",
              "      <td>0</td>\n",
              "      <td>0</td>\n",
              "      <td>0</td>\n",
              "      <td>0</td>\n",
              "      <td>0</td>\n",
              "      <td>0</td>\n",
              "      <td>0</td>\n",
              "      <td>0</td>\n",
              "      <td>0</td>\n",
              "      <td>0</td>\n",
              "      <td>0</td>\n",
              "      <td>0</td>\n",
              "      <td>0</td>\n",
              "      <td>0</td>\n",
              "      <td>0</td>\n",
              "      <td>0</td>\n",
              "      <td>0</td>\n",
              "      <td>0</td>\n",
              "      <td>0</td>\n",
              "      <td>0</td>\n",
              "      <td>0</td>\n",
              "      <td>0</td>\n",
              "      <td>0</td>\n",
              "      <td>0</td>\n",
              "      <td>0</td>\n",
              "      <td>0</td>\n",
              "      <td>0</td>\n",
              "      <td>0</td>\n",
              "      <td>0</td>\n",
              "      <td>0</td>\n",
              "      <td>0</td>\n",
              "      <td>0</td>\n",
              "      <td>0</td>\n",
              "      <td>0</td>\n",
              "      <td>0</td>\n",
              "      <td>0</td>\n",
              "      <td>0</td>\n",
              "      <td>0</td>\n",
              "      <td>0</td>\n",
              "      <td>0</td>\n",
              "      <td>0</td>\n",
              "      <td>0</td>\n",
              "      <td>0</td>\n",
              "      <td>1</td>\n",
              "      <td>0</td>\n",
              "      <td>0</td>\n",
              "      <td>0</td>\n",
              "      <td>0</td>\n",
              "      <td>0</td>\n",
              "      <td>0</td>\n",
              "      <td>0</td>\n",
              "      <td>0</td>\n",
              "      <td>0</td>\n",
              "      <td>0</td>\n",
              "      <td>0</td>\n",
              "      <td>0</td>\n",
              "      <td>0</td>\n",
              "      <td>0</td>\n",
              "      <td>0</td>\n",
              "      <td>0</td>\n",
              "      <td>0</td>\n",
              "      <td>0</td>\n",
              "      <td>0</td>\n",
              "      <td>0</td>\n",
              "      <td>0</td>\n",
              "      <td>0</td>\n",
              "      <td>0</td>\n",
              "      <td>0</td>\n",
              "      <td>0</td>\n",
              "      <td>0</td>\n",
              "      <td>0</td>\n",
              "      <td>0</td>\n",
              "      <td>0</td>\n",
              "      <td>0</td>\n",
              "      <td>0</td>\n",
              "      <td>0</td>\n",
              "      <td>0</td>\n",
              "      <td>0</td>\n",
              "      <td>0</td>\n",
              "      <td>0</td>\n",
              "      <td>0</td>\n",
              "    </tr>\n",
              "    <tr>\n",
              "      <th>110523</th>\n",
              "      <td>0</td>\n",
              "      <td>51</td>\n",
              "      <td>0</td>\n",
              "      <td>0</td>\n",
              "      <td>0</td>\n",
              "      <td>0</td>\n",
              "      <td>0</td>\n",
              "      <td>1</td>\n",
              "      <td>No</td>\n",
              "      <td>34</td>\n",
              "      <td>7</td>\n",
              "      <td>6</td>\n",
              "      <td>0</td>\n",
              "      <td>Mulher</td>\n",
              "      <td>nao compareceu</td>\n",
              "      <td>0</td>\n",
              "      <td>0</td>\n",
              "      <td>0</td>\n",
              "      <td>0</td>\n",
              "      <td>0</td>\n",
              "      <td>0</td>\n",
              "      <td>0</td>\n",
              "      <td>0</td>\n",
              "      <td>0</td>\n",
              "      <td>0</td>\n",
              "      <td>0</td>\n",
              "      <td>0</td>\n",
              "      <td>0</td>\n",
              "      <td>0</td>\n",
              "      <td>0</td>\n",
              "      <td>0</td>\n",
              "      <td>0</td>\n",
              "      <td>0</td>\n",
              "      <td>0</td>\n",
              "      <td>0</td>\n",
              "      <td>0</td>\n",
              "      <td>0</td>\n",
              "      <td>0</td>\n",
              "      <td>0</td>\n",
              "      <td>0</td>\n",
              "      <td>0</td>\n",
              "      <td>0</td>\n",
              "      <td>0</td>\n",
              "      <td>0</td>\n",
              "      <td>0</td>\n",
              "      <td>0</td>\n",
              "      <td>0</td>\n",
              "      <td>0</td>\n",
              "      <td>0</td>\n",
              "      <td>0</td>\n",
              "      <td>0</td>\n",
              "      <td>0</td>\n",
              "      <td>0</td>\n",
              "      <td>0</td>\n",
              "      <td>0</td>\n",
              "      <td>0</td>\n",
              "      <td>0</td>\n",
              "      <td>0</td>\n",
              "      <td>1</td>\n",
              "      <td>0</td>\n",
              "      <td>0</td>\n",
              "      <td>0</td>\n",
              "      <td>0</td>\n",
              "      <td>0</td>\n",
              "      <td>0</td>\n",
              "      <td>0</td>\n",
              "      <td>0</td>\n",
              "      <td>0</td>\n",
              "      <td>0</td>\n",
              "      <td>0</td>\n",
              "      <td>0</td>\n",
              "      <td>0</td>\n",
              "      <td>0</td>\n",
              "      <td>0</td>\n",
              "      <td>0</td>\n",
              "      <td>0</td>\n",
              "      <td>0</td>\n",
              "      <td>0</td>\n",
              "      <td>0</td>\n",
              "      <td>0</td>\n",
              "      <td>0</td>\n",
              "      <td>0</td>\n",
              "      <td>0</td>\n",
              "      <td>0</td>\n",
              "      <td>0</td>\n",
              "      <td>0</td>\n",
              "      <td>0</td>\n",
              "      <td>0</td>\n",
              "      <td>0</td>\n",
              "      <td>0</td>\n",
              "      <td>0</td>\n",
              "      <td>0</td>\n",
              "      <td>0</td>\n",
              "      <td>0</td>\n",
              "      <td>0</td>\n",
              "      <td>0</td>\n",
              "    </tr>\n",
              "    <tr>\n",
              "      <th>110524</th>\n",
              "      <td>0</td>\n",
              "      <td>21</td>\n",
              "      <td>0</td>\n",
              "      <td>0</td>\n",
              "      <td>0</td>\n",
              "      <td>0</td>\n",
              "      <td>0</td>\n",
              "      <td>1</td>\n",
              "      <td>No</td>\n",
              "      <td>40</td>\n",
              "      <td>7</td>\n",
              "      <td>6</td>\n",
              "      <td>0</td>\n",
              "      <td>Mulher</td>\n",
              "      <td>nao compareceu</td>\n",
              "      <td>0</td>\n",
              "      <td>0</td>\n",
              "      <td>0</td>\n",
              "      <td>0</td>\n",
              "      <td>0</td>\n",
              "      <td>0</td>\n",
              "      <td>0</td>\n",
              "      <td>0</td>\n",
              "      <td>0</td>\n",
              "      <td>0</td>\n",
              "      <td>0</td>\n",
              "      <td>0</td>\n",
              "      <td>0</td>\n",
              "      <td>0</td>\n",
              "      <td>0</td>\n",
              "      <td>0</td>\n",
              "      <td>0</td>\n",
              "      <td>0</td>\n",
              "      <td>0</td>\n",
              "      <td>0</td>\n",
              "      <td>0</td>\n",
              "      <td>0</td>\n",
              "      <td>0</td>\n",
              "      <td>0</td>\n",
              "      <td>0</td>\n",
              "      <td>0</td>\n",
              "      <td>0</td>\n",
              "      <td>0</td>\n",
              "      <td>0</td>\n",
              "      <td>0</td>\n",
              "      <td>0</td>\n",
              "      <td>0</td>\n",
              "      <td>0</td>\n",
              "      <td>0</td>\n",
              "      <td>0</td>\n",
              "      <td>0</td>\n",
              "      <td>0</td>\n",
              "      <td>0</td>\n",
              "      <td>0</td>\n",
              "      <td>0</td>\n",
              "      <td>0</td>\n",
              "      <td>0</td>\n",
              "      <td>0</td>\n",
              "      <td>1</td>\n",
              "      <td>0</td>\n",
              "      <td>0</td>\n",
              "      <td>0</td>\n",
              "      <td>0</td>\n",
              "      <td>0</td>\n",
              "      <td>0</td>\n",
              "      <td>0</td>\n",
              "      <td>0</td>\n",
              "      <td>0</td>\n",
              "      <td>0</td>\n",
              "      <td>0</td>\n",
              "      <td>0</td>\n",
              "      <td>0</td>\n",
              "      <td>0</td>\n",
              "      <td>0</td>\n",
              "      <td>0</td>\n",
              "      <td>0</td>\n",
              "      <td>0</td>\n",
              "      <td>0</td>\n",
              "      <td>0</td>\n",
              "      <td>0</td>\n",
              "      <td>0</td>\n",
              "      <td>0</td>\n",
              "      <td>0</td>\n",
              "      <td>0</td>\n",
              "      <td>0</td>\n",
              "      <td>0</td>\n",
              "      <td>0</td>\n",
              "      <td>0</td>\n",
              "      <td>0</td>\n",
              "      <td>0</td>\n",
              "      <td>0</td>\n",
              "      <td>0</td>\n",
              "      <td>0</td>\n",
              "      <td>0</td>\n",
              "      <td>0</td>\n",
              "      <td>0</td>\n",
              "    </tr>\n",
              "    <tr>\n",
              "      <th>110525</th>\n",
              "      <td>0</td>\n",
              "      <td>38</td>\n",
              "      <td>0</td>\n",
              "      <td>0</td>\n",
              "      <td>0</td>\n",
              "      <td>0</td>\n",
              "      <td>0</td>\n",
              "      <td>1</td>\n",
              "      <td>No</td>\n",
              "      <td>40</td>\n",
              "      <td>7</td>\n",
              "      <td>6</td>\n",
              "      <td>0</td>\n",
              "      <td>Mulher</td>\n",
              "      <td>nao compareceu</td>\n",
              "      <td>0</td>\n",
              "      <td>0</td>\n",
              "      <td>0</td>\n",
              "      <td>0</td>\n",
              "      <td>0</td>\n",
              "      <td>0</td>\n",
              "      <td>0</td>\n",
              "      <td>0</td>\n",
              "      <td>0</td>\n",
              "      <td>0</td>\n",
              "      <td>0</td>\n",
              "      <td>0</td>\n",
              "      <td>0</td>\n",
              "      <td>0</td>\n",
              "      <td>0</td>\n",
              "      <td>0</td>\n",
              "      <td>0</td>\n",
              "      <td>0</td>\n",
              "      <td>0</td>\n",
              "      <td>0</td>\n",
              "      <td>0</td>\n",
              "      <td>0</td>\n",
              "      <td>0</td>\n",
              "      <td>0</td>\n",
              "      <td>0</td>\n",
              "      <td>0</td>\n",
              "      <td>0</td>\n",
              "      <td>0</td>\n",
              "      <td>0</td>\n",
              "      <td>0</td>\n",
              "      <td>0</td>\n",
              "      <td>0</td>\n",
              "      <td>0</td>\n",
              "      <td>0</td>\n",
              "      <td>0</td>\n",
              "      <td>0</td>\n",
              "      <td>0</td>\n",
              "      <td>0</td>\n",
              "      <td>0</td>\n",
              "      <td>0</td>\n",
              "      <td>0</td>\n",
              "      <td>0</td>\n",
              "      <td>0</td>\n",
              "      <td>1</td>\n",
              "      <td>0</td>\n",
              "      <td>0</td>\n",
              "      <td>0</td>\n",
              "      <td>0</td>\n",
              "      <td>0</td>\n",
              "      <td>0</td>\n",
              "      <td>0</td>\n",
              "      <td>0</td>\n",
              "      <td>0</td>\n",
              "      <td>0</td>\n",
              "      <td>0</td>\n",
              "      <td>0</td>\n",
              "      <td>0</td>\n",
              "      <td>0</td>\n",
              "      <td>0</td>\n",
              "      <td>0</td>\n",
              "      <td>0</td>\n",
              "      <td>0</td>\n",
              "      <td>0</td>\n",
              "      <td>0</td>\n",
              "      <td>0</td>\n",
              "      <td>0</td>\n",
              "      <td>0</td>\n",
              "      <td>0</td>\n",
              "      <td>0</td>\n",
              "      <td>0</td>\n",
              "      <td>0</td>\n",
              "      <td>0</td>\n",
              "      <td>0</td>\n",
              "      <td>0</td>\n",
              "      <td>0</td>\n",
              "      <td>0</td>\n",
              "      <td>0</td>\n",
              "      <td>0</td>\n",
              "      <td>0</td>\n",
              "      <td>0</td>\n",
              "      <td>0</td>\n",
              "    </tr>\n",
              "    <tr>\n",
              "      <th>110526</th>\n",
              "      <td>0</td>\n",
              "      <td>54</td>\n",
              "      <td>0</td>\n",
              "      <td>0</td>\n",
              "      <td>0</td>\n",
              "      <td>0</td>\n",
              "      <td>0</td>\n",
              "      <td>1</td>\n",
              "      <td>No</td>\n",
              "      <td>40</td>\n",
              "      <td>7</td>\n",
              "      <td>6</td>\n",
              "      <td>0</td>\n",
              "      <td>Mulher</td>\n",
              "      <td>nao compareceu</td>\n",
              "      <td>0</td>\n",
              "      <td>0</td>\n",
              "      <td>0</td>\n",
              "      <td>0</td>\n",
              "      <td>0</td>\n",
              "      <td>0</td>\n",
              "      <td>0</td>\n",
              "      <td>0</td>\n",
              "      <td>0</td>\n",
              "      <td>0</td>\n",
              "      <td>0</td>\n",
              "      <td>0</td>\n",
              "      <td>0</td>\n",
              "      <td>0</td>\n",
              "      <td>0</td>\n",
              "      <td>0</td>\n",
              "      <td>0</td>\n",
              "      <td>0</td>\n",
              "      <td>0</td>\n",
              "      <td>0</td>\n",
              "      <td>0</td>\n",
              "      <td>0</td>\n",
              "      <td>0</td>\n",
              "      <td>0</td>\n",
              "      <td>0</td>\n",
              "      <td>0</td>\n",
              "      <td>0</td>\n",
              "      <td>0</td>\n",
              "      <td>0</td>\n",
              "      <td>0</td>\n",
              "      <td>0</td>\n",
              "      <td>0</td>\n",
              "      <td>0</td>\n",
              "      <td>0</td>\n",
              "      <td>0</td>\n",
              "      <td>0</td>\n",
              "      <td>0</td>\n",
              "      <td>0</td>\n",
              "      <td>0</td>\n",
              "      <td>0</td>\n",
              "      <td>0</td>\n",
              "      <td>0</td>\n",
              "      <td>0</td>\n",
              "      <td>1</td>\n",
              "      <td>0</td>\n",
              "      <td>0</td>\n",
              "      <td>0</td>\n",
              "      <td>0</td>\n",
              "      <td>0</td>\n",
              "      <td>0</td>\n",
              "      <td>0</td>\n",
              "      <td>0</td>\n",
              "      <td>0</td>\n",
              "      <td>0</td>\n",
              "      <td>0</td>\n",
              "      <td>0</td>\n",
              "      <td>0</td>\n",
              "      <td>0</td>\n",
              "      <td>0</td>\n",
              "      <td>0</td>\n",
              "      <td>0</td>\n",
              "      <td>0</td>\n",
              "      <td>0</td>\n",
              "      <td>0</td>\n",
              "      <td>0</td>\n",
              "      <td>0</td>\n",
              "      <td>0</td>\n",
              "      <td>0</td>\n",
              "      <td>0</td>\n",
              "      <td>0</td>\n",
              "      <td>0</td>\n",
              "      <td>0</td>\n",
              "      <td>0</td>\n",
              "      <td>0</td>\n",
              "      <td>0</td>\n",
              "      <td>0</td>\n",
              "      <td>0</td>\n",
              "      <td>0</td>\n",
              "      <td>0</td>\n",
              "      <td>0</td>\n",
              "      <td>0</td>\n",
              "    </tr>\n",
              "  </tbody>\n",
              "</table>\n",
              "<p>107853 rows × 96 columns</p>\n",
              "</div>"
            ],
            "text/plain": [
              "        Gender  Age Scholarship Hipertension Diabetes Alcoholism Handcap  \\\n",
              "0            0   62           0            1        0          0       0   \n",
              "1            1   56           0            0        0          0       0   \n",
              "2            0   62           0            0        0          0       0   \n",
              "3            0    8           0            0        0          0       0   \n",
              "4            0   56           0            1        1          0       0   \n",
              "...        ...  ...         ...          ...      ...        ...     ...   \n",
              "110522       0   56           0            0        0          0       0   \n",
              "110523       0   51           0            0        0          0       0   \n",
              "110524       0   21           0            0        0          0       0   \n",
              "110525       0   38           0            0        0          0       0   \n",
              "110526       0   54           0            0        0          0       0   \n",
              "\n",
              "       SMS_received No-show  WaitingTime  Day  Month  Class    Sexo  \\\n",
              "0                 0      No            0   29      4      0  Mulher   \n",
              "1                 0      No            0   29      4      0   Homem   \n",
              "2                 0      No            0   29      4      0  Mulher   \n",
              "3                 0      No            0   29      4      0  Mulher   \n",
              "4                 0      No            0   29      4      0  Mulher   \n",
              "...             ...     ...          ...  ...    ...    ...     ...   \n",
              "110522            1      No           34    7      6      0  Mulher   \n",
              "110523            1      No           34    7      6      0  Mulher   \n",
              "110524            1      No           40    7      6      0  Mulher   \n",
              "110525            1      No           40    7      6      0  Mulher   \n",
              "110526            1      No           40    7      6      0  Mulher   \n",
              "\n",
              "                Status  N_AEROPORTO  N_ANDORINHAS  N_ANTÔNIO HONÓRIO  \\\n",
              "0       nao compareceu            0             0                  0   \n",
              "1       nao compareceu            0             0                  0   \n",
              "2       nao compareceu            0             0                  0   \n",
              "3       nao compareceu            0             0                  0   \n",
              "4       nao compareceu            0             0                  0   \n",
              "...                ...          ...           ...                ...   \n",
              "110522  nao compareceu            0             0                  0   \n",
              "110523  nao compareceu            0             0                  0   \n",
              "110524  nao compareceu            0             0                  0   \n",
              "110525  nao compareceu            0             0                  0   \n",
              "110526  nao compareceu            0             0                  0   \n",
              "\n",
              "        N_ARIOVALDO FAVALESSA  N_BARRO VERMELHO  N_BELA VISTA  \\\n",
              "0                           0                 0             0   \n",
              "1                           0                 0             0   \n",
              "2                           0                 0             0   \n",
              "3                           0                 0             0   \n",
              "4                           0                 0             0   \n",
              "...                       ...               ...           ...   \n",
              "110522                      0                 0             0   \n",
              "110523                      0                 0             0   \n",
              "110524                      0                 0             0   \n",
              "110525                      0                 0             0   \n",
              "110526                      0                 0             0   \n",
              "\n",
              "        N_BENTO FERREIRA  N_BOA VISTA  N_BONFIM  N_CARATOÍRA  N_CENTRO  \\\n",
              "0                      0            0         0            0         0   \n",
              "1                      0            0         0            0         0   \n",
              "2                      0            0         0            0         0   \n",
              "3                      0            0         0            0         0   \n",
              "4                      0            0         0            0         0   \n",
              "...                  ...          ...       ...          ...       ...   \n",
              "110522                 0            0         0            0         0   \n",
              "110523                 0            0         0            0         0   \n",
              "110524                 0            0         0            0         0   \n",
              "110525                 0            0         0            0         0   \n",
              "110526                 0            0         0            0         0   \n",
              "\n",
              "        N_COMDUSA  N_CONQUISTA  N_CONSOLAÇÃO  N_CRUZAMENTO  N_DA PENHA  \\\n",
              "0               0            0             0             0           0   \n",
              "1               0            0             0             0           0   \n",
              "2               0            0             0             0           0   \n",
              "3               0            0             0             0           0   \n",
              "4               0            0             0             0           0   \n",
              "...           ...          ...           ...           ...         ...   \n",
              "110522          0            0             0             0           0   \n",
              "110523          0            0             0             0           0   \n",
              "110524          0            0             0             0           0   \n",
              "110525          0            0             0             0           0   \n",
              "110526          0            0             0             0           0   \n",
              "\n",
              "        N_DE LOURDES  N_DO CABRAL  N_DO MOSCOSO  N_DO QUADRO  \\\n",
              "0                  0            0             0            0   \n",
              "1                  0            0             0            0   \n",
              "2                  0            0             0            0   \n",
              "3                  0            0             0            0   \n",
              "4                  0            0             0            0   \n",
              "...              ...          ...           ...          ...   \n",
              "110522             0            0             0            0   \n",
              "110523             0            0             0            0   \n",
              "110524             0            0             0            0   \n",
              "110525             0            0             0            0   \n",
              "110526             0            0             0            0   \n",
              "\n",
              "        N_ENSEADA DO SUÁ  N_ESTRELINHA  N_FONTE GRANDE  N_FORTE SÃO JOÃO  \\\n",
              "0                      0             0               0                 0   \n",
              "1                      0             0               0                 0   \n",
              "2                      0             0               0                 0   \n",
              "3                      0             0               0                 0   \n",
              "4                      0             0               0                 0   \n",
              "...                  ...           ...             ...               ...   \n",
              "110522                 0             0               0                 0   \n",
              "110523                 0             0               0                 0   \n",
              "110524                 0             0               0                 0   \n",
              "110525                 0             0               0                 0   \n",
              "110526                 0             0               0                 0   \n",
              "\n",
              "        N_FRADINHOS  N_GOIABEIRAS  N_GRANDE VITÓRIA  N_GURIGICA  N_HORTO  \\\n",
              "0                 0             0                 0           0        0   \n",
              "1                 0             0                 0           0        0   \n",
              "2                 0             0                 0           0        0   \n",
              "3                 0             0                 0           0        0   \n",
              "4                 0             0                 0           0        0   \n",
              "...             ...           ...               ...         ...      ...   \n",
              "110522            0             0                 0           0        0   \n",
              "110523            0             0                 0           0        0   \n",
              "110524            0             0                 0           0        0   \n",
              "110525            0             0                 0           0        0   \n",
              "110526            0             0                 0           0        0   \n",
              "\n",
              "        N_ILHA DAS CAIEIRAS  N_ILHA DE SANTA MARIA  N_ILHA DO BOI  \\\n",
              "0                         0                      0              0   \n",
              "1                         0                      0              0   \n",
              "2                         0                      0              0   \n",
              "3                         0                      0              0   \n",
              "4                         0                      0              0   \n",
              "...                     ...                    ...            ...   \n",
              "110522                    0                      0              0   \n",
              "110523                    0                      0              0   \n",
              "110524                    0                      0              0   \n",
              "110525                    0                      0              0   \n",
              "110526                    0                      0              0   \n",
              "\n",
              "        N_ILHA DO FRADE  N_ILHA DO PRÍNCIPE  N_ILHAS OCEÂNICAS DE TRINDADE  \\\n",
              "0                     0                   0                              0   \n",
              "1                     0                   0                              0   \n",
              "2                     0                   0                              0   \n",
              "3                     0                   0                              0   \n",
              "4                     0                   0                              0   \n",
              "...                 ...                 ...                            ...   \n",
              "110522                0                   0                              0   \n",
              "110523                0                   0                              0   \n",
              "110524                0                   0                              0   \n",
              "110525                0                   0                              0   \n",
              "110526                0                   0                              0   \n",
              "\n",
              "        N_INHANGUETÁ  N_ITARARÉ  N_JABOUR  N_JARDIM CAMBURI  \\\n",
              "0                  0          0         0                 0   \n",
              "1                  0          0         0                 0   \n",
              "2                  0          0         0                 0   \n",
              "3                  0          0         0                 0   \n",
              "4                  0          0         0                 0   \n",
              "...              ...        ...       ...               ...   \n",
              "110522             0          0         0                 0   \n",
              "110523             0          0         0                 0   \n",
              "110524             0          0         0                 0   \n",
              "110525             0          0         0                 0   \n",
              "110526             0          0         0                 0   \n",
              "\n",
              "        N_JARDIM DA PENHA  N_JESUS DE NAZARETH  N_JOANA D´ARC  N_JUCUTUQUARA  \\\n",
              "0                       1                    0              0              0   \n",
              "1                       1                    0              0              0   \n",
              "2                       0                    0              0              0   \n",
              "3                       0                    0              0              0   \n",
              "4                       1                    0              0              0   \n",
              "...                   ...                  ...            ...            ...   \n",
              "110522                  0                    0              0              0   \n",
              "110523                  0                    0              0              0   \n",
              "110524                  0                    0              0              0   \n",
              "110525                  0                    0              0              0   \n",
              "110526                  0                    0              0              0   \n",
              "\n",
              "        N_MARIA ORTIZ  N_MARUÍPE  N_MATA DA PRAIA  N_MONTE BELO  \\\n",
              "0                   0          0                0             0   \n",
              "1                   0          0                0             0   \n",
              "2                   0          0                1             0   \n",
              "3                   0          0                0             0   \n",
              "4                   0          0                0             0   \n",
              "...               ...        ...              ...           ...   \n",
              "110522              1          0                0             0   \n",
              "110523              1          0                0             0   \n",
              "110524              1          0                0             0   \n",
              "110525              1          0                0             0   \n",
              "110526              1          0                0             0   \n",
              "\n",
              "        N_MORADA DE CAMBURI  N_MÁRIO CYPRESTE  N_NAZARETH  N_NOVA PALESTINA  \\\n",
              "0                         0                 0           0                 0   \n",
              "1                         0                 0           0                 0   \n",
              "2                         0                 0           0                 0   \n",
              "3                         0                 0           0                 0   \n",
              "4                         0                 0           0                 0   \n",
              "...                     ...               ...         ...               ...   \n",
              "110522                    0                 0           0                 0   \n",
              "110523                    0                 0           0                 0   \n",
              "110524                    0                 0           0                 0   \n",
              "110525                    0                 0           0                 0   \n",
              "110526                    0                 0           0                 0   \n",
              "\n",
              "        N_PARQUE INDUSTRIAL  N_PARQUE MOSCOSO  N_PIEDADE  N_PONTAL DE CAMBURI  \\\n",
              "0                         0                 0          0                    0   \n",
              "1                         0                 0          0                    0   \n",
              "2                         0                 0          0                    0   \n",
              "3                         0                 0          0                    1   \n",
              "4                         0                 0          0                    0   \n",
              "...                     ...               ...        ...                  ...   \n",
              "110522                    0                 0          0                    0   \n",
              "110523                    0                 0          0                    0   \n",
              "110524                    0                 0          0                    0   \n",
              "110525                    0                 0          0                    0   \n",
              "110526                    0                 0          0                    0   \n",
              "\n",
              "        N_PRAIA DO CANTO  N_PRAIA DO SUÁ  N_REDENÇÃO  N_REPÚBLICA  \\\n",
              "0                      0               0           0            0   \n",
              "1                      0               0           0            0   \n",
              "2                      0               0           0            0   \n",
              "3                      0               0           0            0   \n",
              "4                      0               0           0            0   \n",
              "...                  ...             ...         ...          ...   \n",
              "110522                 0               0           0            0   \n",
              "110523                 0               0           0            0   \n",
              "110524                 0               0           0            0   \n",
              "110525                 0               0           0            0   \n",
              "110526                 0               0           0            0   \n",
              "\n",
              "        N_RESISTÊNCIA  N_ROMÃO  N_SANTA CECÍLIA  N_SANTA CLARA  \\\n",
              "0                   0        0                0              0   \n",
              "1                   0        0                0              0   \n",
              "2                   0        0                0              0   \n",
              "3                   0        0                0              0   \n",
              "4                   0        0                0              0   \n",
              "...               ...      ...              ...            ...   \n",
              "110522              0        0                0              0   \n",
              "110523              0        0                0              0   \n",
              "110524              0        0                0              0   \n",
              "110525              0        0                0              0   \n",
              "110526              0        0                0              0   \n",
              "\n",
              "        N_SANTA HELENA  N_SANTA LUÍZA  N_SANTA LÚCIA  N_SANTA MARTHA  \\\n",
              "0                    0              0              0               0   \n",
              "1                    0              0              0               0   \n",
              "2                    0              0              0               0   \n",
              "3                    0              0              0               0   \n",
              "4                    0              0              0               0   \n",
              "...                ...            ...            ...             ...   \n",
              "110522               0              0              0               0   \n",
              "110523               0              0              0               0   \n",
              "110524               0              0              0               0   \n",
              "110525               0              0              0               0   \n",
              "110526               0              0              0               0   \n",
              "\n",
              "        N_SANTA TEREZA  N_SANTO ANDRÉ  N_SANTO ANTÔNIO  N_SANTOS DUMONT  \\\n",
              "0                    0              0                0                0   \n",
              "1                    0              0                0                0   \n",
              "2                    0              0                0                0   \n",
              "3                    0              0                0                0   \n",
              "4                    0              0                0                0   \n",
              "...                ...            ...              ...              ...   \n",
              "110522               0              0                0                0   \n",
              "110523               0              0                0                0   \n",
              "110524               0              0                0                0   \n",
              "110525               0              0                0                0   \n",
              "110526               0              0                0                0   \n",
              "\n",
              "        N_SANTOS REIS  N_SEGURANÇA DO LAR  N_SOLON BORGES  N_SÃO BENEDITO  \\\n",
              "0                   0                   0               0               0   \n",
              "1                   0                   0               0               0   \n",
              "2                   0                   0               0               0   \n",
              "3                   0                   0               0               0   \n",
              "4                   0                   0               0               0   \n",
              "...               ...                 ...             ...             ...   \n",
              "110522              0                   0               0               0   \n",
              "110523              0                   0               0               0   \n",
              "110524              0                   0               0               0   \n",
              "110525              0                   0               0               0   \n",
              "110526              0                   0               0               0   \n",
              "\n",
              "        N_SÃO CRISTÓVÃO  N_SÃO JOSÉ  N_SÃO PEDRO  N_TABUAZEIRO  \\\n",
              "0                     0           0            0             0   \n",
              "1                     0           0            0             0   \n",
              "2                     0           0            0             0   \n",
              "3                     0           0            0             0   \n",
              "4                     0           0            0             0   \n",
              "...                 ...         ...          ...           ...   \n",
              "110522                0           0            0             0   \n",
              "110523                0           0            0             0   \n",
              "110524                0           0            0             0   \n",
              "110525                0           0            0             0   \n",
              "110526                0           0            0             0   \n",
              "\n",
              "        N_UNIVERSITÁRIO  N_VILA RUBIM  \n",
              "0                     0             0  \n",
              "1                     0             0  \n",
              "2                     0             0  \n",
              "3                     0             0  \n",
              "4                     0             0  \n",
              "...                 ...           ...  \n",
              "110522                0             0  \n",
              "110523                0             0  \n",
              "110524                0             0  \n",
              "110525                0             0  \n",
              "110526                0             0  \n",
              "\n",
              "[107853 rows x 96 columns]"
            ]
          },
          "metadata": {
            "tags": []
          },
          "execution_count": 294
        }
      ]
    },
    {
      "cell_type": "code",
      "metadata": {
        "id": "mPyteNOZ1YFc",
        "colab_type": "code",
        "outputId": "39b20251-29fb-4b56-f67a-f6281da5b1d7",
        "colab": {
          "base_uri": "https://localhost:8080/",
          "height": 83
        }
      },
      "source": [
        "dataset.groupby('No-show').size()"
      ],
      "execution_count": 0,
      "outputs": [
        {
          "output_type": "execute_result",
          "data": {
            "text/plain": [
              "No-show\n",
              "No     86321\n",
              "Yes    21532\n",
              "dtype: int64"
            ]
          },
          "metadata": {
            "tags": []
          },
          "execution_count": 295
        }
      ]
    },
    {
      "cell_type": "code",
      "metadata": {
        "id": "CQScmOuG12qH",
        "colab_type": "code",
        "outputId": "8b39d443-f9c4-4485-bef2-85f6472fe1b1",
        "colab": {
          "base_uri": "https://localhost:8080/",
          "height": 343
        }
      },
      "source": [
        "# Quantidade de exemplos positivos e negativos de No-show 0 = a pessoa foi na consulta agenda 1 =  a pessoa não foi na consulta\n",
        "target_count = dataset['No-show'].value_counts()\n",
        "print('Class 0:', target_count[0])\n",
        "print('Class 1:', target_count[1])\n",
        "print('Proportion:', round(target_count[0] / target_count[1], 2), ': 1')\n",
        "\n",
        "target_count.plot(kind='bar', title='Count (target)');"
      ],
      "execution_count": 0,
      "outputs": [
        {
          "output_type": "stream",
          "text": [
            "Class 0: 86321\n",
            "Class 1: 21532\n",
            "Proportion: 4.01 : 1\n"
          ],
          "name": "stdout"
        },
        {
          "output_type": "display_data",
          "data": {
            "image/png": "[encoded data removed]",
            "text/plain": [
              "<Figure size 432x288 with 1 Axes>"
            ]
          },
          "metadata": {
            "tags": []
          }
        }
      ]
    },
    {
      "cell_type": "code",
      "metadata": {
        "id": "goM8EZMkMHVB",
        "colab_type": "code",
        "colab": {}
      },
      "source": [
        "# Removidas Sexo e Status pois foram criadas apenas para compreender melhor o dataset e No-show foi substituida por Class.\n",
        "dataset.drop(['No-show','Sexo', 'Status'], inplace=True, axis=1)"
      ],
      "execution_count": 0,
      "outputs": []
    },
    {
      "cell_type": "code",
      "metadata": {
        "id": "yLf-9admLZ9f",
        "colab_type": "code",
        "outputId": "640cf49b-2fce-454f-ecab-ddeb05a5b1f9",
        "colab": {
          "base_uri": "https://localhost:8080/",
          "height": 267
        }
      },
      "source": [
        "dataset.head()"
      ],
      "execution_count": 0,
      "outputs": [
        {
          "output_type": "execute_result",
          "data": {
            "text/html": [
              "<div>\n",
              "<style scoped>\n",
              "    .dataframe tbody tr th:only-of-type {\n",
              "        vertical-align: middle;\n",
              "    }\n",
              "\n",
              "    .dataframe tbody tr th {\n",
              "        vertical-align: top;\n",
              "    }\n",
              "\n",
              "    .dataframe thead th {\n",
              "        text-align: right;\n",
              "    }\n",
              "</style>\n",
              "<table border=\"1\" class=\"dataframe\">\n",
              "  <thead>\n",
              "    <tr style=\"text-align: right;\">\n",
              "      <th></th>\n",
              "      <th>Gender</th>\n",
              "      <th>Age</th>\n",
              "      <th>Scholarship</th>\n",
              "      <th>Hipertension</th>\n",
              "      <th>Diabetes</th>\n",
              "      <th>Alcoholism</th>\n",
              "      <th>Handcap</th>\n",
              "      <th>SMS_received</th>\n",
              "      <th>WaitingTime</th>\n",
              "      <th>Day</th>\n",
              "      <th>Month</th>\n",
              "      <th>Class</th>\n",
              "      <th>N_AEROPORTO</th>\n",
              "      <th>N_ANDORINHAS</th>\n",
              "      <th>N_ANTÔNIO HONÓRIO</th>\n",
              "      <th>N_ARIOVALDO FAVALESSA</th>\n",
              "      <th>N_BARRO VERMELHO</th>\n",
              "      <th>N_BELA VISTA</th>\n",
              "      <th>N_BENTO FERREIRA</th>\n",
              "      <th>N_BOA VISTA</th>\n",
              "      <th>N_BONFIM</th>\n",
              "      <th>N_CARATOÍRA</th>\n",
              "      <th>N_CENTRO</th>\n",
              "      <th>N_COMDUSA</th>\n",
              "      <th>N_CONQUISTA</th>\n",
              "      <th>N_CONSOLAÇÃO</th>\n",
              "      <th>N_CRUZAMENTO</th>\n",
              "      <th>N_DA PENHA</th>\n",
              "      <th>N_DE LOURDES</th>\n",
              "      <th>N_DO CABRAL</th>\n",
              "      <th>N_DO MOSCOSO</th>\n",
              "      <th>N_DO QUADRO</th>\n",
              "      <th>N_ENSEADA DO SUÁ</th>\n",
              "      <th>N_ESTRELINHA</th>\n",
              "      <th>N_FONTE GRANDE</th>\n",
              "      <th>N_FORTE SÃO JOÃO</th>\n",
              "      <th>N_FRADINHOS</th>\n",
              "      <th>N_GOIABEIRAS</th>\n",
              "      <th>N_GRANDE VITÓRIA</th>\n",
              "      <th>N_GURIGICA</th>\n",
              "      <th>N_HORTO</th>\n",
              "      <th>N_ILHA DAS CAIEIRAS</th>\n",
              "      <th>N_ILHA DE SANTA MARIA</th>\n",
              "      <th>N_ILHA DO BOI</th>\n",
              "      <th>N_ILHA DO FRADE</th>\n",
              "      <th>N_ILHA DO PRÍNCIPE</th>\n",
              "      <th>N_ILHAS OCEÂNICAS DE TRINDADE</th>\n",
              "      <th>N_INHANGUETÁ</th>\n",
              "      <th>N_ITARARÉ</th>\n",
              "      <th>N_JABOUR</th>\n",
              "      <th>N_JARDIM CAMBURI</th>\n",
              "      <th>N_JARDIM DA PENHA</th>\n",
              "      <th>N_JESUS DE NAZARETH</th>\n",
              "      <th>N_JOANA D´ARC</th>\n",
              "      <th>N_JUCUTUQUARA</th>\n",
              "      <th>N_MARIA ORTIZ</th>\n",
              "      <th>N_MARUÍPE</th>\n",
              "      <th>N_MATA DA PRAIA</th>\n",
              "      <th>N_MONTE BELO</th>\n",
              "      <th>N_MORADA DE CAMBURI</th>\n",
              "      <th>N_MÁRIO CYPRESTE</th>\n",
              "      <th>N_NAZARETH</th>\n",
              "      <th>N_NOVA PALESTINA</th>\n",
              "      <th>N_PARQUE INDUSTRIAL</th>\n",
              "      <th>N_PARQUE MOSCOSO</th>\n",
              "      <th>N_PIEDADE</th>\n",
              "      <th>N_PONTAL DE CAMBURI</th>\n",
              "      <th>N_PRAIA DO CANTO</th>\n",
              "      <th>N_PRAIA DO SUÁ</th>\n",
              "      <th>N_REDENÇÃO</th>\n",
              "      <th>N_REPÚBLICA</th>\n",
              "      <th>N_RESISTÊNCIA</th>\n",
              "      <th>N_ROMÃO</th>\n",
              "      <th>N_SANTA CECÍLIA</th>\n",
              "      <th>N_SANTA CLARA</th>\n",
              "      <th>N_SANTA HELENA</th>\n",
              "      <th>N_SANTA LUÍZA</th>\n",
              "      <th>N_SANTA LÚCIA</th>\n",
              "      <th>N_SANTA MARTHA</th>\n",
              "      <th>N_SANTA TEREZA</th>\n",
              "      <th>N_SANTO ANDRÉ</th>\n",
              "      <th>N_SANTO ANTÔNIO</th>\n",
              "      <th>N_SANTOS DUMONT</th>\n",
              "      <th>N_SANTOS REIS</th>\n",
              "      <th>N_SEGURANÇA DO LAR</th>\n",
              "      <th>N_SOLON BORGES</th>\n",
              "      <th>N_SÃO BENEDITO</th>\n",
              "      <th>N_SÃO CRISTÓVÃO</th>\n",
              "      <th>N_SÃO JOSÉ</th>\n",
              "      <th>N_SÃO PEDRO</th>\n",
              "      <th>N_TABUAZEIRO</th>\n",
              "      <th>N_UNIVERSITÁRIO</th>\n",
              "      <th>N_VILA RUBIM</th>\n",
              "    </tr>\n",
              "  </thead>\n",
              "  <tbody>\n",
              "    <tr>\n",
              "      <th>0</th>\n",
              "      <td>0</td>\n",
              "      <td>62</td>\n",
              "      <td>0</td>\n",
              "      <td>1</td>\n",
              "      <td>0</td>\n",
              "      <td>0</td>\n",
              "      <td>0</td>\n",
              "      <td>0</td>\n",
              "      <td>0</td>\n",
              "      <td>29</td>\n",
              "      <td>4</td>\n",
              "      <td>0</td>\n",
              "      <td>0</td>\n",
              "      <td>0</td>\n",
              "      <td>0</td>\n",
              "      <td>0</td>\n",
              "      <td>0</td>\n",
              "      <td>0</td>\n",
              "      <td>0</td>\n",
              "      <td>0</td>\n",
              "      <td>0</td>\n",
              "      <td>0</td>\n",
              "      <td>0</td>\n",
              "      <td>0</td>\n",
              "      <td>0</td>\n",
              "      <td>0</td>\n",
              "      <td>0</td>\n",
              "      <td>0</td>\n",
              "      <td>0</td>\n",
              "      <td>0</td>\n",
              "      <td>0</td>\n",
              "      <td>0</td>\n",
              "      <td>0</td>\n",
              "      <td>0</td>\n",
              "      <td>0</td>\n",
              "      <td>0</td>\n",
              "      <td>0</td>\n",
              "      <td>0</td>\n",
              "      <td>0</td>\n",
              "      <td>0</td>\n",
              "      <td>0</td>\n",
              "      <td>0</td>\n",
              "      <td>0</td>\n",
              "      <td>0</td>\n",
              "      <td>0</td>\n",
              "      <td>0</td>\n",
              "      <td>0</td>\n",
              "      <td>0</td>\n",
              "      <td>0</td>\n",
              "      <td>0</td>\n",
              "      <td>0</td>\n",
              "      <td>1</td>\n",
              "      <td>0</td>\n",
              "      <td>0</td>\n",
              "      <td>0</td>\n",
              "      <td>0</td>\n",
              "      <td>0</td>\n",
              "      <td>0</td>\n",
              "      <td>0</td>\n",
              "      <td>0</td>\n",
              "      <td>0</td>\n",
              "      <td>0</td>\n",
              "      <td>0</td>\n",
              "      <td>0</td>\n",
              "      <td>0</td>\n",
              "      <td>0</td>\n",
              "      <td>0</td>\n",
              "      <td>0</td>\n",
              "      <td>0</td>\n",
              "      <td>0</td>\n",
              "      <td>0</td>\n",
              "      <td>0</td>\n",
              "      <td>0</td>\n",
              "      <td>0</td>\n",
              "      <td>0</td>\n",
              "      <td>0</td>\n",
              "      <td>0</td>\n",
              "      <td>0</td>\n",
              "      <td>0</td>\n",
              "      <td>0</td>\n",
              "      <td>0</td>\n",
              "      <td>0</td>\n",
              "      <td>0</td>\n",
              "      <td>0</td>\n",
              "      <td>0</td>\n",
              "      <td>0</td>\n",
              "      <td>0</td>\n",
              "      <td>0</td>\n",
              "      <td>0</td>\n",
              "      <td>0</td>\n",
              "      <td>0</td>\n",
              "      <td>0</td>\n",
              "      <td>0</td>\n",
              "    </tr>\n",
              "    <tr>\n",
              "      <th>1</th>\n",
              "      <td>1</td>\n",
              "      <td>56</td>\n",
              "      <td>0</td>\n",
              "      <td>0</td>\n",
              "      <td>0</td>\n",
              "      <td>0</td>\n",
              "      <td>0</td>\n",
              "      <td>0</td>\n",
              "      <td>0</td>\n",
              "      <td>29</td>\n",
              "      <td>4</td>\n",
              "      <td>0</td>\n",
              "      <td>0</td>\n",
              "      <td>0</td>\n",
              "      <td>0</td>\n",
              "      <td>0</td>\n",
              "      <td>0</td>\n",
              "      <td>0</td>\n",
              "      <td>0</td>\n",
              "      <td>0</td>\n",
              "      <td>0</td>\n",
              "      <td>0</td>\n",
              "      <td>0</td>\n",
              "      <td>0</td>\n",
              "      <td>0</td>\n",
              "      <td>0</td>\n",
              "      <td>0</td>\n",
              "      <td>0</td>\n",
              "      <td>0</td>\n",
              "      <td>0</td>\n",
              "      <td>0</td>\n",
              "      <td>0</td>\n",
              "      <td>0</td>\n",
              "      <td>0</td>\n",
              "      <td>0</td>\n",
              "      <td>0</td>\n",
              "      <td>0</td>\n",
              "      <td>0</td>\n",
              "      <td>0</td>\n",
              "      <td>0</td>\n",
              "      <td>0</td>\n",
              "      <td>0</td>\n",
              "      <td>0</td>\n",
              "      <td>0</td>\n",
              "      <td>0</td>\n",
              "      <td>0</td>\n",
              "      <td>0</td>\n",
              "      <td>0</td>\n",
              "      <td>0</td>\n",
              "      <td>0</td>\n",
              "      <td>0</td>\n",
              "      <td>1</td>\n",
              "      <td>0</td>\n",
              "      <td>0</td>\n",
              "      <td>0</td>\n",
              "      <td>0</td>\n",
              "      <td>0</td>\n",
              "      <td>0</td>\n",
              "      <td>0</td>\n",
              "      <td>0</td>\n",
              "      <td>0</td>\n",
              "      <td>0</td>\n",
              "      <td>0</td>\n",
              "      <td>0</td>\n",
              "      <td>0</td>\n",
              "      <td>0</td>\n",
              "      <td>0</td>\n",
              "      <td>0</td>\n",
              "      <td>0</td>\n",
              "      <td>0</td>\n",
              "      <td>0</td>\n",
              "      <td>0</td>\n",
              "      <td>0</td>\n",
              "      <td>0</td>\n",
              "      <td>0</td>\n",
              "      <td>0</td>\n",
              "      <td>0</td>\n",
              "      <td>0</td>\n",
              "      <td>0</td>\n",
              "      <td>0</td>\n",
              "      <td>0</td>\n",
              "      <td>0</td>\n",
              "      <td>0</td>\n",
              "      <td>0</td>\n",
              "      <td>0</td>\n",
              "      <td>0</td>\n",
              "      <td>0</td>\n",
              "      <td>0</td>\n",
              "      <td>0</td>\n",
              "      <td>0</td>\n",
              "      <td>0</td>\n",
              "      <td>0</td>\n",
              "      <td>0</td>\n",
              "    </tr>\n",
              "    <tr>\n",
              "      <th>2</th>\n",
              "      <td>0</td>\n",
              "      <td>62</td>\n",
              "      <td>0</td>\n",
              "      <td>0</td>\n",
              "      <td>0</td>\n",
              "      <td>0</td>\n",
              "      <td>0</td>\n",
              "      <td>0</td>\n",
              "      <td>0</td>\n",
              "      <td>29</td>\n",
              "      <td>4</td>\n",
              "      <td>0</td>\n",
              "      <td>0</td>\n",
              "      <td>0</td>\n",
              "      <td>0</td>\n",
              "      <td>0</td>\n",
              "      <td>0</td>\n",
              "      <td>0</td>\n",
              "      <td>0</td>\n",
              "      <td>0</td>\n",
              "      <td>0</td>\n",
              "      <td>0</td>\n",
              "      <td>0</td>\n",
              "      <td>0</td>\n",
              "      <td>0</td>\n",
              "      <td>0</td>\n",
              "      <td>0</td>\n",
              "      <td>0</td>\n",
              "      <td>0</td>\n",
              "      <td>0</td>\n",
              "      <td>0</td>\n",
              "      <td>0</td>\n",
              "      <td>0</td>\n",
              "      <td>0</td>\n",
              "      <td>0</td>\n",
              "      <td>0</td>\n",
              "      <td>0</td>\n",
              "      <td>0</td>\n",
              "      <td>0</td>\n",
              "      <td>0</td>\n",
              "      <td>0</td>\n",
              "      <td>0</td>\n",
              "      <td>0</td>\n",
              "      <td>0</td>\n",
              "      <td>0</td>\n",
              "      <td>0</td>\n",
              "      <td>0</td>\n",
              "      <td>0</td>\n",
              "      <td>0</td>\n",
              "      <td>0</td>\n",
              "      <td>0</td>\n",
              "      <td>0</td>\n",
              "      <td>0</td>\n",
              "      <td>0</td>\n",
              "      <td>0</td>\n",
              "      <td>0</td>\n",
              "      <td>0</td>\n",
              "      <td>1</td>\n",
              "      <td>0</td>\n",
              "      <td>0</td>\n",
              "      <td>0</td>\n",
              "      <td>0</td>\n",
              "      <td>0</td>\n",
              "      <td>0</td>\n",
              "      <td>0</td>\n",
              "      <td>0</td>\n",
              "      <td>0</td>\n",
              "      <td>0</td>\n",
              "      <td>0</td>\n",
              "      <td>0</td>\n",
              "      <td>0</td>\n",
              "      <td>0</td>\n",
              "      <td>0</td>\n",
              "      <td>0</td>\n",
              "      <td>0</td>\n",
              "      <td>0</td>\n",
              "      <td>0</td>\n",
              "      <td>0</td>\n",
              "      <td>0</td>\n",
              "      <td>0</td>\n",
              "      <td>0</td>\n",
              "      <td>0</td>\n",
              "      <td>0</td>\n",
              "      <td>0</td>\n",
              "      <td>0</td>\n",
              "      <td>0</td>\n",
              "      <td>0</td>\n",
              "      <td>0</td>\n",
              "      <td>0</td>\n",
              "      <td>0</td>\n",
              "      <td>0</td>\n",
              "      <td>0</td>\n",
              "      <td>0</td>\n",
              "    </tr>\n",
              "    <tr>\n",
              "      <th>3</th>\n",
              "      <td>0</td>\n",
              "      <td>8</td>\n",
              "      <td>0</td>\n",
              "      <td>0</td>\n",
              "      <td>0</td>\n",
              "      <td>0</td>\n",
              "      <td>0</td>\n",
              "      <td>0</td>\n",
              "      <td>0</td>\n",
              "      <td>29</td>\n",
              "      <td>4</td>\n",
              "      <td>0</td>\n",
              "      <td>0</td>\n",
              "      <td>0</td>\n",
              "      <td>0</td>\n",
              "      <td>0</td>\n",
              "      <td>0</td>\n",
              "      <td>0</td>\n",
              "      <td>0</td>\n",
              "      <td>0</td>\n",
              "      <td>0</td>\n",
              "      <td>0</td>\n",
              "      <td>0</td>\n",
              "      <td>0</td>\n",
              "      <td>0</td>\n",
              "      <td>0</td>\n",
              "      <td>0</td>\n",
              "      <td>0</td>\n",
              "      <td>0</td>\n",
              "      <td>0</td>\n",
              "      <td>0</td>\n",
              "      <td>0</td>\n",
              "      <td>0</td>\n",
              "      <td>0</td>\n",
              "      <td>0</td>\n",
              "      <td>0</td>\n",
              "      <td>0</td>\n",
              "      <td>0</td>\n",
              "      <td>0</td>\n",
              "      <td>0</td>\n",
              "      <td>0</td>\n",
              "      <td>0</td>\n",
              "      <td>0</td>\n",
              "      <td>0</td>\n",
              "      <td>0</td>\n",
              "      <td>0</td>\n",
              "      <td>0</td>\n",
              "      <td>0</td>\n",
              "      <td>0</td>\n",
              "      <td>0</td>\n",
              "      <td>0</td>\n",
              "      <td>0</td>\n",
              "      <td>0</td>\n",
              "      <td>0</td>\n",
              "      <td>0</td>\n",
              "      <td>0</td>\n",
              "      <td>0</td>\n",
              "      <td>0</td>\n",
              "      <td>0</td>\n",
              "      <td>0</td>\n",
              "      <td>0</td>\n",
              "      <td>0</td>\n",
              "      <td>0</td>\n",
              "      <td>0</td>\n",
              "      <td>0</td>\n",
              "      <td>0</td>\n",
              "      <td>1</td>\n",
              "      <td>0</td>\n",
              "      <td>0</td>\n",
              "      <td>0</td>\n",
              "      <td>0</td>\n",
              "      <td>0</td>\n",
              "      <td>0</td>\n",
              "      <td>0</td>\n",
              "      <td>0</td>\n",
              "      <td>0</td>\n",
              "      <td>0</td>\n",
              "      <td>0</td>\n",
              "      <td>0</td>\n",
              "      <td>0</td>\n",
              "      <td>0</td>\n",
              "      <td>0</td>\n",
              "      <td>0</td>\n",
              "      <td>0</td>\n",
              "      <td>0</td>\n",
              "      <td>0</td>\n",
              "      <td>0</td>\n",
              "      <td>0</td>\n",
              "      <td>0</td>\n",
              "      <td>0</td>\n",
              "      <td>0</td>\n",
              "      <td>0</td>\n",
              "      <td>0</td>\n",
              "    </tr>\n",
              "    <tr>\n",
              "      <th>4</th>\n",
              "      <td>0</td>\n",
              "      <td>56</td>\n",
              "      <td>0</td>\n",
              "      <td>1</td>\n",
              "      <td>1</td>\n",
              "      <td>0</td>\n",
              "      <td>0</td>\n",
              "      <td>0</td>\n",
              "      <td>0</td>\n",
              "      <td>29</td>\n",
              "      <td>4</td>\n",
              "      <td>0</td>\n",
              "      <td>0</td>\n",
              "      <td>0</td>\n",
              "      <td>0</td>\n",
              "      <td>0</td>\n",
              "      <td>0</td>\n",
              "      <td>0</td>\n",
              "      <td>0</td>\n",
              "      <td>0</td>\n",
              "      <td>0</td>\n",
              "      <td>0</td>\n",
              "      <td>0</td>\n",
              "      <td>0</td>\n",
              "      <td>0</td>\n",
              "      <td>0</td>\n",
              "      <td>0</td>\n",
              "      <td>0</td>\n",
              "      <td>0</td>\n",
              "      <td>0</td>\n",
              "      <td>0</td>\n",
              "      <td>0</td>\n",
              "      <td>0</td>\n",
              "      <td>0</td>\n",
              "      <td>0</td>\n",
              "      <td>0</td>\n",
              "      <td>0</td>\n",
              "      <td>0</td>\n",
              "      <td>0</td>\n",
              "      <td>0</td>\n",
              "      <td>0</td>\n",
              "      <td>0</td>\n",
              "      <td>0</td>\n",
              "      <td>0</td>\n",
              "      <td>0</td>\n",
              "      <td>0</td>\n",
              "      <td>0</td>\n",
              "      <td>0</td>\n",
              "      <td>0</td>\n",
              "      <td>0</td>\n",
              "      <td>0</td>\n",
              "      <td>1</td>\n",
              "      <td>0</td>\n",
              "      <td>0</td>\n",
              "      <td>0</td>\n",
              "      <td>0</td>\n",
              "      <td>0</td>\n",
              "      <td>0</td>\n",
              "      <td>0</td>\n",
              "      <td>0</td>\n",
              "      <td>0</td>\n",
              "      <td>0</td>\n",
              "      <td>0</td>\n",
              "      <td>0</td>\n",
              "      <td>0</td>\n",
              "      <td>0</td>\n",
              "      <td>0</td>\n",
              "      <td>0</td>\n",
              "      <td>0</td>\n",
              "      <td>0</td>\n",
              "      <td>0</td>\n",
              "      <td>0</td>\n",
              "      <td>0</td>\n",
              "      <td>0</td>\n",
              "      <td>0</td>\n",
              "      <td>0</td>\n",
              "      <td>0</td>\n",
              "      <td>0</td>\n",
              "      <td>0</td>\n",
              "      <td>0</td>\n",
              "      <td>0</td>\n",
              "      <td>0</td>\n",
              "      <td>0</td>\n",
              "      <td>0</td>\n",
              "      <td>0</td>\n",
              "      <td>0</td>\n",
              "      <td>0</td>\n",
              "      <td>0</td>\n",
              "      <td>0</td>\n",
              "      <td>0</td>\n",
              "      <td>0</td>\n",
              "      <td>0</td>\n",
              "      <td>0</td>\n",
              "    </tr>\n",
              "  </tbody>\n",
              "</table>\n",
              "</div>"
            ],
            "text/plain": [
              "   Gender  Age Scholarship Hipertension Diabetes Alcoholism Handcap  \\\n",
              "0       0   62           0            1        0          0       0   \n",
              "1       1   56           0            0        0          0       0   \n",
              "2       0   62           0            0        0          0       0   \n",
              "3       0    8           0            0        0          0       0   \n",
              "4       0   56           0            1        1          0       0   \n",
              "\n",
              "  SMS_received  WaitingTime  Day  Month  Class  N_AEROPORTO  N_ANDORINHAS  \\\n",
              "0            0            0   29      4      0            0             0   \n",
              "1            0            0   29      4      0            0             0   \n",
              "2            0            0   29      4      0            0             0   \n",
              "3            0            0   29      4      0            0             0   \n",
              "4            0            0   29      4      0            0             0   \n",
              "\n",
              "   N_ANTÔNIO HONÓRIO  N_ARIOVALDO FAVALESSA  N_BARRO VERMELHO  N_BELA VISTA  \\\n",
              "0                  0                      0                 0             0   \n",
              "1                  0                      0                 0             0   \n",
              "2                  0                      0                 0             0   \n",
              "3                  0                      0                 0             0   \n",
              "4                  0                      0                 0             0   \n",
              "\n",
              "   N_BENTO FERREIRA  N_BOA VISTA  N_BONFIM  N_CARATOÍRA  N_CENTRO  N_COMDUSA  \\\n",
              "0                 0            0         0            0         0          0   \n",
              "1                 0            0         0            0         0          0   \n",
              "2                 0            0         0            0         0          0   \n",
              "3                 0            0         0            0         0          0   \n",
              "4                 0            0         0            0         0          0   \n",
              "\n",
              "   N_CONQUISTA  N_CONSOLAÇÃO  N_CRUZAMENTO  N_DA PENHA  N_DE LOURDES  \\\n",
              "0            0             0             0           0             0   \n",
              "1            0             0             0           0             0   \n",
              "2            0             0             0           0             0   \n",
              "3            0             0             0           0             0   \n",
              "4            0             0             0           0             0   \n",
              "\n",
              "   N_DO CABRAL  N_DO MOSCOSO  N_DO QUADRO  N_ENSEADA DO SUÁ  N_ESTRELINHA  \\\n",
              "0            0             0            0                 0             0   \n",
              "1            0             0            0                 0             0   \n",
              "2            0             0            0                 0             0   \n",
              "3            0             0            0                 0             0   \n",
              "4            0             0            0                 0             0   \n",
              "\n",
              "   N_FONTE GRANDE  N_FORTE SÃO JOÃO  N_FRADINHOS  N_GOIABEIRAS  \\\n",
              "0               0                 0            0             0   \n",
              "1               0                 0            0             0   \n",
              "2               0                 0            0             0   \n",
              "3               0                 0            0             0   \n",
              "4               0                 0            0             0   \n",
              "\n",
              "   N_GRANDE VITÓRIA  N_GURIGICA  N_HORTO  N_ILHA DAS CAIEIRAS  \\\n",
              "0                 0           0        0                    0   \n",
              "1                 0           0        0                    0   \n",
              "2                 0           0        0                    0   \n",
              "3                 0           0        0                    0   \n",
              "4                 0           0        0                    0   \n",
              "\n",
              "   N_ILHA DE SANTA MARIA  N_ILHA DO BOI  N_ILHA DO FRADE  N_ILHA DO PRÍNCIPE  \\\n",
              "0                      0              0                0                   0   \n",
              "1                      0              0                0                   0   \n",
              "2                      0              0                0                   0   \n",
              "3                      0              0                0                   0   \n",
              "4                      0              0                0                   0   \n",
              "\n",
              "   N_ILHAS OCEÂNICAS DE TRINDADE  N_INHANGUETÁ  N_ITARARÉ  N_JABOUR  \\\n",
              "0                              0             0          0         0   \n",
              "1                              0             0          0         0   \n",
              "2                              0             0          0         0   \n",
              "3                              0             0          0         0   \n",
              "4                              0             0          0         0   \n",
              "\n",
              "   N_JARDIM CAMBURI  N_JARDIM DA PENHA  N_JESUS DE NAZARETH  N_JOANA D´ARC  \\\n",
              "0                 0                  1                    0              0   \n",
              "1                 0                  1                    0              0   \n",
              "2                 0                  0                    0              0   \n",
              "3                 0                  0                    0              0   \n",
              "4                 0                  1                    0              0   \n",
              "\n",
              "   N_JUCUTUQUARA  N_MARIA ORTIZ  N_MARUÍPE  N_MATA DA PRAIA  N_MONTE BELO  \\\n",
              "0              0              0          0                0             0   \n",
              "1              0              0          0                0             0   \n",
              "2              0              0          0                1             0   \n",
              "3              0              0          0                0             0   \n",
              "4              0              0          0                0             0   \n",
              "\n",
              "   N_MORADA DE CAMBURI  N_MÁRIO CYPRESTE  N_NAZARETH  N_NOVA PALESTINA  \\\n",
              "0                    0                 0           0                 0   \n",
              "1                    0                 0           0                 0   \n",
              "2                    0                 0           0                 0   \n",
              "3                    0                 0           0                 0   \n",
              "4                    0                 0           0                 0   \n",
              "\n",
              "   N_PARQUE INDUSTRIAL  N_PARQUE MOSCOSO  N_PIEDADE  N_PONTAL DE CAMBURI  \\\n",
              "0                    0                 0          0                    0   \n",
              "1                    0                 0          0                    0   \n",
              "2                    0                 0          0                    0   \n",
              "3                    0                 0          0                    1   \n",
              "4                    0                 0          0                    0   \n",
              "\n",
              "   N_PRAIA DO CANTO  N_PRAIA DO SUÁ  N_REDENÇÃO  N_REPÚBLICA  N_RESISTÊNCIA  \\\n",
              "0                 0               0           0            0              0   \n",
              "1                 0               0           0            0              0   \n",
              "2                 0               0           0            0              0   \n",
              "3                 0               0           0            0              0   \n",
              "4                 0               0           0            0              0   \n",
              "\n",
              "   N_ROMÃO  N_SANTA CECÍLIA  N_SANTA CLARA  N_SANTA HELENA  N_SANTA LUÍZA  \\\n",
              "0        0                0              0               0              0   \n",
              "1        0                0              0               0              0   \n",
              "2        0                0              0               0              0   \n",
              "3        0                0              0               0              0   \n",
              "4        0                0              0               0              0   \n",
              "\n",
              "   N_SANTA LÚCIA  N_SANTA MARTHA  N_SANTA TEREZA  N_SANTO ANDRÉ  \\\n",
              "0              0               0               0              0   \n",
              "1              0               0               0              0   \n",
              "2              0               0               0              0   \n",
              "3              0               0               0              0   \n",
              "4              0               0               0              0   \n",
              "\n",
              "   N_SANTO ANTÔNIO  N_SANTOS DUMONT  N_SANTOS REIS  N_SEGURANÇA DO LAR  \\\n",
              "0                0                0              0                   0   \n",
              "1                0                0              0                   0   \n",
              "2                0                0              0                   0   \n",
              "3                0                0              0                   0   \n",
              "4                0                0              0                   0   \n",
              "\n",
              "   N_SOLON BORGES  N_SÃO BENEDITO  N_SÃO CRISTÓVÃO  N_SÃO JOSÉ  N_SÃO PEDRO  \\\n",
              "0               0               0                0           0            0   \n",
              "1               0               0                0           0            0   \n",
              "2               0               0                0           0            0   \n",
              "3               0               0                0           0            0   \n",
              "4               0               0                0           0            0   \n",
              "\n",
              "   N_TABUAZEIRO  N_UNIVERSITÁRIO  N_VILA RUBIM  \n",
              "0             0                0             0  \n",
              "1             0                0             0  \n",
              "2             0                0             0  \n",
              "3             0                0             0  \n",
              "4             0                0             0  "
            ]
          },
          "metadata": {
            "tags": []
          },
          "execution_count": 298
        }
      ]
    },
    {
      "cell_type": "code",
      "metadata": {
        "id": "KQVpFodhaeeI",
        "colab_type": "code",
        "colab": {}
      },
      "source": [
        "# Dividir o dataset em X e y.\n",
        "# X variáveis preditoras\n",
        "# y variável target\n",
        "\n",
        "X = dataset.drop('Class', axis=1)\n",
        "y = df_o['Class']       "
      ],
      "execution_count": 0,
      "outputs": []
    },
    {
      "cell_type": "code",
      "metadata": {
        "id": "EsyAiaYx0NFf",
        "colab_type": "code",
        "outputId": "23fe5e14-b516-4ff2-bf41-0b823b0c3839",
        "colab": {
          "base_uri": "https://localhost:8080/",
          "height": 33
        }
      },
      "source": [
        "X.shape"
      ],
      "execution_count": 0,
      "outputs": [
        {
          "output_type": "execute_result",
          "data": {
            "text/plain": [
              "(107853, 92)"
            ]
          },
          "metadata": {
            "tags": []
          },
          "execution_count": 300
        }
      ]
    },
    {
      "cell_type": "code",
      "metadata": {
        "id": "MAj6TVV9xKWh",
        "colab_type": "code",
        "colab": {}
      },
      "source": [
        "# Normalizar os dados\n",
        " X = StandardScaler().fit_transform(X)"
      ],
      "execution_count": 0,
      "outputs": []
    },
    {
      "cell_type": "code",
      "metadata": {
        "id": "MT3zC3OM28uQ",
        "colab_type": "code",
        "colab": {}
      },
      "source": [
        "# Sample Oversampling - a classe menor recebe novos dados sinteticos para alcançar a classe superior\n",
        "smote = SMOTE(ratio='minority')\n",
        "X_sm, y_sm = smote.fit_sample(X, y)"
      ],
      "execution_count": 0,
      "outputs": []
    },
    {
      "cell_type": "code",
      "metadata": {
        "id": "wn3c4Cz-zwK2",
        "colab_type": "code",
        "outputId": "8b0a9e2f-a059-486d-8317-7707de26c126",
        "colab": {
          "base_uri": "https://localhost:8080/",
          "height": 33
        }
      },
      "source": [
        "y_sm.shape"
      ],
      "execution_count": 0,
      "outputs": [
        {
          "output_type": "execute_result",
          "data": {
            "text/plain": [
              "(172642,)"
            ]
          },
          "metadata": {
            "tags": []
          },
          "execution_count": 303
        }
      ]
    },
    {
      "cell_type": "code",
      "metadata": {
        "id": "rQLy6Wm5bGqk",
        "colab_type": "code",
        "outputId": "1e1a2da3-926b-4262-f070-056db0249516",
        "colab": {
          "base_uri": "https://localhost:8080/",
          "height": 308
        }
      },
      "source": [
        "# Dataset após Smote\n",
        "sns.countplot(y_sm, palette=\"pastel\")\n",
        "plt.box = False\n",
        "plt.xlabel('Compareceu na consulta\\n 0: Não  1: Sim', fontsize = 11)\n",
        "plt.ylabel(\"Total pessoas\", fontsize = 11)\n",
        "plt.title(\"Status do comparecimento na consulta\")\n",
        "plt.show()"
      ],
      "execution_count": 0,
      "outputs": [
        {
          "output_type": "display_data",
          "data": {
            "image/png": "[encoded data removed]",
            "text/plain": [
              "<Figure size 432x288 with 1 Axes>"
            ]
          },
          "metadata": {
            "tags": []
          }
        }
      ]
    },
    {
      "cell_type": "markdown",
      "metadata": {
        "id": "1MhjRhEO521G",
        "colab_type": "text"
      },
      "source": [
        "### Modelos\n"
      ]
    },
    {
      "cell_type": "code",
      "metadata": {
        "id": "Dfq25oI_6NX9",
        "colab_type": "code",
        "colab": {}
      },
      "source": [
        "# Divisão dos dados em treino e teste\n",
        "X_treino, X_teste, y_treino, y_teste = train_test_split(X_sm, y_sm, test_size = 0.25, random_state = 42)"
      ],
      "execution_count": 0,
      "outputs": []
    },
    {
      "cell_type": "code",
      "metadata": {
        "id": "L0pLqqhuMPwS",
        "colab_type": "code",
        "outputId": "b559678c-3260-4df9-edf9-008e777dc42b",
        "colab": {
          "base_uri": "https://localhost:8080/",
          "height": 33
        }
      },
      "source": [
        "# Shape dos dados de treinamento\n",
        "# X_treino\n",
        "\n",
        "X_treino.shape"
      ],
      "execution_count": 0,
      "outputs": [
        {
          "output_type": "execute_result",
          "data": {
            "text/plain": [
              "(129481, 92)"
            ]
          },
          "metadata": {
            "tags": []
          },
          "execution_count": 306
        }
      ]
    },
    {
      "cell_type": "code",
      "metadata": {
        "id": "u7_yB_MZa2zC",
        "colab_type": "code",
        "colab": {}
      },
      "source": [
        "def rfc_model(X_treino,y_treino, n_estimators =500, cv = 10):\n",
        "  rfc = RandomForestClassifier(n_estimators= n_estimators, random_state = 42, n_jobs = -1, criterion= 'entropy')\n",
        "  cv_scores = cross_val_score(rfc, X_treino, y_treino, scoring = 'roc_auc', cv = cv, n_jobs = -1)\n",
        "  print(\"Média dos\", cv,\"testes:\", np.round(cv_scores.mean(),4))"
      ],
      "execution_count": 0,
      "outputs": []
    },
    {
      "cell_type": "code",
      "metadata": {
        "id": "AF5cej3yffry",
        "colab_type": "code",
        "colab": {}
      },
      "source": [
        "def gbc_model (X_treino, y_treino, n_estimators = 500, learning_rate = 0.1, cv = 10):\n",
        "  gbc = GradientBoostingClassifier(n_estimators = n_estimators, learning_rate = learning_rate, random_state = 42 )\n",
        "  cv_scores = cross_val_score(gbc, X_treino, y_treino, scoring= \"roc_auc\", cv = cv, n_jobs = -1)\n",
        "  print(\"Média dos\", cv, \"teste:\", np.round(cv_scores.mean(),4)) "
      ],
      "execution_count": 0,
      "outputs": []
    },
    {
      "cell_type": "markdown",
      "metadata": {
        "id": "zGuzWlW7L1Ux",
        "colab_type": "text"
      },
      "source": [
        "## Valor AUC calculado nos modelos\n",
        "\n",
        "---\n",
        "\n"
      ]
    },
    {
      "cell_type": "code",
      "metadata": {
        "id": "iEixhgPkb6m3",
        "colab_type": "code",
        "outputId": "4ddf249a-7b68-44e5-8a92-937f55ef6e14",
        "colab": {
          "base_uri": "https://localhost:8080/",
          "height": 33
        }
      },
      "source": [
        "rfc_model(X_treino, y_treino)"
      ],
      "execution_count": 0,
      "outputs": [
        {
          "output_type": "stream",
          "text": [
            "Média dos 10 testes: 0.929\n"
          ],
          "name": "stdout"
        }
      ]
    },
    {
      "cell_type": "code",
      "metadata": {
        "id": "JlsfTwPthLj3",
        "colab_type": "code",
        "outputId": "c881528c-10ff-4b61-fd8f-9b3dea9f75d0",
        "colab": {
          "base_uri": "https://localhost:8080/",
          "height": 33
        }
      },
      "source": [
        "gbc_model(X_treino, y_treino)"
      ],
      "execution_count": 0,
      "outputs": [
        {
          "output_type": "stream",
          "text": [
            "Média dos 10 teste: 0.919\n"
          ],
          "name": "stdout"
        }
      ]
    },
    {
      "cell_type": "markdown",
      "metadata": {
        "id": "zwJqO9gkxT8l",
        "colab_type": "text"
      },
      "source": [
        "### Curva AUC do melhor modelo"
      ]
    },
    {
      "cell_type": "code",
      "metadata": {
        "id": "2huAvuPyxTPW",
        "colab_type": "code",
        "colab": {}
      },
      "source": [
        "rfc = RandomForestClassifier(n_estimators= 500, random_state = 42, n_jobs = -1, criterion= 'entropy')\n",
        "rfc.fit(X_treino, y_treino)\n",
        "prediction = rfc.predict_proba(X_teste)\n",
        "proba_predict = prediction[:,1] # Coluna de indice 1, corresponde a classe positiva onde a pessoa Não-Compareceu a consulta"
      ],
      "execution_count": 0,
      "outputs": []
    },
    {
      "cell_type": "code",
      "metadata": {
        "id": "GV3yZjskyekX",
        "colab_type": "code",
        "outputId": "2c867738-0a81-48c4-f3be-139bfdf28f36",
        "colab": {
          "base_uri": "https://localhost:8080/",
          "height": 301
        }
      },
      "source": [
        "fpr, tpr, threshold = metrics.roc_curve(y_teste, proba_predict)\n",
        "roc_auc = metrics.auc(fpr, tpr)\n",
        "\n",
        "plt.title('Receiver Operating Characteristic')\n",
        "plt.plot(fpr, tpr, 'b', label = 'AUC = %0.2f' % roc_auc)\n",
        "plt.legend(loc = 'lower right')\n",
        "plt.plot([0, 1], [0, 1],'r--')\n",
        "plt.xlim([0, 1])\n",
        "plt.ylim([0, 1])\n",
        "plt.ylabel('True Positive Rate')\n",
        "plt.xlabel('False Positive Rate')\n",
        "plt.show()"
      ],
      "execution_count": 0,
      "outputs": [
        {
          "output_type": "display_data",
          "data": {
            "image/png": "[encoded data removed]",
            "text/plain": [
              "<Figure size 432x288 with 1 Axes>"
            ]
          },
          "metadata": {
            "tags": []
          }
        }
      ]
    },
    {
      "cell_type": "markdown",
      "metadata": {
        "id": "H4SyLhTisyCw",
        "colab_type": "text"
      },
      "source": [
        "### The Matthews correlation coefficient is used in machine learning as a measure of the quality of binary and multiclass classifications. It takes into account true and false positives and negatives and is generally regarded as a balanced measure which can be used even if the classes are of very different sizes. The MCC is in essence a correlation coefficient value between -1 and +1. A coefficient of +1 represents a perfect prediction, 0 an average random prediction and -1 an inverse prediction. The statistic is also known as the phi coefficient. [source: Wikipedia]"
      ]
    },
    {
      "cell_type": "code",
      "metadata": {
        "id": "MGDlDsWdskMz",
        "colab_type": "code",
        "outputId": "6a22e850-5c02-4201-b06a-a5a05cd45b0c",
        "colab": {
          "base_uri": "https://localhost:8080/",
          "height": 33
        }
      },
      "source": [
        "prediction = rfc.predict(X_teste)\n",
        "matthews_corrcoef(y_teste,prediction)"
      ],
      "execution_count": 0,
      "outputs": [
        {
          "output_type": "execute_result",
          "data": {
            "text/plain": [
              "0.7198847638887395"
            ]
          },
          "metadata": {
            "tags": []
          },
          "execution_count": 313
        }
      ]
    },
    {
      "cell_type": "markdown",
      "metadata": {
        "id": "p_OC8FNDkVyR",
        "colab_type": "text"
      },
      "source": [
        "### Selecionando as variáveis mais importantes\n"
      ]
    },
    {
      "cell_type": "code",
      "metadata": {
        "id": "3LfOYkQtkVKP",
        "colab_type": "code",
        "outputId": "6fb0b9ad-ef1b-4d4b-916a-f7f7d9523487",
        "colab": {
          "base_uri": "https://localhost:8080/",
          "height": 150
        }
      },
      "source": [
        "# Modelo com melhor score AUC\n",
        "# Recriando o modelo pois estava interno a função rfc_model\n",
        "# Criando o modelo com nome rfc apenas\n",
        "\n",
        "rfc = RandomForestClassifier(n_estimators= 500, random_state = 42, n_jobs = -1)\n",
        "rfc.fit(X_treino, y_treino)"
      ],
      "execution_count": 0,
      "outputs": [
        {
          "output_type": "execute_result",
          "data": {
            "text/plain": [
              "RandomForestClassifier(bootstrap=True, ccp_alpha=0.0, class_weight=None,\n",
              "                       criterion='gini', max_depth=None, max_features='auto',\n",
              "                       max_leaf_nodes=None, max_samples=None,\n",
              "                       min_impurity_decrease=0.0, min_impurity_split=None,\n",
              "                       min_samples_leaf=1, min_samples_split=2,\n",
              "                       min_weight_fraction_leaf=0.0, n_estimators=500,\n",
              "                       n_jobs=-1, oob_score=False, random_state=42, verbose=0,\n",
              "                       warm_start=False)"
            ]
          },
          "metadata": {
            "tags": []
          },
          "execution_count": 314
        }
      ]
    },
    {
      "cell_type": "code",
      "metadata": {
        "id": "BAnQdY8qE8PQ",
        "colab_type": "code",
        "colab": {}
      },
      "source": [
        "importances = rfc.feature_importances_\n",
        "variables = np.array(dataset.columns)\n",
        "indices = np.argsort(importances)[::-1]\n",
        "importances = np.round(importances[indices],4)\n",
        "variables = variables[indices]"
      ],
      "execution_count": 0,
      "outputs": []
    },
    {
      "cell_type": "code",
      "metadata": {
        "id": "dDWFf4gUPaKI",
        "colab_type": "code",
        "outputId": "8c98915b-2a01-4c6a-bb77-af92fbe3aa30",
        "colab": {
          "base_uri": "https://localhost:8080/",
          "height": 466
        }
      },
      "source": [
        "variables"
      ],
      "execution_count": 0,
      "outputs": [
        {
          "output_type": "execute_result",
          "data": {
            "text/plain": [
              "array(['WaitingTime', 'Age', 'Day', 'SMS_received', 'Gender', 'Month',\n",
              "       'Hipertension', 'Scholarship', 'Diabetes', 'N_CARATOÍRA',\n",
              "       'N_REPÚBLICA', 'N_JABOUR', 'Handcap', 'N_SÃO JOSÉ', 'N_SÃO PEDRO',\n",
              "       'N_JUCUTUQUARA', 'Alcoholism', 'N_BOA VISTA', 'N_SANTO ANDRÉ',\n",
              "       'N_SANTA TEREZA', 'N_RESISTÊNCIA', 'N_SÃO CRISTÓVÃO',\n",
              "       'N_CRUZAMENTO', 'N_AEROPORTO', 'N_BONFIM', 'N_BARRO VERMELHO',\n",
              "       'N_JARDIM CAMBURI', 'N_NAZARETH', 'N_INHANGUETÁ', 'N_SANTA LÚCIA',\n",
              "       'N_FONTE GRANDE', 'N_SÃO BENEDITO', 'N_MARIA ORTIZ',\n",
              "       'N_GRANDE VITÓRIA', 'N_ILHA DO FRADE', 'N_ITARARÉ',\n",
              "       'N_JARDIM DA PENHA', 'N_SANTO ANTÔNIO', 'N_PRAIA DO SUÁ',\n",
              "       'N_HORTO', 'N_ILHA DAS CAIEIRAS', 'N_PRAIA DO CANTO',\n",
              "       'N_CONSOLAÇÃO', 'N_JESUS DE NAZARETH', 'N_SANTA MARTHA',\n",
              "       'N_SOLON BORGES', 'N_CONQUISTA', 'N_GOIABEIRAS',\n",
              "       'N_ILHAS OCEÂNICAS DE TRINDADE', 'N_PARQUE INDUSTRIAL',\n",
              "       'N_BELA VISTA', 'N_FRADINHOS', 'N_PONTAL DE CAMBURI', 'N_REDENÇÃO',\n",
              "       'N_DO MOSCOSO', 'N_UNIVERSITÁRIO', 'N_COMDUSA', 'N_ENSEADA DO SUÁ',\n",
              "       'N_ESTRELINHA', 'N_JOANA D´ARC', 'N_SANTOS DUMONT',\n",
              "       'N_MATA DA PRAIA', 'N_MARUÍPE', 'N_SANTA CECÍLIA', 'N_SANTA LUÍZA',\n",
              "       'N_DE LOURDES', 'N_PARQUE MOSCOSO', 'N_ROMÃO',\n",
              "       'N_ARIOVALDO FAVALESSA', 'N_SANTA HELENA', 'N_DO CABRAL',\n",
              "       'N_SEGURANÇA DO LAR', 'N_BENTO FERREIRA', 'N_CENTRO',\n",
              "       'N_MORADA DE CAMBURI', 'N_DA PENHA', 'N_ANTÔNIO HONÓRIO',\n",
              "       'N_ANDORINHAS', 'N_FORTE SÃO JOÃO', 'N_DO QUADRO', 'N_SANTA CLARA',\n",
              "       'N_SANTOS REIS', 'N_GURIGICA', 'N_TABUAZEIRO', 'N_MÁRIO CYPRESTE',\n",
              "       'N_MONTE BELO', 'N_PIEDADE', 'N_ILHA DE SANTA MARIA',\n",
              "       'N_ILHA DO BOI', 'N_ILHA DO PRÍNCIPE', 'Class', 'N_NOVA PALESTINA'],\n",
              "      dtype=object)"
            ]
          },
          "metadata": {
            "tags": []
          },
          "execution_count": 316
        }
      ]
    },
    {
      "cell_type": "code",
      "metadata": {
        "id": "FjV5aEd2Qa8K",
        "colab_type": "code",
        "outputId": "56faf7bc-1934-45da-b870-71f89610c928",
        "colab": {
          "base_uri": "https://localhost:8080/",
          "height": 33
        }
      },
      "source": [
        "variables[2],importances[2]\n",
        "            "
      ],
      "execution_count": 0,
      "outputs": [
        {
          "output_type": "execute_result",
          "data": {
            "text/plain": [
              "('Day', 0.1851)"
            ]
          },
          "metadata": {
            "tags": []
          },
          "execution_count": 317
        }
      ]
    },
    {
      "cell_type": "code",
      "metadata": {
        "id": "poe-Yx7uHYqF",
        "colab_type": "code",
        "colab": {}
      },
      "source": [
        "def sum_and_plot_importances(variables, importances):\n",
        "    sum_importances = pd.DataFrame()\n",
        "    for i in range(importances.size):\n",
        "        sum_importance = importances[:(i+1)].sum()\n",
        "        this_variable = pd.Series([variables[i], sum_importance])\n",
        "        sum_importances = sum_importances.append(this_variable, ignore_index = True)\n",
        "    plt.scatter(sum_importances.index, sum_importances.iloc[:,1])\n",
        "    return sum_importances  "
      ],
      "execution_count": 0,
      "outputs": []
    },
    {
      "cell_type": "markdown",
      "metadata": {
        "id": "j-fNqdVFCfB3",
        "colab_type": "text"
      },
      "source": [
        "### Através desse gráfico é possível ver que rapidamente atingi-se mais de 0.9 na importãncia acumuluada das variáveis. Assim usando apenas a primeiras 10 variáveis já se atinge um valor interessante de performance.\n"
      ]
    },
    {
      "cell_type": "code",
      "metadata": {
        "id": "I-ffyriYIk3r",
        "colab_type": "code",
        "outputId": "4e32e7a7-b3a4-4cae-e082-b37542554e82",
        "colab": {
          "base_uri": "https://localhost:8080/",
          "height": 267
        }
      },
      "source": [
        "# As primeiras 10 variáveis já atingem um valor acumulado próximo de 1.\n",
        "sum_importances = sum_and_plot_importances(variables, importances)\n",
        "\n"
      ],
      "execution_count": 0,
      "outputs": [
        {
          "output_type": "display_data",
          "data": {
            "image/png": "[encoded data removed]",
            "text/plain": [
              "<Figure size 432x288 with 1 Axes>"
            ]
          },
          "metadata": {
            "tags": []
          }
        }
      ]
    },
    {
      "cell_type": "markdown",
      "metadata": {
        "id": "qam5yUxrWMQo",
        "colab_type": "text"
      },
      "source": [
        "### Selecionando apenas as 9 primeiras variáveis no dataset"
      ]
    },
    {
      "cell_type": "code",
      "metadata": {
        "id": "PkUA5NlI9KfI",
        "colab_type": "code",
        "colab": {}
      },
      "source": [
        "# Novo dataset com apenas com as principais features\n",
        "dataset2 = pd.DataFrame()\n",
        "dataset2[['Class','Gender', 'Age', 'Scholarship', 'Hipertension', 'Handcap', 'SMS_received', 'WaitingTime',\n",
        "       'Day', 'Diabetes']] = dataset[['Class','Gender', 'Age', 'Scholarship', 'Hipertension', 'Handcap', 'SMS_received', 'WaitingTime',\n",
        "       'Day', 'Diabetes']]"
      ],
      "execution_count": 0,
      "outputs": []
    },
    {
      "cell_type": "code",
      "metadata": {
        "id": "Z3hcrx9Rbtvl",
        "colab_type": "code",
        "outputId": "84fa9873-c63c-4ea6-b3b6-6e202086cfdc",
        "colab": {
          "base_uri": "https://localhost:8080/",
          "height": 33
        }
      },
      "source": [
        "dataset2.shape"
      ],
      "execution_count": 0,
      "outputs": [
        {
          "output_type": "execute_result",
          "data": {
            "text/plain": [
              "(107853, 10)"
            ]
          },
          "metadata": {
            "tags": []
          },
          "execution_count": 321
        }
      ]
    },
    {
      "cell_type": "code",
      "metadata": {
        "id": "MbTJswCz-kIC",
        "colab_type": "code",
        "colab": {}
      },
      "source": [
        "# Dividir o dataset em X e y.\n",
        "# X variáveis preditoras\n",
        "# y variável target\n",
        "\n",
        "X = dataset2.drop('Class', axis=1)\n",
        "y = df_o['Class']"
      ],
      "execution_count": 0,
      "outputs": []
    },
    {
      "cell_type": "code",
      "metadata": {
        "id": "hJeY4Vtt-oLG",
        "colab_type": "code",
        "colab": {}
      },
      "source": [
        "# Normalizar os dados\n",
        " X = StandardScaler().fit_transform(X)"
      ],
      "execution_count": 0,
      "outputs": []
    },
    {
      "cell_type": "code",
      "metadata": {
        "id": "5kjiVb3Z-3bd",
        "colab_type": "code",
        "colab": {}
      },
      "source": [
        "# Sample Oversampling - a classe menor recebe novos dados sinteticos para alcançar a classe superior\n",
        "smote = SMOTE(ratio='minority')\n",
        "X_sm, y_sm = smote.fit_sample(X, y)"
      ],
      "execution_count": 0,
      "outputs": []
    },
    {
      "cell_type": "code",
      "metadata": {
        "id": "t3efx8V6--_k",
        "colab_type": "code",
        "colab": {}
      },
      "source": [
        "# Divisão dos dados em treino e teste\n",
        "X_treino, X_teste, y_treino, y_teste = train_test_split(X_sm, y_sm, test_size = 0.25, random_state = 42)"
      ],
      "execution_count": 0,
      "outputs": []
    },
    {
      "cell_type": "code",
      "metadata": {
        "id": "Or1_Mr-U-x8F",
        "colab_type": "code",
        "outputId": "14cce8ca-61a2-4216-a0cb-aa4693dcc530",
        "colab": {
          "base_uri": "https://localhost:8080/",
          "height": 33
        }
      },
      "source": [
        "X_treino.shape"
      ],
      "execution_count": 0,
      "outputs": [
        {
          "output_type": "execute_result",
          "data": {
            "text/plain": [
              "(129481, 9)"
            ]
          },
          "metadata": {
            "tags": []
          },
          "execution_count": 326
        }
      ]
    },
    {
      "cell_type": "code",
      "metadata": {
        "id": "5Te2nE5LvNeW",
        "colab_type": "code",
        "outputId": "48655eb7-2b6b-429c-c7ab-fe8ac5f4d7a8",
        "colab": {
          "base_uri": "https://localhost:8080/",
          "height": 33
        }
      },
      "source": [
        "y_treino.size"
      ],
      "execution_count": 0,
      "outputs": [
        {
          "output_type": "execute_result",
          "data": {
            "text/plain": [
              "129481"
            ]
          },
          "metadata": {
            "tags": []
          },
          "execution_count": 327
        }
      ]
    },
    {
      "cell_type": "markdown",
      "metadata": {
        "id": "c2h6u7LqPJPh",
        "colab_type": "text"
      },
      "source": [
        "### Curva *AUC* com 9 variáveis"
      ]
    },
    {
      "cell_type": "code",
      "metadata": {
        "id": "MnjjGbmtPdMR",
        "colab_type": "code",
        "colab": {}
      },
      "source": [
        "rfc = RandomForestClassifier(n_estimators= 500, random_state = 42, n_jobs = -1, criterion= 'entropy')\n",
        "rfc.fit(X_treino, y_treino)\n",
        "prediction = rfc.predict_proba(X_teste)"
      ],
      "execution_count": 0,
      "outputs": []
    },
    {
      "cell_type": "code",
      "metadata": {
        "id": "ESri4QVRPeUa",
        "colab_type": "code",
        "colab": {}
      },
      "source": [
        "proba_predict = prediction[:,1]"
      ],
      "execution_count": 0,
      "outputs": []
    },
    {
      "cell_type": "code",
      "metadata": {
        "id": "suFGxQHAPMcR",
        "colab_type": "code",
        "outputId": "75672529-1567-48c4-b65d-8340bfa1d8e4",
        "colab": {
          "base_uri": "https://localhost:8080/",
          "height": 301
        }
      },
      "source": [
        "fpr, tpr, threshold = metrics.roc_curve(y_teste, proba_predict)\n",
        "roc_auc = metrics.auc(fpr, tpr)\n",
        "\n",
        "plt.title('Receiver Operating Characteristic')\n",
        "plt.plot(fpr, tpr, 'b', label = 'AUC = %0.2f' % roc_auc)\n",
        "plt.legend(loc = 'lower right')\n",
        "plt.plot([0, 1], [0, 1],'r--')\n",
        "plt.xlim([0, 1])\n",
        "plt.ylim([0, 1])\n",
        "plt.ylabel('True Positive Rate')\n",
        "plt.xlabel('False Positive Rate')\n",
        "plt.show()"
      ],
      "execution_count": 0,
      "outputs": [
        {
          "output_type": "display_data",
          "data": {
            "image/png": "[encoded data removed]",
            "text/plain": [
              "<Figure size 432x288 with 1 Axes>"
            ]
          },
          "metadata": {
            "tags": []
          }
        }
      ]
    },
    {
      "cell_type": "markdown",
      "metadata": {
        "id": "p-VHXtqGyt1I",
        "colab_type": "text"
      },
      "source": [
        "## Avaliação do modelo RFC:\n",
        "## Submetendo as 92 variáveis o valor AUC foi de 0.93\n",
        "## Submetendo apenas as 9 variáveis com maior importância para o modelo: 0.90"
      ]
    },
    {
      "cell_type": "markdown",
      "metadata": {
        "id": "TKe93_I950eB",
        "colab_type": "text"
      },
      "source": [
        "# *** Quanto maior o valor AUC melhor a performance do modelo.***\n",
        "\n"
      ]
    },
    {
      "cell_type": "markdown",
      "metadata": {
        "id": "qH9HyGm4Jpam",
        "colab_type": "text"
      },
      "source": [
        "### The Matthews correlation coefficient is used in machine learning as a measure of the quality of binary and multiclass classifications. It takes into account true and false positives and negatives and is generally regarded as a balanced measure which can be used even if the classes are of very different sizes. The MCC is in essence a correlation coefficient value between -1 and +1. A coefficient of +1 represents a perfect prediction, 0 an average random prediction and -1 an inverse prediction. The statistic is also known as the phi coefficient. [source: Wikipedia]"
      ]
    },
    {
      "cell_type": "code",
      "metadata": {
        "id": "QKJqaFc5PHpm",
        "colab_type": "code",
        "outputId": "8ebb14e8-cd28-44d3-e7b6-c57e9c566a23",
        "colab": {
          "base_uri": "https://localhost:8080/",
          "height": 33
        }
      },
      "source": [
        "prediction = rfc.predict(X_teste)\n",
        "matthews_corrcoef(y_teste,prediction)"
      ],
      "execution_count": 0,
      "outputs": [
        {
          "output_type": "execute_result",
          "data": {
            "text/plain": [
              "0.6523742792039626"
            ]
          },
          "metadata": {
            "tags": []
          },
          "execution_count": 332
        }
      ]
    },
    {
      "cell_type": "markdown",
      "metadata": {
        "id": "c2prZDjaDlyt",
        "colab_type": "text"
      },
      "source": [
        "### O coeficiente de Matthews obtido com as 92 variáveis foi de 0.72.\n",
        "### O mesmo coeficiente com as 9 variáveis usadas obteve 0.65."
      ]
    }
  ]
}