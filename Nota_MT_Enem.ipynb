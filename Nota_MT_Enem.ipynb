{
  "nbformat": 4,
  "nbformat_minor": 0,
  "metadata": {
    "colab": {
      "name": "Nota MT Enem",
      "provenance": [],
      "collapsed_sections": [],
      "mount_file_id": "1Up3Lvbp7fK0Yw8UMqrCpJqg9KCAMLWuj",
      "authorship_tag": "ABX9TyMtTSKmCo56E0gNXqYsQV/1",
      "include_colab_link": true
    },
    "kernelspec": {
      "name": "python3",
      "display_name": "Python 3"
    }
  },
  "cells": [
    {
      "cell_type": "markdown",
      "metadata": {
        "id": "view-in-github",
        "colab_type": "text"
      },
      "source": [
        "<a href=\"https://colab.research.google.com/github/silviolima07/Kaggle/blob/master/Nota_MT_Enem.ipynb\" target=\"_parent\"><img src=\"https://colab.research.google.com/assets/colab-badge.svg\" alt=\"Open In Colab\"/></a>"
      ]
    },
    {
      "cell_type": "markdown",
      "metadata": {
        "id": "AawHqCPJ6_02",
        "colab_type": "text"
      },
      "source": [
        "## ENEM 2016\n",
        "\n",
        "## Prever a nota da prova de Matemática de quem fez a prova"
      ]
    },
    {
      "cell_type": "code",
      "metadata": {
        "id": "yE2_M5tyn7aZ",
        "colab_type": "code",
        "colab": {}
      },
      "source": [
        "import numpy as np\n",
        "import pandas as pd\n",
        "import warnings\n",
        "warnings.filterwarnings(\"ignore\")\n",
        "from IPython.core.pylabtools import figsize\n",
        "from IPython.display import display, HTML\n",
        "import matplotlib.pyplot as plt\n",
        "pd.set_option('display.max_columns', 200) \n",
        "pd.set_option('display.max_rows', 200)\n",
        "import seaborn as sns\n",
        "sns.set(color_codes=True)\n",
        "from sklearn.model_selection import train_test_split\n",
        "from xgboost import XGBRegressor\n",
        "import xgboost as xgb\n",
        "from sklearn.metrics import r2_score\n",
        "from sklearn import metrics\n",
        "# Imputing missing values and scaling values\n",
        "from sklearn.impute import SimpleImputer\n",
        "import seaborn as sns\n",
        "from sklearn.metrics import mean_squared_error\n",
        "from scipy.stats import norm, skew"
      ],
      "execution_count": null,
      "outputs": []
    },
    {
      "cell_type": "code",
      "metadata": {
        "id": "WwmucO8w-xe7",
        "colab_type": "code",
        "colab": {}
      },
      "source": [
        "# Funcao para reducao da memoria utilizada\n",
        "def reduce_mem_usage(df, verbose=True):\n",
        "    numerics = ['int16', 'int32', 'int64', 'float16', 'float32', 'float64']\n",
        "    start_mem = df.memory_usage().sum() / 1024**2    \n",
        "    for col in df.columns:\n",
        "        col_type = df[col].dtypes\n",
        "        if col_type in numerics:\n",
        "            c_min = df[col].min()\n",
        "            c_max = df[col].max()\n",
        "            if str(col_type)[:3] == 'int':\n",
        "                if c_min > np.iinfo(np.int8).min and c_max < np.iinfo(np.int8).max:\n",
        "                    df[col] = df[col].astype(np.int8)\n",
        "                elif c_min > np.iinfo(np.int16).min and c_max < np.iinfo(np.int16).max:\n",
        "                    df[col] = df[col].astype(np.int16)\n",
        "                elif c_min > np.iinfo(np.int32).min and c_max < np.iinfo(np.int32).max:\n",
        "                    df[col] = df[col].astype(np.int32)\n",
        "                elif c_min > np.iinfo(np.int64).min and c_max < np.iinfo(np.int64).max:\n",
        "                    df[col] = df[col].astype(np.int64)  \n",
        "            else:\n",
        "                if c_min > np.finfo(np.float16).min and c_max < np.finfo(np.float16).max:\n",
        "                    df[col] = df[col].astype(np.float16)\n",
        "                elif c_min > np.finfo(np.float32).min and c_max < np.finfo(np.float32).max:\n",
        "                    df[col] = df[col].astype(np.float32)\n",
        "                else:\n",
        "                    df[col] = df[col].astype(np.float64)    \n",
        "    end_mem = df.memory_usage().sum() / 1024**2\n",
        "    if verbose: print('Mem. usage decreased to {:5.2f} Mb ({:.1f}% reduction)'.format(end_mem, 100 * (start_mem - end_mem) / start_mem))\n",
        "    return df"
      ],
      "execution_count": null,
      "outputs": []
    },
    {
      "cell_type": "code",
      "metadata": {
        "id": "LQx--Y_JxFuQ",
        "colab_type": "code",
        "colab": {}
      },
      "source": [
        "# Function to calculate missing values by column\n",
        "def missing_values_table(df):\n",
        "        # Total missing values\n",
        "        mis_val = df.isnull().sum()\n",
        "        \n",
        "        # Percentage of missing values\n",
        "        mis_val_percent = 100 * df.isnull().sum() / len(df)\n",
        "        \n",
        "        # Make a table with the results\n",
        "        mis_val_table = pd.concat([mis_val, mis_val_percent], axis=1)\n",
        "        \n",
        "        # Rename the columns\n",
        "        mis_val_table_ren_columns = mis_val_table.rename(\n",
        "        columns = {0 : 'Missing Values', 1 : '% of Total Values'})\n",
        "        \n",
        "        # Sort the table by percentage of missing descending\n",
        "        mis_val_table_ren_columns = mis_val_table_ren_columns[\n",
        "            mis_val_table_ren_columns.iloc[:,1] != 0].sort_values(\n",
        "        '% of Total Values', ascending=False).round(1)\n",
        "        \n",
        "        # Print some summary information\n",
        "        print (\"Your selected dataframe has \" + str(df.shape[1]) + \" columns.\\n\"      \n",
        "            \"There are \" + str(mis_val_table_ren_columns.shape[0]) +\n",
        "              \" columns that have missing values.\")\n",
        "        \n",
        "        # Return the dataframe with missing information\n",
        "        return mis_val_table_ren_columns"
      ],
      "execution_count": null,
      "outputs": []
    },
    {
      "cell_type": "code",
      "metadata": {
        "id": "7-vgbOJ--zYT",
        "colab_type": "code",
        "colab": {}
      },
      "source": [
        "# Funcao para realizar a leitura dos arquivos\n",
        "def read_data():\n",
        "     \n",
        "        print('Carregando os arquivos...')\n",
        "        train = pd.read_csv('/content/drive/My Drive/Colab Notebooks/Dataset/Codenation-enen2/train.csv', encoding='utf-8')\n",
        "        test = pd.read_csv('/content/drive/My Drive/Colab Notebooks/Dataset/Codenation-enen2/test.csv', encoding='utf-8')\n",
        "        train = reduce_mem_usage(train)\n",
        "        test = reduce_mem_usage(test)\n",
        "    \n",
        "        return train, test"
      ],
      "execution_count": null,
      "outputs": []
    },
    {
      "cell_type": "markdown",
      "metadata": {
        "id": "T15iypwtuXUo",
        "colab_type": "text"
      },
      "source": [
        "### Leitura dos datasets"
      ]
    },
    {
      "cell_type": "code",
      "metadata": {
        "id": "AC7NtITL_gJ_",
        "colab_type": "code",
        "colab": {
          "base_uri": "https://localhost:8080/",
          "height": 66
        },
        "outputId": "096be1fc-865d-4d6d-c923-d11da188c70f"
      },
      "source": [
        "# Leitura dos dados\n",
        "train, test = read_data()"
      ],
      "execution_count": null,
      "outputs": [
        {
          "output_type": "stream",
          "text": [
            "Carregando os arquivos...\n",
            "Mem. usage decreased to  8.24 Mb (52.9% reduction)\n",
            "Mem. usage decreased to  0.72 Mb (56.4% reduction)\n"
          ],
          "name": "stdout"
        }
      ]
    },
    {
      "cell_type": "code",
      "metadata": {
        "id": "ajiQAJT4oj81",
        "colab_type": "code",
        "colab": {
          "base_uri": "https://localhost:8080/",
          "height": 33
        },
        "outputId": "12a39d81-41ea-421d-b27e-421a798e06e2"
      },
      "source": [
        "train.shape"
      ],
      "execution_count": null,
      "outputs": [
        {
          "output_type": "execute_result",
          "data": {
            "text/plain": [
              "(13730, 167)"
            ]
          },
          "metadata": {
            "tags": []
          },
          "execution_count": 137
        }
      ]
    },
    {
      "cell_type": "code",
      "metadata": {
        "id": "NTVp8cN4ooU1",
        "colab_type": "code",
        "colab": {
          "base_uri": "https://localhost:8080/",
          "height": 33
        },
        "outputId": "413cd970-dd0e-4384-c953-950f4e917cc9"
      },
      "source": [
        "test.shape"
      ],
      "execution_count": null,
      "outputs": [
        {
          "output_type": "execute_result",
          "data": {
            "text/plain": [
              "(4576, 47)"
            ]
          },
          "metadata": {
            "tags": []
          },
          "execution_count": 138
        }
      ]
    },
    {
      "cell_type": "code",
      "metadata": {
        "id": "3eF9FFDvkqsD",
        "colab_type": "code",
        "colab": {
          "base_uri": "https://localhost:8080/",
          "height": 131
        },
        "outputId": "7eb06936-a969-4965-cd69-bab383558a82"
      },
      "source": [
        "# Colunas presentes no dataset train\n",
        "# train possue 167 variaveis\n",
        "\n",
        "train.drop('Unnamed: 0', axis=1, inplace=True)\n",
        "train.columns"
      ],
      "execution_count": null,
      "outputs": [
        {
          "output_type": "execute_result",
          "data": {
            "text/plain": [
              "Index(['NU_INSCRICAO', 'NU_ANO', 'CO_MUNICIPIO_RESIDENCIA',\n",
              "       'NO_MUNICIPIO_RESIDENCIA', 'CO_UF_RESIDENCIA', 'SG_UF_RESIDENCIA',\n",
              "       'NU_IDADE', 'TP_SEXO', 'TP_ESTADO_CIVIL', 'TP_COR_RACA',\n",
              "       ...\n",
              "       'Q041', 'Q042', 'Q043', 'Q044', 'Q045', 'Q046', 'Q047', 'Q048', 'Q049',\n",
              "       'Q050'],\n",
              "      dtype='object', length=166)"
            ]
          },
          "metadata": {
            "tags": []
          },
          "execution_count": 139
        }
      ]
    },
    {
      "cell_type": "code",
      "metadata": {
        "id": "sAY3bJYamJ6f",
        "colab_type": "code",
        "colab": {
          "base_uri": "https://localhost:8080/",
          "height": 212
        },
        "outputId": "90b66c9d-5682-4a61-9356-7bc7ec37ed1b"
      },
      "source": [
        "# Colunas presentes no dataset test\n",
        "# Total de 47 variaveis\n",
        "test.columns"
      ],
      "execution_count": null,
      "outputs": [
        {
          "output_type": "execute_result",
          "data": {
            "text/plain": [
              "Index(['NU_INSCRICAO', 'CO_UF_RESIDENCIA', 'SG_UF_RESIDENCIA', 'NU_IDADE',\n",
              "       'TP_SEXO', 'TP_COR_RACA', 'TP_NACIONALIDADE', 'TP_ST_CONCLUSAO',\n",
              "       'TP_ANO_CONCLUIU', 'TP_ESCOLA', 'TP_ENSINO', 'IN_TREINEIRO',\n",
              "       'TP_DEPENDENCIA_ADM_ESC', 'IN_BAIXA_VISAO', 'IN_CEGUEIRA', 'IN_SURDEZ',\n",
              "       'IN_DISLEXIA', 'IN_DISCALCULIA', 'IN_SABATISTA', 'IN_GESTANTE',\n",
              "       'IN_IDOSO', 'TP_PRESENCA_CN', 'TP_PRESENCA_CH', 'TP_PRESENCA_LC',\n",
              "       'CO_PROVA_CN', 'CO_PROVA_CH', 'CO_PROVA_LC', 'CO_PROVA_MT',\n",
              "       'NU_NOTA_CN', 'NU_NOTA_CH', 'NU_NOTA_LC', 'TP_LINGUA',\n",
              "       'TP_STATUS_REDACAO', 'NU_NOTA_COMP1', 'NU_NOTA_COMP2', 'NU_NOTA_COMP3',\n",
              "       'NU_NOTA_COMP4', 'NU_NOTA_COMP5', 'NU_NOTA_REDACAO', 'Q001', 'Q002',\n",
              "       'Q006', 'Q024', 'Q025', 'Q026', 'Q027', 'Q047'],\n",
              "      dtype='object')"
            ]
          },
          "metadata": {
            "tags": []
          },
          "execution_count": 140
        }
      ]
    },
    {
      "cell_type": "code",
      "metadata": {
        "id": "POIlclBGm41x",
        "colab_type": "code",
        "colab": {}
      },
      "source": [
        "# O modelo irá usar as variaveis presentes em test em seu pre-processamento e treinamento\n",
        "train=train[['NU_INSCRICAO', 'CO_UF_RESIDENCIA', 'SG_UF_RESIDENCIA', 'NU_IDADE',\n",
        "       'TP_SEXO', 'TP_COR_RACA', 'TP_NACIONALIDADE', 'TP_ST_CONCLUSAO',\n",
        "       'TP_ANO_CONCLUIU', 'TP_ESCOLA', 'TP_ENSINO', 'IN_TREINEIRO',\n",
        "       'TP_DEPENDENCIA_ADM_ESC', 'IN_BAIXA_VISAO', 'IN_CEGUEIRA', 'IN_SURDEZ',\n",
        "       'IN_DISLEXIA', 'IN_DISCALCULIA', 'IN_SABATISTA', 'IN_GESTANTE',\n",
        "       'IN_IDOSO', 'TP_PRESENCA_CN', 'TP_PRESENCA_CH', 'TP_PRESENCA_LC',\n",
        "       'CO_PROVA_CN', 'CO_PROVA_CH', 'CO_PROVA_LC', 'CO_PROVA_MT',\n",
        "       'NU_NOTA_CN', 'NU_NOTA_CH', 'NU_NOTA_LC', 'TP_LINGUA',\n",
        "       'TP_STATUS_REDACAO', 'NU_NOTA_COMP1', 'NU_NOTA_COMP2', 'NU_NOTA_COMP3',\n",
        "       'NU_NOTA_COMP4', 'NU_NOTA_COMP5', 'NU_NOTA_REDACAO', 'Q001', 'Q002',\n",
        "       'Q006', 'Q024', 'Q025', 'Q026', 'Q027', 'Q047',\"NU_NOTA_MT\"]]\n"
      ],
      "execution_count": null,
      "outputs": []
    },
    {
      "cell_type": "markdown",
      "metadata": {
        "id": "PMl5I07dofxE",
        "colab_type": "text"
      },
      "source": [
        "### Análise da correlação entre as variáveis numéricas com NU_NOTA_MT"
      ]
    },
    {
      "cell_type": "code",
      "metadata": {
        "id": "QbldTlkXLgD9",
        "colab_type": "code",
        "colab": {
          "base_uri": "https://localhost:8080/",
          "height": 522
        },
        "outputId": "3900e002-23b8-43e6-bbf9-e806a8a6411b"
      },
      "source": [
        "corr_with_NU_NOTA_MT = train.corr()[\"NU_NOTA_MT\"].sort_values(ascending=False)\n",
        "plt.figure(figsize=(12,6))\n",
        "corr_with_NU_NOTA_MT.drop(\"NU_NOTA_MT\").plot.bar()\n",
        "plt.show();"
      ],
      "execution_count": null,
      "outputs": [
        {
          "output_type": "display_data",
          "data": {
            "image/png": "[encoded data removed]",
            "text/plain": [
              "<Figure size 864x432 with 1 Axes>"
            ]
          },
          "metadata": {
            "tags": []
          }
        }
      ]
    },
    {
      "cell_type": "code",
      "metadata": {
        "id": "_YoTnLiUo8TA",
        "colab_type": "code",
        "colab": {}
      },
      "source": [
        "# Checar as correlações do dataset com uma variável escolhida\n",
        "def checar_var_corr(df,var):\n",
        "  features_corr = df.corr().abs().round(2)\n",
        "  print(features_corr[var].sort_values(ascending = False))"
      ],
      "execution_count": null,
      "outputs": []
    },
    {
      "cell_type": "code",
      "metadata": {
        "id": "TTGLGEOjqh3a",
        "colab_type": "code",
        "colab": {
          "base_uri": "https://localhost:8080/",
          "height": 570
        },
        "outputId": "ebdc984b-ecf0-4617-b3cb-d1ae08e314b4"
      },
      "source": [
        "checar_var_corr(train, \"NU_NOTA_MT\")\n"
      ],
      "execution_count": null,
      "outputs": [
        {
          "output_type": "stream",
          "text": [
            "NU_NOTA_MT                1.00\n",
            "NU_NOTA_CN                0.58\n",
            "NU_NOTA_CH                0.53\n",
            "NU_NOTA_LC                0.49\n",
            "NU_NOTA_REDACAO           0.38\n",
            "TP_DEPENDENCIA_ADM_ESC    0.37\n",
            "NU_NOTA_COMP3             0.35\n",
            "NU_NOTA_COMP5             0.34\n",
            "NU_NOTA_COMP4             0.34\n",
            "NU_NOTA_COMP2             0.34\n",
            "NU_NOTA_COMP1             0.30\n",
            "TP_LINGUA                 0.20\n",
            "TP_COR_RACA               0.16\n",
            "CO_UF_RESIDENCIA          0.11\n",
            "TP_ST_CONCLUSAO           0.09\n",
            "TP_ENSINO                 0.09\n",
            "TP_ESCOLA                 0.07\n",
            "NU_IDADE                  0.06\n",
            "TP_STATUS_REDACAO         0.06\n",
            "TP_NACIONALIDADE          0.03\n",
            "TP_ANO_CONCLUIU           0.03\n",
            "IN_TREINEIRO              0.02\n",
            "IN_SABATISTA              0.02\n",
            "IN_SURDEZ                 0.02\n",
            "IN_IDOSO                  0.01\n",
            "IN_DISCALCULIA            0.01\n",
            "TP_PRESENCA_CN            0.00\n",
            "TP_PRESENCA_CH            0.00\n",
            "IN_BAIXA_VISAO            0.00\n",
            "IN_DISLEXIA               0.00\n",
            "IN_GESTANTE               0.00\n",
            "IN_CEGUEIRA                NaN\n",
            "TP_PRESENCA_LC             NaN\n",
            "Name: NU_NOTA_MT, dtype: float64\n"
          ],
          "name": "stdout"
        }
      ]
    },
    {
      "cell_type": "code",
      "metadata": {
        "id": "Lhl75UpvJlB2",
        "colab_type": "code",
        "colab": {}
      },
      "source": [
        "train_3 = train[['TP_LINGUA','TP_COR_RACA','NU_NOTA_COMP4','NU_NOTA_COMP5','NU_NOTA_COMP3','NU_NOTA_REDACAO', \n",
        "                 'NU_NOTA_LC', 'NU_NOTA_CH', 'NU_NOTA_CN',    'TP_ST_CONCLUSAO', 'NU_NOTA_MT']]"
      ],
      "execution_count": null,
      "outputs": []
    },
    {
      "cell_type": "code",
      "metadata": {
        "id": "_e-VoIroN61s",
        "colab_type": "code",
        "colab": {}
      },
      "source": [
        "test_2 = test[['NU_INSCRICAO','TP_LINGUA','TP_COR_RACA','NU_NOTA_COMP4','NU_NOTA_COMP5','NU_NOTA_COMP3','NU_NOTA_REDACAO', \n",
        "                 'NU_NOTA_LC', 'NU_NOTA_CH', 'NU_NOTA_CN',    'TP_ST_CONCLUSAO']]"
      ],
      "execution_count": null,
      "outputs": []
    },
    {
      "cell_type": "code",
      "metadata": {
        "id": "EIOW0saqazGC",
        "colab_type": "code",
        "colab": {
          "base_uri": "https://localhost:8080/",
          "height": 310
        },
        "outputId": "e87bd6cd-8605-49f3-91f2-d45608a2d718"
      },
      "source": [
        "train_3.info()"
      ],
      "execution_count": null,
      "outputs": [
        {
          "output_type": "stream",
          "text": [
            "<class 'pandas.core.frame.DataFrame'>\n",
            "RangeIndex: 13730 entries, 0 to 13729\n",
            "Data columns (total 11 columns):\n",
            " #   Column           Non-Null Count  Dtype  \n",
            "---  ------           --------------  -----  \n",
            " 0   TP_LINGUA        13730 non-null  int8   \n",
            " 1   TP_COR_RACA      13730 non-null  int8   \n",
            " 2   NU_NOTA_COMP4    10133 non-null  float16\n",
            " 3   NU_NOTA_COMP5    10133 non-null  float16\n",
            " 4   NU_NOTA_COMP3    10133 non-null  float16\n",
            " 5   NU_NOTA_REDACAO  10133 non-null  float16\n",
            " 6   NU_NOTA_LC       10133 non-null  float16\n",
            " 7   NU_NOTA_CH       10341 non-null  float16\n",
            " 8   NU_NOTA_CN       10341 non-null  float16\n",
            " 9   TP_ST_CONCLUSAO  13730 non-null  int8   \n",
            " 10  NU_NOTA_MT       10133 non-null  float16\n",
            "dtypes: float16(8), int8(3)\n",
            "memory usage: 254.9 KB\n"
          ],
          "name": "stdout"
        }
      ]
    },
    {
      "cell_type": "code",
      "metadata": {
        "id": "yZIhz5XApcii",
        "colab_type": "code",
        "colab": {}
      },
      "source": [
        "\n",
        "train = train_3\n",
        "test = test_2\n"
      ],
      "execution_count": null,
      "outputs": []
    },
    {
      "cell_type": "code",
      "metadata": {
        "id": "ODz4tIQmcbzK",
        "colab_type": "code",
        "colab": {
          "base_uri": "https://localhost:8080/",
          "height": 310
        },
        "outputId": "5e1e690b-7f50-40be-dcc2-5396f88b9fdc"
      },
      "source": [
        "# Checar valores nulos\n",
        "missing_values_table(train)"
      ],
      "execution_count": null,
      "outputs": [
        {
          "output_type": "stream",
          "text": [
            "Your selected dataframe has 11 columns.\n",
            "There are 8 columns that have missing values.\n"
          ],
          "name": "stdout"
        },
        {
          "output_type": "execute_result",
          "data": {
            "text/html": [
              "<div>\n",
              "<style scoped>\n",
              "    .dataframe tbody tr th:only-of-type {\n",
              "        vertical-align: middle;\n",
              "    }\n",
              "\n",
              "    .dataframe tbody tr th {\n",
              "        vertical-align: top;\n",
              "    }\n",
              "\n",
              "    .dataframe thead th {\n",
              "        text-align: right;\n",
              "    }\n",
              "</style>\n",
              "<table border=\"1\" class=\"dataframe\">\n",
              "  <thead>\n",
              "    <tr style=\"text-align: right;\">\n",
              "      <th></th>\n",
              "      <th>Missing Values</th>\n",
              "      <th>% of Total Values</th>\n",
              "    </tr>\n",
              "  </thead>\n",
              "  <tbody>\n",
              "    <tr>\n",
              "      <th>NU_NOTA_COMP4</th>\n",
              "      <td>3597</td>\n",
              "      <td>26.2</td>\n",
              "    </tr>\n",
              "    <tr>\n",
              "      <th>NU_NOTA_COMP5</th>\n",
              "      <td>3597</td>\n",
              "      <td>26.2</td>\n",
              "    </tr>\n",
              "    <tr>\n",
              "      <th>NU_NOTA_COMP3</th>\n",
              "      <td>3597</td>\n",
              "      <td>26.2</td>\n",
              "    </tr>\n",
              "    <tr>\n",
              "      <th>NU_NOTA_REDACAO</th>\n",
              "      <td>3597</td>\n",
              "      <td>26.2</td>\n",
              "    </tr>\n",
              "    <tr>\n",
              "      <th>NU_NOTA_LC</th>\n",
              "      <td>3597</td>\n",
              "      <td>26.2</td>\n",
              "    </tr>\n",
              "    <tr>\n",
              "      <th>NU_NOTA_MT</th>\n",
              "      <td>3597</td>\n",
              "      <td>26.2</td>\n",
              "    </tr>\n",
              "    <tr>\n",
              "      <th>NU_NOTA_CH</th>\n",
              "      <td>3389</td>\n",
              "      <td>24.7</td>\n",
              "    </tr>\n",
              "    <tr>\n",
              "      <th>NU_NOTA_CN</th>\n",
              "      <td>3389</td>\n",
              "      <td>24.7</td>\n",
              "    </tr>\n",
              "  </tbody>\n",
              "</table>\n",
              "</div>"
            ],
            "text/plain": [
              "                 Missing Values  % of Total Values\n",
              "NU_NOTA_COMP4              3597               26.2\n",
              "NU_NOTA_COMP5              3597               26.2\n",
              "NU_NOTA_COMP3              3597               26.2\n",
              "NU_NOTA_REDACAO            3597               26.2\n",
              "NU_NOTA_LC                 3597               26.2\n",
              "NU_NOTA_MT                 3597               26.2\n",
              "NU_NOTA_CH                 3389               24.7\n",
              "NU_NOTA_CN                 3389               24.7"
            ]
          },
          "metadata": {
            "tags": []
          },
          "execution_count": 149
        }
      ]
    },
    {
      "cell_type": "code",
      "metadata": {
        "id": "GXyZPvu7zQUm",
        "colab_type": "code",
        "colab": {
          "base_uri": "https://localhost:8080/",
          "height": 82
        },
        "outputId": "71f3e592-7ea5-4b38-b3e3-740e4caffa4a"
      },
      "source": [
        "# Dataset train\n",
        "# Get the columns with > 50% missing\n",
        "missing_df = missing_values_table(train);\n",
        "missing_columns = list(missing_df[missing_df['% of Total Values'] > 50].index)\n",
        "print('We will remove %d columns.' % len(missing_columns))\n",
        "print(list(missing_columns))\n",
        "# Drop the columns\n",
        "train = train.drop(columns = list(missing_columns))\n",
        "\n"
      ],
      "execution_count": null,
      "outputs": [
        {
          "output_type": "stream",
          "text": [
            "Your selected dataframe has 11 columns.\n",
            "There are 8 columns that have missing values.\n",
            "We will remove 0 columns.\n",
            "[]\n"
          ],
          "name": "stdout"
        }
      ]
    },
    {
      "cell_type": "code",
      "metadata": {
        "id": "lwYiJD_n9OhN",
        "colab_type": "code",
        "colab": {
          "base_uri": "https://localhost:8080/",
          "height": 82
        },
        "outputId": "4522bb20-b6a6-4778-934c-9e45457e57d2"
      },
      "source": [
        "# Dataset test\n",
        "# Get the columns with > 50% missing\n",
        "missing_df = missing_values_table(test);\n",
        "missing_columns = list(missing_df[missing_df['% of Total Values'] > 50].index)\n",
        "print('We will remove %d columns.' % len(missing_columns))\n",
        "print(list(missing_columns))\n",
        "# Drop the columns\n",
        "test = test.drop(columns = list(missing_columns))"
      ],
      "execution_count": null,
      "outputs": [
        {
          "output_type": "stream",
          "text": [
            "Your selected dataframe has 11 columns.\n",
            "There are 7 columns that have missing values.\n",
            "We will remove 0 columns.\n",
            "[]\n"
          ],
          "name": "stdout"
        }
      ]
    },
    {
      "cell_type": "code",
      "metadata": {
        "id": "Y0EvO0I3yuUU",
        "colab_type": "code",
        "colab": {
          "base_uri": "https://localhost:8080/",
          "height": 82
        },
        "outputId": "f18b3b57-b0cb-45c6-f404-f23b53ead1e4"
      },
      "source": [
        "train.columns"
      ],
      "execution_count": null,
      "outputs": [
        {
          "output_type": "execute_result",
          "data": {
            "text/plain": [
              "Index(['TP_LINGUA', 'TP_COR_RACA', 'NU_NOTA_COMP4', 'NU_NOTA_COMP5',\n",
              "       'NU_NOTA_COMP3', 'NU_NOTA_REDACAO', 'NU_NOTA_LC', 'NU_NOTA_CH',\n",
              "       'NU_NOTA_CN', 'TP_ST_CONCLUSAO', 'NU_NOTA_MT'],\n",
              "      dtype='object')"
            ]
          },
          "metadata": {
            "tags": []
          },
          "execution_count": 152
        }
      ]
    },
    {
      "cell_type": "code",
      "metadata": {
        "id": "k0AyavWbyupI",
        "colab_type": "code",
        "colab": {
          "base_uri": "https://localhost:8080/",
          "height": 82
        },
        "outputId": "599b4abd-819e-41c3-8000-732d1ba97e43"
      },
      "source": [
        "test.columns"
      ],
      "execution_count": null,
      "outputs": [
        {
          "output_type": "execute_result",
          "data": {
            "text/plain": [
              "Index(['NU_INSCRICAO', 'TP_LINGUA', 'TP_COR_RACA', 'NU_NOTA_COMP4',\n",
              "       'NU_NOTA_COMP5', 'NU_NOTA_COMP3', 'NU_NOTA_REDACAO', 'NU_NOTA_LC',\n",
              "       'NU_NOTA_CH', 'NU_NOTA_CN', 'TP_ST_CONCLUSAO'],\n",
              "      dtype='object')"
            ]
          },
          "metadata": {
            "tags": []
          },
          "execution_count": 153
        }
      ]
    },
    {
      "cell_type": "code",
      "metadata": {
        "id": "4uNOlQWIzaJM",
        "colab_type": "code",
        "colab": {}
      },
      "source": [
        "# No dataset test a coluna 'NU_INSCRICAO' será removida, pois não é relevante e não esta sendo usada no treinamento.\n",
        "test.drop(['NU_INSCRICAO'], axis=1, inplace=True)"
      ],
      "execution_count": null,
      "outputs": []
    },
    {
      "cell_type": "code",
      "metadata": {
        "id": "n4-u49ts6QfN",
        "colab_type": "code",
        "colab": {
          "base_uri": "https://localhost:8080/",
          "height": 1000
        },
        "outputId": "f386107a-fd8d-4fa4-c0ca-86dade3f0cdc"
      },
      "source": [
        "# Análise dos dados em train\n",
        "columns = train.columns[:16]\n",
        "plt.subplots(figsize=(17,25))\n",
        "length=len(columns)\n",
        "for i,j in zip(columns,range(length)):\n",
        "    plt.subplot((length/2),3,j+1)\n",
        "    plt.subplots_adjust(wspace=0.2,hspace=0.5)\n",
        "    train[i].hist(bins=20,edgecolor='black')\n",
        "    plt.title(i)\n",
        "plt.show()"
      ],
      "execution_count": null,
      "outputs": [
        {
          "output_type": "display_data",
          "data": {
            "image/png": "[encoded data removed]",
            "text/plain": [
              "<Figure size 1224x1800 with 11 Axes>"
            ]
          },
          "metadata": {
            "tags": []
          }
        }
      ]
    },
    {
      "cell_type": "code",
      "metadata": {
        "id": "nbUuq_6gxMaC",
        "colab_type": "code",
        "colab": {
          "base_uri": "https://localhost:8080/",
          "height": 477
        },
        "outputId": "0017b179-8e2c-4ab7-8cfa-711b9f4e7c68"
      },
      "source": [
        "corr_with_NU_NOTA_MT = train.corr()[\"NU_NOTA_MT\"].sort_values(ascending=False)\n",
        "plt.figure(figsize=(14,6))\n",
        "corr_with_NU_NOTA_MT.drop(\"NU_NOTA_MT\").plot.bar()\n",
        "plt.show();"
      ],
      "execution_count": null,
      "outputs": [
        {
          "output_type": "display_data",
          "data": {
            "image/png": "[encoded data removed]",
            "text/plain": [
              "<Figure size 1008x432 with 1 Axes>"
            ]
          },
          "metadata": {
            "tags": []
          }
        }
      ]
    },
    {
      "cell_type": "code",
      "metadata": {
        "id": "KaFxqLmM7ZzZ",
        "colab_type": "code",
        "colab": {
          "base_uri": "https://localhost:8080/",
          "height": 212
        },
        "outputId": "5ba83089-6727-40c5-f01f-a19750c05470"
      },
      "source": [
        "# Dataset train possue ainda dados nulos ou missing.\n",
        "train.isnull().sum()"
      ],
      "execution_count": null,
      "outputs": [
        {
          "output_type": "execute_result",
          "data": {
            "text/plain": [
              "TP_LINGUA             0\n",
              "TP_COR_RACA           0\n",
              "NU_NOTA_COMP4      3597\n",
              "NU_NOTA_COMP5      3597\n",
              "NU_NOTA_COMP3      3597\n",
              "NU_NOTA_REDACAO    3597\n",
              "NU_NOTA_LC         3597\n",
              "NU_NOTA_CH         3389\n",
              "NU_NOTA_CN         3389\n",
              "TP_ST_CONCLUSAO       0\n",
              "NU_NOTA_MT         3597\n",
              "dtype: int64"
            ]
          },
          "metadata": {
            "tags": []
          },
          "execution_count": 157
        }
      ]
    },
    {
      "cell_type": "code",
      "metadata": {
        "id": "mVVwKjRNADaq",
        "colab_type": "code",
        "colab": {}
      },
      "source": [
        "# Dataset train\n",
        "# Aplicar log1p a coluna target. Isto auxilia na performance pois ajusta o formato da distribuição, ficando mais próxima de uma normal.\n",
        "train[\"NU_NOTA_MT\"] = np.log1p(train[\"NU_NOTA_MT\"])\n",
        "\n",
        "# log transform skewed numeric features:\n",
        "numeric_feats = train.dtypes[train.dtypes != \"object\"].index\n",
        "\n",
        "skewed_feats = train[numeric_feats].apply(lambda x: skew(x.dropna())) #compute skewness\n",
        "skewed_feats = skewed_feats[skewed_feats > 0.75]\n",
        "skewed_feats = skewed_feats.index\n",
        "\n",
        "train[skewed_feats] = np.log1p(train[skewed_feats])\n",
        "train = pd.get_dummies(train)\n",
        "train = train.fillna(train.mean())\n",
        "\n",
        "X = train.drop(['NU_NOTA_MT'], axis = 1)\n",
        "\n",
        "y = train['NU_NOTA_MT']"
      ],
      "execution_count": null,
      "outputs": []
    },
    {
      "cell_type": "code",
      "metadata": {
        "id": "iug_MNr6M2W1",
        "colab_type": "code",
        "colab": {}
      },
      "source": [
        "# Dataset test\n",
        "\n",
        "# log transform skewed numeric features:\n",
        "numeric_feats = test.dtypes[test.dtypes != \"object\"].index\n",
        "\n",
        "skewed_feats = test[numeric_feats].apply(lambda x: skew(x.dropna())) #compute skewness\n",
        "skewed_feats = skewed_feats[skewed_feats > 0.75]\n",
        "skewed_feats = skewed_feats.index\n",
        "\n",
        "test[skewed_feats] = np.log1p(test[skewed_feats])\n",
        "test = pd.get_dummies(test)\n",
        "test = test.fillna(test.mean())"
      ],
      "execution_count": null,
      "outputs": []
    },
    {
      "cell_type": "code",
      "metadata": {
        "id": "QsKRqB2HsrL9",
        "colab_type": "code",
        "colab": {}
      },
      "source": [
        "X_train, X_test, y_train, y_test  = train_test_split(X, y, test_size = 0.2, random_state = 0)"
      ],
      "execution_count": null,
      "outputs": []
    },
    {
      "cell_type": "markdown",
      "metadata": {
        "id": "Mnve5EvHwoNS",
        "colab_type": "text"
      },
      "source": [
        "### Modelos usando o algoritmo XGBRegressor"
      ]
    },
    {
      "cell_type": "code",
      "metadata": {
        "id": "0vVsE2CEH4H7",
        "colab_type": "code",
        "colab": {
          "base_uri": "https://localhost:8080/",
          "height": 98
        },
        "outputId": "bf763812-b965-4af3-a968-d555b2776580"
      },
      "source": [
        "xgb_model1 = XGBRegressor(n_estimators=5000)\n",
        "xgb_model1.fit(X_train, y_train, verbose=False)\n",
        "y_train_pred1 = xgb_model1.predict(X_train)\n",
        "y_pred1 = xgb_model1.predict(X_test)\n",
        "\n",
        "print('Train r2 score: ', r2_score(y_train_pred1, y_train))\n",
        "print('Test r2 score: ', r2_score(y_test, y_pred1))\n",
        "train_mse1 = mean_squared_error(y_train_pred1, y_train)\n",
        "test_mse1 = mean_squared_error(y_pred1, y_test)\n",
        "train_rmse1 = np.sqrt(train_mse1)\n",
        "test_rmse1 = np.sqrt(test_mse1)\n",
        "print('Train RMSE: %.4f' % train_rmse1)\n",
        "print('Test RMSE: %.4f' % test_rmse1)"
      ],
      "execution_count": null,
      "outputs": [
        {
          "output_type": "stream",
          "text": [
            "[04:35:34] WARNING: /workspace/src/objective/regression_obj.cu:152: reg:linear is now deprecated in favor of reg:squarederror.\n",
            "Train r2 score:  0.9986562267403276\n",
            "Test r2 score:  0.9933211038877406\n",
            "Train RMSE: 0.0736\n",
            "Test RMSE: 0.1639\n"
          ],
          "name": "stdout"
        }
      ]
    },
    {
      "cell_type": "code",
      "metadata": {
        "id": "rAP3_0-jniH7",
        "colab_type": "code",
        "colab": {}
      },
      "source": [
        ""
      ],
      "execution_count": null,
      "outputs": []
    },
    {
      "cell_type": "code",
      "metadata": {
        "id": "gi5lDlyBniZe",
        "colab_type": "code",
        "colab": {
          "base_uri": "https://localhost:8080/",
          "height": 98
        },
        "outputId": "adc4e9e2-eef8-43e9-c1d0-8b18c89ebb92"
      },
      "source": [
        "xgb_model2 = XGBRegressor(n_estimators=1000)\n",
        "xgb_model2.fit(X_train, y_train, early_stopping_rounds=5, \n",
        "             eval_set=[(X_test, y_test)], verbose=False)\n",
        "y_train_pred2 = xgb_model2.predict(X_train)\n",
        "y_pred2 = xgb_model2.predict(X_test)\n",
        "\n",
        "print('Train r2 score: ', r2_score(y_train_pred2, y_train))\n",
        "print('Test r2 score: ', r2_score(y_test, y_pred2))\n",
        "train_mse2 = mean_squared_error(y_train_pred2, y_train)\n",
        "test_mse2 = mean_squared_error(y_pred2, y_test)\n",
        "train_rmse2 = np.sqrt(train_mse2)\n",
        "test_rmse2 = np.sqrt(test_mse2)\n",
        "print('Train RMSE: %.4f' % train_rmse2)\n",
        "print('Test RMSE: %.4f' % test_rmse2)"
      ],
      "execution_count": null,
      "outputs": [
        {
          "output_type": "stream",
          "text": [
            "[04:35:59] WARNING: /workspace/src/objective/regression_obj.cu:152: reg:linear is now deprecated in favor of reg:squarederror.\n",
            "Train r2 score:  0.9939686050101768\n",
            "Test r2 score:  0.9959435258844404\n",
            "Train RMSE: 0.1555\n",
            "Test RMSE: 0.1277\n"
          ],
          "name": "stdout"
        }
      ]
    },
    {
      "cell_type": "code",
      "metadata": {
        "id": "_cjSjsB8MQFb",
        "colab_type": "code",
        "colab": {}
      },
      "source": [
        ""
      ],
      "execution_count": null,
      "outputs": []
    },
    {
      "cell_type": "code",
      "metadata": {
        "id": "ljH8HnmTMQZk",
        "colab_type": "code",
        "colab": {
          "base_uri": "https://localhost:8080/",
          "height": 98
        },
        "outputId": "35c4c572-8c27-4e24-de98-f766f20bfaa5"
      },
      "source": [
        "xgb_model3 = XGBRegressor(n_estimators=1000, learning_rate=0.05)\n",
        "xgb_model3.fit(X_train, y_train, early_stopping_rounds=5, \n",
        "             eval_set=[(X_test, y_test)], verbose=False)\n",
        "y_train_pred3 = xgb_model3.predict(X_train)\n",
        "y_pred3 = xgb_model3.predict(X_test)\n",
        "\n",
        "print('Train r2 score: ', r2_score(y_train_pred3, y_train))\n",
        "print('Test r2 score: ', r2_score(y_test, y_pred3))\n",
        "train_mse3 = mean_squared_error(y_train_pred3, y_train)\n",
        "test_mse3 = mean_squared_error(y_pred3, y_test)\n",
        "train_rmse3 = np.sqrt(train_mse3)\n",
        "test_rmse3 = np.sqrt(test_mse3)\n",
        "print('Train RMSE: %.4f' % train_rmse3)\n",
        "print('Test RMSE: %.4f' % test_rmse3)"
      ],
      "execution_count": null,
      "outputs": [
        {
          "output_type": "stream",
          "text": [
            "[04:36:00] WARNING: /workspace/src/objective/regression_obj.cu:152: reg:linear is now deprecated in favor of reg:squarederror.\n",
            "Train r2 score:  0.9942579545855537\n",
            "Test r2 score:  0.9959456784748616\n",
            "Train RMSE: 0.1517\n",
            "Test RMSE: 0.1277\n"
          ],
          "name": "stdout"
        }
      ]
    },
    {
      "cell_type": "code",
      "metadata": {
        "id": "VTr_m00WRkO-",
        "colab_type": "code",
        "colab": {
          "base_uri": "https://localhost:8080/",
          "height": 133
        },
        "outputId": "f27ac51f-75cd-4abe-c93c-d9ec704d8a7b"
      },
      "source": [
        "data = {'Modelo':  ['xgb_model1', 'xgb_model2','xgb_model3'],\n",
        "        'Train r2 score': [r2_score(y_train_pred1, y_train), r2_score(y_train_pred2, y_train),r2_score(y_train_pred3, y_train)],\n",
        "        'Test r2 score': [r2_score(y_test, y_pred1),r2_score(y_test, y_pred2),r2_score(y_test, y_pred2)],\n",
        "        'Train Mse': [mean_squared_error(y_train_pred1, y_train),mean_squared_error(y_train_pred2, y_train), mean_squared_error(y_train_pred3, y_train) ],\n",
        "        'Test Mse': [mean_squared_error(y_pred1, y_test),mean_squared_error(y_pred2, y_test), mean_squared_error(y_pred3, y_test) ],\n",
        "        'Train Rmse': [np.sqrt(mean_squared_error(y_train_pred1, y_train)), np.sqrt(mean_squared_error(y_train_pred2, y_train)), np.sqrt( mean_squared_error(y_train_pred3, y_train))],\n",
        "        'Test Rmse': [np.sqrt(mean_squared_error(y_pred1, y_test)), np.sqrt(mean_squared_error(y_pred2, y_test)), np.sqrt( mean_squared_error(y_pred3, y_test))]\n",
        "        }\n",
        "\n",
        "df = pd.DataFrame (data, columns = ['Modelo','Train r2 score','Test r2 score', 'Train Mse', 'Test Mse', 'Train Rmse', 'Test Rmse'])\n",
        "df"
      ],
      "execution_count": null,
      "outputs": [
        {
          "output_type": "execute_result",
          "data": {
            "text/html": [
              "<div>\n",
              "<style scoped>\n",
              "    .dataframe tbody tr th:only-of-type {\n",
              "        vertical-align: middle;\n",
              "    }\n",
              "\n",
              "    .dataframe tbody tr th {\n",
              "        vertical-align: top;\n",
              "    }\n",
              "\n",
              "    .dataframe thead th {\n",
              "        text-align: right;\n",
              "    }\n",
              "</style>\n",
              "<table border=\"1\" class=\"dataframe\">\n",
              "  <thead>\n",
              "    <tr style=\"text-align: right;\">\n",
              "      <th></th>\n",
              "      <th>Modelo</th>\n",
              "      <th>Train r2 score</th>\n",
              "      <th>Test r2 score</th>\n",
              "      <th>Train Mse</th>\n",
              "      <th>Test Mse</th>\n",
              "      <th>Train Rmse</th>\n",
              "      <th>Test Rmse</th>\n",
              "    </tr>\n",
              "  </thead>\n",
              "  <tbody>\n",
              "    <tr>\n",
              "      <th>0</th>\n",
              "      <td>xgb_model1</td>\n",
              "      <td>0.998656</td>\n",
              "      <td>0.993321</td>\n",
              "      <td>0.005421</td>\n",
              "      <td>0.026848</td>\n",
              "      <td>0.073630</td>\n",
              "      <td>0.163854</td>\n",
              "    </tr>\n",
              "    <tr>\n",
              "      <th>1</th>\n",
              "      <td>xgb_model2</td>\n",
              "      <td>0.993969</td>\n",
              "      <td>0.995944</td>\n",
              "      <td>0.024165</td>\n",
              "      <td>0.016306</td>\n",
              "      <td>0.155450</td>\n",
              "      <td>0.127696</td>\n",
              "    </tr>\n",
              "    <tr>\n",
              "      <th>2</th>\n",
              "      <td>xgb_model3</td>\n",
              "      <td>0.994258</td>\n",
              "      <td>0.995944</td>\n",
              "      <td>0.023023</td>\n",
              "      <td>0.016298</td>\n",
              "      <td>0.151733</td>\n",
              "      <td>0.127662</td>\n",
              "    </tr>\n",
              "  </tbody>\n",
              "</table>\n",
              "</div>"
            ],
            "text/plain": [
              "       Modelo  Train r2 score  Test r2 score  Train Mse  Test Mse  Train Rmse  \\\n",
              "0  xgb_model1        0.998656       0.993321   0.005421  0.026848    0.073630   \n",
              "1  xgb_model2        0.993969       0.995944   0.024165  0.016306    0.155450   \n",
              "2  xgb_model3        0.994258       0.995944   0.023023  0.016298    0.151733   \n",
              "\n",
              "   Test Rmse  \n",
              "0   0.163854  \n",
              "1   0.127696  \n",
              "2   0.127662  "
            ]
          },
          "metadata": {
            "tags": []
          },
          "execution_count": 164
        }
      ]
    },
    {
      "cell_type": "code",
      "metadata": {
        "id": "z-ywiumPMmoU",
        "colab_type": "code",
        "colab": {}
      },
      "source": [
        "# Aplicar modelo no dataset test\n",
        "test_preds = xgb_model1.predict(test)\n",
        "# Recuperar número original\n",
        "test_preds_2 = np.expm1(test_preds)"
      ],
      "execution_count": null,
      "outputs": []
    },
    {
      "cell_type": "code",
      "metadata": {
        "id": "V7e8M7J5Mn8W",
        "colab_type": "code",
        "colab": {
          "base_uri": "https://localhost:8080/",
          "height": 33
        },
        "outputId": "06bdc09f-ae38-4c7d-9554-903942f82b12"
      },
      "source": [
        "# The lines below shows how to save predictions in format used for competition scoring\n",
        "# Just uncomment them.\n",
        "\n",
        "output = pd.DataFrame({'NU_INSCRICAO': test_2.NU_INSCRICAO,\n",
        "                       'NU_NOTA_MT': test_preds_2})\n",
        "output.to_csv('answer.csv', index=False)\n",
        "\n",
        "print(\"Done\")"
      ],
      "execution_count": null,
      "outputs": [
        {
          "output_type": "stream",
          "text": [
            "Done\n"
          ],
          "name": "stdout"
        }
      ]
    }
  ]
}