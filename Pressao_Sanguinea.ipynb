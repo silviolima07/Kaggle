{
  "nbformat": 4,
  "nbformat_minor": 0,
  "metadata": {
    "colab": {
      "name": "Pressao_Sanguinea",
      "provenance": [],
      "collapsed_sections": [],
      "mount_file_id": "1kZ2LuuQrfffI6BLozdKlsj4hXhszq99l",
      "authorship_tag": "ABX9TyMtIZ2a8x7LnJNBLFWexdT9",
      "include_colab_link": true
    },
    "kernelspec": {
      "display_name": "Python 3",
      "name": "python3"
    }
  },
  "cells": [
    {
      "cell_type": "markdown",
      "metadata": {
        "id": "view-in-github",
        "colab_type": "text"
      },
      "source": [
        "<a href=\"https://colab.research.google.com/github/silviolima07/Kaggle/blob/master/Pressao_Sanguinea.ipynb\" target=\"_parent\"><img src=\"https://colab.research.google.com/assets/colab-badge.svg\" alt=\"Open In Colab\"/></a>"
      ]
    },
    {
      "cell_type": "markdown",
      "metadata": {
        "id": "8gr-Sh1hwAld"
      },
      "source": [
        "## Fatores Correlacionados a Pressão Alta\n",
        "### Quais fatores mais influenciam a ocorrência de pressão alta?\n",
        "#### Num grupo de pessoas entre 16 e 35 anos\n",
        "#### Dois fatores tem quase 80% de importância:\n",
        "#### - **SBP - Systolic blood pressure**\n",
        "#### - **DBP - Dystolic blood pressure**\n",
        "### A importância de outros fatores, pode ser vista no final da análise.\n",
        "- Detalhes: https://www.hindawi.com/journals/jobe/2014/637635/\n",
        "\n"
      ]
    },
    {
      "cell_type": "markdown",
      "metadata": {
        "id": "zKQ7IjoHT_uG"
      },
      "source": [
        "![alt text](https://drive.google.com/uc?id=1A2XlJcv6Erj6H4xR0yMhVjynEAIbwTDT)"
      ]
    },
    {
      "cell_type": "code",
      "metadata": {
        "id": "oU2-ggUgHNpl",
        "colab": {
          "base_uri": "https://localhost:8080/"
        },
        "outputId": "015dd3fa-2f51-4823-af2c-23e99b5820ed"
      },
      "source": [
        "# Carregando os pacotes\n",
        "import pandas as pd\n",
        "import numpy as np\n",
        "import seaborn as sns\n",
        "sns.set(color_codes=True)\n",
        "import matplotlib.pyplot as plt\n",
        "\n",
        "from sklearn.model_selection import train_test_split\n",
        "from sklearn.ensemble import RandomForestClassifier\n",
        "from sklearn.ensemble import ExtraTreesClassifier\n",
        "from sklearn import preprocessing\n",
        "\n",
        "\n",
        "from scipy import stats\n",
        "from sklearn.preprocessing import StandardScaler\n",
        "import imblearn\n",
        "\n",
        "from imblearn.over_sampling import SMOTE\n",
        "\n",
        "from sklearn import preprocessing, metrics\n",
        "\n",
        "import warnings\n",
        "warnings.filterwarnings('ignore')\n",
        "\n",
        "import os\n",
        "\n",
        "# Evitar que aparece os warnings\n",
        "import warnings\n",
        "warnings.filterwarnings(\"ignore\")\n",
        "\n",
        "# Seta algumas opções no Jupyter para exibição dos datasets\n",
        "pd.set_option('display.max_columns', 200)\n",
        "pd.set_option('display.max_rows', 200)\n",
        "pd.set_option('precision',2)"
      ],
      "execution_count": 1,
      "outputs": [
        {
          "output_type": "stream",
          "text": [
            "/usr/local/lib/python3.6/dist-packages/sklearn/externals/six.py:31: FutureWarning: The module is deprecated in version 0.21 and will be removed in version 0.23 since we've dropped support for Python 2.7. Please rely on the official version of six (https://pypi.org/project/six/).\n",
            "  \"(https://pypi.org/project/six/).\", FutureWarning)\n",
            "/usr/local/lib/python3.6/dist-packages/sklearn/utils/deprecation.py:144: FutureWarning: The sklearn.neighbors.base module is  deprecated in version 0.22 and will be removed in version 0.24. The corresponding classes / functions should instead be imported from sklearn.neighbors. Anything that cannot be imported from sklearn.neighbors is now part of the private API.\n",
            "  warnings.warn(message, FutureWarning)\n"
          ],
          "name": "stderr"
        }
      ]
    },
    {
      "cell_type": "code",
      "metadata": {
        "id": "QNN1BYS-xRjx"
      },
      "source": [
        "# Funcao para reducao da memoria utilizada\n",
        "def reduce_mem_usage(df, verbose=True):\n",
        "    numerics = ['int16', 'int32', 'int64', 'float16', 'float32', 'float64']\n",
        "    start_mem = df.memory_usage().sum() / 1024**2    \n",
        "    for col in df.columns:\n",
        "        col_type = df[col].dtypes\n",
        "        if col_type in numerics:\n",
        "            c_min = df[col].min()\n",
        "            c_max = df[col].max()\n",
        "            if str(col_type)[:3] == 'int':\n",
        "                if c_min > np.iinfo(np.int8).min and c_max < np.iinfo(np.int8).max:\n",
        "                    df[col] = df[col].astype(np.int8)\n",
        "                elif c_min > np.iinfo(np.int16).min and c_max < np.iinfo(np.int16).max:\n",
        "                    df[col] = df[col].astype(np.int16)\n",
        "                elif c_min > np.iinfo(np.int32).min and c_max < np.iinfo(np.int32).max:\n",
        "                    df[col] = df[col].astype(np.int32)\n",
        "                elif c_min > np.iinfo(np.int64).min and c_max < np.iinfo(np.int64).max:\n",
        "                    df[col] = df[col].astype(np.int64)  \n",
        "            else:\n",
        "                if c_min > np.finfo(np.float16).min and c_max < np.finfo(np.float16).max:\n",
        "                    df[col] = df[col].astype(np.float16)\n",
        "                elif c_min > np.finfo(np.float32).min and c_max < np.finfo(np.float32).max:\n",
        "                    df[col] = df[col].astype(np.float32)\n",
        "                else:\n",
        "                    df[col] = df[col].astype(np.float64)    \n",
        "    end_mem = df.memory_usage().sum() / 1024**2\n",
        "    if verbose: print('Mem. usage decreased to {:5.2f} Mb ({:.1f}% reduction)'.format(end_mem, 100 * (start_mem - end_mem) / start_mem))\n",
        "    return df"
      ],
      "execution_count": 2,
      "outputs": []
    },
    {
      "cell_type": "code",
      "metadata": {
        "id": "wW_aUhMtxfzw"
      },
      "source": [
        "# Funcao para realizar a leitura dos arquivos\n",
        "def read_data(df,path):\n",
        "     \n",
        "        print('Carregando os arquivos de', df)\n",
        "        data = pd.read_csv(path, encoding='latin',decimal=',')\n",
        "        data = reduce_mem_usage(data)\n",
        "        print('Dataset tem {} linhas e {} colunas\\n'.format(data.shape[0], data.shape[1]))\n",
        "        return data"
      ],
      "execution_count": 3,
      "outputs": []
    },
    {
      "cell_type": "code",
      "metadata": {
        "id": "0veadRJntZtQ"
      },
      "source": [
        "def criar_model(genero,df):\r\n",
        "  pred = []\r\n",
        "  # Dividir o dataset em X e y.\r\n",
        "  # X variáveis preditoras\r\n",
        "  # y variável target\r\n",
        "\r\n",
        "  X = df.drop('pressao', axis=1)\r\n",
        "  y = df['pressao']\r\n",
        "  \r\n",
        "  X_train, X_test, y_train, y_test = train_test_split(X, y, random_state=0)\r\n",
        "    \r\n",
        "  for i in range(len(lista_algoritmo)):\r\n",
        "    modelo[i].fit(X_train, y_train)\r\n",
        "    score = modelo[i].score(X_test, y_test)\r\n",
        "    pred.append([genero,lista_algoritmo[i], score])\r\n",
        "  return pred"
      ],
      "execution_count": 4,
      "outputs": []
    },
    {
      "cell_type": "code",
      "metadata": {
        "id": "ZqwWFNBKZA9h"
      },
      "source": [
        "def feature_importance(df):\r\n",
        "    # Dividir o dataset em X e y\r\n",
        "    X = df.drop('pressao', axis=1)\r\n",
        "    y = df['pressao']\r\n",
        "  \r\n",
        "    X_train, X_test, y_train, y_test = train_test_split(X, y, random_state=0)\r\n",
        "\r\n",
        "    rfc = RandomForestClassifier(n_estimators= 500, random_state = 42, n_jobs = -1)\r\n",
        "    rfc.fit(X_train, y_train)\r\n",
        "\r\n",
        "    lista_feature = [] # Irá guardar as features avaliadas\r\n",
        "    lista_score   = [] # Irá guardar o score de importância da feature\r\n",
        "    lista_genero  = [] # Irá guardar o genero dos dados analisados\r\n",
        "\r\n",
        "    from matplotlib import pyplot\r\n",
        "    features = df_mulher.columns\r\n",
        "    importance = rfc.feature_importances_\r\n",
        "    # summarize feature importance\r\n",
        "    for i,v in enumerate(importance):\r\n",
        "\t      #print('Nome:Feature: %0d, Score: %.5f' % (i,v))\r\n",
        "        #print('Feature',i,':',features[i], ' Score:',round(v,3))\r\n",
        "        lista_feature.append(features[i])\r\n",
        "        lista_score.append((round(v,3)))\r\n",
        "    # plot feature importance\r\n",
        "    pyplot.bar([x for x in range(len(importance))], importance)\r\n",
        "    pyplot.title('\\nImportância das Features na Classificação do Modelo\\n', fontsize=14, fontweight='bold');\r\n",
        "    pyplot.show()  \r\n",
        "    return (lista_feature, lista_score)"
      ],
      "execution_count": 5,
      "outputs": []
    },
    {
      "cell_type": "code",
      "metadata": {
        "id": "_WN4gppvZTTv"
      },
      "source": [
        "def show_features():\r\n",
        "  data = { 'Feature': [features[0], features[1],\r\n",
        "                   features[2], features[3],\r\n",
        "                   features[4], features[5],\r\n",
        "                   features[6], features[7]],\r\n",
        "\r\n",
        "        'Importancia': [scores[0], scores[1],\r\n",
        "                   scores[2], scores[3],\r\n",
        "                   scores[4], scores[5],\r\n",
        "                   scores[6], scores[7]]}        \r\n",
        "      \r\n",
        "  df_imp = pd.DataFrame(data, columns=['Feature','Importancia'])\r\n",
        "  df_imp.Importancia = np.round(df_imp.Importancia,2)\r\n",
        "  #\r\n",
        "  print(\"\\nImportância das Features para:\\n\\t\", str.upper(genero),\"\\n\")\r\n",
        "  df_imp.sort_values(by='Importancia')\r\n",
        "  return df_imp"
      ],
      "execution_count": 6,
      "outputs": []
    },
    {
      "cell_type": "code",
      "metadata": {
        "id": "tEpc-eI6ZjXh"
      },
      "source": [
        "def sum_and_plot_importances(df):\r\n",
        "    X = df.drop('pressao', axis=1)\r\n",
        "    y = df['pressao']\r\n",
        "    X_train, X_test, y_train, y_test = train_test_split(X, y, random_state=0)\r\n",
        "    #\r\n",
        "    rfc = RandomForestClassifier(n_estimators= 500, random_state = 42, n_jobs = -1)\r\n",
        "    rfc.fit(X_train, y_train)\r\n",
        "    #\r\n",
        "    importances = rfc.feature_importances_\r\n",
        "    variables = np.array(df.columns)\r\n",
        "    indices = np.argsort(importances)[::-1]\r\n",
        "    importances = np.round(importances[indices],4)\r\n",
        "    variables = variables[indices]\r\n",
        "    # \r\n",
        "    sum_importances = pd.DataFrame()\r\n",
        "    for i in range(importances.size):\r\n",
        "        sum_importance = importances[:(i+1)].sum()\r\n",
        "        this_variable = pd.Series([variables[i], sum_importance])\r\n",
        "        sum_importances = sum_importances.append(this_variable, ignore_index = True)\r\n",
        "    plt.scatter(sum_importances.index, sum_importances.iloc[:,1])\r\n",
        "    return sum_importances"
      ],
      "execution_count": 7,
      "outputs": []
    },
    {
      "cell_type": "code",
      "metadata": {
        "colab": {
          "base_uri": "https://localhost:8080/"
        },
        "id": "GjJa2EY-ye_E",
        "outputId": "7f75f4d7-9e56-4ab7-ea9a-628d0dbe158e"
      },
      "source": [
        "# Leitura dos dados\n",
        "path1= '/content/drive/MyDrive/Colab Notebooks/Dataset/Pressao_Sanguinea/femtodos.csv'\n",
        "path2= '/content/drive/MyDrive/Colab Notebooks/Dataset/Pressao_Sanguinea/masctodos.csv'\n",
        "df_fem = read_data('df_fem',path1)\n",
        "df_masc = read_data('df_masc',path2)"
      ],
      "execution_count": 8,
      "outputs": [
        {
          "output_type": "stream",
          "text": [
            "Carregando os arquivos de df_fem\n",
            "Mem. usage decreased to  0.01 Mb (63.3% reduction)\n",
            "Dataset tem 224 linhas e 10 colunas\n",
            "\n",
            "Carregando os arquivos de df_masc\n",
            "Mem. usage decreased to  0.00 Mb (63.2% reduction)\n",
            "Dataset tem 175 linhas e 10 colunas\n",
            "\n"
          ],
          "name": "stdout"
        }
      ]
    },
    {
      "cell_type": "markdown",
      "metadata": {
        "id": "x9xDNC1_LAy3"
      },
      "source": [
        "\r\n",
        "### Fatores analisados:\r\n",
        "#### - idade, \r\n",
        "#### - obesidade, \r\n",
        "#### - indice de massa corporea (BMI- body mass index)\r\n",
        "#### - circunferência da cintura (WC- waist circumference)\r\n",
        "#### - circunferência do quadril (HC - hip circumference)\r\n",
        "#### - razão da circunferência da cintura(WHR - waist hip ratio),\r\n",
        "#### - SBP - Systolic blood pressure\r\n",
        "#### - DBP - Dystolic blood pressure\r\n",
        "### A coluna preh é a classificação do dataset"
      ]
    },
    {
      "cell_type": "code",
      "metadata": {
        "colab": {
          "base_uri": "https://localhost:8080/",
          "height": 204
        },
        "id": "b5PTvxA_zLkM",
        "outputId": "149a6fd0-5b3e-42d3-c76e-251649014fbc"
      },
      "source": [
        "df_fem.head()"
      ],
      "execution_count": 9,
      "outputs": [
        {
          "output_type": "execute_result",
          "data": {
            "text/html": [
              "<div>\n",
              "<style scoped>\n",
              "    .dataframe tbody tr th:only-of-type {\n",
              "        vertical-align: middle;\n",
              "    }\n",
              "\n",
              "    .dataframe tbody tr th {\n",
              "        vertical-align: top;\n",
              "    }\n",
              "\n",
              "    .dataframe thead th {\n",
              "        text-align: right;\n",
              "    }\n",
              "</style>\n",
              "<table border=\"1\" class=\"dataframe\">\n",
              "  <thead>\n",
              "    <tr style=\"text-align: right;\">\n",
              "      <th></th>\n",
              "      <th>id</th>\n",
              "      <th>Age</th>\n",
              "      <th>Is.Obese</th>\n",
              "      <th>bmi</th>\n",
              "      <th>wc</th>\n",
              "      <th>hc</th>\n",
              "      <th>whr</th>\n",
              "      <th>SBP</th>\n",
              "      <th>DBP</th>\n",
              "      <th>preh</th>\n",
              "    </tr>\n",
              "  </thead>\n",
              "  <tbody>\n",
              "    <tr>\n",
              "      <th>0</th>\n",
              "      <td>1</td>\n",
              "      <td>31</td>\n",
              "      <td>NO</td>\n",
              "      <td>28.77</td>\n",
              "      <td>88</td>\n",
              "      <td>101</td>\n",
              "      <td>87</td>\n",
              "      <td>128.00</td>\n",
              "      <td>74.31</td>\n",
              "      <td>PRE</td>\n",
              "    </tr>\n",
              "    <tr>\n",
              "      <th>1</th>\n",
              "      <td>7</td>\n",
              "      <td>21</td>\n",
              "      <td>NO</td>\n",
              "      <td>27.59</td>\n",
              "      <td>86</td>\n",
              "      <td>110</td>\n",
              "      <td>78</td>\n",
              "      <td>123.31</td>\n",
              "      <td>70.00</td>\n",
              "      <td>PRE</td>\n",
              "    </tr>\n",
              "    <tr>\n",
              "      <th>2</th>\n",
              "      <td>8</td>\n",
              "      <td>23</td>\n",
              "      <td>NO</td>\n",
              "      <td>22.45</td>\n",
              "      <td>72</td>\n",
              "      <td>104</td>\n",
              "      <td>69</td>\n",
              "      <td>90.00</td>\n",
              "      <td>56.66</td>\n",
              "      <td>REGULAR</td>\n",
              "    </tr>\n",
              "    <tr>\n",
              "      <th>3</th>\n",
              "      <td>13</td>\n",
              "      <td>24</td>\n",
              "      <td>NO</td>\n",
              "      <td>28.16</td>\n",
              "      <td>89</td>\n",
              "      <td>108</td>\n",
              "      <td>82</td>\n",
              "      <td>126.69</td>\n",
              "      <td>90.00</td>\n",
              "      <td>PRE</td>\n",
              "    </tr>\n",
              "    <tr>\n",
              "      <th>4</th>\n",
              "      <td>15</td>\n",
              "      <td>20</td>\n",
              "      <td>NO</td>\n",
              "      <td>25.05</td>\n",
              "      <td>81</td>\n",
              "      <td>108</td>\n",
              "      <td>75</td>\n",
              "      <td>120.00</td>\n",
              "      <td>69.00</td>\n",
              "      <td>REGULAR</td>\n",
              "    </tr>\n",
              "  </tbody>\n",
              "</table>\n",
              "</div>"
            ],
            "text/plain": [
              "   id  Age Is.Obese    bmi  wc   hc  whr     SBP    DBP     preh\n",
              "0   1   31       NO  28.77  88  101   87  128.00  74.31      PRE\n",
              "1   7   21       NO  27.59  86  110   78  123.31  70.00      PRE\n",
              "2   8   23       NO  22.45  72  104   69   90.00  56.66  REGULAR\n",
              "3  13   24       NO  28.16  89  108   82  126.69  90.00      PRE\n",
              "4  15   20       NO  25.05  81  108   75  120.00  69.00  REGULAR"
            ]
          },
          "metadata": {
            "tags": []
          },
          "execution_count": 9
        }
      ]
    },
    {
      "cell_type": "markdown",
      "metadata": {
        "id": "eqth_tIy4J4A"
      },
      "source": [
        "### Ajustes iniciais para facilitar a compreensão da análise"
      ]
    },
    {
      "cell_type": "code",
      "metadata": {
        "id": "6875fg5ti7Ng"
      },
      "source": [
        "\n",
        "df_fem['sexo'] = 0\n",
        "df_masc['sexo'] = 1\n",
        "#\n",
        "df_fem['genero'] = 'Mulher'\n",
        "df_masc['genero'] = 'Homem'\n",
        "#\n",
        "df_fem['pressao'] =df_fem.preh\n",
        "df_fem.drop(columns=['preh'], inplace=True)\n",
        "#\n",
        "df_masc['pressao'] =df_masc.hyper\n",
        "df_masc.drop(columns=['hyper'], inplace=True)\n",
        "#\n",
        "df_masc.drop(columns=['id'], inplace=True)\n",
        "df_fem.drop(columns=['id'], inplace=True)"
      ],
      "execution_count": 10,
      "outputs": []
    },
    {
      "cell_type": "code",
      "metadata": {
        "id": "rKHg7IC_90CC"
      },
      "source": [
        "df = pd.concat([df_fem,df_masc])"
      ],
      "execution_count": 11,
      "outputs": []
    },
    {
      "cell_type": "code",
      "metadata": {
        "colab": {
          "base_uri": "https://localhost:8080/"
        },
        "id": "EZWNBvFi0Hph",
        "outputId": "c18c0ed8-d3ad-4590-977e-240134a75a9a"
      },
      "source": [
        "df.columns"
      ],
      "execution_count": 12,
      "outputs": [
        {
          "output_type": "execute_result",
          "data": {
            "text/plain": [
              "Index(['Age', 'Is.Obese', 'bmi', 'wc', 'hc', 'whr', 'SBP', 'DBP', 'sexo',\n",
              "       'genero', 'pressao'],\n",
              "      dtype='object')"
            ]
          },
          "metadata": {
            "tags": []
          },
          "execution_count": 12
        }
      ]
    },
    {
      "cell_type": "code",
      "metadata": {
        "id": "btMBi6Qp3L3i"
      },
      "source": [
        "df = df.rename(columns={\"Age\": \"idade\", \"Is.Obese\": \"obeso\"})"
      ],
      "execution_count": 13,
      "outputs": []
    },
    {
      "cell_type": "code",
      "metadata": {
        "id": "xbc3NyNi49tk"
      },
      "source": [
        "status_obeso = np.where(df.obeso == 'NO',0,1)\n",
        "df.obeso = status_obeso"
      ],
      "execution_count": 14,
      "outputs": []
    },
    {
      "cell_type": "markdown",
      "metadata": {
        "id": "7u10biHydWY-"
      },
      "source": [
        "#### Classificação original no dataset"
      ]
    },
    {
      "cell_type": "code",
      "metadata": {
        "colab": {
          "base_uri": "https://localhost:8080/"
        },
        "id": "GpaRapc_jYY4",
        "outputId": "4b093e8f-7272-418d-a8c6-991f2777e4c1"
      },
      "source": [
        "df.pressao.value_counts()"
      ],
      "execution_count": 15,
      "outputs": [
        {
          "output_type": "execute_result",
          "data": {
            "text/plain": [
              "REGULAR    257\n",
              "PRE         95\n",
              "HYPER       47\n",
              "Name: pressao, dtype: int64"
            ]
          },
          "metadata": {
            "tags": []
          },
          "execution_count": 15
        }
      ]
    },
    {
      "cell_type": "markdown",
      "metadata": {
        "id": "2YgUsQz04hJE"
      },
      "source": [
        "### Valores Atualizados com novas classificações"
      ]
    },
    {
      "cell_type": "markdown",
      "metadata": {
        "id": "k2k1hU_KKFAs"
      },
      "source": [
        "#### **Valores de pressão Sistólica e Diastólica**\n",
        "\n",
        "#### Normal: Menos de 120/80 mmHg;\n",
        "\n",
        "#### Elevado: PA sistólica entre 120-129 e PA diastólica inferior a 80;\n",
        "\n",
        "#### Hipertensão Fase 1: Sistólica entre 130-139 ou diastólica entre 80-89;\n",
        "\n",
        "#### Hipertensão Fase 2: Sistólica pelo menos 140 ou diastólica pelo menos 90 mm Hg;\n",
        "\n",
        "#### Crise hipertensiva: Sistólica superior a 180 mmHg e/ou Diastólica acima de 120 mmHg, com pacientes que necessitam de mudanças imediatas na medicação em pacientes sem sintomas relevantes, ou hospitalização imediata se houver sinais de danos nos órgãos-alvos.\n",
        "\n",
        "#### Fonte:https://www.assistenciafarmaceutica.far.br/novos-valores-de-referencia-para-hipertensao-o-que-mudou/"
      ]
    },
    {
      "cell_type": "code",
      "metadata": {
        "id": "77UvAGHf100z"
      },
      "source": [
        "# Valores fora do filtros, Normal, Alta, Pre_Hiper1, Pre_Hiper2 e Hiper, foram considerados Alta.\n",
        "# Assim casos onde o valores de SBP ou DBP são altos, indicam uma atenção maior.\n",
        "# Exemplo: SBP: 125 e DBP: 82 não se enquadra como Alta, mas foi considerado o valor acima de 120 pra SBP\n",
        "#\n",
        "pressao = np.where((df.SBP < 120) & (df.DBP <80), \"Normal\", \n",
        "                    np.where((df.SBP > 120) & (df.SBP <=129) & (df.DBP < 80), \"Alta\",\n",
        "                             np.where((df.SBP > 130) & (df.SBP <=139) | (df.DBP > 80) & (df.DBP < 90), \"Pre_Hiper_Fase1\",\n",
        "                                      np.where((df.SBP >= 140) | (df.DBP >= 90), \"Pre_Hiper_Fase2\",\n",
        "                                               np.where((df.SBP > 180) & (df.DBP > 120), \"Hiper\", 'Alta')))))"
      ],
      "execution_count": 16,
      "outputs": []
    },
    {
      "cell_type": "code",
      "metadata": {
        "id": "uvBaveuDsyLS"
      },
      "source": [
        "df['pressao'] = pressao"
      ],
      "execution_count": 17,
      "outputs": []
    },
    {
      "cell_type": "markdown",
      "metadata": {
        "id": "X9Wvh7Plz7gY"
      },
      "source": [
        "#### Temos agora um dataset de 399 linhas com a classificação de pressão com valores atualizados."
      ]
    },
    {
      "cell_type": "code",
      "metadata": {
        "colab": {
          "base_uri": "https://localhost:8080/"
        },
        "id": "yWfMexz5syFx",
        "outputId": "ac04188a-5c76-430c-d454-49d639ed1bcf"
      },
      "source": [
        "df.shape"
      ],
      "execution_count": 18,
      "outputs": [
        {
          "output_type": "execute_result",
          "data": {
            "text/plain": [
              "(399, 11)"
            ]
          },
          "metadata": {
            "tags": []
          },
          "execution_count": 18
        }
      ]
    },
    {
      "cell_type": "markdown",
      "metadata": {
        "id": "hkaNHWqR01W8"
      },
      "source": [
        "### Qual o percentual de ocorrência de cada tipo no dataset?"
      ]
    },
    {
      "cell_type": "code",
      "metadata": {
        "colab": {
          "base_uri": "https://localhost:8080/"
        },
        "id": "Gy59bKQtnGLD",
        "outputId": "43aca036-31e4-4846-d7e2-8fa3b84b8f7b"
      },
      "source": [
        "df.pressao.value_counts(normalize=True)"
      ],
      "execution_count": 19,
      "outputs": [
        {
          "output_type": "execute_result",
          "data": {
            "text/plain": [
              "Normal             0.35\n",
              "Pre_Hiper_Fase1    0.28\n",
              "Pre_Hiper_Fase2    0.19\n",
              "Alta               0.17\n",
              "Name: pressao, dtype: float64"
            ]
          },
          "metadata": {
            "tags": []
          },
          "execution_count": 19
        }
      ]
    },
    {
      "cell_type": "markdown",
      "metadata": {
        "id": "J4bdvlj7_tk3"
      },
      "source": [
        "#### Gêneros presentes no dataset"
      ]
    },
    {
      "cell_type": "code",
      "metadata": {
        "colab": {
          "base_uri": "https://localhost:8080/"
        },
        "id": "kGpo47E6-ANx",
        "outputId": "33000b9b-4181-4633-dda8-3fadd85f0e6f"
      },
      "source": [
        "print(\"Total\")\n",
        "print(df['genero'].value_counts(ascending=True))\n",
        "#\n",
        "print(\"\\nPercentual\")\n",
        "print(df['genero'].value_counts(ascending=True,normalize=True))\n"
      ],
      "execution_count": 20,
      "outputs": [
        {
          "output_type": "stream",
          "text": [
            "Total\n",
            "Homem     175\n",
            "Mulher    224\n",
            "Name: genero, dtype: int64\n",
            "\n",
            "Percentual\n",
            "Homem     0.44\n",
            "Mulher    0.56\n",
            "Name: genero, dtype: float64\n"
          ],
          "name": "stdout"
        }
      ]
    },
    {
      "cell_type": "markdown",
      "metadata": {
        "id": "klap43vB1HLK"
      },
      "source": [
        "#### Valores de ocorrência por gênero"
      ]
    },
    {
      "cell_type": "code",
      "metadata": {
        "colab": {
          "base_uri": "https://localhost:8080/"
        },
        "id": "H5hrg7Qpon-w",
        "outputId": "ec2bed66-4587-41c9-bb6c-dd273f2887b9"
      },
      "source": [
        "df.groupby(['genero', 'pressao']).size()"
      ],
      "execution_count": 21,
      "outputs": [
        {
          "output_type": "execute_result",
          "data": {
            "text/plain": [
              "genero  pressao        \n",
              "Homem   Alta                37\n",
              "        Normal              26\n",
              "        Pre_Hiper_Fase1     66\n",
              "        Pre_Hiper_Fase2     46\n",
              "Mulher  Alta                32\n",
              "        Normal             115\n",
              "        Pre_Hiper_Fase1     47\n",
              "        Pre_Hiper_Fase2     30\n",
              "dtype: int64"
            ]
          },
          "metadata": {
            "tags": []
          },
          "execution_count": 21
        }
      ]
    },
    {
      "cell_type": "markdown",
      "metadata": {
        "id": "YRX3r0MIDWMp"
      },
      "source": [
        "### Criação de 5 grupos por idade\n",
        "#### No dataset identifica-se que a grande maioria dos participantes tem idade entre 16 e 25 anos, somando 306 participantes.\n",
        "#### Grupos com poucos participantes podem ser desconsiderados, pois a classificação pode não ter dados suficientes para uma alta acurácia."
      ]
    },
    {
      "cell_type": "code",
      "metadata": {
        "colab": {
          "base_uri": "https://localhost:8080/"
        },
        "id": "QYO9lGp8CCm_",
        "outputId": "c13a4236-5014-442c-e99c-766664405523"
      },
      "source": [
        "df['idade'].value_counts(bins=5)"
      ],
      "execution_count": 22,
      "outputs": [
        {
          "output_type": "execute_result",
          "data": {
            "text/plain": [
              "(15.952, 25.4]    306\n",
              "(25.4, 34.8]       74\n",
              "(34.8, 44.2]       12\n",
              "(44.2, 53.6]        6\n",
              "(53.6, 63.0]        1\n",
              "Name: idade, dtype: int64"
            ]
          },
          "metadata": {
            "tags": []
          },
          "execution_count": 22
        }
      ]
    },
    {
      "cell_type": "markdown",
      "metadata": {
        "id": "7cx8UtpuMTtl"
      },
      "source": [
        "#### Faixas de idade"
      ]
    },
    {
      "cell_type": "code",
      "metadata": {
        "id": "I4lwCYarI1GG"
      },
      "source": [
        "df['faixa']=pd.cut(df.idade,bins = [0,16,26,35,44,54,63],labels=['Até 16','Entre 16 e 26','Entre 26 e 35','Entre 35 e 44', 'Entre 44 e 54', 'Acima de 54'])"
      ],
      "execution_count": 23,
      "outputs": []
    },
    {
      "cell_type": "markdown",
      "metadata": {
        "id": "Df_ucyi7QzlS"
      },
      "source": [
        "### As faixas que mais apresentam ocorrências são:\n",
        "- Entre 16 e 26\n",
        "- Entre 26 e 35"
      ]
    },
    {
      "cell_type": "code",
      "metadata": {
        "colab": {
          "base_uri": "https://localhost:8080/"
        },
        "id": "_gFWbXvLOTfZ",
        "outputId": "b66e4ca8-3c8d-425c-e4b1-2862792be790"
      },
      "source": [
        "df.groupby(['faixa', 'pressao']).size()"
      ],
      "execution_count": 24,
      "outputs": [
        {
          "output_type": "execute_result",
          "data": {
            "text/plain": [
              "faixa          pressao        \n",
              "Até 16         Alta                 0\n",
              "               Normal               1\n",
              "               Pre_Hiper_Fase1      1\n",
              "               Pre_Hiper_Fase2      0\n",
              "Entre 16 e 26  Alta                60\n",
              "               Normal             114\n",
              "               Pre_Hiper_Fase1     87\n",
              "               Pre_Hiper_Fase2     57\n",
              "Entre 26 e 35  Alta                 9\n",
              "               Normal              24\n",
              "               Pre_Hiper_Fase1     21\n",
              "               Pre_Hiper_Fase2     12\n",
              "Entre 35 e 44  Alta                 0\n",
              "               Normal               0\n",
              "               Pre_Hiper_Fase1      2\n",
              "               Pre_Hiper_Fase2      4\n",
              "Entre 44 e 54  Alta                 0\n",
              "               Normal               1\n",
              "               Pre_Hiper_Fase1      2\n",
              "               Pre_Hiper_Fase2      3\n",
              "Acima de 54    Alta                 0\n",
              "               Normal               1\n",
              "               Pre_Hiper_Fase1      0\n",
              "               Pre_Hiper_Fase2      0\n",
              "dtype: int64"
            ]
          },
          "metadata": {
            "tags": []
          },
          "execution_count": 24
        }
      ]
    },
    {
      "cell_type": "markdown",
      "metadata": {
        "id": "M22rbWHNpsfz"
      },
      "source": [
        "### Separar os dois conjuntos de dados e criar um único dataset formado a partir deles."
      ]
    },
    {
      "cell_type": "code",
      "metadata": {
        "id": "soV7Vy1oX7cP"
      },
      "source": [
        "df_16_35 = df.loc[(df.faixa == 'Entre 16 e 26')|(df.faixa == 'Entre 26 e 35')]"
      ],
      "execution_count": 25,
      "outputs": []
    },
    {
      "cell_type": "code",
      "metadata": {
        "id": "qcfL5cb-37EM"
      },
      "source": [
        "df2 = df_16_35"
      ],
      "execution_count": 26,
      "outputs": []
    },
    {
      "cell_type": "code",
      "metadata": {
        "id": "jq2ZVjk5TkfI"
      },
      "source": [
        "# O dataset df2 mantém ainda as categorias mesmo com valores zero, assim é preciso remover as categorias não usadas.\r\n",
        "df2.faixa = df2.faixa.cat.remove_unused_categories()"
      ],
      "execution_count": 27,
      "outputs": []
    },
    {
      "cell_type": "code",
      "metadata": {
        "colab": {
          "base_uri": "https://localhost:8080/",
          "height": 425
        },
        "id": "M0yDvsScf8zz",
        "outputId": "6e6cb789-58f0-4501-960f-206a6147b36f"
      },
      "source": [
        "plt.figure(figsize=(10,5))\n",
        "ax = sns.countplot(x='pressao', data=df, order=df['pressao'].value_counts().index)\n",
        "ax.set_xticklabels(ax.get_xticklabels(), rotation=45, ha=\"right\", fontsize=12)\n",
        "plt.title('Total de ocorrências por tipo de pressão ', fontsize=14, fontweight='bold');"
      ],
      "execution_count": 28,
      "outputs": [
        {
          "output_type": "display_data",
          "data": {
            "image/png": "[encoded data removed]",
            "text/plain": [
              "<Figure size 720x360 with 1 Axes>"
            ]
          },
          "metadata": {
            "tags": [],
            "needs_background": "light"
          }
        }
      ]
    },
    {
      "cell_type": "code",
      "metadata": {
        "colab": {
          "base_uri": "https://localhost:8080/",
          "height": 425
        },
        "id": "LFUqeKKBrssi",
        "outputId": "e5dcf04a-a908-4d03-a1da-ab29fedcb2ab"
      },
      "source": [
        "plt.figure(figsize=(10,5))\r\n",
        "ax = sns.countplot(x=\"pressao\", hue=\"genero\", data=df2)\r\n",
        "ax.set_xticklabels(ax.get_xticklabels(), rotation=45, ha=\"right\", fontsize=12)\r\n",
        "plt.title('Total de ocorrências por tipo de pressão e genero ', fontsize=14, fontweight='bold');"
      ],
      "execution_count": 29,
      "outputs": [
        {
          "output_type": "display_data",
          "data": {
            "image/png": "[encoded data removed]",
            "text/plain": [
              "<Figure size 720x360 with 1 Axes>"
            ]
          },
          "metadata": {
            "tags": [],
            "needs_background": "light"
          }
        }
      ]
    },
    {
      "cell_type": "code",
      "metadata": {
        "colab": {
          "base_uri": "https://localhost:8080/",
          "height": 425
        },
        "id": "tuYvvHcLtrEP",
        "outputId": "7fa813ac-5dd0-422f-b9d0-130b61fe6c7a"
      },
      "source": [
        "plt.figure(figsize=(10,5))\r\n",
        "ax = sns.countplot(x=\"pressao\", hue=\"faixa\", data=df2)\r\n",
        "ax.set_xticklabels(ax.get_xticklabels(), rotation=45, ha=\"right\", fontsize=12)\r\n",
        "plt.title('Total de ocorrências por tipo de pressão e genero ', fontsize=14, fontweight='bold');"
      ],
      "execution_count": 30,
      "outputs": [
        {
          "output_type": "display_data",
          "data": {
            "image/png": "[encoded data removed]",
            "text/plain": [
              "<Figure size 720x360 with 1 Axes>"
            ]
          },
          "metadata": {
            "tags": [],
            "needs_background": "light"
          }
        }
      ]
    },
    {
      "cell_type": "code",
      "metadata": {
        "id": "VQAaomKvAdzT"
      },
      "source": [
        "def countplot(x, hue, **kwargs):\r\n",
        "    data=kwargs.pop(\"data\")\r\n",
        "    order=np.unique(data[\"pressao\"].values)\r\n",
        "    sns.countplot(x, hue=hue, data=data,order=order,**kwargs)"
      ],
      "execution_count": 31,
      "outputs": []
    },
    {
      "cell_type": "code",
      "metadata": {
        "colab": {
          "base_uri": "https://localhost:8080/",
          "height": 460
        },
        "id": "lXvhuQcF-MrU",
        "outputId": "48f67195-e4e7-45ce-ef35-17d75164ceec"
      },
      "source": [
        "plt.figure(figsize=(20,20))\r\n",
        "g = sns.FacetGrid(df2, row='genero',  size=3, aspect=2.5, sharex=False, sharey=False)\r\n",
        "g.map_dataframe(countplot, 'pressao',hue='genero', alpha=.9,\r\n",
        "                palette=sns.color_palette(),  )\r\n",
        "\r\n",
        "g.fig.suptitle('Distribuição por Tipo de Pressao e Genero',fontsize=14, fontweight='bold')\r\n",
        "g.fig.subplots_adjust(top=.85)\r\n",
        "g.set_xlabels('Pressao')\r\n",
        "\r\n",
        "plt.show();"
      ],
      "execution_count": 32,
      "outputs": [
        {
          "output_type": "display_data",
          "data": {
            "text/plain": [
              "<Figure size 1440x1440 with 0 Axes>"
            ]
          },
          "metadata": {
            "tags": []
          }
        },
        {
          "output_type": "display_data",
          "data": {
            "image/png": "[encoded data removed]",
            "text/plain": [
              "<Figure size 540x432 with 2 Axes>"
            ]
          },
          "metadata": {
            "tags": [],
            "needs_background": "light"
          }
        }
      ]
    },
    {
      "cell_type": "code",
      "metadata": {
        "id": "o0U6UVMkhvMF"
      },
      "source": [
        "df_plot = df2.groupby(['genero', 'pressao']).size().reset_index().pivot(columns='genero', index='pressao', values=0)"
      ],
      "execution_count": 33,
      "outputs": []
    },
    {
      "cell_type": "code",
      "metadata": {
        "colab": {
          "base_uri": "https://localhost:8080/",
          "height": 204
        },
        "id": "NOzoXsCQh6zm",
        "outputId": "75477338-6482-4449-8905-3d6d84c2ddf4"
      },
      "source": [
        "df_plot"
      ],
      "execution_count": 34,
      "outputs": [
        {
          "output_type": "execute_result",
          "data": {
            "text/html": [
              "<div>\n",
              "<style scoped>\n",
              "    .dataframe tbody tr th:only-of-type {\n",
              "        vertical-align: middle;\n",
              "    }\n",
              "\n",
              "    .dataframe tbody tr th {\n",
              "        vertical-align: top;\n",
              "    }\n",
              "\n",
              "    .dataframe thead th {\n",
              "        text-align: right;\n",
              "    }\n",
              "</style>\n",
              "<table border=\"1\" class=\"dataframe\">\n",
              "  <thead>\n",
              "    <tr style=\"text-align: right;\">\n",
              "      <th>genero</th>\n",
              "      <th>Homem</th>\n",
              "      <th>Mulher</th>\n",
              "    </tr>\n",
              "    <tr>\n",
              "      <th>pressao</th>\n",
              "      <th></th>\n",
              "      <th></th>\n",
              "    </tr>\n",
              "  </thead>\n",
              "  <tbody>\n",
              "    <tr>\n",
              "      <th>Alta</th>\n",
              "      <td>37</td>\n",
              "      <td>32</td>\n",
              "    </tr>\n",
              "    <tr>\n",
              "      <th>Normal</th>\n",
              "      <td>25</td>\n",
              "      <td>113</td>\n",
              "    </tr>\n",
              "    <tr>\n",
              "      <th>Pre_Hiper_Fase1</th>\n",
              "      <td>63</td>\n",
              "      <td>45</td>\n",
              "    </tr>\n",
              "    <tr>\n",
              "      <th>Pre_Hiper_Fase2</th>\n",
              "      <td>42</td>\n",
              "      <td>27</td>\n",
              "    </tr>\n",
              "  </tbody>\n",
              "</table>\n",
              "</div>"
            ],
            "text/plain": [
              "genero           Homem  Mulher\n",
              "pressao                       \n",
              "Alta                37      32\n",
              "Normal              25     113\n",
              "Pre_Hiper_Fase1     63      45\n",
              "Pre_Hiper_Fase2     42      27"
            ]
          },
          "metadata": {
            "tags": []
          },
          "execution_count": 34
        }
      ]
    },
    {
      "cell_type": "code",
      "metadata": {
        "colab": {
          "base_uri": "https://localhost:8080/",
          "height": 333
        },
        "id": "O7woHGSAhOxO",
        "outputId": "531a0da3-442c-4483-81f2-99c7b9eb1eb7"
      },
      "source": [
        "df_plot.plot(kind='bar', rot=20,stacked=True)\r\n",
        "plt.title('Distribuição por Tipo de Pressao e Genero', fontsize=14, fontweight='bold');"
      ],
      "execution_count": 35,
      "outputs": [
        {
          "output_type": "display_data",
          "data": {
            "image/png": "[encoded data removed]",
            "text/plain": [
              "<Figure size 432x288 with 1 Axes>"
            ]
          },
          "metadata": {
            "tags": [],
            "needs_background": "light"
          }
        }
      ]
    },
    {
      "cell_type": "code",
      "metadata": {
        "colab": {
          "base_uri": "https://localhost:8080/",
          "height": 285
        },
        "id": "MHIei72ThsTO",
        "outputId": "d570b970-56a6-41a3-cfd8-0996d3e98fab"
      },
      "source": [
        "# Distribuição das idades\n",
        "sns.distplot(df2['idade']);"
      ],
      "execution_count": 36,
      "outputs": [
        {
          "output_type": "display_data",
          "data": {
            "image/png": "[encoded data removed]",
            "text/plain": [
              "<Figure size 432x288 with 1 Axes>"
            ]
          },
          "metadata": {
            "tags": [],
            "needs_background": "light"
          }
        }
      ]
    },
    {
      "cell_type": "markdown",
      "metadata": {
        "id": "HRxl1w8Oaei2"
      },
      "source": [
        "### Qual a média de idade em cada genero e faixa ?"
      ]
    },
    {
      "cell_type": "markdown",
      "metadata": {
        "id": "kyD6l4xcbBSE"
      },
      "source": [
        "#### A partir da tabela abaixo temos a idade média pra cada gênero e faixa e pressão identificada nesse dataset\n",
        "#### Essa informação pode orientar a análise"
      ]
    },
    {
      "cell_type": "code",
      "metadata": {
        "colab": {
          "base_uri": "https://localhost:8080/",
          "height": 576
        },
        "id": "pZUxUaS7VQZA",
        "outputId": "bebf8118-8545-4b09-ac50-52b2bca505a9"
      },
      "source": [
        "pd.pivot_table(df2,index=[\"genero\",\"faixa\",'pressao'],values=[\"idade\"],aggfunc=np.mean)"
      ],
      "execution_count": 37,
      "outputs": [
        {
          "output_type": "execute_result",
          "data": {
            "text/html": [
              "<div>\n",
              "<style scoped>\n",
              "    .dataframe tbody tr th:only-of-type {\n",
              "        vertical-align: middle;\n",
              "    }\n",
              "\n",
              "    .dataframe tbody tr th {\n",
              "        vertical-align: top;\n",
              "    }\n",
              "\n",
              "    .dataframe thead th {\n",
              "        text-align: right;\n",
              "    }\n",
              "</style>\n",
              "<table border=\"1\" class=\"dataframe\">\n",
              "  <thead>\n",
              "    <tr style=\"text-align: right;\">\n",
              "      <th></th>\n",
              "      <th></th>\n",
              "      <th></th>\n",
              "      <th>idade</th>\n",
              "    </tr>\n",
              "    <tr>\n",
              "      <th>genero</th>\n",
              "      <th>faixa</th>\n",
              "      <th>pressao</th>\n",
              "      <th></th>\n",
              "    </tr>\n",
              "  </thead>\n",
              "  <tbody>\n",
              "    <tr>\n",
              "      <th rowspan=\"8\" valign=\"top\">Homem</th>\n",
              "      <th rowspan=\"4\" valign=\"top\">Entre 16 e 26</th>\n",
              "      <th>Alta</th>\n",
              "      <td>20.79</td>\n",
              "    </tr>\n",
              "    <tr>\n",
              "      <th>Normal</th>\n",
              "      <td>20.62</td>\n",
              "    </tr>\n",
              "    <tr>\n",
              "      <th>Pre_Hiper_Fase1</th>\n",
              "      <td>20.90</td>\n",
              "    </tr>\n",
              "    <tr>\n",
              "      <th>Pre_Hiper_Fase2</th>\n",
              "      <td>21.19</td>\n",
              "    </tr>\n",
              "    <tr>\n",
              "      <th rowspan=\"4\" valign=\"top\">Entre 26 e 35</th>\n",
              "      <th>Alta</th>\n",
              "      <td>29.00</td>\n",
              "    </tr>\n",
              "    <tr>\n",
              "      <th>Normal</th>\n",
              "      <td>29.67</td>\n",
              "    </tr>\n",
              "    <tr>\n",
              "      <th>Pre_Hiper_Fase1</th>\n",
              "      <td>30.27</td>\n",
              "    </tr>\n",
              "    <tr>\n",
              "      <th>Pre_Hiper_Fase2</th>\n",
              "      <td>30.17</td>\n",
              "    </tr>\n",
              "    <tr>\n",
              "      <th rowspan=\"8\" valign=\"top\">Mulher</th>\n",
              "      <th rowspan=\"4\" valign=\"top\">Entre 16 e 26</th>\n",
              "      <th>Alta</th>\n",
              "      <td>21.12</td>\n",
              "    </tr>\n",
              "    <tr>\n",
              "      <th>Normal</th>\n",
              "      <td>20.52</td>\n",
              "    </tr>\n",
              "    <tr>\n",
              "      <th>Pre_Hiper_Fase1</th>\n",
              "      <td>20.56</td>\n",
              "    </tr>\n",
              "    <tr>\n",
              "      <th>Pre_Hiper_Fase2</th>\n",
              "      <td>21.48</td>\n",
              "    </tr>\n",
              "    <tr>\n",
              "      <th rowspan=\"4\" valign=\"top\">Entre 26 e 35</th>\n",
              "      <th>Alta</th>\n",
              "      <td>29.67</td>\n",
              "    </tr>\n",
              "    <tr>\n",
              "      <th>Normal</th>\n",
              "      <td>29.80</td>\n",
              "    </tr>\n",
              "    <tr>\n",
              "      <th>Pre_Hiper_Fase1</th>\n",
              "      <td>31.67</td>\n",
              "    </tr>\n",
              "    <tr>\n",
              "      <th>Pre_Hiper_Fase2</th>\n",
              "      <td>29.83</td>\n",
              "    </tr>\n",
              "  </tbody>\n",
              "</table>\n",
              "</div>"
            ],
            "text/plain": [
              "                                      idade\n",
              "genero faixa         pressao               \n",
              "Homem  Entre 16 e 26 Alta             20.79\n",
              "                     Normal           20.62\n",
              "                     Pre_Hiper_Fase1  20.90\n",
              "                     Pre_Hiper_Fase2  21.19\n",
              "       Entre 26 e 35 Alta             29.00\n",
              "                     Normal           29.67\n",
              "                     Pre_Hiper_Fase1  30.27\n",
              "                     Pre_Hiper_Fase2  30.17\n",
              "Mulher Entre 16 e 26 Alta             21.12\n",
              "                     Normal           20.52\n",
              "                     Pre_Hiper_Fase1  20.56\n",
              "                     Pre_Hiper_Fase2  21.48\n",
              "       Entre 26 e 35 Alta             29.67\n",
              "                     Normal           29.80\n",
              "                     Pre_Hiper_Fase1  31.67\n",
              "                     Pre_Hiper_Fase2  29.83"
            ]
          },
          "metadata": {
            "tags": []
          },
          "execution_count": 37
        }
      ]
    },
    {
      "cell_type": "markdown",
      "metadata": {
        "id": "f4LjdDayvRu0"
      },
      "source": [
        "### Separando o dataset por genero\r\n",
        "### Assim a análise usará apenas os dados de cada grupo separadamente"
      ]
    },
    {
      "cell_type": "code",
      "metadata": {
        "id": "qmSUSJItby5w"
      },
      "source": [
        "df_mulher = df2.loc[df2.genero == 'Mulher']\n",
        "#\n",
        "# As coluna genero, sexo e faixa não serão utilizadas no treinamento do modelo\n",
        "df_mulher = df_mulher.drop(['genero', 'sexo', 'faixa'], axis=1)\n",
        "#\n",
        "df_homem = df2.loc[df2.genero == 'Homem']\n",
        "df_homem = df_homem.drop(['genero', 'sexo', 'faixa'], axis=1)"
      ],
      "execution_count": 38,
      "outputs": []
    },
    {
      "cell_type": "markdown",
      "metadata": {
        "id": "YQewAoJlxVlr"
      },
      "source": [
        "### Removendo colunas que não serão utilizadas no treinamento do modelo"
      ]
    },
    {
      "cell_type": "code",
      "metadata": {
        "colab": {
          "base_uri": "https://localhost:8080/",
          "height": 297
        },
        "id": "KekafdETcdnv",
        "outputId": "f5203e96-04ce-424a-fa81-429bdef9094b"
      },
      "source": [
        "df_mulher.describe().T"
      ],
      "execution_count": 39,
      "outputs": [
        {
          "output_type": "execute_result",
          "data": {
            "text/html": [
              "<div>\n",
              "<style scoped>\n",
              "    .dataframe tbody tr th:only-of-type {\n",
              "        vertical-align: middle;\n",
              "    }\n",
              "\n",
              "    .dataframe tbody tr th {\n",
              "        vertical-align: top;\n",
              "    }\n",
              "\n",
              "    .dataframe thead th {\n",
              "        text-align: right;\n",
              "    }\n",
              "</style>\n",
              "<table border=\"1\" class=\"dataframe\">\n",
              "  <thead>\n",
              "    <tr style=\"text-align: right;\">\n",
              "      <th></th>\n",
              "      <th>count</th>\n",
              "      <th>mean</th>\n",
              "      <th>std</th>\n",
              "      <th>min</th>\n",
              "      <th>25%</th>\n",
              "      <th>50%</th>\n",
              "      <th>75%</th>\n",
              "      <th>max</th>\n",
              "    </tr>\n",
              "  </thead>\n",
              "  <tbody>\n",
              "    <tr>\n",
              "      <th>idade</th>\n",
              "      <td>217.0</td>\n",
              "      <td>22.15</td>\n",
              "      <td>4.17</td>\n",
              "      <td>17.00</td>\n",
              "      <td>19.00</td>\n",
              "      <td>21.00</td>\n",
              "      <td>24.00</td>\n",
              "      <td>35.00</td>\n",
              "    </tr>\n",
              "    <tr>\n",
              "      <th>obeso</th>\n",
              "      <td>217.0</td>\n",
              "      <td>0.05</td>\n",
              "      <td>0.22</td>\n",
              "      <td>0.00</td>\n",
              "      <td>0.00</td>\n",
              "      <td>0.00</td>\n",
              "      <td>0.00</td>\n",
              "      <td>1.00</td>\n",
              "    </tr>\n",
              "    <tr>\n",
              "      <th>bmi</th>\n",
              "      <td>217.0</td>\n",
              "      <td>23.16</td>\n",
              "      <td>4.02</td>\n",
              "      <td>16.23</td>\n",
              "      <td>20.34</td>\n",
              "      <td>22.45</td>\n",
              "      <td>25.48</td>\n",
              "      <td>45.16</td>\n",
              "    </tr>\n",
              "    <tr>\n",
              "      <th>wc</th>\n",
              "      <td>217.0</td>\n",
              "      <td>76.69</td>\n",
              "      <td>9.32</td>\n",
              "      <td>61.00</td>\n",
              "      <td>70.00</td>\n",
              "      <td>76.00</td>\n",
              "      <td>81.00</td>\n",
              "      <td>113.00</td>\n",
              "    </tr>\n",
              "    <tr>\n",
              "      <th>hc</th>\n",
              "      <td>217.0</td>\n",
              "      <td>100.79</td>\n",
              "      <td>8.61</td>\n",
              "      <td>79.00</td>\n",
              "      <td>94.00</td>\n",
              "      <td>100.00</td>\n",
              "      <td>106.00</td>\n",
              "      <td>132.00</td>\n",
              "    </tr>\n",
              "    <tr>\n",
              "      <th>whr</th>\n",
              "      <td>217.0</td>\n",
              "      <td>76.03</td>\n",
              "      <td>5.71</td>\n",
              "      <td>64.00</td>\n",
              "      <td>73.00</td>\n",
              "      <td>76.00</td>\n",
              "      <td>79.00</td>\n",
              "      <td>104.00</td>\n",
              "    </tr>\n",
              "    <tr>\n",
              "      <th>SBP</th>\n",
              "      <td>217.0</td>\n",
              "      <td>118.31</td>\n",
              "      <td>15.91</td>\n",
              "      <td>10.67</td>\n",
              "      <td>108.69</td>\n",
              "      <td>116.69</td>\n",
              "      <td>127.69</td>\n",
              "      <td>160.62</td>\n",
              "    </tr>\n",
              "    <tr>\n",
              "      <th>DBP</th>\n",
              "      <td>217.0</td>\n",
              "      <td>75.88</td>\n",
              "      <td>12.02</td>\n",
              "      <td>7.00</td>\n",
              "      <td>68.31</td>\n",
              "      <td>74.00</td>\n",
              "      <td>81.69</td>\n",
              "      <td>120.00</td>\n",
              "    </tr>\n",
              "  </tbody>\n",
              "</table>\n",
              "</div>"
            ],
            "text/plain": [
              "       count    mean    std    min     25%     50%     75%     max\n",
              "idade  217.0   22.15   4.17  17.00   19.00   21.00   24.00   35.00\n",
              "obeso  217.0    0.05   0.22   0.00    0.00    0.00    0.00    1.00\n",
              "bmi    217.0   23.16   4.02  16.23   20.34   22.45   25.48   45.16\n",
              "wc     217.0   76.69   9.32  61.00   70.00   76.00   81.00  113.00\n",
              "hc     217.0  100.79   8.61  79.00   94.00  100.00  106.00  132.00\n",
              "whr    217.0   76.03   5.71  64.00   73.00   76.00   79.00  104.00\n",
              "SBP    217.0  118.31  15.91  10.67  108.69  116.69  127.69  160.62\n",
              "DBP    217.0   75.88  12.02   7.00   68.31   74.00   81.69  120.00"
            ]
          },
          "metadata": {
            "tags": []
          },
          "execution_count": 39
        }
      ]
    },
    {
      "cell_type": "code",
      "metadata": {
        "colab": {
          "base_uri": "https://localhost:8080/",
          "height": 297
        },
        "id": "Dkw0XgEjweSj",
        "outputId": "4dd05191-3fc6-4135-de81-94b0ff4d4dc0"
      },
      "source": [
        "df_homem.describe().T"
      ],
      "execution_count": 40,
      "outputs": [
        {
          "output_type": "execute_result",
          "data": {
            "text/html": [
              "<div>\n",
              "<style scoped>\n",
              "    .dataframe tbody tr th:only-of-type {\n",
              "        vertical-align: middle;\n",
              "    }\n",
              "\n",
              "    .dataframe tbody tr th {\n",
              "        vertical-align: top;\n",
              "    }\n",
              "\n",
              "    .dataframe thead th {\n",
              "        text-align: right;\n",
              "    }\n",
              "</style>\n",
              "<table border=\"1\" class=\"dataframe\">\n",
              "  <thead>\n",
              "    <tr style=\"text-align: right;\">\n",
              "      <th></th>\n",
              "      <th>count</th>\n",
              "      <th>mean</th>\n",
              "      <th>std</th>\n",
              "      <th>min</th>\n",
              "      <th>25%</th>\n",
              "      <th>50%</th>\n",
              "      <th>75%</th>\n",
              "      <th>max</th>\n",
              "    </tr>\n",
              "  </thead>\n",
              "  <tbody>\n",
              "    <tr>\n",
              "      <th>idade</th>\n",
              "      <td>167.0</td>\n",
              "      <td>22.71</td>\n",
              "      <td>4.27</td>\n",
              "      <td>17.00</td>\n",
              "      <td>19.00</td>\n",
              "      <td>21.00</td>\n",
              "      <td>25.00</td>\n",
              "      <td>35.00</td>\n",
              "    </tr>\n",
              "    <tr>\n",
              "      <th>obeso</th>\n",
              "      <td>167.0</td>\n",
              "      <td>0.10</td>\n",
              "      <td>0.30</td>\n",
              "      <td>0.00</td>\n",
              "      <td>0.00</td>\n",
              "      <td>0.00</td>\n",
              "      <td>0.00</td>\n",
              "      <td>1.00</td>\n",
              "    </tr>\n",
              "    <tr>\n",
              "      <th>bmi</th>\n",
              "      <td>167.0</td>\n",
              "      <td>24.84</td>\n",
              "      <td>4.36</td>\n",
              "      <td>17.09</td>\n",
              "      <td>22.05</td>\n",
              "      <td>24.66</td>\n",
              "      <td>26.95</td>\n",
              "      <td>43.59</td>\n",
              "    </tr>\n",
              "    <tr>\n",
              "      <th>wc</th>\n",
              "      <td>167.0</td>\n",
              "      <td>85.63</td>\n",
              "      <td>11.43</td>\n",
              "      <td>48.00</td>\n",
              "      <td>79.00</td>\n",
              "      <td>83.00</td>\n",
              "      <td>92.00</td>\n",
              "      <td>126.00</td>\n",
              "    </tr>\n",
              "    <tr>\n",
              "      <th>hc</th>\n",
              "      <td>167.0</td>\n",
              "      <td>102.86</td>\n",
              "      <td>9.03</td>\n",
              "      <td>80.00</td>\n",
              "      <td>97.00</td>\n",
              "      <td>103.00</td>\n",
              "      <td>108.00</td>\n",
              "      <td>130.00</td>\n",
              "    </tr>\n",
              "    <tr>\n",
              "      <th>whr</th>\n",
              "      <td>167.0</td>\n",
              "      <td>83.12</td>\n",
              "      <td>6.66</td>\n",
              "      <td>49.00</td>\n",
              "      <td>80.00</td>\n",
              "      <td>82.00</td>\n",
              "      <td>87.00</td>\n",
              "      <td>114.00</td>\n",
              "    </tr>\n",
              "    <tr>\n",
              "      <th>SBP</th>\n",
              "      <td>167.0</td>\n",
              "      <td>132.12</td>\n",
              "      <td>14.48</td>\n",
              "      <td>98.00</td>\n",
              "      <td>122.84</td>\n",
              "      <td>130.00</td>\n",
              "      <td>140.50</td>\n",
              "      <td>175.00</td>\n",
              "    </tr>\n",
              "    <tr>\n",
              "      <th>DBP</th>\n",
              "      <td>167.0</td>\n",
              "      <td>82.31</td>\n",
              "      <td>11.36</td>\n",
              "      <td>50.00</td>\n",
              "      <td>76.31</td>\n",
              "      <td>81.31</td>\n",
              "      <td>89.50</td>\n",
              "      <td>112.00</td>\n",
              "    </tr>\n",
              "  </tbody>\n",
              "</table>\n",
              "</div>"
            ],
            "text/plain": [
              "       count    mean    std    min     25%     50%     75%     max\n",
              "idade  167.0   22.71   4.27  17.00   19.00   21.00   25.00   35.00\n",
              "obeso  167.0    0.10   0.30   0.00    0.00    0.00    0.00    1.00\n",
              "bmi    167.0   24.84   4.36  17.09   22.05   24.66   26.95   43.59\n",
              "wc     167.0   85.63  11.43  48.00   79.00   83.00   92.00  126.00\n",
              "hc     167.0  102.86   9.03  80.00   97.00  103.00  108.00  130.00\n",
              "whr    167.0   83.12   6.66  49.00   80.00   82.00   87.00  114.00\n",
              "SBP    167.0  132.12  14.48  98.00  122.84  130.00  140.50  175.00\n",
              "DBP    167.0   82.31  11.36  50.00   76.31   81.31   89.50  112.00"
            ]
          },
          "metadata": {
            "tags": []
          },
          "execution_count": 40
        }
      ]
    },
    {
      "cell_type": "code",
      "metadata": {
        "colab": {
          "base_uri": "https://localhost:8080/",
          "height": 204
        },
        "id": "gabtLL2mwqB5",
        "outputId": "9b3975af-ca29-43db-b441-a6eb390d85d8"
      },
      "source": [
        "df_homem.head()"
      ],
      "execution_count": 41,
      "outputs": [
        {
          "output_type": "execute_result",
          "data": {
            "text/html": [
              "<div>\n",
              "<style scoped>\n",
              "    .dataframe tbody tr th:only-of-type {\n",
              "        vertical-align: middle;\n",
              "    }\n",
              "\n",
              "    .dataframe tbody tr th {\n",
              "        vertical-align: top;\n",
              "    }\n",
              "\n",
              "    .dataframe thead th {\n",
              "        text-align: right;\n",
              "    }\n",
              "</style>\n",
              "<table border=\"1\" class=\"dataframe\">\n",
              "  <thead>\n",
              "    <tr style=\"text-align: right;\">\n",
              "      <th></th>\n",
              "      <th>idade</th>\n",
              "      <th>obeso</th>\n",
              "      <th>bmi</th>\n",
              "      <th>wc</th>\n",
              "      <th>hc</th>\n",
              "      <th>whr</th>\n",
              "      <th>SBP</th>\n",
              "      <th>DBP</th>\n",
              "      <th>pressao</th>\n",
              "    </tr>\n",
              "  </thead>\n",
              "  <tbody>\n",
              "    <tr>\n",
              "      <th>0</th>\n",
              "      <td>20</td>\n",
              "      <td>0</td>\n",
              "      <td>27.94</td>\n",
              "      <td>95</td>\n",
              "      <td>112</td>\n",
              "      <td>85</td>\n",
              "      <td>120.00</td>\n",
              "      <td>80.00</td>\n",
              "      <td>Alta</td>\n",
              "    </tr>\n",
              "    <tr>\n",
              "      <th>1</th>\n",
              "      <td>19</td>\n",
              "      <td>0</td>\n",
              "      <td>18.66</td>\n",
              "      <td>69</td>\n",
              "      <td>85</td>\n",
              "      <td>81</td>\n",
              "      <td>100.00</td>\n",
              "      <td>63.34</td>\n",
              "      <td>Normal</td>\n",
              "    </tr>\n",
              "    <tr>\n",
              "      <th>2</th>\n",
              "      <td>31</td>\n",
              "      <td>0</td>\n",
              "      <td>27.62</td>\n",
              "      <td>102</td>\n",
              "      <td>107</td>\n",
              "      <td>95</td>\n",
              "      <td>106.69</td>\n",
              "      <td>70.00</td>\n",
              "      <td>Normal</td>\n",
              "    </tr>\n",
              "    <tr>\n",
              "      <th>3</th>\n",
              "      <td>22</td>\n",
              "      <td>0</td>\n",
              "      <td>24.95</td>\n",
              "      <td>86</td>\n",
              "      <td>107</td>\n",
              "      <td>80</td>\n",
              "      <td>120.00</td>\n",
              "      <td>80.00</td>\n",
              "      <td>Alta</td>\n",
              "    </tr>\n",
              "    <tr>\n",
              "      <th>4</th>\n",
              "      <td>19</td>\n",
              "      <td>0</td>\n",
              "      <td>25.16</td>\n",
              "      <td>82</td>\n",
              "      <td>99</td>\n",
              "      <td>83</td>\n",
              "      <td>126.69</td>\n",
              "      <td>80.00</td>\n",
              "      <td>Alta</td>\n",
              "    </tr>\n",
              "  </tbody>\n",
              "</table>\n",
              "</div>"
            ],
            "text/plain": [
              "   idade  obeso    bmi   wc   hc  whr     SBP    DBP pressao\n",
              "0     20      0  27.94   95  112   85  120.00  80.00    Alta\n",
              "1     19      0  18.66   69   85   81  100.00  63.34  Normal\n",
              "2     31      0  27.62  102  107   95  106.69  70.00  Normal\n",
              "3     22      0  24.95   86  107   80  120.00  80.00    Alta\n",
              "4     19      0  25.16   82   99   83  126.69  80.00    Alta"
            ]
          },
          "metadata": {
            "tags": []
          },
          "execution_count": 41
        }
      ]
    },
    {
      "cell_type": "markdown",
      "metadata": {
        "id": "qaYlb2nuOsg9"
      },
      "source": [
        "## Treinamento do Modelo"
      ]
    },
    {
      "cell_type": "markdown",
      "metadata": {
        "id": "4AWU55XIPOyR"
      },
      "source": [
        "### Identificado um desbalanceamento da variável pressão\n",
        "### isso irá impactar na classificação correta do modelo"
      ]
    },
    {
      "cell_type": "code",
      "metadata": {
        "colab": {
          "base_uri": "https://localhost:8080/"
        },
        "id": "mPyteNOZ1YFc",
        "outputId": "738ed7ce-d350-4fbb-9921-e85739e00516"
      },
      "source": [
        "df_mulher.groupby('pressao').size()"
      ],
      "execution_count": 42,
      "outputs": [
        {
          "output_type": "execute_result",
          "data": {
            "text/plain": [
              "pressao\n",
              "Alta                32\n",
              "Normal             113\n",
              "Pre_Hiper_Fase1     45\n",
              "Pre_Hiper_Fase2     27\n",
              "dtype: int64"
            ]
          },
          "metadata": {
            "tags": []
          },
          "execution_count": 42
        }
      ]
    },
    {
      "cell_type": "code",
      "metadata": {
        "colab": {
          "base_uri": "https://localhost:8080/",
          "height": 416
        },
        "id": "CQScmOuG12qH",
        "outputId": "8b6a6b39-4333-417c-c662-047e50ca2c95"
      },
      "source": [
        "# Total de mulheres de acordo com o tipo de pressao\n",
        "target_count = df_mulher['pressao'].value_counts()\n",
        "print('Normal         :', target_count[0])\n",
        "print('Alta           :', target_count[2])\n",
        "print('Pre_Hiper_Fase1:', target_count[1])\n",
        "print('Pre_Hiper_Fase2:', target_count[3])\n",
        "\n",
        "target_count.plot(kind='bar', title='Count (pressao)', rot=20);\n",
        "plt.title('\\nDistribuição por Tipo de Pressao\\n', fontsize=14, fontweight='bold');"
      ],
      "execution_count": 43,
      "outputs": [
        {
          "output_type": "stream",
          "text": [
            "Normal         : 113\n",
            "Alta           : 32\n",
            "Pre_Hiper_Fase1: 45\n",
            "Pre_Hiper_Fase2: 27\n"
          ],
          "name": "stdout"
        },
        {
          "output_type": "display_data",
          "data": {
            "image/png": "[encoded data removed]",
            "text/plain": [
              "<Figure size 432x288 with 1 Axes>"
            ]
          },
          "metadata": {
            "tags": [],
            "needs_background": "light"
          }
        }
      ]
    },
    {
      "cell_type": "markdown",
      "metadata": {
        "id": "2LlXMm8Zt2Pq"
      },
      "source": [
        "### Criar, treinar e avaliar o modelo de classificação"
      ]
    },
    {
      "cell_type": "code",
      "metadata": {
        "id": "kYzlCvQG0lKX"
      },
      "source": [
        "lista_algoritmo=['ExtraTreeClassifier', 'RandomForestClassifier'] \r\n",
        "modelo = [ExtraTreesClassifier(n_estimators=100, random_state=0), RandomForestClassifier(n_estimators= 500, random_state = 42, n_jobs = -1)]"
      ],
      "execution_count": 44,
      "outputs": []
    },
    {
      "cell_type": "code",
      "metadata": {
        "id": "_7NsJPfVkUIf"
      },
      "source": [
        "out_homem= criar_model('Homem',df_homem)\r\n"
      ],
      "execution_count": 45,
      "outputs": []
    },
    {
      "cell_type": "code",
      "metadata": {
        "id": "5d3SgSVns8Co"
      },
      "source": [
        "out_mulher = criar_model('Mulher',df_mulher)"
      ],
      "execution_count": 46,
      "outputs": []
    },
    {
      "cell_type": "code",
      "metadata": {
        "colab": {
          "base_uri": "https://localhost:8080/"
        },
        "id": "ctY5KPXQVfqH",
        "outputId": "1049bc40-1107-42d6-bab1-7e4b0695572b"
      },
      "source": [
        "out_mulher"
      ],
      "execution_count": 47,
      "outputs": [
        {
          "output_type": "execute_result",
          "data": {
            "text/plain": [
              "[['Mulher', 'ExtraTreeClassifier', 0.7454545454545455],\n",
              " ['Mulher', 'RandomForestClassifier', 0.8363636363636363]]"
            ]
          },
          "metadata": {
            "tags": []
          },
          "execution_count": 47
        }
      ]
    },
    {
      "cell_type": "code",
      "metadata": {
        "colab": {
          "base_uri": "https://localhost:8080/",
          "height": 173
        },
        "id": "8bq8CT3DwDbS",
        "outputId": "b46f134e-d733-4118-8316-a075ecef0952"
      },
      "source": [
        "data = { 'Genero': [out_homem[0][0], out_homem[1][0],\r\n",
        "                   out_mulher[0][0], out_mulher[1][0]],\r\n",
        "\r\n",
        "        'Modelo':  [out_homem[0][1], out_homem[1][1],\r\n",
        "                   out_mulher[0][1], out_mulher[1][1]],\r\n",
        "\r\n",
        "        'Acurácia': [out_homem[0][2], out_homem[1][2],\r\n",
        "                    out_mulher[0][2], out_mulher[1][2]]}        \r\n",
        "      \r\n",
        "df_scores = pd.DataFrame(data, columns=['Genero','Modelo', 'Acurácia'])\r\n",
        "df_scores"
      ],
      "execution_count": 48,
      "outputs": [
        {
          "output_type": "execute_result",
          "data": {
            "text/html": [
              "<div>\n",
              "<style scoped>\n",
              "    .dataframe tbody tr th:only-of-type {\n",
              "        vertical-align: middle;\n",
              "    }\n",
              "\n",
              "    .dataframe tbody tr th {\n",
              "        vertical-align: top;\n",
              "    }\n",
              "\n",
              "    .dataframe thead th {\n",
              "        text-align: right;\n",
              "    }\n",
              "</style>\n",
              "<table border=\"1\" class=\"dataframe\">\n",
              "  <thead>\n",
              "    <tr style=\"text-align: right;\">\n",
              "      <th></th>\n",
              "      <th>Genero</th>\n",
              "      <th>Modelo</th>\n",
              "      <th>Acurácia</th>\n",
              "    </tr>\n",
              "  </thead>\n",
              "  <tbody>\n",
              "    <tr>\n",
              "      <th>0</th>\n",
              "      <td>Homem</td>\n",
              "      <td>ExtraTreeClassifier</td>\n",
              "      <td>0.67</td>\n",
              "    </tr>\n",
              "    <tr>\n",
              "      <th>1</th>\n",
              "      <td>Homem</td>\n",
              "      <td>RandomForestClassifier</td>\n",
              "      <td>0.79</td>\n",
              "    </tr>\n",
              "    <tr>\n",
              "      <th>2</th>\n",
              "      <td>Mulher</td>\n",
              "      <td>ExtraTreeClassifier</td>\n",
              "      <td>0.75</td>\n",
              "    </tr>\n",
              "    <tr>\n",
              "      <th>3</th>\n",
              "      <td>Mulher</td>\n",
              "      <td>RandomForestClassifier</td>\n",
              "      <td>0.84</td>\n",
              "    </tr>\n",
              "  </tbody>\n",
              "</table>\n",
              "</div>"
            ],
            "text/plain": [
              "   Genero                  Modelo  Acurácia\n",
              "0   Homem     ExtraTreeClassifier      0.67\n",
              "1   Homem  RandomForestClassifier      0.79\n",
              "2  Mulher     ExtraTreeClassifier      0.75\n",
              "3  Mulher  RandomForestClassifier      0.84"
            ]
          },
          "metadata": {
            "tags": []
          },
          "execution_count": 48
        }
      ]
    },
    {
      "cell_type": "markdown",
      "metadata": {
        "id": "p_OC8FNDkVyR"
      },
      "source": [
        "### Selecionando as variáveis mais importantes\n",
        "#### O Modelo com maior acurácia foi utilizado, nesse caso:\n",
        "#### - RandomForestClassifier\n"
      ]
    },
    {
      "cell_type": "markdown",
      "metadata": {
        "id": "v0k7q0L9JULu"
      },
      "source": [
        "### Informe o dataset que será analisado\r\n",
        "### Informe o genero do dataset"
      ]
    },
    {
      "cell_type": "code",
      "metadata": {
        "id": "B4s5QciI_gdc"
      },
      "source": [
        "df = df_homem\r\n",
        "genero = 'homem'"
      ],
      "execution_count": 53,
      "outputs": []
    },
    {
      "cell_type": "code",
      "metadata": {
        "colab": {
          "base_uri": "https://localhost:8080/",
          "height": 318
        },
        "id": "xAvQPyNGBzbV",
        "outputId": "3678f04a-8aad-4515-de8a-bcf87317fe73"
      },
      "source": [
        "features,scores = feature_importance(df)"
      ],
      "execution_count": 54,
      "outputs": [
        {
          "output_type": "display_data",
          "data": {
            "image/png": "[encoded data removed]",
            "text/plain": [
              "<Figure size 432x288 with 1 Axes>"
            ]
          },
          "metadata": {
            "tags": [],
            "needs_background": "light"
          }
        }
      ]
    },
    {
      "cell_type": "markdown",
      "metadata": {
        "id": "j-fNqdVFCfB3"
      },
      "source": [
        "### Duas Features se destacam com maior importância no dataset\n",
        "### SBP e DBP\n"
      ]
    },
    {
      "cell_type": "code",
      "metadata": {
        "colab": {
          "base_uri": "https://localhost:8080/",
          "height": 365
        },
        "id": "jcP3qFF9Okld",
        "outputId": "58c5a2e3-2464-4bb7-8cf8-05e82954ba10"
      },
      "source": [
        "show_features()"
      ],
      "execution_count": 55,
      "outputs": [
        {
          "output_type": "stream",
          "text": [
            "\n",
            "Importância das Features para:\n",
            "\t HOMEM \n",
            "\n"
          ],
          "name": "stdout"
        },
        {
          "output_type": "execute_result",
          "data": {
            "text/html": [
              "<div>\n",
              "<style scoped>\n",
              "    .dataframe tbody tr th:only-of-type {\n",
              "        vertical-align: middle;\n",
              "    }\n",
              "\n",
              "    .dataframe tbody tr th {\n",
              "        vertical-align: top;\n",
              "    }\n",
              "\n",
              "    .dataframe thead th {\n",
              "        text-align: right;\n",
              "    }\n",
              "</style>\n",
              "<table border=\"1\" class=\"dataframe\">\n",
              "  <thead>\n",
              "    <tr style=\"text-align: right;\">\n",
              "      <th></th>\n",
              "      <th>Feature</th>\n",
              "      <th>Importancia</th>\n",
              "    </tr>\n",
              "  </thead>\n",
              "  <tbody>\n",
              "    <tr>\n",
              "      <th>0</th>\n",
              "      <td>idade</td>\n",
              "      <td>0.06</td>\n",
              "    </tr>\n",
              "    <tr>\n",
              "      <th>1</th>\n",
              "      <td>obeso</td>\n",
              "      <td>0.01</td>\n",
              "    </tr>\n",
              "    <tr>\n",
              "      <th>2</th>\n",
              "      <td>bmi</td>\n",
              "      <td>0.10</td>\n",
              "    </tr>\n",
              "    <tr>\n",
              "      <th>3</th>\n",
              "      <td>wc</td>\n",
              "      <td>0.07</td>\n",
              "    </tr>\n",
              "    <tr>\n",
              "      <th>4</th>\n",
              "      <td>hc</td>\n",
              "      <td>0.07</td>\n",
              "    </tr>\n",
              "    <tr>\n",
              "      <th>5</th>\n",
              "      <td>whr</td>\n",
              "      <td>0.07</td>\n",
              "    </tr>\n",
              "    <tr>\n",
              "      <th>6</th>\n",
              "      <td>SBP</td>\n",
              "      <td>0.32</td>\n",
              "    </tr>\n",
              "    <tr>\n",
              "      <th>7</th>\n",
              "      <td>DBP</td>\n",
              "      <td>0.30</td>\n",
              "    </tr>\n",
              "  </tbody>\n",
              "</table>\n",
              "</div>"
            ],
            "text/plain": [
              "  Feature  Importancia\n",
              "0   idade         0.06\n",
              "1   obeso         0.01\n",
              "2     bmi         0.10\n",
              "3      wc         0.07\n",
              "4      hc         0.07\n",
              "5     whr         0.07\n",
              "6     SBP         0.32\n",
              "7     DBP         0.30"
            ]
          },
          "metadata": {
            "tags": []
          },
          "execution_count": 55
        }
      ]
    },
    {
      "cell_type": "markdown",
      "metadata": {
        "id": "WKfp9xzprpVJ"
      },
      "source": [
        "### Com 4 variáveis já temos um alto valor das Features mais importantes "
      ]
    },
    {
      "cell_type": "code",
      "metadata": {
        "colab": {
          "base_uri": "https://localhost:8080/",
          "height": 302
        },
        "id": "I-ffyriYIk3r",
        "outputId": "662564d8-e576-44d3-ba32-2edaae2e1b67"
      },
      "source": [
        "sum_importances = sum_and_plot_importances(df)\n",
        "plt.title('Soma da importância de cada Feature\\n', fontsize=14, fontweight='bold');"
      ],
      "execution_count": 56,
      "outputs": [
        {
          "output_type": "display_data",
          "data": {
            "image/png": "[encoded data removed]",
            "text/plain": [
              "<Figure size 432x288 with 1 Axes>"
            ]
          },
          "metadata": {
            "tags": [],
            "needs_background": "light"
          }
        }
      ]
    },
    {
      "cell_type": "markdown",
      "metadata": {
        "id": "W1mGDE0j5KPo"
      },
      "source": [
        "### Outras features poderiam ser incluídas para melhorar a acurácia do modelo.\r\n",
        "### Por exemplo incluir:\r\n",
        "#### - se a pessoa fuma, \r\n",
        "#### - se tem o hábito de beber, \r\n",
        "#### - se possui histórico familiar,\r\n",
        "#### - stress,\r\n",
        "#### - ansiedade,\r\n",
        "#### - horas de sono"
      ]
    },
    {
      "cell_type": "markdown",
      "metadata": {
        "id": "mhvDkUM1bh-C"
      },
      "source": [
        "### O balanceamento das classes no dataset de cada conjunto pode aumentar a\r\n",
        "### acurácia do modelo treinado."
      ]
    }
  ]
}