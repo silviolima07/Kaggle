{
  "cells": [
    {
      "cell_type": "markdown",
      "metadata": {
        "id": "view-in-github",
        "colab_type": "text"
      },
      "source": [
        "<a href=\"https://colab.research.google.com/github/silviolima07/Kaggle/blob/master/Analise_Viagens_Onibus_Pyspark.ipynb\" target=\"_parent\"><img src=\"https://colab.research.google.com/assets/colab-badge.svg\" alt=\"Open In Colab\"/></a>"
      ]
    },
    {
      "cell_type": "markdown",
      "source": [
        "# https://www.kaggle.com/code/tientd95/advanced-pyspark-for-exploratory-data-analysis\n",
        "# https://pub.towardsai.net/exploratory-data-analysis-eda-using-pyspark-b43e71fcec9f\n",
        "# https://medium.com/@aieeshashafique/exploratory-data-analysis-using-pyspark-dataframe-in-python-bd55c02a2852"
      ],
      "metadata": {
        "id": "F_h_eZzEhmTy"
      }
    },
    {
      "cell_type": "markdown",
      "source": [
        "![](https://drive.google.com/uc?export=view&id=119CJM4EnZ5XDikTz6_evjINNJBz9pt_2)"
      ],
      "metadata": {
        "id": "3A_bPSCC9SrY"
      }
    },
    {
      "cell_type": "markdown",
      "source": [
        "# Foram usados dados do Kaggle.\n",
        "# Colunas foram selecionadas priorizando aquelas que podem ajudar entender o fluxo de bilhetes emitidos no ano de 2019. No kaggle a base de dados tem informações de 2019 e 2020. Porém os dados de 2020 foram filtrados e removidos pois foi o periodo marcado pelo início da Covid 19 que exigiu restrições de deslocamento e viagens foram impactadas.\n",
        "# Gráficos:\n",
        "- de barras que fácilmente podem ser compreendidos\n",
        "- sankey, indicando o fluxo da origem ao destino\n",
        "- tabelas, mostrando valores estatísticos calculados"
      ],
      "metadata": {
        "id": "-4NFNjk_7i1-"
      }
    },
    {
      "cell_type": "markdown",
      "metadata": {
        "id": "CpJPr3isHoux"
      },
      "source": [
        "# Dados usados:\n",
        "- passagens/viagens - https://www.kaggle.com/datasets/danlessa/brazil-interstate-bus-travels?resource=download"
      ]
    },
    {
      "cell_type": "code",
      "execution_count": 1,
      "metadata": {
        "id": "1D-rS2FP8oyw",
        "colab": {
          "base_uri": "https://localhost:8080/"
        },
        "outputId": "c0ec3892-3f06-4ab7-d967-96f632c71be6"
      },
      "outputs": [
        {
          "output_type": "stream",
          "name": "stdout",
          "text": [
            "Collecting pyspark\n",
            "  Downloading pyspark-3.4.1.tar.gz (310.8 MB)\n",
            "\u001b[2K     \u001b[90m━━━━━━━━━━━━━━━━━━━━━━━━━━━━━━━━━━━━━━━\u001b[0m \u001b[32m310.8/310.8 MB\u001b[0m \u001b[31m3.1 MB/s\u001b[0m eta \u001b[36m0:00:00\u001b[0m\n",
            "\u001b[?25h  Preparing metadata (setup.py) ... \u001b[?25l\u001b[?25hdone\n",
            "Requirement already satisfied: py4j==0.10.9.7 in /usr/local/lib/python3.10/dist-packages (from pyspark) (0.10.9.7)\n",
            "Building wheels for collected packages: pyspark\n",
            "  Building wheel for pyspark (setup.py) ... \u001b[?25l\u001b[?25hdone\n",
            "  Created wheel for pyspark: filename=pyspark-3.4.1-py2.py3-none-any.whl size=311285398 sha256=afb50cde6a082abb979bfdd605459bf74eef23640bfd923c1ad71c0271533261\n",
            "  Stored in directory: /root/.cache/pip/wheels/0d/77/a3/ff2f74cc9ab41f8f594dabf0579c2a7c6de920d584206e0834\n",
            "Successfully built pyspark\n",
            "Installing collected packages: pyspark\n",
            "Successfully installed pyspark-3.4.1\n"
          ]
        }
      ],
      "source": [
        "!pip install pyspark"
      ]
    },
    {
      "cell_type": "code",
      "execution_count": 2,
      "metadata": {
        "id": "kPKZ58-_k8-7"
      },
      "outputs": [],
      "source": [
        "# Import other modules not related to PySpark\n",
        "import os\n",
        "import sys\n",
        "import pandas as pd\n",
        "from pandas import DataFrame\n",
        "import numpy as np\n",
        "import matplotlib.pyplot as plt\n",
        "import matplotlib.ticker as mtick\n",
        "import matplotlib\n",
        "from mpl_toolkits.mplot3d import Axes3D\n",
        "import math\n",
        "from IPython.core.interactiveshell import InteractiveShell\n",
        "from datetime import *\n",
        "import statistics as stats\n",
        "# This helps auto print out the items without explixitly using 'print'\n",
        "InteractiveShell.ast_node_interactivity = \"all\"\n",
        "%matplotlib inline"
      ]
    },
    {
      "cell_type": "code",
      "execution_count": 3,
      "metadata": {
        "id": "IJl8y7lKzHA2"
      },
      "outputs": [],
      "source": [
        "# Import PySpark related modules\n",
        "import pyspark\n",
        "from pyspark.rdd import RDD\n",
        "from pyspark.sql import Row\n",
        "from pyspark.sql import DataFrame\n",
        "from pyspark.sql import SparkSession\n",
        "from pyspark.sql import SQLContext\n",
        "from pyspark.sql import functions\n",
        "from pyspark.sql.functions import lit, desc, col, size, array_contains\\\n",
        ", isnan, udf, hour, array_min, array_max, countDistinct\n",
        "from pyspark.sql.types import *\n",
        "\n",
        "MAX_MEMORY = '10G'\n",
        "# Initialize a spark session.\n",
        "conf = pyspark.SparkConf().setMaster(\"local[*]\") \\\n",
        "        .set('spark.executor.heartbeatInterval', 10000) \\\n",
        "        .set('spark.network.timeout', 10000) \\\n",
        "        .set(\"spark.core.connection.ack.wait.timeout\", \"3600\") \\\n",
        "        .set(\"spark.executor.memory\", MAX_MEMORY) \\\n",
        "        .set(\"spark.driver.memory\", MAX_MEMORY)\n",
        "def init_spark():\n",
        "    spark = SparkSession \\\n",
        "        .builder \\\n",
        "        .appName(\"Pyspark guide\") \\\n",
        "        .config(conf=conf) \\\n",
        "        .getOrCreate()\n",
        "    return spark\n",
        "\n",
        "spark = init_spark()"
      ]
    },
    {
      "cell_type": "code",
      "source": [
        "from google.colab import drive\n",
        "drive.mount('/content/drive')"
      ],
      "metadata": {
        "colab": {
          "base_uri": "https://localhost:8080/"
        },
        "id": "D1VlP2hgAU9I",
        "outputId": "d3cd1798-e64d-4d13-a3cf-72a19b562448"
      },
      "execution_count": 4,
      "outputs": [
        {
          "output_type": "stream",
          "name": "stdout",
          "text": [
            "Mounted at /content/drive\n"
          ]
        }
      ]
    },
    {
      "cell_type": "code",
      "source": [
        "df_03_2019 =  spark.read.options(header='True', inferSchema='True',delimiter=';').csv(\"/content/drive/MyDrive/Viagens/venda_passagem_03_2019/venda_passagem_03_2019.csv\")\n",
        "#\n",
        "df_11_2019 =  spark.read.options(header='True', inferSchema='True',delimiter=';').csv(\"/content/drive/MyDrive/Viagens/venda_passagem_11_2019/venda_passagem_11_2019.csv\")\n",
        "#\n",
        "df_12_2019 =  spark.read.options(header='True', inferSchema='True',delimiter=';').csv(\"/content/drive/MyDrive/Viagens/venda_passagem_12_2019/venda_passagem_12_2019.csv\")"
      ],
      "metadata": {
        "id": "5IEskdnK_OdQ"
      },
      "execution_count": 18,
      "outputs": []
    },
    {
      "cell_type": "code",
      "source": [
        "result = df_03_2019.union(df_11_2019)\n",
        "df_full = result.union(df_12_2019)"
      ],
      "metadata": {
        "id": "WmHTYU4KBJdb"
      },
      "execution_count": 28,
      "outputs": []
    },
    {
      "cell_type": "code",
      "source": [
        "df_full.show()"
      ],
      "metadata": {
        "id": "imM-1hb4UXuE",
        "colab": {
          "base_uri": "https://localhost:8080/"
        },
        "outputId": "a2a89366-afad-4d87-df10-e5184a41494f"
      },
      "execution_count": 29,
      "outputs": [
        {
          "output_type": "stream",
          "name": "stdout",
          "text": [
            "+-------------+--------------+-------------------------+--------------+--------------------+--------------------+--------------------+--------+--------------------+--------------------+--------------------+--------------------+-----------+-------------------+-----------+---------------+-------------------+--------------------+------------+-------------------------+-------------------+-------------+-------------------+-----------+--------------+---------------------+\n",
            "|codigo_viagem|          cnpj|numero_equipamento_fiscal|numero_bilhete|data_emissao_bilhete|hora_emissao_bilhete|categoria_transporte|nu_linha|origem_destino_linha| ponto_origem_viagem|ponto_destino_viagem|        tipo_servico|data_viagem|        hora_viagem|tipo_viagem|numero_poltrona|plataforma_embarque|      tipo_gratitude|valor_tarifa|valor_percentual_desconto|valor_aliquota_icms|valor_pedagio|valor_taxa_embarque|valor_total|origem_emissao|in_passagem_cancelada|\n",
            "+-------------+--------------+-------------------------+--------------+--------------------+--------------------+--------------------+--------+--------------------+--------------------+--------------------+--------------------+-----------+-------------------+-----------+---------------+-------------------+--------------------+------------+-------------------------+-------------------+-------------+-------------------+-----------+--------------+---------------------+\n",
            "|      1512461|82647884000135|                   000013|         36858|          21-03-2019| 2023-07-20 13:31:00|       Interestadual|16009141|FLORIANOPOLIS(SC)...|JOINVILLE/SC        |SAO PAULO/SP        |Convencional com ...| 30-03-2019|2023-07-20 20:20:00|    Regular|              2|                N/I|Tarifa Normal - s...|      223.94|                      0.0|               12.0|         3.46|                2.5|      229.9| N�o Se Aplica|                  N�O|\n",
            "|      1468989|82647884000135|                   000013|        999073|          15-03-2019| 2023-07-20 16:48:00|       Interestadual|16008461|FLORIANOPOLIS(SC)...|BALNEARIO PICARRA...|SAO PAULO/SP        |Convencional com ...| 17-03-2019|2023-07-20 06:45:00|    Regular|             61|                N/I|Tarifa Normal - s...|      132.71|                      0.0|               12.0|         2.99|                5.3|      141.0| N�o Se Aplica|                  N�O|\n",
            "|      1446692|82647884000135|                   000013|        734783|          05-03-2019| 2023-07-20 16:06:00|       Interestadual|16006631|BALNEARIO CAMBORI...|JOINVILLE/SC        |SAO PAULO/SP        |Convencional com ...| 06-03-2019|2023-07-20 19:10:00|    Regular|             12|                N/I|Tarifa Normal - s...|       91.57|                      0.0|               12.0|          2.7|                2.5|      96.77| N�o Se Aplica|                  N�O|\n",
            "|      1469107|82647884000135|                   000013|        590998|          16-03-2019| 2023-07-20 21:17:00|       Interestadual|16009130|FLORIANOPOLIS(SC)...|JOINVILLE/SC        |SAO PAULO/SP        |Convencional com ...| 17-03-2019|2023-07-20 17:45:00|    Regular|             47|                N/I|Tarifa Normal - s...|      103.47|                      0.0|               12.0|         3.46|                2.5|     109.43| N�o Se Aplica|                  N�O|\n",
            "|      1446171|82647884000135|                   000013|        585349|          18-01-2019| 2023-07-20 10:49:00|       Interestadual|16006631|BALNEARIO CAMBORI...|BALNEARIO PICARRA...|SAO PAULO/SP        |Convencional com ...| 04-03-2019|2023-07-20 19:10:00|    Regular|              2|                N/I|Tarifa Normal - s...|       98.07|                      0.0|               12.0|         2.99|                2.0|     103.06| N�o Se Aplica|                  N�O|\n",
            "|      1512661|82647884000135|                   000013|         74747|          27-03-2019| 2023-07-20 10:54:00|       Interestadual|16009630|FLORIANOPOLIS(SC)...|JOINVILLE/SC        |SAO PAULO/SP        |Convencional com ...| 31-03-2019|2023-07-20 18:25:00|    Regular|             46|                N/I|Tarifa Normal - s...|      123.94|                      0.0|               12.0|         3.46|                2.5|      129.9| N�o Se Aplica|                  N�O|\n",
            "|      1426037|82647884000135|                   000013|        890171|          01-03-2019| 2023-07-20 09:16:00|       Interestadual|16009141|FLORIANOPOLIS(SC)...|JOINVILLE/SC        |SAO PAULO/SP        |Convencional com ...| 03-03-2019|2023-07-20 20:20:00|    Regular|              9|                N/I|Tarifa Normal - s...|      201.55|                      0.0|               12.0|         3.46|                2.5|     207.51| N�o Se Aplica|                  N�O|\n",
            "|      1489347|82647884000135|                   000013|        771824|          18-03-2019| 2023-07-20 15:50:00|       Interestadual|16009130|FLORIANOPOLIS(SC)...|JOINVILLE/SC        |SAO PAULO/SP        |Convencional com ...| 18-03-2019|2023-07-20 20:20:00|    Regular|             52|                N/I|Tarifa Normal - s...|      123.94|                      0.0|               12.0|         3.46|                2.5|      129.9| N�o Se Aplica|                  N�O|\n",
            "|      1447166|82647884000135|                   000013|        766550|          08-03-2019| 2023-07-20 19:48:00|       Interestadual| 9036100|CURITIBA(PR) - JA...|JOINVILLE/SC        | CURITIBA/PR        |Convencional com ...| 08-03-2019|2023-07-20 18:50:00|    Regular|             32|                N/I|Tarifa Normal - s...|       27.33|                      0.0|               12.0|         0.66|                2.5|      30.49| N�o Se Aplica|                  N�O|\n",
            "|      1490222|82647884000135|                   000013|         37122|          21-03-2019| 2023-07-20 14:02:00|       Interestadual| 9001200|CURITIBA(PR) - JO...|JOINVILLE/SC        | CURITIBA/PR        |Convencional com ...| 22-03-2019|2023-07-20 15:00:00|    Regular|              8|                N/I|Tarifa Normal - s...|       27.33|                      0.0|               12.0|         0.66|                2.5|      30.49| N�o Se Aplica|                  N�O|\n",
            "|      1447068|82647884000135|                   000013|        939992|          07-03-2019| 2023-07-20 16:28:00|       Interestadual| 9036100|CURITIBA(PR) - JA...|JOINVILLE/SC        | CURITIBA/PR        |Convencional com ...| 08-03-2019|2023-07-20 12:35:00|    Regular|             25|                N/I|Tarifa Normal - s...|       27.33|                      0.0|               12.0|         0.66|                2.5|      30.49| N�o Se Aplica|                  N�O|\n",
            "|      1489641|82647884000135|                   000013|        653994|          19-03-2019| 2023-07-20 17:09:00|       Interestadual| 9036100|CURITIBA(PR) - JA...|JOINVILLE/SC        | CURITIBA/PR        |Convencional com ...| 20-03-2019|2023-07-20 06:00:00|    Regular|             10|                N/I|Tarifa Normal - s...|       27.33|                      0.0|               12.0|         0.66|                2.5|      30.49| N�o Se Aplica|                  N�O|\n",
            "|      1489725|82647884000135|                   000013|        621851|          20-03-2019| 2023-07-20 13:48:00|       Interestadual| 9001200|CURITIBA(PR) - JO...|JOINVILLE/SC        | CURITIBA/PR        |Convencional com ...| 20-03-2019|2023-07-20 15:00:00|    Regular|             23|                N/I|Tarifa Normal - s...|       27.33|                      0.0|               12.0|         0.66|                2.5|      30.49| N�o Se Aplica|                  N�O|\n",
            "|      1512339|82647884000135|                   000013|        776802|          30-03-2019| 2023-07-20 10:31:00|       Interestadual| 9001200|CURITIBA(PR) - JO...|JOINVILLE/SC        | CURITIBA/PR        |Convencional com ...| 30-03-2019|2023-07-20 11:00:00|    Regular|             43|                N/I|Tarifa Normal - s...|       27.33|                      0.0|               12.0|         0.66|                2.5|      30.49| N�o Se Aplica|                  N�O|\n",
            "|      1512652|82647884000135|                   000013|        746352|          29-03-2019| 2023-07-20 23:51:00|       Interestadual| 9001200|CURITIBA(PR) - JO...|JOINVILLE/SC        | CURITIBA/PR        |Convencional com ...| 31-03-2019|2023-07-20 18:10:00|    Regular|             35|                N/I|Tarifa Promociona...|         0.0|                    100.0|               12.0|          0.0|                0.0|        0.0| N�o Se Aplica|                  N�O|\n",
            "|      1447120|82647884000135|                   000013|        614847|          08-03-2019| 2023-07-20 16:02:00|       Interestadual| 9001200|CURITIBA(PR) - JO...|JOINVILLE/SC        | CURITIBA/PR        |Convencional com ...| 08-03-2019|2023-07-20 16:30:00|    Regular|              4|                N/I|Bilhete de Viagem...|       13.66|                     50.0|               12.0|         0.66|                2.5|      16.82| N�o Se Aplica|                  N�O|\n",
            "|      1511832|82647884000135|                   000013|        657818|          28-03-2019| 2023-07-20 12:00:00|       Interestadual| 9036100|CURITIBA(PR) - JA...|JOINVILLE/SC        | CURITIBA/PR        |Convencional com ...| 28-03-2019|2023-07-20 12:35:00|    Regular|              8|                N/I|Tarifa Normal - s...|       27.33|                      0.0|               12.0|         0.66|                2.5|      30.49| N�o Se Aplica|                  N�O|\n",
            "|      1447120|82647884000135|                   000013|        765221|          05-03-2019| 2023-07-20 19:16:00|       Interestadual| 9001200|CURITIBA(PR) - JO...|JOINVILLE/SC        | CURITIBA/PR        |Convencional com ...| 08-03-2019|2023-07-20 16:30:00|    Regular|              6|                N/I|Tarifa Normal - s...|       27.33|                      0.0|               12.0|         0.66|                2.5|      30.49| N�o Se Aplica|                  N�O|\n",
            "|      1467578|82647884000135|                   000013|        936323|          07-03-2019| 2023-07-20 10:09:00|       Interestadual| 9036100|CURITIBA(PR) - JA...|JOINVILLE/SC        | CURITIBA/PR        |Convencional com ...| 11-03-2019|2023-07-20 12:35:00|    Regular|              3|                N/I|Tarifa Normal - s...|       27.33|                      0.0|               12.0|         0.66|                2.5|      30.49| N�o Se Aplica|                  N�O|\n",
            "|      1511533|82647884000135|                   000013|         67006|          26-03-2019| 2023-07-20 00:28:00|       Interestadual| 9001200|CURITIBA(PR) - JO...|JOINVILLE/SC        | CURITIBA/PR        |Convencional com ...| 27-03-2019|2023-07-20 06:25:00|    Regular|              1|                N/I|Tarifa Normal - s...|       27.33|                      0.0|               12.0|         0.66|                2.5|      30.49| N�o Se Aplica|                  N�O|\n",
            "+-------------+--------------+-------------------------+--------------+--------------------+--------------------+--------------------+--------+--------------------+--------------------+--------------------+--------------------+-----------+-------------------+-----------+---------------+-------------------+--------------------+------------+-------------------------+-------------------+-------------+-------------------+-----------+--------------+---------------------+\n",
            "only showing top 20 rows\n",
            "\n"
          ]
        }
      ]
    },
    {
      "cell_type": "code",
      "source": [
        "usecols = ['data_emissao_bilhete', 'categoria_transporte', 'origem_destino_linha', 'ponto_origem_viagem',\n",
        "       'ponto_destino_viagem','tipo_servico', 'data_viagem', 'tipo_gratitude',\n",
        "       'tipo_viagem', 'numero_poltrona', 'valor_total', 'in_passagem_cancelada']"
      ],
      "metadata": {
        "id": "pGMMO5DADrjC"
      },
      "execution_count": 21,
      "outputs": []
    },
    {
      "cell_type": "code",
      "source": [
        "df_viagem = df_full.select(*usecols)"
      ],
      "metadata": {
        "id": "wmNy_TR0HpV7"
      },
      "execution_count": 31,
      "outputs": []
    },
    {
      "cell_type": "code",
      "source": [
        "df_viagem.show()"
      ],
      "metadata": {
        "colab": {
          "base_uri": "https://localhost:8080/"
        },
        "id": "sL_sfXhhEDqU",
        "outputId": "4b9a73d2-7cc9-4877-ff1f-746642b7d563"
      },
      "execution_count": 32,
      "outputs": [
        {
          "output_type": "stream",
          "name": "stdout",
          "text": [
            "+--------------------+--------------------+--------------------+--------------------+--------------------+--------------------+-----------+--------------------+-----------+---------------+-----------+---------------------+\n",
            "|data_emissao_bilhete|categoria_transporte|origem_destino_linha| ponto_origem_viagem|ponto_destino_viagem|        tipo_servico|data_viagem|      tipo_gratitude|tipo_viagem|numero_poltrona|valor_total|in_passagem_cancelada|\n",
            "+--------------------+--------------------+--------------------+--------------------+--------------------+--------------------+-----------+--------------------+-----------+---------------+-----------+---------------------+\n",
            "|          21-03-2019|       Interestadual|FLORIANOPOLIS(SC)...|JOINVILLE/SC        |SAO PAULO/SP        |Convencional com ...| 30-03-2019|Tarifa Normal - s...|    Regular|              2|      229.9|                  N�O|\n",
            "|          15-03-2019|       Interestadual|FLORIANOPOLIS(SC)...|BALNEARIO PICARRA...|SAO PAULO/SP        |Convencional com ...| 17-03-2019|Tarifa Normal - s...|    Regular|             61|      141.0|                  N�O|\n",
            "|          05-03-2019|       Interestadual|BALNEARIO CAMBORI...|JOINVILLE/SC        |SAO PAULO/SP        |Convencional com ...| 06-03-2019|Tarifa Normal - s...|    Regular|             12|      96.77|                  N�O|\n",
            "|          16-03-2019|       Interestadual|FLORIANOPOLIS(SC)...|JOINVILLE/SC        |SAO PAULO/SP        |Convencional com ...| 17-03-2019|Tarifa Normal - s...|    Regular|             47|     109.43|                  N�O|\n",
            "|          18-01-2019|       Interestadual|BALNEARIO CAMBORI...|BALNEARIO PICARRA...|SAO PAULO/SP        |Convencional com ...| 04-03-2019|Tarifa Normal - s...|    Regular|              2|     103.06|                  N�O|\n",
            "|          27-03-2019|       Interestadual|FLORIANOPOLIS(SC)...|JOINVILLE/SC        |SAO PAULO/SP        |Convencional com ...| 31-03-2019|Tarifa Normal - s...|    Regular|             46|      129.9|                  N�O|\n",
            "|          01-03-2019|       Interestadual|FLORIANOPOLIS(SC)...|JOINVILLE/SC        |SAO PAULO/SP        |Convencional com ...| 03-03-2019|Tarifa Normal - s...|    Regular|              9|     207.51|                  N�O|\n",
            "|          18-03-2019|       Interestadual|FLORIANOPOLIS(SC)...|JOINVILLE/SC        |SAO PAULO/SP        |Convencional com ...| 18-03-2019|Tarifa Normal - s...|    Regular|             52|      129.9|                  N�O|\n",
            "|          08-03-2019|       Interestadual|CURITIBA(PR) - JA...|JOINVILLE/SC        | CURITIBA/PR        |Convencional com ...| 08-03-2019|Tarifa Normal - s...|    Regular|             32|      30.49|                  N�O|\n",
            "|          21-03-2019|       Interestadual|CURITIBA(PR) - JO...|JOINVILLE/SC        | CURITIBA/PR        |Convencional com ...| 22-03-2019|Tarifa Normal - s...|    Regular|              8|      30.49|                  N�O|\n",
            "|          07-03-2019|       Interestadual|CURITIBA(PR) - JA...|JOINVILLE/SC        | CURITIBA/PR        |Convencional com ...| 08-03-2019|Tarifa Normal - s...|    Regular|             25|      30.49|                  N�O|\n",
            "|          19-03-2019|       Interestadual|CURITIBA(PR) - JA...|JOINVILLE/SC        | CURITIBA/PR        |Convencional com ...| 20-03-2019|Tarifa Normal - s...|    Regular|             10|      30.49|                  N�O|\n",
            "|          20-03-2019|       Interestadual|CURITIBA(PR) - JO...|JOINVILLE/SC        | CURITIBA/PR        |Convencional com ...| 20-03-2019|Tarifa Normal - s...|    Regular|             23|      30.49|                  N�O|\n",
            "|          30-03-2019|       Interestadual|CURITIBA(PR) - JO...|JOINVILLE/SC        | CURITIBA/PR        |Convencional com ...| 30-03-2019|Tarifa Normal - s...|    Regular|             43|      30.49|                  N�O|\n",
            "|          29-03-2019|       Interestadual|CURITIBA(PR) - JO...|JOINVILLE/SC        | CURITIBA/PR        |Convencional com ...| 31-03-2019|Tarifa Promociona...|    Regular|             35|        0.0|                  N�O|\n",
            "|          08-03-2019|       Interestadual|CURITIBA(PR) - JO...|JOINVILLE/SC        | CURITIBA/PR        |Convencional com ...| 08-03-2019|Bilhete de Viagem...|    Regular|              4|      16.82|                  N�O|\n",
            "|          28-03-2019|       Interestadual|CURITIBA(PR) - JA...|JOINVILLE/SC        | CURITIBA/PR        |Convencional com ...| 28-03-2019|Tarifa Normal - s...|    Regular|              8|      30.49|                  N�O|\n",
            "|          05-03-2019|       Interestadual|CURITIBA(PR) - JO...|JOINVILLE/SC        | CURITIBA/PR        |Convencional com ...| 08-03-2019|Tarifa Normal - s...|    Regular|              6|      30.49|                  N�O|\n",
            "|          07-03-2019|       Interestadual|CURITIBA(PR) - JA...|JOINVILLE/SC        | CURITIBA/PR        |Convencional com ...| 11-03-2019|Tarifa Normal - s...|    Regular|              3|      30.49|                  N�O|\n",
            "|          26-03-2019|       Interestadual|CURITIBA(PR) - JO...|JOINVILLE/SC        | CURITIBA/PR        |Convencional com ...| 27-03-2019|Tarifa Normal - s...|    Regular|              1|      30.49|                  N�O|\n",
            "+--------------------+--------------------+--------------------+--------------------+--------------------+--------------------+-----------+--------------------+-----------+---------------+-----------+---------------------+\n",
            "only showing top 20 rows\n",
            "\n"
          ]
        }
      ]
    },
    {
      "cell_type": "code",
      "execution_count": null,
      "metadata": {
        "id": "u1KNLX0IU8rG"
      },
      "outputs": [],
      "source": [
        "def value_counts_df(df, col):\n",
        "    \"\"\"\n",
        "    Returns pd.value_counts() as a DataFrame\n",
        "\n",
        "    Parameters\n",
        "    ----------\n",
        "    df : Pandas Dataframe\n",
        "        Dataframe on which to run value_counts(), must have column `col`.\n",
        "    col : str\n",
        "        Name of column in `df` for which to generate counts\n",
        "\n",
        "    Returns\n",
        "    -------\n",
        "    Pandas Dataframe\n",
        "        Returned dataframe will have a single column named \"count\" which contains the count_values()\n",
        "        for each unique value of df[col]. The index name of this dataframe is `col`.\n",
        "\n",
        "    Example\n",
        "    -------\n",
        "    >>> value_counts_df(pd.DataFrame({'a':[1, 1, 2, 2, 2]}), 'a')\n",
        "       count\n",
        "    a\n",
        "    2      3\n",
        "    1      2\n",
        "    \"\"\"\n",
        "    df = pd.DataFrame(df[col].value_counts())\n",
        "    df.index.name = col\n",
        "    df.columns = ['count']\n",
        "    df = df.reset_index()\n",
        "    df.columns = [col, 'counts'] # change column names\n",
        "    return df"
      ]
    },
    {
      "cell_type": "code",
      "execution_count": null,
      "metadata": {
        "id": "04Fypt70fZcb"
      },
      "outputs": [],
      "source": [
        "def remove_outlier(df,col):\n",
        "    # Calculate first and third quartile\n",
        "    first_quartile = df[col].describe()['25%']\n",
        "    third_quartile = df[col].describe()['75%']\n",
        "\n",
        "    # Interquartile range\n",
        "    iqr = third_quartile - first_quartile\n",
        "\n",
        "    # Remove outliers\n",
        "    data = df[(df[col] > (first_quartile - 3 * iqr)) &\n",
        "            (df[col] < (third_quartile + 3 * iqr))]\n",
        "    return data"
      ]
    },
    {
      "cell_type": "code",
      "execution_count": null,
      "metadata": {
        "id": "f1CA-LTOeinR"
      },
      "outputs": [],
      "source": [
        "def missing_values_table(df):\n",
        "        # Total missing values\n",
        "        mis_val = df.isnull().sum()\n",
        "\n",
        "        # Percentage of missing values\n",
        "        mis_val_percent = 100 * df.isnull().sum() / len(df)\n",
        "\n",
        "        # Make a table with the results\n",
        "        mis_val_table = pd.concat([mis_val, mis_val_percent], axis=1)\n",
        "\n",
        "        # Rename the columns\n",
        "        mis_val_table_ren_columns = mis_val_table.rename(\n",
        "        columns = {0 : 'Missing Values', 1 : '% of Total Values'})\n",
        "\n",
        "        # Sort the table by percentage of missing descending\n",
        "        mis_val_table_ren_columns = mis_val_table_ren_columns[\n",
        "            mis_val_table_ren_columns.iloc[:,1] != 0].sort_values(\n",
        "        '% of Total Values', ascending=False).round(1)\n",
        "\n",
        "        # Print some summary information\n",
        "        print (\"Your selected dataframe has \" + str(df.shape[1]) + \" columns.\\n\"\n",
        "            \"There are \" + str(mis_val_table_ren_columns.shape[0]) +\n",
        "              \" columns that have missing values.\")\n",
        "\n",
        "        # Return the dataframe with missing information\n",
        "        return mis_val_table_ren_columns"
      ]
    },
    {
      "cell_type": "code",
      "execution_count": null,
      "metadata": {
        "id": "Aldt0NDvZGQl"
      },
      "outputs": [],
      "source": [
        "def total_values(df):\n",
        "  cols = list(df.columns)\n",
        "  for col in cols:\n",
        "    print(\"\\n\\nColuna:\",col,\"\\n\",df[col].value_counts())"
      ]
    },
    {
      "cell_type": "code",
      "execution_count": null,
      "metadata": {
        "id": "jwGKljefXuVU"
      },
      "outputs": [],
      "source": [
        "def rem_time(d):\n",
        "    s = ''\n",
        "    s = str(d.year) + '-' + str(d.month) + '-' + str(d.day)\n",
        "    return s"
      ]
    },
    {
      "cell_type": "code",
      "execution_count": null,
      "metadata": {
        "id": "8VJpoTtK7zRb"
      },
      "outputs": [],
      "source": [
        "usecols = ['data_emissao_bilhete', 'categoria_transporte', 'origem_destino_linha', 'ponto_origem_viagem',\n",
        "       'ponto_destino_viagem','tipo_servico', 'data_viagem', 'tipo_gratitude',\n",
        "       'tipo_viagem', 'numero_poltrona', 'valor_total', 'in_passagem_cancelada']"
      ]
    },
    {
      "cell_type": "code",
      "execution_count": null,
      "metadata": {
        "id": "zAmXPP-4DFDj"
      },
      "outputs": [],
      "source": [
        "df_geral = pd.read_csv(\"/content/drive/MyDrive/Viagens/venda_passagem_12_2019/venda_passagem_12_2019.csv\", sep=';',encoding = 'latin-1', on_bad_lines='skip', nrows=1000)"
      ]
    },
    {
      "cell_type": "code",
      "execution_count": null,
      "metadata": {
        "colab": {
          "base_uri": "https://localhost:8080/",
          "height": 981
        },
        "id": "NTlyshXJDL4P",
        "outputId": "ac1f6598-cef7-45b0-c6ae-e28a3d22f385"
      },
      "outputs": [
        {
          "output_type": "execute_result",
          "data": {
            "text/plain": [
              "                            count unique                                 top  \\\n",
              "codigo_viagem              1000.0    NaN                                 NaN   \n",
              "cnpj                       1000.0    NaN                                 NaN   \n",
              "numero_equipamento_fiscal    1000    167                35191261084018000103   \n",
              "numero_bilhete             1000.0    NaN                                 NaN   \n",
              "data_emissao_bilhete         1000     72                          20-12-2019   \n",
              "hora_emissao_bilhete         1000    682                            14:45:00   \n",
              "categoria_transporte         1000      3                       Interestadual   \n",
              "nu_linha                   1000.0    NaN                                 NaN   \n",
              "origem_destino_linha         1000    217  SAO PAULO(SP) - RIO DE JANEIRO(RJ)   \n",
              "ponto_origem_viagem          1000    116                SAO PAULO/SP           \n",
              "ponto_destino_viagem         1000    183                SAO PAULO/SP           \n",
              "tipo_servico                 1000      5          Convencional com sanitário   \n",
              "data_viagem                  1000     31                          20-12-2019   \n",
              "hora_viagem                  1000    159                            08:00:00   \n",
              "tipo_viagem                  1000      1                             Regular   \n",
              "numero_poltrona            1000.0    NaN                                 NaN   \n",
              "plataforma_embarque           997     78                                 N/I   \n",
              "tipo_gratitude               1000      9        Tarifa Normal - sem desconto   \n",
              "valor_tarifa               1000.0    NaN                                 NaN   \n",
              "valor_percentual_desconto  1000.0    NaN                                 NaN   \n",
              "valor_aliquota_icms        1000.0    NaN                                 NaN   \n",
              "valor_pedagio              1000.0    NaN                                 NaN   \n",
              "valor_taxa_embarque        1000.0    NaN                                 NaN   \n",
              "valor_total                1000.0    NaN                                 NaN   \n",
              "origem_emissao               1000      3                       Não Se Aplica   \n",
              "in_passagem_cancelada        1000      1                                 NÃO   \n",
              "\n",
              "                           freq                   mean                    std  \\\n",
              "codigo_viagem               NaN             2376394.88           36669.367435   \n",
              "cnpj                        NaN  48509726423133.585938  27924366567331.378906   \n",
              "numero_equipamento_fiscal    60                    NaN                    NaN   \n",
              "numero_bilhete              NaN           12266067.064        31569569.856572   \n",
              "data_emissao_bilhete         42                    NaN                    NaN   \n",
              "hora_emissao_bilhete          6                    NaN                    NaN   \n",
              "categoria_transporte        994                    NaN                    NaN   \n",
              "nu_linha                    NaN            9567996.585         3693156.976446   \n",
              "origem_destino_linha        153                    NaN                    NaN   \n",
              "ponto_origem_viagem         230                    NaN                    NaN   \n",
              "ponto_destino_viagem        153                    NaN                    NaN   \n",
              "tipo_servico                689                    NaN                    NaN   \n",
              "data_viagem                  50                    NaN                    NaN   \n",
              "hora_viagem                  39                    NaN                    NaN   \n",
              "tipo_viagem                1000                    NaN                    NaN   \n",
              "numero_poltrona             NaN                 23.073              14.933743   \n",
              "plataforma_embarque         461                    NaN                    NaN   \n",
              "tipo_gratitude              742                    NaN                    NaN   \n",
              "valor_tarifa                NaN               126.2362              92.251224   \n",
              "valor_percentual_desconto   NaN                15.6003              31.715308   \n",
              "valor_aliquota_icms         NaN                 14.505               3.650932   \n",
              "valor_pedagio               NaN                4.55887                5.02052   \n",
              "valor_taxa_embarque         NaN                4.60608               2.463863   \n",
              "valor_total                 NaN              109.79234              80.182424   \n",
              "origem_emissao              942                    NaN                    NaN   \n",
              "in_passagem_cancelada      1000                    NaN                    NaN   \n",
              "\n",
              "                                       min               25%  \\\n",
              "codigo_viagem                    2127415.0         2346375.0   \n",
              "cnpj                       1751730000197.0  23542573000142.0   \n",
              "numero_equipamento_fiscal              NaN               NaN   \n",
              "numero_bilhete                         0.0          140268.0   \n",
              "data_emissao_bilhete                   NaN               NaN   \n",
              "hora_emissao_bilhete                   NaN               NaN   \n",
              "categoria_transporte                   NaN               NaN   \n",
              "nu_linha                         3002100.0         8002800.0   \n",
              "origem_destino_linha                   NaN               NaN   \n",
              "ponto_origem_viagem                    NaN               NaN   \n",
              "ponto_destino_viagem                   NaN               NaN   \n",
              "tipo_servico                           NaN               NaN   \n",
              "data_viagem                            NaN               NaN   \n",
              "hora_viagem                            NaN               NaN   \n",
              "tipo_viagem                            NaN               NaN   \n",
              "numero_poltrona                        1.0              11.0   \n",
              "plataforma_embarque                    NaN               NaN   \n",
              "tipo_gratitude                         NaN               NaN   \n",
              "valor_tarifa                           0.0             70.73   \n",
              "valor_percentual_desconto              0.0               0.0   \n",
              "valor_aliquota_icms                    0.0              12.0   \n",
              "valor_pedagio                          0.0              0.42   \n",
              "valor_taxa_embarque                    0.0              2.81   \n",
              "valor_total                            0.0             49.99   \n",
              "origem_emissao                         NaN               NaN   \n",
              "in_passagem_cancelada                  NaN               NaN   \n",
              "\n",
              "                                        50%               75%  \\\n",
              "codigo_viagem                     2380521.0         2406671.0   \n",
              "cnpj                       60765633000112.0  76539600000194.0   \n",
              "numero_equipamento_fiscal               NaN               NaN   \n",
              "numero_bilhete                     356717.5         2567598.0   \n",
              "data_emissao_bilhete                    NaN               NaN   \n",
              "hora_emissao_bilhete                    NaN               NaN   \n",
              "categoria_transporte                    NaN               NaN   \n",
              "nu_linha                          8009700.0        11000678.5   \n",
              "origem_destino_linha                    NaN               NaN   \n",
              "ponto_origem_viagem                     NaN               NaN   \n",
              "ponto_destino_viagem                    NaN               NaN   \n",
              "tipo_servico                            NaN               NaN   \n",
              "data_viagem                             NaN               NaN   \n",
              "hora_viagem                             NaN               NaN   \n",
              "tipo_viagem                             NaN               NaN   \n",
              "numero_poltrona                        22.0              34.0   \n",
              "plataforma_embarque                     NaN               NaN   \n",
              "tipo_gratitude                          NaN               NaN   \n",
              "valor_tarifa                         105.44           159.835   \n",
              "valor_percentual_desconto               0.0               0.0   \n",
              "valor_aliquota_icms                    12.0              18.0   \n",
              "valor_pedagio                          2.86              7.25   \n",
              "valor_taxa_embarque                    6.12              6.39   \n",
              "valor_total                         109.945             145.0   \n",
              "origem_emissao                          NaN               NaN   \n",
              "in_passagem_cancelada                   NaN               NaN   \n",
              "\n",
              "                                        max  \n",
              "codigo_viagem                     2453938.0  \n",
              "cnpj                       95592077000104.0  \n",
              "numero_equipamento_fiscal               NaN  \n",
              "numero_bilhete                  100999454.0  \n",
              "data_emissao_bilhete                    NaN  \n",
              "hora_emissao_bilhete                    NaN  \n",
              "categoria_transporte                    NaN  \n",
              "nu_linha                         20002600.0  \n",
              "origem_destino_linha                    NaN  \n",
              "ponto_origem_viagem                     NaN  \n",
              "ponto_destino_viagem                    NaN  \n",
              "tipo_servico                            NaN  \n",
              "data_viagem                             NaN  \n",
              "hora_viagem                             NaN  \n",
              "tipo_viagem                             NaN  \n",
              "numero_poltrona                        80.0  \n",
              "plataforma_embarque                     NaN  \n",
              "tipo_gratitude                          NaN  \n",
              "valor_tarifa                         648.11  \n",
              "valor_percentual_desconto             107.3  \n",
              "valor_aliquota_icms                    20.0  \n",
              "valor_pedagio                         29.68  \n",
              "valor_taxa_embarque                    7.68  \n",
              "valor_total                          518.45  \n",
              "origem_emissao                          NaN  \n",
              "in_passagem_cancelada                   NaN  "
            ],
            "text/html": [
              "\n",
              "\n",
              "  <div id=\"df-8c22ebf0-cece-4c07-8f0e-7832ea47e4d3\">\n",
              "    <div class=\"colab-df-container\">\n",
              "      <div>\n",
              "<style scoped>\n",
              "    .dataframe tbody tr th:only-of-type {\n",
              "        vertical-align: middle;\n",
              "    }\n",
              "\n",
              "    .dataframe tbody tr th {\n",
              "        vertical-align: top;\n",
              "    }\n",
              "\n",
              "    .dataframe thead th {\n",
              "        text-align: right;\n",
              "    }\n",
              "</style>\n",
              "<table border=\"1\" class=\"dataframe\">\n",
              "  <thead>\n",
              "    <tr style=\"text-align: right;\">\n",
              "      <th></th>\n",
              "      <th>count</th>\n",
              "      <th>unique</th>\n",
              "      <th>top</th>\n",
              "      <th>freq</th>\n",
              "      <th>mean</th>\n",
              "      <th>std</th>\n",
              "      <th>min</th>\n",
              "      <th>25%</th>\n",
              "      <th>50%</th>\n",
              "      <th>75%</th>\n",
              "      <th>max</th>\n",
              "    </tr>\n",
              "  </thead>\n",
              "  <tbody>\n",
              "    <tr>\n",
              "      <th>codigo_viagem</th>\n",
              "      <td>1000.0</td>\n",
              "      <td>NaN</td>\n",
              "      <td>NaN</td>\n",
              "      <td>NaN</td>\n",
              "      <td>2376394.88</td>\n",
              "      <td>36669.367435</td>\n",
              "      <td>2127415.0</td>\n",
              "      <td>2346375.0</td>\n",
              "      <td>2380521.0</td>\n",
              "      <td>2406671.0</td>\n",
              "      <td>2453938.0</td>\n",
              "    </tr>\n",
              "    <tr>\n",
              "      <th>cnpj</th>\n",
              "      <td>1000.0</td>\n",
              "      <td>NaN</td>\n",
              "      <td>NaN</td>\n",
              "      <td>NaN</td>\n",
              "      <td>48509726423133.585938</td>\n",
              "      <td>27924366567331.378906</td>\n",
              "      <td>1751730000197.0</td>\n",
              "      <td>23542573000142.0</td>\n",
              "      <td>60765633000112.0</td>\n",
              "      <td>76539600000194.0</td>\n",
              "      <td>95592077000104.0</td>\n",
              "    </tr>\n",
              "    <tr>\n",
              "      <th>numero_equipamento_fiscal</th>\n",
              "      <td>1000</td>\n",
              "      <td>167</td>\n",
              "      <td>35191261084018000103</td>\n",
              "      <td>60</td>\n",
              "      <td>NaN</td>\n",
              "      <td>NaN</td>\n",
              "      <td>NaN</td>\n",
              "      <td>NaN</td>\n",
              "      <td>NaN</td>\n",
              "      <td>NaN</td>\n",
              "      <td>NaN</td>\n",
              "    </tr>\n",
              "    <tr>\n",
              "      <th>numero_bilhete</th>\n",
              "      <td>1000.0</td>\n",
              "      <td>NaN</td>\n",
              "      <td>NaN</td>\n",
              "      <td>NaN</td>\n",
              "      <td>12266067.064</td>\n",
              "      <td>31569569.856572</td>\n",
              "      <td>0.0</td>\n",
              "      <td>140268.0</td>\n",
              "      <td>356717.5</td>\n",
              "      <td>2567598.0</td>\n",
              "      <td>100999454.0</td>\n",
              "    </tr>\n",
              "    <tr>\n",
              "      <th>data_emissao_bilhete</th>\n",
              "      <td>1000</td>\n",
              "      <td>72</td>\n",
              "      <td>20-12-2019</td>\n",
              "      <td>42</td>\n",
              "      <td>NaN</td>\n",
              "      <td>NaN</td>\n",
              "      <td>NaN</td>\n",
              "      <td>NaN</td>\n",
              "      <td>NaN</td>\n",
              "      <td>NaN</td>\n",
              "      <td>NaN</td>\n",
              "    </tr>\n",
              "    <tr>\n",
              "      <th>hora_emissao_bilhete</th>\n",
              "      <td>1000</td>\n",
              "      <td>682</td>\n",
              "      <td>14:45:00</td>\n",
              "      <td>6</td>\n",
              "      <td>NaN</td>\n",
              "      <td>NaN</td>\n",
              "      <td>NaN</td>\n",
              "      <td>NaN</td>\n",
              "      <td>NaN</td>\n",
              "      <td>NaN</td>\n",
              "      <td>NaN</td>\n",
              "    </tr>\n",
              "    <tr>\n",
              "      <th>categoria_transporte</th>\n",
              "      <td>1000</td>\n",
              "      <td>3</td>\n",
              "      <td>Interestadual</td>\n",
              "      <td>994</td>\n",
              "      <td>NaN</td>\n",
              "      <td>NaN</td>\n",
              "      <td>NaN</td>\n",
              "      <td>NaN</td>\n",
              "      <td>NaN</td>\n",
              "      <td>NaN</td>\n",
              "      <td>NaN</td>\n",
              "    </tr>\n",
              "    <tr>\n",
              "      <th>nu_linha</th>\n",
              "      <td>1000.0</td>\n",
              "      <td>NaN</td>\n",
              "      <td>NaN</td>\n",
              "      <td>NaN</td>\n",
              "      <td>9567996.585</td>\n",
              "      <td>3693156.976446</td>\n",
              "      <td>3002100.0</td>\n",
              "      <td>8002800.0</td>\n",
              "      <td>8009700.0</td>\n",
              "      <td>11000678.5</td>\n",
              "      <td>20002600.0</td>\n",
              "    </tr>\n",
              "    <tr>\n",
              "      <th>origem_destino_linha</th>\n",
              "      <td>1000</td>\n",
              "      <td>217</td>\n",
              "      <td>SAO PAULO(SP) - RIO DE JANEIRO(RJ)</td>\n",
              "      <td>153</td>\n",
              "      <td>NaN</td>\n",
              "      <td>NaN</td>\n",
              "      <td>NaN</td>\n",
              "      <td>NaN</td>\n",
              "      <td>NaN</td>\n",
              "      <td>NaN</td>\n",
              "      <td>NaN</td>\n",
              "    </tr>\n",
              "    <tr>\n",
              "      <th>ponto_origem_viagem</th>\n",
              "      <td>1000</td>\n",
              "      <td>116</td>\n",
              "      <td>SAO PAULO/SP</td>\n",
              "      <td>230</td>\n",
              "      <td>NaN</td>\n",
              "      <td>NaN</td>\n",
              "      <td>NaN</td>\n",
              "      <td>NaN</td>\n",
              "      <td>NaN</td>\n",
              "      <td>NaN</td>\n",
              "      <td>NaN</td>\n",
              "    </tr>\n",
              "    <tr>\n",
              "      <th>ponto_destino_viagem</th>\n",
              "      <td>1000</td>\n",
              "      <td>183</td>\n",
              "      <td>SAO PAULO/SP</td>\n",
              "      <td>153</td>\n",
              "      <td>NaN</td>\n",
              "      <td>NaN</td>\n",
              "      <td>NaN</td>\n",
              "      <td>NaN</td>\n",
              "      <td>NaN</td>\n",
              "      <td>NaN</td>\n",
              "      <td>NaN</td>\n",
              "    </tr>\n",
              "    <tr>\n",
              "      <th>tipo_servico</th>\n",
              "      <td>1000</td>\n",
              "      <td>5</td>\n",
              "      <td>Convencional com sanitário</td>\n",
              "      <td>689</td>\n",
              "      <td>NaN</td>\n",
              "      <td>NaN</td>\n",
              "      <td>NaN</td>\n",
              "      <td>NaN</td>\n",
              "      <td>NaN</td>\n",
              "      <td>NaN</td>\n",
              "      <td>NaN</td>\n",
              "    </tr>\n",
              "    <tr>\n",
              "      <th>data_viagem</th>\n",
              "      <td>1000</td>\n",
              "      <td>31</td>\n",
              "      <td>20-12-2019</td>\n",
              "      <td>50</td>\n",
              "      <td>NaN</td>\n",
              "      <td>NaN</td>\n",
              "      <td>NaN</td>\n",
              "      <td>NaN</td>\n",
              "      <td>NaN</td>\n",
              "      <td>NaN</td>\n",
              "      <td>NaN</td>\n",
              "    </tr>\n",
              "    <tr>\n",
              "      <th>hora_viagem</th>\n",
              "      <td>1000</td>\n",
              "      <td>159</td>\n",
              "      <td>08:00:00</td>\n",
              "      <td>39</td>\n",
              "      <td>NaN</td>\n",
              "      <td>NaN</td>\n",
              "      <td>NaN</td>\n",
              "      <td>NaN</td>\n",
              "      <td>NaN</td>\n",
              "      <td>NaN</td>\n",
              "      <td>NaN</td>\n",
              "    </tr>\n",
              "    <tr>\n",
              "      <th>tipo_viagem</th>\n",
              "      <td>1000</td>\n",
              "      <td>1</td>\n",
              "      <td>Regular</td>\n",
              "      <td>1000</td>\n",
              "      <td>NaN</td>\n",
              "      <td>NaN</td>\n",
              "      <td>NaN</td>\n",
              "      <td>NaN</td>\n",
              "      <td>NaN</td>\n",
              "      <td>NaN</td>\n",
              "      <td>NaN</td>\n",
              "    </tr>\n",
              "    <tr>\n",
              "      <th>numero_poltrona</th>\n",
              "      <td>1000.0</td>\n",
              "      <td>NaN</td>\n",
              "      <td>NaN</td>\n",
              "      <td>NaN</td>\n",
              "      <td>23.073</td>\n",
              "      <td>14.933743</td>\n",
              "      <td>1.0</td>\n",
              "      <td>11.0</td>\n",
              "      <td>22.0</td>\n",
              "      <td>34.0</td>\n",
              "      <td>80.0</td>\n",
              "    </tr>\n",
              "    <tr>\n",
              "      <th>plataforma_embarque</th>\n",
              "      <td>997</td>\n",
              "      <td>78</td>\n",
              "      <td>N/I</td>\n",
              "      <td>461</td>\n",
              "      <td>NaN</td>\n",
              "      <td>NaN</td>\n",
              "      <td>NaN</td>\n",
              "      <td>NaN</td>\n",
              "      <td>NaN</td>\n",
              "      <td>NaN</td>\n",
              "      <td>NaN</td>\n",
              "    </tr>\n",
              "    <tr>\n",
              "      <th>tipo_gratitude</th>\n",
              "      <td>1000</td>\n",
              "      <td>9</td>\n",
              "      <td>Tarifa Normal - sem desconto</td>\n",
              "      <td>742</td>\n",
              "      <td>NaN</td>\n",
              "      <td>NaN</td>\n",
              "      <td>NaN</td>\n",
              "      <td>NaN</td>\n",
              "      <td>NaN</td>\n",
              "      <td>NaN</td>\n",
              "      <td>NaN</td>\n",
              "    </tr>\n",
              "    <tr>\n",
              "      <th>valor_tarifa</th>\n",
              "      <td>1000.0</td>\n",
              "      <td>NaN</td>\n",
              "      <td>NaN</td>\n",
              "      <td>NaN</td>\n",
              "      <td>126.2362</td>\n",
              "      <td>92.251224</td>\n",
              "      <td>0.0</td>\n",
              "      <td>70.73</td>\n",
              "      <td>105.44</td>\n",
              "      <td>159.835</td>\n",
              "      <td>648.11</td>\n",
              "    </tr>\n",
              "    <tr>\n",
              "      <th>valor_percentual_desconto</th>\n",
              "      <td>1000.0</td>\n",
              "      <td>NaN</td>\n",
              "      <td>NaN</td>\n",
              "      <td>NaN</td>\n",
              "      <td>15.6003</td>\n",
              "      <td>31.715308</td>\n",
              "      <td>0.0</td>\n",
              "      <td>0.0</td>\n",
              "      <td>0.0</td>\n",
              "      <td>0.0</td>\n",
              "      <td>107.3</td>\n",
              "    </tr>\n",
              "    <tr>\n",
              "      <th>valor_aliquota_icms</th>\n",
              "      <td>1000.0</td>\n",
              "      <td>NaN</td>\n",
              "      <td>NaN</td>\n",
              "      <td>NaN</td>\n",
              "      <td>14.505</td>\n",
              "      <td>3.650932</td>\n",
              "      <td>0.0</td>\n",
              "      <td>12.0</td>\n",
              "      <td>12.0</td>\n",
              "      <td>18.0</td>\n",
              "      <td>20.0</td>\n",
              "    </tr>\n",
              "    <tr>\n",
              "      <th>valor_pedagio</th>\n",
              "      <td>1000.0</td>\n",
              "      <td>NaN</td>\n",
              "      <td>NaN</td>\n",
              "      <td>NaN</td>\n",
              "      <td>4.55887</td>\n",
              "      <td>5.02052</td>\n",
              "      <td>0.0</td>\n",
              "      <td>0.42</td>\n",
              "      <td>2.86</td>\n",
              "      <td>7.25</td>\n",
              "      <td>29.68</td>\n",
              "    </tr>\n",
              "    <tr>\n",
              "      <th>valor_taxa_embarque</th>\n",
              "      <td>1000.0</td>\n",
              "      <td>NaN</td>\n",
              "      <td>NaN</td>\n",
              "      <td>NaN</td>\n",
              "      <td>4.60608</td>\n",
              "      <td>2.463863</td>\n",
              "      <td>0.0</td>\n",
              "      <td>2.81</td>\n",
              "      <td>6.12</td>\n",
              "      <td>6.39</td>\n",
              "      <td>7.68</td>\n",
              "    </tr>\n",
              "    <tr>\n",
              "      <th>valor_total</th>\n",
              "      <td>1000.0</td>\n",
              "      <td>NaN</td>\n",
              "      <td>NaN</td>\n",
              "      <td>NaN</td>\n",
              "      <td>109.79234</td>\n",
              "      <td>80.182424</td>\n",
              "      <td>0.0</td>\n",
              "      <td>49.99</td>\n",
              "      <td>109.945</td>\n",
              "      <td>145.0</td>\n",
              "      <td>518.45</td>\n",
              "    </tr>\n",
              "    <tr>\n",
              "      <th>origem_emissao</th>\n",
              "      <td>1000</td>\n",
              "      <td>3</td>\n",
              "      <td>Não Se Aplica</td>\n",
              "      <td>942</td>\n",
              "      <td>NaN</td>\n",
              "      <td>NaN</td>\n",
              "      <td>NaN</td>\n",
              "      <td>NaN</td>\n",
              "      <td>NaN</td>\n",
              "      <td>NaN</td>\n",
              "      <td>NaN</td>\n",
              "    </tr>\n",
              "    <tr>\n",
              "      <th>in_passagem_cancelada</th>\n",
              "      <td>1000</td>\n",
              "      <td>1</td>\n",
              "      <td>NÃO</td>\n",
              "      <td>1000</td>\n",
              "      <td>NaN</td>\n",
              "      <td>NaN</td>\n",
              "      <td>NaN</td>\n",
              "      <td>NaN</td>\n",
              "      <td>NaN</td>\n",
              "      <td>NaN</td>\n",
              "      <td>NaN</td>\n",
              "    </tr>\n",
              "  </tbody>\n",
              "</table>\n",
              "</div>\n",
              "      <button class=\"colab-df-convert\" onclick=\"convertToInteractive('df-8c22ebf0-cece-4c07-8f0e-7832ea47e4d3')\"\n",
              "              title=\"Convert this dataframe to an interactive table.\"\n",
              "              style=\"display:none;\">\n",
              "\n",
              "  <svg xmlns=\"http://www.w3.org/2000/svg\" height=\"24px\"viewBox=\"0 0 24 24\"\n",
              "       width=\"24px\">\n",
              "    <path d=\"M0 0h24v24H0V0z\" fill=\"none\"/>\n",
              "    <path d=\"M18.56 5.44l.94 2.06.94-2.06 2.06-.94-2.06-.94-.94-2.06-.94 2.06-2.06.94zm-11 1L8.5 8.5l.94-2.06 2.06-.94-2.06-.94L8.5 2.5l-.94 2.06-2.06.94zm10 10l.94 2.06.94-2.06 2.06-.94-2.06-.94-.94-2.06-.94 2.06-2.06.94z\"/><path d=\"M17.41 7.96l-1.37-1.37c-.4-.4-.92-.59-1.43-.59-.52 0-1.04.2-1.43.59L10.3 9.45l-7.72 7.72c-.78.78-.78 2.05 0 2.83L4 21.41c.39.39.9.59 1.41.59.51 0 1.02-.2 1.41-.59l7.78-7.78 2.81-2.81c.8-.78.8-2.07 0-2.86zM5.41 20L4 18.59l7.72-7.72 1.47 1.35L5.41 20z\"/>\n",
              "  </svg>\n",
              "      </button>\n",
              "\n",
              "\n",
              "\n",
              "    <div id=\"df-bae3aeae-3c7a-4d93-8dd4-dda2785ada6d\">\n",
              "      <button class=\"colab-df-quickchart\" onclick=\"quickchart('df-bae3aeae-3c7a-4d93-8dd4-dda2785ada6d')\"\n",
              "              title=\"Suggest charts.\"\n",
              "              style=\"display:none;\">\n",
              "\n",
              "<svg xmlns=\"http://www.w3.org/2000/svg\" height=\"24px\"viewBox=\"0 0 24 24\"\n",
              "     width=\"24px\">\n",
              "    <g>\n",
              "        <path d=\"M19 3H5c-1.1 0-2 .9-2 2v14c0 1.1.9 2 2 2h14c1.1 0 2-.9 2-2V5c0-1.1-.9-2-2-2zM9 17H7v-7h2v7zm4 0h-2V7h2v10zm4 0h-2v-4h2v4z\"/>\n",
              "    </g>\n",
              "</svg>\n",
              "      </button>\n",
              "    </div>\n",
              "\n",
              "<style>\n",
              "  .colab-df-quickchart {\n",
              "    background-color: #E8F0FE;\n",
              "    border: none;\n",
              "    border-radius: 50%;\n",
              "    cursor: pointer;\n",
              "    display: none;\n",
              "    fill: #1967D2;\n",
              "    height: 32px;\n",
              "    padding: 0 0 0 0;\n",
              "    width: 32px;\n",
              "  }\n",
              "\n",
              "  .colab-df-quickchart:hover {\n",
              "    background-color: #E2EBFA;\n",
              "    box-shadow: 0px 1px 2px rgba(60, 64, 67, 0.3), 0px 1px 3px 1px rgba(60, 64, 67, 0.15);\n",
              "    fill: #174EA6;\n",
              "  }\n",
              "\n",
              "  [theme=dark] .colab-df-quickchart {\n",
              "    background-color: #3B4455;\n",
              "    fill: #D2E3FC;\n",
              "  }\n",
              "\n",
              "  [theme=dark] .colab-df-quickchart:hover {\n",
              "    background-color: #434B5C;\n",
              "    box-shadow: 0px 1px 3px 1px rgba(0, 0, 0, 0.15);\n",
              "    filter: drop-shadow(0px 1px 2px rgba(0, 0, 0, 0.3));\n",
              "    fill: #FFFFFF;\n",
              "  }\n",
              "</style>\n",
              "\n",
              "    <script>\n",
              "      async function quickchart(key) {\n",
              "        const containerElement = document.querySelector('#' + key);\n",
              "        const charts = await google.colab.kernel.invokeFunction(\n",
              "            'suggestCharts', [key], {});\n",
              "      }\n",
              "    </script>\n",
              "\n",
              "      <script>\n",
              "\n",
              "function displayQuickchartButton(domScope) {\n",
              "  let quickchartButtonEl =\n",
              "    domScope.querySelector('#df-bae3aeae-3c7a-4d93-8dd4-dda2785ada6d button.colab-df-quickchart');\n",
              "  quickchartButtonEl.style.display =\n",
              "    google.colab.kernel.accessAllowed ? 'block' : 'none';\n",
              "}\n",
              "\n",
              "        displayQuickchartButton(document);\n",
              "      </script>\n",
              "      <style>\n",
              "    .colab-df-container {\n",
              "      display:flex;\n",
              "      flex-wrap:wrap;\n",
              "      gap: 12px;\n",
              "    }\n",
              "\n",
              "    .colab-df-convert {\n",
              "      background-color: #E8F0FE;\n",
              "      border: none;\n",
              "      border-radius: 50%;\n",
              "      cursor: pointer;\n",
              "      display: none;\n",
              "      fill: #1967D2;\n",
              "      height: 32px;\n",
              "      padding: 0 0 0 0;\n",
              "      width: 32px;\n",
              "    }\n",
              "\n",
              "    .colab-df-convert:hover {\n",
              "      background-color: #E2EBFA;\n",
              "      box-shadow: 0px 1px 2px rgba(60, 64, 67, 0.3), 0px 1px 3px 1px rgba(60, 64, 67, 0.15);\n",
              "      fill: #174EA6;\n",
              "    }\n",
              "\n",
              "    [theme=dark] .colab-df-convert {\n",
              "      background-color: #3B4455;\n",
              "      fill: #D2E3FC;\n",
              "    }\n",
              "\n",
              "    [theme=dark] .colab-df-convert:hover {\n",
              "      background-color: #434B5C;\n",
              "      box-shadow: 0px 1px 3px 1px rgba(0, 0, 0, 0.15);\n",
              "      filter: drop-shadow(0px 1px 2px rgba(0, 0, 0, 0.3));\n",
              "      fill: #FFFFFF;\n",
              "    }\n",
              "  </style>\n",
              "\n",
              "      <script>\n",
              "        const buttonEl =\n",
              "          document.querySelector('#df-8c22ebf0-cece-4c07-8f0e-7832ea47e4d3 button.colab-df-convert');\n",
              "        buttonEl.style.display =\n",
              "          google.colab.kernel.accessAllowed ? 'block' : 'none';\n",
              "\n",
              "        async function convertToInteractive(key) {\n",
              "          const element = document.querySelector('#df-8c22ebf0-cece-4c07-8f0e-7832ea47e4d3');\n",
              "          const dataTable =\n",
              "            await google.colab.kernel.invokeFunction('convertToInteractive',\n",
              "                                                     [key], {});\n",
              "          if (!dataTable) return;\n",
              "\n",
              "          const docLinkHtml = 'Like what you see? Visit the ' +\n",
              "            '<a target=\"_blank\" href=https://colab.research.google.com/notebooks/data_table.ipynb>data table notebook</a>'\n",
              "            + ' to learn more about interactive tables.';\n",
              "          element.innerHTML = '';\n",
              "          dataTable['output_type'] = 'display_data';\n",
              "          await google.colab.output.renderOutput(dataTable, element);\n",
              "          const docLink = document.createElement('div');\n",
              "          docLink.innerHTML = docLinkHtml;\n",
              "          element.appendChild(docLink);\n",
              "        }\n",
              "      </script>\n",
              "    </div>\n",
              "  </div>\n"
            ]
          },
          "metadata": {},
          "execution_count": 12
        }
      ],
      "source": [
        "df_geral.describe(include='all').T"
      ]
    },
    {
      "cell_type": "code",
      "execution_count": null,
      "metadata": {
        "id": "2idH8ptNvbDW",
        "colab": {
          "base_uri": "https://localhost:8080/"
        },
        "outputId": "dc6b27ed-26ae-4584-f74b-1482e40088a7"
      },
      "outputs": [
        {
          "output_type": "stream",
          "name": "stdout",
          "text": [
            "<class 'pandas.core.frame.DataFrame'>\n",
            "RangeIndex: 1000 entries, 0 to 999\n",
            "Data columns (total 26 columns):\n",
            " #   Column                     Non-Null Count  Dtype  \n",
            "---  ------                     --------------  -----  \n",
            " 0   codigo_viagem              1000 non-null   int64  \n",
            " 1   cnpj                       1000 non-null   int64  \n",
            " 2   numero_equipamento_fiscal  1000 non-null   object \n",
            " 3   numero_bilhete             1000 non-null   int64  \n",
            " 4   data_emissao_bilhete       1000 non-null   object \n",
            " 5   hora_emissao_bilhete       1000 non-null   object \n",
            " 6   categoria_transporte       1000 non-null   object \n",
            " 7   nu_linha                   1000 non-null   int64  \n",
            " 8   origem_destino_linha       1000 non-null   object \n",
            " 9   ponto_origem_viagem        1000 non-null   object \n",
            " 10  ponto_destino_viagem       1000 non-null   object \n",
            " 11  tipo_servico               1000 non-null   object \n",
            " 12  data_viagem                1000 non-null   object \n",
            " 13  hora_viagem                1000 non-null   object \n",
            " 14  tipo_viagem                1000 non-null   object \n",
            " 15  numero_poltrona            1000 non-null   int64  \n",
            " 16  plataforma_embarque        997 non-null    object \n",
            " 17  tipo_gratitude             1000 non-null   object \n",
            " 18  valor_tarifa               1000 non-null   float64\n",
            " 19  valor_percentual_desconto  1000 non-null   float64\n",
            " 20  valor_aliquota_icms        1000 non-null   float64\n",
            " 21  valor_pedagio              1000 non-null   float64\n",
            " 22  valor_taxa_embarque        1000 non-null   float64\n",
            " 23  valor_total                1000 non-null   float64\n",
            " 24  origem_emissao             1000 non-null   object \n",
            " 25  in_passagem_cancelada      1000 non-null   object \n",
            "dtypes: float64(6), int64(5), object(15)\n",
            "memory usage: 203.2+ KB\n"
          ]
        }
      ],
      "source": [
        "df_geral.info()"
      ]
    },
    {
      "cell_type": "code",
      "execution_count": null,
      "metadata": {
        "id": "OXF19Hh13cOJ"
      },
      "outputs": [],
      "source": [
        "df_geral['valor_total'] = pd.to_numeric(df_geral['valor_total'], downcast='float')\n",
        "#\n",
        "df_geral['numero_poltrona'] = pd.to_numeric(df_geral['numero_poltrona'], downcast='unsigned')\n",
        "#\n",
        "df_geral['categoria_transporte'] = df_geral['categoria_transporte'].astype('category')\n",
        "df_geral['origem_destino_linha'] = df_geral['origem_destino_linha'].astype('category')\n",
        "df_geral['ponto_destino_viagem'] = df_geral['ponto_destino_viagem'].astype('category')\n",
        "df_geral['tipo_gratitude'] = df_geral['tipo_gratitude'].astype('category')\n",
        "df_geral['tipo_servico'] = df_geral['tipo_servico'].astype('category')\n",
        "df_geral['in_passagem_cancelada'] = df_geral['in_passagem_cancelada'].astype('category')"
      ]
    },
    {
      "cell_type": "code",
      "execution_count": null,
      "metadata": {
        "id": "IG1ZYs8l9JTc"
      },
      "outputs": [],
      "source": [
        "# Definir o tipo a ser usado na leitura dos datasets\n",
        "dtypes = df_geral.dtypes\n",
        "colnames = dtypes.index\n",
        "types = [i.name for i in dtypes.values]\n",
        "column_types = dict(zip(colnames, types))\n",
        "#\n",
        "parse_date = ['data_emissao_bilhete', 'data_viagem']"
      ]
    },
    {
      "cell_type": "code",
      "execution_count": null,
      "metadata": {
        "id": "tQqbTJVuz08E"
      },
      "outputs": [],
      "source": [
        "nrow_12_2019 =  2500000 #2200000\n",
        "nrow_11_2019 =  1000000\n",
        "nrow_3_2019  =  1000000\n"
      ]
    },
    {
      "cell_type": "code",
      "source": [],
      "metadata": {
        "id": "bcLkW506f7PC"
      },
      "execution_count": null,
      "outputs": []
    },
    {
      "cell_type": "markdown",
      "metadata": {
        "id": "GP4wLT6Mbym7"
      },
      "source": [
        "# Colunas selecionadas e tipos de colunas definidos.\n",
        "# Serão lidos 3 datasets com dados de bilhetes de viagens no ano de 2019."
      ]
    },
    {
      "cell_type": "code",
      "execution_count": null,
      "metadata": {
        "id": "WFX4tx0ho6lY"
      },
      "outputs": [],
      "source": [
        "df_12_2019 = pd.read_csv(\"/content/drive/MyDrive/Viagens/venda_passagem_12_2019/venda_passagem_12_2019.csv\", sep=';',encoding = 'latin-1', on_bad_lines='skip', dtype=column_types, parse_dates=parse_date, usecols=usecols, nrows=nrow_12_2019)"
      ]
    },
    {
      "cell_type": "code",
      "execution_count": null,
      "metadata": {
        "colab": {
          "base_uri": "https://localhost:8080/"
        },
        "id": "g9eSOm84JyD_",
        "outputId": "0aa7d47a-4d94-4af8-8951-29ea23a3efb7"
      },
      "outputs": [
        {
          "output_type": "execute_result",
          "data": {
            "text/plain": [
              "(2500000, 12)"
            ]
          },
          "metadata": {},
          "execution_count": 18
        }
      ],
      "source": [
        "df_12_2019.shape"
      ]
    },
    {
      "cell_type": "code",
      "execution_count": null,
      "metadata": {
        "id": "sm09h5-apfNt"
      },
      "outputs": [],
      "source": [
        "df_11_2019 = pd.read_csv(\"/content/drive/MyDrive/Viagens/venda_passagem_11_2019/venda_passagem_11_2019.csv\", sep=';',encoding = 'latin-1', on_bad_lines='skip', dtype=column_types, parse_dates=parse_date, usecols=usecols, nrows=nrow_11_2019)"
      ]
    },
    {
      "cell_type": "code",
      "execution_count": null,
      "metadata": {
        "colab": {
          "base_uri": "https://localhost:8080/"
        },
        "id": "RrGG6MeqJ3es",
        "outputId": "b391880a-71f4-46f3-b7e1-a75a7fe1689f"
      },
      "outputs": [
        {
          "output_type": "execute_result",
          "data": {
            "text/plain": [
              "(1000000, 12)"
            ]
          },
          "metadata": {},
          "execution_count": 20
        }
      ],
      "source": [
        "df_11_2019.shape"
      ]
    },
    {
      "cell_type": "code",
      "execution_count": null,
      "metadata": {
        "id": "BQOF1AKXpgd2"
      },
      "outputs": [],
      "source": [
        "df_03_2019 = pd.read_csv(\"/content/drive/MyDrive/Viagens/venda_passagem_03_2019/venda_passagem_03_2019.csv\", sep=';',encoding = 'latin-1', on_bad_lines='skip', dtype=column_types, parse_dates=parse_date, usecols=usecols, nrows=nrow_3_2019)"
      ]
    },
    {
      "cell_type": "code",
      "execution_count": null,
      "metadata": {
        "id": "C9usy43qJ8Jt"
      },
      "outputs": [],
      "source": [
        "df_03_2019.shape"
      ]
    },
    {
      "cell_type": "code",
      "execution_count": null,
      "metadata": {
        "id": "1EM6vMZmIZTw"
      },
      "outputs": [],
      "source": [
        "#df_viagem = pd.concat([df_03_2019, df_11_2019, df_12_2019, df_01_2020], axis=0)\n",
        "df_viagem = pd.concat([df_03_2019, df_11_2019, df_12_2019], axis=0)"
      ]
    },
    {
      "cell_type": "code",
      "execution_count": null,
      "metadata": {
        "id": "GyT9owZrJoOY"
      },
      "outputs": [],
      "source": [
        "df_viagem.shape"
      ]
    },
    {
      "cell_type": "code",
      "execution_count": null,
      "metadata": {
        "id": "XLV5PW2L-tuH"
      },
      "outputs": [],
      "source": [
        "df_viagem.info()"
      ]
    },
    {
      "cell_type": "code",
      "execution_count": null,
      "metadata": {
        "id": "zcluJNH-oWB3"
      },
      "outputs": [],
      "source": [
        "df_viagem.head()"
      ]
    },
    {
      "cell_type": "code",
      "execution_count": null,
      "metadata": {
        "id": "_62gl5CkhhjY"
      },
      "outputs": [],
      "source": [
        "df_viagem = df_viagem.loc[df_viagem.valor_total >= 0]"
      ]
    },
    {
      "cell_type": "code",
      "execution_count": null,
      "metadata": {
        "id": "QPkwVPTa66AK"
      },
      "outputs": [],
      "source": [
        "temp = df_viagem['origem_destino_linha'].str.split(' - ',expand=True)\n"
      ]
    },
    {
      "cell_type": "code",
      "execution_count": null,
      "metadata": {
        "id": "l_m024P17Whe"
      },
      "outputs": [],
      "source": [
        "temp[1]"
      ]
    },
    {
      "cell_type": "code",
      "execution_count": null,
      "metadata": {
        "id": "L-Yiyq16AwXF"
      },
      "outputs": [],
      "source": [
        "temp = df_viagem['origem_destino_linha'].str.split(' - ',expand=True)\n",
        "df_viagem['origem_linha'] = temp[0]\n",
        "df_viagem['destino_linha']= temp[1]"
      ]
    },
    {
      "cell_type": "code",
      "execution_count": null,
      "metadata": {
        "id": "kxtZKuWDeFpg"
      },
      "outputs": [],
      "source": [
        "df_viagem['origem_destino_linha'] = df_viagem.origem_destino_linha.str.strip().str.replace(' ','')"
      ]
    },
    {
      "cell_type": "code",
      "execution_count": null,
      "metadata": {
        "id": "xDrt51k4Bzk3"
      },
      "outputs": [],
      "source": [
        "orig = df_viagem['origem_linha'].str.split('(', expand=True)\n",
        "orig.rename(columns={0: \"cidade_origem_linha\", 1:\"uf_origem_linha\" }, inplace=True)\n",
        "orig['uf_origem_linha'] = orig.uf_origem_linha.str.replace(')','')\n"
      ]
    },
    {
      "cell_type": "code",
      "execution_count": null,
      "metadata": {
        "id": "PJnGn_CvDlYV"
      },
      "outputs": [],
      "source": [
        "dest = df_viagem['destino_linha'].str.split('(', expand=True)\n",
        "dest.rename(columns={0: \"cidade_destino_linha\", 1:\"uf_destino_linha\" }, inplace=True)\n",
        "dest['uf_destino_linha'] = dest.uf_destino_linha.str.replace(')','')"
      ]
    },
    {
      "cell_type": "code",
      "execution_count": null,
      "metadata": {
        "id": "JgHur2N5THAA"
      },
      "outputs": [],
      "source": [
        "df_viagem[\"cidade_origem_linha\"] = orig.cidade_origem_linha.str.strip()\n",
        "df_viagem['uf_origem_linha'] = orig.uf_origem_linha.str.strip()\n",
        "#\n",
        "df_viagem[\"cidade_destino_linha\"] = dest.cidade_destino_linha.str.strip()\n",
        "df_viagem['uf_destino_linha'] = dest.uf_destino_linha.str.strip()"
      ]
    },
    {
      "cell_type": "code",
      "execution_count": null,
      "metadata": {
        "id": "uChMedL04Yws"
      },
      "outputs": [],
      "source": [
        "df_viagem['ponto_destino_viagem']= df_viagem.ponto_destino_viagem.str.rstrip().str.replace(' ', '-')"
      ]
    },
    {
      "cell_type": "code",
      "execution_count": null,
      "metadata": {
        "id": "ibJ4znwRHZAm"
      },
      "outputs": [],
      "source": [
        "df_viagem['tipo_gratitude'].loc[df_viagem.tipo_gratitude.isnull()]"
      ]
    },
    {
      "cell_type": "code",
      "execution_count": null,
      "metadata": {
        "id": "b5f78DqeIApH"
      },
      "outputs": [],
      "source": [
        "df_viagem.dropna(inplace=True)"
      ]
    },
    {
      "cell_type": "code",
      "execution_count": null,
      "metadata": {
        "id": "z1igBNFoIK2n"
      },
      "outputs": [],
      "source": [
        "df_viagem.isnull().sum()"
      ]
    },
    {
      "cell_type": "code",
      "execution_count": null,
      "metadata": {
        "id": "cr4LTEOMM0Ej"
      },
      "outputs": [],
      "source": [
        "df_viagem.columns"
      ]
    },
    {
      "cell_type": "code",
      "execution_count": null,
      "metadata": {
        "id": "ttCzgP_4UNbn"
      },
      "outputs": [],
      "source": [
        "df_temp = df_viagem.copy()"
      ]
    },
    {
      "cell_type": "code",
      "execution_count": null,
      "metadata": {
        "id": "Q8SILh0bW95Y"
      },
      "outputs": [],
      "source": [
        "df_temp.shape\n"
      ]
    },
    {
      "cell_type": "markdown",
      "metadata": {
        "id": "WwpkiluCobpQ"
      },
      "source": [
        "# O número de assentos depende se tem banheiro ou tem dois andares.\n",
        "# Sendo de dois andares tem no máximo 104 lugares.\n",
        "- https://www.auditorioibirapuera.com.br/quantas-poltronas-tem-um-onibus-de-dois-andares/\n",
        "\n",
        "---\n",
        "\n"
      ]
    },
    {
      "cell_type": "code",
      "execution_count": null,
      "metadata": {
        "id": "ySifw1i4kJlu"
      },
      "outputs": [],
      "source": [
        "df_temp.numero_poltrona.value_counts()"
      ]
    },
    {
      "cell_type": "markdown",
      "metadata": {
        "id": "DV_XCROwAjHA"
      },
      "source": [
        "# Linhas com numero de poltrona acima de 104 serão excluidas."
      ]
    },
    {
      "cell_type": "code",
      "execution_count": null,
      "metadata": {
        "id": "mMv9VXUiw_wV"
      },
      "outputs": [],
      "source": [
        "df_temp[['ponto_origem_viagem', 'numero_poltrona']].loc[df_temp.numero_poltrona > 104]"
      ]
    },
    {
      "cell_type": "code",
      "execution_count": null,
      "metadata": {
        "id": "Hf9SOjbFTXmB"
      },
      "outputs": [],
      "source": [
        "df_temp.shape"
      ]
    },
    {
      "cell_type": "code",
      "execution_count": null,
      "metadata": {
        "id": "nNUvc0DQgtmT"
      },
      "outputs": [],
      "source": [
        "df_temp = df_temp.loc[df_temp.numero_poltrona <= 104]"
      ]
    },
    {
      "cell_type": "code",
      "execution_count": null,
      "metadata": {
        "id": "CU44GZ3_ijar"
      },
      "outputs": [],
      "source": [
        "df_temp.shape"
      ]
    },
    {
      "cell_type": "code",
      "execution_count": null,
      "metadata": {
        "id": "vtMTXxBlS2ZT"
      },
      "outputs": [],
      "source": [
        "df_temp[['ponto_origem_viagem', 'numero_poltrona']]"
      ]
    },
    {
      "cell_type": "code",
      "execution_count": null,
      "metadata": {
        "id": "9IuLOXO_Tq-R"
      },
      "outputs": [],
      "source": [
        "df_temp.numero_poltrona.value_counts().sort_values()"
      ]
    },
    {
      "cell_type": "markdown",
      "metadata": {
        "id": "gnHmu6fVUy4J"
      },
      "source": [
        "# Remover as linha onde a passagem foi cancelada."
      ]
    },
    {
      "cell_type": "code",
      "execution_count": null,
      "metadata": {
        "id": "vBkYJ8aWAPKu"
      },
      "outputs": [],
      "source": [
        "df_temp.in_passagem_cancelada.value_counts()"
      ]
    },
    {
      "cell_type": "code",
      "execution_count": null,
      "metadata": {
        "id": "zblmcpxAUxx0"
      },
      "outputs": [],
      "source": [
        "print(\"Antes: \", df_temp.shape)\n",
        "df_temp = df_temp.loc[df_temp.in_passagem_cancelada=='NÃO']\n",
        "print(\"Depois:\", df_temp.shape)"
      ]
    },
    {
      "cell_type": "code",
      "execution_count": null,
      "metadata": {
        "id": "KsSLrsOQWDvs"
      },
      "outputs": [],
      "source": [
        "df_temp =   df_temp.drop(columns=['in_passagem_cancelada'])"
      ]
    },
    {
      "cell_type": "markdown",
      "metadata": {
        "id": "QR_lOs4x9rMo"
      },
      "source": [
        "# Extrair os valores de dia, mês e ano da variavel data_emissao_bilhete."
      ]
    },
    {
      "cell_type": "code",
      "execution_count": null,
      "metadata": {
        "id": "PRvlAAptz7Wy"
      },
      "outputs": [],
      "source": [
        "dia_emissao = df_temp.data_emissao_bilhete.dt.day\n",
        "mes_emissao = df_temp.data_emissao_bilhete.dt.month\n",
        "ano_emissao = df_temp.data_emissao_bilhete.dt.year\n",
        "df_temp['dia_emissao'] = dia_emissao\n",
        "df_temp['mes_emissao'] = mes_emissao\n",
        "df_temp['ano_emissao'] = ano_emissao\n"
      ]
    },
    {
      "cell_type": "markdown",
      "metadata": {
        "id": "H-4Qy6SB9-8Q"
      },
      "source": [
        "# Extrair os valores de dia, mês e ano da variavel data_viagem."
      ]
    },
    {
      "cell_type": "code",
      "execution_count": null,
      "metadata": {
        "id": "tbEKcycC0R4y"
      },
      "outputs": [],
      "source": [
        "dia_viagem = df_temp.data_viagem.dt.day\n",
        "mes_viagem = df_temp.data_viagem.dt.month\n",
        "ano_viagem = df_temp.data_viagem.dt.year\n",
        "df_temp['dia_viagem'] = dia_viagem\n",
        "df_temp['mes_viagem_num'] = mes_viagem\n",
        "df_temp['ano_viagem'] = ano_viagem"
      ]
    },
    {
      "cell_type": "code",
      "execution_count": null,
      "metadata": {
        "id": "b-z75JIA5wx8"
      },
      "outputs": [],
      "source": [
        "dict_mes = {'1':\"Jan\", '2':'Fev', '3':'Mar', '4':'Abr', '5': 'Mai', '6': 'Jun', '7': 'Jul', '8': 'Ago', '9':'Set', '10':'Out', '11': 'Nov', '12': 'Dez'}"
      ]
    },
    {
      "cell_type": "code",
      "execution_count": null,
      "metadata": {
        "id": "LyInOeke6o6u"
      },
      "outputs": [],
      "source": [
        "dict_mes.get('1')"
      ]
    },
    {
      "cell_type": "code",
      "execution_count": null,
      "metadata": {
        "id": "NFnI9PEa9cwM"
      },
      "outputs": [],
      "source": [
        "df_temp.mes_viagem_num"
      ]
    },
    {
      "cell_type": "code",
      "execution_count": null,
      "metadata": {
        "id": "9DW6JPQ465zW"
      },
      "outputs": [],
      "source": [
        "lista_mes = []\n",
        "for i in (df_temp.mes_viagem_num):\n",
        "  lista_mes.append(dict_mes.get(str(i)))"
      ]
    },
    {
      "cell_type": "code",
      "execution_count": null,
      "metadata": {
        "id": "VCTeOaYgGeEk"
      },
      "outputs": [],
      "source": [
        "#month_name = df4.data_viagem.dt.strftime(\"%B\")\n",
        "df_temp['mes_viagem'] = lista_mes"
      ]
    },
    {
      "cell_type": "code",
      "execution_count": null,
      "metadata": {
        "id": "O0VyspYeszrO"
      },
      "outputs": [],
      "source": [
        "df_temp[['mes_viagem', 'mes_viagem_num']]"
      ]
    },
    {
      "cell_type": "markdown",
      "metadata": {
        "id": "3zPVYofZ-X7X"
      },
      "source": [
        "# Extrair os valores que identificam o dia da semana."
      ]
    },
    {
      "cell_type": "code",
      "execution_count": null,
      "metadata": {
        "id": "_7YX6TXW-bN9"
      },
      "outputs": [],
      "source": [
        "df_temp['semana_num'] = df_temp.data_viagem.dt.strftime(\"%w\")"
      ]
    },
    {
      "cell_type": "code",
      "execution_count": null,
      "metadata": {
        "id": "gdPLHYNGq0Tj"
      },
      "outputs": [],
      "source": [
        "dict_semana = {'0':\"Dom\", '1':\"Seg\", '2':\"Ter\",'3': \"Qua\",'4':\"Qui\", '5':\"Sex\", '6':\"Sab\"}"
      ]
    },
    {
      "cell_type": "code",
      "execution_count": null,
      "metadata": {
        "id": "UGXmdJcjAOP6"
      },
      "outputs": [],
      "source": [
        "lista_dias = []\n",
        "for i in (df_temp.semana_num):\n",
        "  lista_dias.append(dict_semana.get(str(i)))"
      ]
    },
    {
      "cell_type": "code",
      "execution_count": null,
      "metadata": {
        "id": "BYpk3dVfA-vO"
      },
      "outputs": [],
      "source": [
        "df_temp['dia_semana_viagem'] = lista_dias"
      ]
    },
    {
      "cell_type": "code",
      "execution_count": null,
      "metadata": {
        "id": "_W1GWV72WgUR"
      },
      "outputs": [],
      "source": [
        "df_temp[['dia_emissao', 'mes_emissao', 'ano_emissao', 'dia_viagem', 'mes_viagem', 'ano_viagem', 'dia_semana_viagem']]"
      ]
    },
    {
      "cell_type": "code",
      "source": [
        "df_temp = df_temp.loc[df_temp['ano_viagem'] == 2019]"
      ],
      "metadata": {
        "id": "yssvIJZeWddq"
      },
      "execution_count": null,
      "outputs": []
    },
    {
      "cell_type": "code",
      "source": [
        "df_temp[['dia_emissao', 'mes_emissao', 'ano_emissao', 'dia_viagem', 'mes_viagem', 'ano_viagem', 'dia_semana_viagem']]"
      ],
      "metadata": {
        "id": "YoLFCFJeWxiQ"
      },
      "execution_count": null,
      "outputs": []
    },
    {
      "cell_type": "code",
      "execution_count": null,
      "metadata": {
        "id": "iKMZoMvc1sGs"
      },
      "outputs": [],
      "source": [
        "dif_days= df_temp.data_viagem - df_temp.data_emissao_bilhete"
      ]
    },
    {
      "cell_type": "code",
      "execution_count": null,
      "metadata": {
        "id": "rrFC0i-1OC1_"
      },
      "outputs": [],
      "source": [
        "df_temp['dif_days'] = (dif_days.astype(str).str.replace(\"days\",'')).astype('int')"
      ]
    },
    {
      "cell_type": "code",
      "execution_count": null,
      "metadata": {
        "id": "F8wMPEyoSNNd"
      },
      "outputs": [],
      "source": [
        "#df_temp[['dia_emissao', 'mes_emissao', 'ano_emissao', 'dia_viagem', 'mes_viagem', 'ano_viagem', 'dif_days']].loc[df_temp.dif_days <= 0]"
      ]
    },
    {
      "cell_type": "code",
      "execution_count": null,
      "metadata": {
        "id": "hrqWEAoy2D4D"
      },
      "outputs": [],
      "source": [
        "df_temp = df_temp.loc[df_temp.dif_days >= 0]"
      ]
    },
    {
      "cell_type": "code",
      "execution_count": null,
      "metadata": {
        "id": "GVt7eloXibHl"
      },
      "outputs": [],
      "source": [
        "df_temp.columns"
      ]
    },
    {
      "cell_type": "markdown",
      "metadata": {
        "id": "8HcC3orWBGvw"
      },
      "source": [
        "# Filtrar por Destino"
      ]
    },
    {
      "cell_type": "code",
      "execution_count": null,
      "metadata": {
        "id": "e7niTDUh-IEM"
      },
      "outputs": [],
      "source": [
        "temp = df_temp[['ponto_destino_viagem','data_emissao_bilhete','data_viagem'',\n",
        "       'valor_total',\n",
        "       'dia_semana_viagem']]\n",
        "@interact\n",
        "def filter_destino(Destino = list(temp.destino_linha.unique())):\n",
        "\n",
        "    return temp[temp.destino_linha == Destino]"
      ]
    },
    {
      "cell_type": "markdown",
      "source": [
        "# Filtrar por Dia da Semana"
      ],
      "metadata": {
        "id": "AzBIxf9GQDyT"
      }
    },
    {
      "cell_type": "code",
      "source": [
        "temp = df_temp[['dia_semana_viagem','ponto_origem_viagem','ponto_destino_viagem','data_emissao_bilhete','data_viagem'\n",
        "       'valor_total',\n",
        "       ]]\n",
        "@interact\n",
        "def filter_dia(Dia = list(temp.dia_semana_viagem.unique())):\n",
        "\n",
        "    return temp[temp.dia_semana_viagem == Dia]"
      ],
      "metadata": {
        "id": "q4es2EhkP_ay"
      },
      "execution_count": null,
      "outputs": []
    },
    {
      "cell_type": "markdown",
      "metadata": {
        "id": "wVErc8f0ZPD1"
      },
      "source": [
        "# Total Viagens por Dias da Semana"
      ]
    },
    {
      "cell_type": "code",
      "execution_count": null,
      "metadata": {
        "id": "ELRapXEYJ-mS"
      },
      "outputs": [],
      "source": [
        "fig = plt.figure(figsize=(5, 1.5), dpi = 200, facecolor = \"#EFE9E6\")\n",
        "ax = plt.subplot(111, facecolor = \"#EFE9E6\")\n",
        "temp_sem_viagem = value_counts_df(df_temp, 'dia_semana_viagem')\n",
        "with sns.axes_style('white'):\n",
        "    g = sns.barplot(x=\"dia_semana_viagem\", y = 'counts', data=temp_sem_viagem)\n",
        "    plt.title(\"Total de Viagens por Dia da Semana\")\n",
        "    plt.savefig(\"Fig1.png\", bbox_inches='tight')"
      ]
    },
    {
      "cell_type": "markdown",
      "metadata": {
        "id": "Nm3oWq33YWmH"
      },
      "source": [
        "# Quais os top 10 destinos mais procurados?"
      ]
    },
    {
      "cell_type": "code",
      "execution_count": null,
      "metadata": {
        "id": "CmhlQBLWrV9f"
      },
      "outputs": [],
      "source": [
        "fig = plt.figure(figsize=(6, 2.5), dpi = 200, facecolor = \"#EFE9E6\")\n",
        "ax = plt.subplot(111, facecolor = \"#EFE9E6\")\n",
        "top_10 = df_temp['ponto_destino_viagem'].value_counts().iloc[:10].sort_values(ascending=True)\n",
        "top_10.plot.barh(edgecolor='black', color='red');\n",
        "plt.xlabel('Frequencia')\n",
        "plt.ylabel('destinos')\n",
        "plt.title(\"Top 10 Destinos\");\n",
        "plt.savefig(\"Fig2.png\", bbox_inches='tight')"
      ]
    },
    {
      "cell_type": "markdown",
      "source": [
        "# Quais os top 10 origens?"
      ],
      "metadata": {
        "id": "_S9X68r7k5S5"
      }
    },
    {
      "cell_type": "code",
      "source": [
        "fig = plt.figure(figsize=(6, 2.5), dpi = 200, facecolor = \"#EFE9E6\")\n",
        "ax = plt.subplot(111, facecolor = \"#EFE9E6\")\n",
        "top_10 = df_temp['ponto_origem_viagem'].value_counts().iloc[:10].sort_values(ascending=True)\n",
        "top_10.plot.barh(edgecolor='black', color='red');\n",
        "plt.xlabel('Frequencia')\n",
        "plt.ylabel('origem')\n",
        "plt.title(\"Top 10 Origens\");\n",
        "plt.savefig(\"Fig3.png\", bbox_inches='tight')"
      ],
      "metadata": {
        "id": "N3Xa8Ovok33E"
      },
      "execution_count": null,
      "outputs": []
    },
    {
      "cell_type": "markdown",
      "metadata": {
        "id": "XArmFTMLYhkG"
      },
      "source": [
        "# Qual o total de viagens por mês no dataset gerado?"
      ]
    },
    {
      "cell_type": "code",
      "execution_count": null,
      "metadata": {
        "id": "h1UklU_pTD9S"
      },
      "outputs": [],
      "source": [
        "fig = plt.figure(figsize=(6, 2.5), dpi = 200, facecolor = \"#EFE9E6\")\n",
        "ax = plt.subplot(111, facecolor = \"#EFE9E6\")\n",
        "ranking_meses= df_temp['mes_viagem'].value_counts()\n",
        "#print(\"Total Viagens Mes\\n\",ranking_meses, '\\n')\n",
        "ranking_meses.plot(kind='bar', edgecolor='black', rot=4, color='red');\n",
        "plt.xlabel('Meses')\n",
        "plt.ylabel('Frequencia')\n",
        "plt.title(\"Ranking Meses\");\n",
        "plt.savefig(\"Fig4.png\", bbox_inches='tight')"
      ]
    },
    {
      "cell_type": "markdown",
      "metadata": {
        "id": "yf3b8Ipsyeza"
      },
      "source": [
        "# Total de Bilhetes Emitidos por Gratitude"
      ]
    },
    {
      "cell_type": "code",
      "execution_count": null,
      "metadata": {
        "id": "ri7j6hhdxQjt"
      },
      "outputs": [],
      "source": [
        "temp = df_temp['tipo_gratitude'].str.split('-', expand=True)\n",
        "print('\\033[1m','\\nTipo\\t\\t\\t\\t\\t\\tTotal\\n\\n'+str(temp[0].value_counts()))"
      ]
    },
    {
      "cell_type": "code",
      "execution_count": null,
      "metadata": {
        "id": "ABnspPRkckrZ"
      },
      "outputs": [],
      "source": [
        "fig = plt.figure(figsize=(7, 2.5), dpi = 100, facecolor = \"#EFE9E6\")\n",
        "ax = plt.subplot(111, facecolor = \"#EFE9E6\")\n",
        "temp = df_temp['tipo_gratitude'].str.split('-', expand=True)\n",
        "gratitude_count = temp[0]\n",
        "gratitude= gratitude_count.value_counts().sort_values(ascending=True)\n",
        "#print(\"Total Tipos de Gratitude\\n\",gratitude, '\\n')\n",
        "gratitude.plot.barh(edgecolor='black', color='red');\n",
        "plt.xlabel('Frequencia')\n",
        "plt.ylabel('Tipo de Gratitude')\n",
        "plt.title(\"Total Tipo de Gratitude\");\n",
        "plt.savefig(\"Fig5.png\",  bbox_inches='tight') # do not permit cut text"
      ]
    },
    {
      "cell_type": "markdown",
      "metadata": {
        "id": "1sXd7Uf45eUn"
      },
      "source": [
        "# Total de Emissoes de Bilhetes por Dia"
      ]
    },
    {
      "cell_type": "code",
      "source": [
        "df_temp.columns"
      ],
      "metadata": {
        "id": "UhfRdqn5E3ei"
      },
      "execution_count": null,
      "outputs": []
    },
    {
      "cell_type": "code",
      "execution_count": null,
      "metadata": {
        "id": "7GNt6Gh7Tea4"
      },
      "outputs": [],
      "source": [
        "temp_data = []\n",
        "for i in df_temp.data_emissao_bilhete:\n",
        "  temp_data.append(rem_time(i))\n",
        "\n",
        "df_temp['data_emissao_bilhete'] = temp_data\n"
      ]
    },
    {
      "cell_type": "code",
      "execution_count": null,
      "metadata": {
        "id": "z7CDS4QwlcjH"
      },
      "outputs": [],
      "source": [
        "fig = plt.figure(figsize=(6, 2.5), dpi = 150, facecolor = \"#EFE9E6\")\n",
        "ax = plt.subplot(111, facecolor = \"#EFE9E6\")\n",
        "temp2 = df_temp['data_emissao_bilhete'].value_counts().iloc[:10]\n",
        "temp2.plot.barh(x= temp2.index , y=temp.values, edgecolor='black', color='red');\n",
        "plt.xlabel('Frequencia')\n",
        "plt.ylabel('Data Emissao Bilhete')\n",
        "plt.title(\"Top 10\\nMaiores Emissoes de Bilhetes por Dia\\n\");\n",
        "plt.savefig(\"Fig6.png\",  bbox_inches='tight')"
      ]
    },
    {
      "cell_type": "markdown",
      "metadata": {
        "id": "EBBD8tDO1Orv"
      },
      "source": [
        "# Qual o total de Passagens Vendidas entre UFs?"
      ]
    },
    {
      "cell_type": "code",
      "execution_count": null,
      "metadata": {
        "id": "qNufwavl-pu1"
      },
      "outputs": [],
      "source": [
        "df_uf = df_temp[['uf_origem_linha', 'uf_destino_linha']].value_counts().reset_index(name='count')\n",
        "#\n",
        "df_uf['ufs'] = df_uf.uf_origem_linha+'-->'+df_uf.uf_destino_linha"
      ]
    },
    {
      "cell_type": "code",
      "execution_count": null,
      "metadata": {
        "id": "zhQpp6soB5ol"
      },
      "outputs": [],
      "source": [
        "fig = plt.figure(figsize=(6, 2.5), dpi = 150, facecolor = \"#EFE9E6\")\n",
        "ax = plt.subplot(111, facecolor = \"#EFE9E6\")\n",
        "temp = df_uf.iloc[:10]\n",
        "#temp.plot.bar(x = 'ufs' , y= 'count', edgecolor='black', rot=80, color='red');\n",
        "sns.barplot(x=temp['count'], y=temp['ufs'], orient='h', color='red')\n",
        "plt.xlabel('Frequencia')\n",
        "plt.ylabel('Origem-Destino')\n",
        "plt.title(\"Top 10\\nTotal de Bilhetes Emitidos Entre Ufs\\nOrigem-->Destino\\n\");\n",
        "plt.savefig(\"Fig7.png\",  bbox_inches='tight')"
      ]
    },
    {
      "cell_type": "markdown",
      "metadata": {
        "id": "iqbR5j3j0_qG"
      },
      "source": [
        "# Fluxo de Viagens entre UFs\n",
        "- https://python-graph-gallery.com/basic-sankey-diagram-with-pysankey/"
      ]
    },
    {
      "cell_type": "code",
      "execution_count": null,
      "metadata": {
        "id": "66mvbjBztru7"
      },
      "outputs": [],
      "source": [
        "filter=10000\n",
        "df_filtered = df_uf.loc[df_uf['count']>= filter].sort_values(by='count', ascending=False)\n",
        "df_filtered.shape"
      ]
    },
    {
      "cell_type": "code",
      "execution_count": null,
      "metadata": {
        "id": "YcLZ11HEkTfh"
      },
      "outputs": [],
      "source": [
        "sankey(\n",
        "    left=df_filtered[\"uf_origem_linha\"], right=df_filtered[\"uf_destino_linha\"],\n",
        "    leftWeight= df_filtered[\"count\"], rightWeight=df_filtered[\"count\"],\n",
        "    aspect=20, fontsize=10\n",
        ")\n",
        "\n",
        "# Get current figure\n",
        "fig = plt.gcf()\n",
        "\n",
        "\n",
        "\n",
        "# Set size in inches\n",
        "fig.set_size_inches(10, 10)\n",
        "\n",
        "# Set the color of the background to white\n",
        "fig.set_facecolor(\"#EFE9E6\")\n",
        "plt.title(\"Total de Bilhetes Emitidos entre UFs\\nOrigem --> Destino\\nFilter: Acima de 10k\");\n",
        "# Save the figure\n",
        "plt.subplots_adjust(top=0.88)\n",
        "fig.savefig(\"fluxo_passageiros.png\", bbox_inches=\"tight\", dpi=180)\n",
        "plt.savefig(\"Fig8.png\",  bbox_inches='tight')\n",
        "\n"
      ]
    },
    {
      "cell_type": "code",
      "execution_count": null,
      "metadata": {
        "id": "T12h1mFY1JOQ"
      },
      "outputs": [],
      "source": [
        "df_uf2 = df_temp[['uf_origem_linha', 'uf_destino_linha', 'mes_viagem']].value_counts().reset_index(name='count')\n",
        "#\n",
        "df_uf2['ufs_mes'] = df_uf2.uf_origem_linha+'-->'+df_uf2.uf_destino_linha+'-->'+df_uf2.mes_viagem"
      ]
    },
    {
      "cell_type": "code",
      "execution_count": null,
      "metadata": {
        "id": "bNoFl8Jy3-pE"
      },
      "outputs": [],
      "source": [
        "fig = plt.figure(figsize=(6, 3.0), dpi = 150, facecolor = \"#EFE9E6\")\n",
        "ax = plt.subplot(111, facecolor = \"#EFE9E6\")\n",
        "temp = df_uf2.iloc[:10]\n",
        "#temp.plot.bar(x = 'ufs_mes' , y= 'count', edgecolor='black', rot=45, color='red');\n",
        "sns.barplot(x=temp['count'], y=temp['ufs_mes'], orient='h', color='red')\n",
        "plt.xlabel('Frequencia')\n",
        "plt.ylabel('ufs_mes')\n",
        "plt.title(\"Top 10\\nMaiores Totais de Bilhetes Emitidos Entre Ufs\\nOrigem-->Destino--Mes\\n\");\n",
        "plt.savefig(\"Fig9.png\",  bbox_inches='tight')"
      ]
    },
    {
      "cell_type": "code",
      "execution_count": null,
      "metadata": {
        "id": "tP3BpihG5LUD"
      },
      "outputs": [],
      "source": [
        "df_uf3 = df_temp[['uf_origem_linha', 'uf_destino_linha', 'dia_semana_viagem']].value_counts().reset_index(name='count')\n",
        "#\n",
        "df_uf3['ufs_dia'] = df_uf3.uf_origem_linha+'-->'+df_uf3.uf_destino_linha+'-->'+df_uf3.dia_semana_viagem"
      ]
    },
    {
      "cell_type": "code",
      "execution_count": null,
      "metadata": {
        "id": "yNQcoF1I5k61"
      },
      "outputs": [],
      "source": [
        "fig = plt.figure(figsize=(6, 2.0), dpi = 180, facecolor = \"#EFE9E6\")\n",
        "ax = plt.subplot(111, facecolor = \"#EFE9E6\")\n",
        "temp = df_uf3.iloc[:10]\n",
        "#temp.plot.bar(x = 'ufs_dia' , y= 'count', edgecolor='black', rot=45, color='red');\n",
        "sns.barplot(x=temp['count'], y=temp['ufs_dia'], orient='h', color='red')\n",
        "plt.xlabel('Frequencia')\n",
        "plt.ylabel('uf_dia')\n",
        "plt.title(\"Top 10\\nMaiores Totais de Bilhetes Emitidos Entre Ufs\\nOrigem-->Destino--Dia\\n\");\n",
        "plt.savefig(\"Fig10.png\",  bbox_inches='tight')"
      ]
    },
    {
      "cell_type": "code",
      "execution_count": null,
      "metadata": {
        "id": "wnPsGowxgB11"
      },
      "outputs": [],
      "source": [
        "temp = df_temp.copy()"
      ]
    },
    {
      "cell_type": "code",
      "execution_count": null,
      "metadata": {
        "id": "uEanMOxMgc3Y"
      },
      "outputs": [],
      "source": [
        "temp2 = temp.groupby(['uf_origem_linha', 'uf_destino_linha']).value_counts().reset_index(name='counts')\n"
      ]
    },
    {
      "cell_type": "code",
      "execution_count": null,
      "metadata": {
        "id": "fia3VAkQgweo"
      },
      "outputs": [],
      "source": [
        "temp2[['uf_origem_linha', 'uf_destino_linha', 'counts']].sort_values(by='counts', ascending=False)"
      ]
    },
    {
      "cell_type": "markdown",
      "metadata": {
        "id": "TcWO1o6KIP0D"
      },
      "source": [
        "# Gasto Médio, Min e Max com Bilhete por UF\n",
        "- tabela: https://www.scaler.com/topics/matplotlib/matplotlib-table/"
      ]
    },
    {
      "cell_type": "code",
      "execution_count": null,
      "metadata": {
        "id": "ov53Sg-aIXYG"
      },
      "outputs": [],
      "source": [
        "df_temp.groupby(['origem_destino_linha'])['valor_total'].agg(['count','sum', 'mean', 'min', 'max'])"
      ]
    },
    {
      "cell_type": "code",
      "execution_count": null,
      "metadata": {
        "id": "YZlRl9HeMbdf"
      },
      "outputs": [],
      "source": [
        "temp_agg = df_temp.copy()\n",
        "temp_agg['count'] = temp_agg.groupby('origem_destino_linha')['valor_total'].transform('count')\n",
        "temp_agg['sum'] = np.round(temp_agg.groupby('origem_destino_linha')['valor_total'].transform('sum'),2)\n",
        "temp_agg['mean'] = np.round(temp_agg.groupby('origem_destino_linha')['valor_total'].transform('mean'),2)\n",
        "temp_agg['max'] = np.round(temp_agg.groupby('origem_destino_linha')['valor_total'].transform('max'),2)\n",
        "temp_agg['min'] = np.round(temp_agg.groupby('origem_destino_linha')['valor_total'].transform('min'),2)\n",
        "temp_agg = temp_agg[['origem_destino_linha','count', 'sum', 'mean', 'max', 'min']]\n",
        "#\n",
        "temp_agg.origem_destino_linha = temp_agg.origem_destino_linha.str.replace('-', ' --> ')"
      ]
    },
    {
      "cell_type": "code",
      "execution_count": null,
      "metadata": {
        "id": "VfyLAm6bOKeu"
      },
      "outputs": [],
      "source": [
        "temp_agg.drop_duplicates(inplace=True)\n",
        "temp_agg = temp_agg.sort_values(by='count', ascending=False)"
      ]
    },
    {
      "cell_type": "code",
      "source": [
        "fig = plt.figure(figsize=(7, 2.5), dpi = 200, facecolor = \"#EFE9E6\")\n",
        "ax = plt.subplot(111, facecolor = \"#EFE9E6\")\n",
        "\n",
        "temp_agg = temp_agg[:10]\n",
        "msg = 'Top 10\\nDados Estatisticos de Bilhetes Emitidos\\nPeriodo 2019\\nOrigem -> Destino -> Linha'\n",
        "\n",
        "title_text = msg\n",
        "\n",
        "plt.title(title_text)\n",
        "\n",
        "fig_background_color = 'grey'\n",
        "#fig_border = 'skyblue'\n",
        "headers = temp_agg.columns.to_list()[1:]\n",
        "#print('headers', headers)\n",
        "values = temp_agg[['sum', 'mean','max', 'min']].values.tolist()\n",
        "value_count = temp_agg[ 'count'].values.tolist()\n",
        "# coluna count deve ser inteira e as demais são decimais ou float\n",
        "for i in range(len(value_count)):\n",
        "  values[i].insert(0,value_count[i])\n",
        "\n",
        "#the headers from the data array\n",
        "column_headers = headers\n",
        "row_headers = [x for x in temp_agg.origem_destino_linha.tolist()]\n",
        "\n",
        "#print('row headers',row_headers)\n",
        "cell_text = []\n",
        "for row in values:\n",
        "    #print('row',row)\n",
        "    cell_text.append([np.round(x,2) for x in row])\n",
        "\n",
        "#print('cell_text',cell_text)\n",
        "rcolors = plt.cm.BuPu(np.full(len(row_headers), 0.4))\n",
        "ccolors = plt.cm.BuPu(np.full(len(column_headers), 0.4))\n",
        "\n",
        "#Creating the figure. Setting a small pad on the tight layout\n",
        "\n",
        "# plt.figure(linewidth=2,\n",
        "#            edgecolor=fig_border,\n",
        "#            facecolor = \"#EFE9E6\",\n",
        "#            tight_layout={'pad':1})\n",
        "\n",
        "#Adding a table at the bottom of the axes\n",
        "\n",
        "the_table = plt.table(cellText=cell_text,\n",
        "                      rowLabels=row_headers,\n",
        "                      rowColours=rcolors,\n",
        "                      rowLoc='center',\n",
        "                      colColours=ccolors,\n",
        "                      colLabels=column_headers,\n",
        "                      loc='center')\n",
        "\n",
        "# Scaling influences the top and bottom cell padding.\n",
        "#the_table.scale(2.0, 3.5)\n",
        "\n",
        "# Hiding axes\n",
        "ax = plt.gca()\n",
        "ax.get_xaxis().set_visible(False)\n",
        "ax.get_yaxis().set_visible(False)\n",
        "\n",
        "# Hiding axes border\n",
        "plt.box(on=None)\n",
        "\n",
        "\n",
        "\n",
        "# Without plt.draw() here, the title will center on the axes and not the figure.\n",
        "#plt.draw()\n",
        "\n",
        "# Creating the image. plt.savefig ignores the edge and face colors, so we need to map them.\n",
        "fig = plt.gcf()\n",
        "plt.savefig('pyplot-table-demo.png',\n",
        "            bbox_inches='tight',\n",
        "            edgecolor=fig.get_edgecolor(),\n",
        "            facecolor=fig.get_facecolor(),\n",
        "            dpi=200\n",
        "            )\n",
        "plt.savefig(\"Fig11.png\",  bbox_inches='tight')"
      ],
      "metadata": {
        "id": "C9HJyw2hGKZ8"
      },
      "execution_count": null,
      "outputs": []
    },
    {
      "cell_type": "markdown",
      "source": [
        "# Total de Bilhetes Emitidos por UF no periodo de 2019."
      ],
      "metadata": {
        "id": "8OtOGh3SSXkT"
      }
    },
    {
      "cell_type": "code",
      "execution_count": null,
      "metadata": {
        "id": "eNcSHZ9Rn3gr"
      },
      "outputs": [],
      "source": [
        "temp = df_uf.copy()\n",
        "temp['total_uf_orig'] = df_uf.groupby('uf_origem_linha')['count'].transform('sum')\n"
      ]
    },
    {
      "cell_type": "code",
      "execution_count": null,
      "metadata": {
        "id": "bgVQNDiqqksn"
      },
      "outputs": [],
      "source": [
        "temp_uf_total = temp[['uf_origem_linha', 'total_uf_orig']].drop_duplicates().sort_values(by='total_uf_orig', ascending=False)"
      ]
    },
    {
      "cell_type": "code",
      "execution_count": null,
      "metadata": {
        "id": "_YA1kltSrSw-"
      },
      "outputs": [],
      "source": [
        "temp_top10 = temp_uf_total[:10]"
      ]
    },
    {
      "cell_type": "code",
      "execution_count": null,
      "metadata": {
        "id": "etc1bcmk6Dsv"
      },
      "outputs": [],
      "source": [
        "lista_uf = temp_top10.uf_origem_linha.values\n",
        "lista_uf"
      ]
    },
    {
      "cell_type": "code",
      "execution_count": null,
      "metadata": {
        "id": "amJ6Sl8XsBe5"
      },
      "outputs": [],
      "source": [
        "#X= temp_top10['total_uf_orig'].values\n",
        "#X"
      ]
    },
    {
      "cell_type": "code",
      "execution_count": null,
      "metadata": {
        "id": "UiS7SQaOsbD5"
      },
      "outputs": [],
      "source": [
        "height = temp_top10['total_uf_orig'].reset_index(drop=True)"
      ]
    },
    {
      "cell_type": "code",
      "execution_count": null,
      "metadata": {
        "id": "gGcdVdhyyQGQ"
      },
      "outputs": [],
      "source": [
        "rj = Image.open('/content/drive/MyDrive/Viagens/Bandeiras_Br/Bandeira_Rio_de_Janeiro.png')\n",
        "ba = Image.open('/content/drive/MyDrive/Viagens/Bandeiras_Br/Bandeira_da_Bahia.png')\n",
        "pb = Image.open('/content/drive/MyDrive/Viagens/Bandeiras_Br/Bandeira_da_Paraíba.png')\n",
        "al = Image.open('/content/drive/MyDrive/Viagens/Bandeiras_Br/Bandeira_de_Alagoas.png')\n",
        "#\n",
        "go = Image.open('/content/drive/MyDrive/Viagens/Bandeiras_Br/Bandeira_de_Goiás.png')\n",
        "mg = Image.open('/content/drive/MyDrive/Viagens/Bandeiras_Br/Bandeira_de_Minas_Gerais.png')\n",
        "pe = Image.open('/content/drive/MyDrive/Viagens/Bandeiras_Br/Bandeira_de_Pernambuco.png')\n",
        "ro = Image.open('/content/drive/MyDrive/Viagens/Bandeiras_Br/Bandeira_de_Rondônia.png')\n",
        "#\n",
        "rr = Image.open('/content/drive/MyDrive/Viagens/Bandeiras_Br/Bandeira_de_Roraima.png')\n",
        "sc = Image.open('/content/drive/MyDrive/Viagens/Bandeiras_Br/Bandeira_de_Santa_Catarina.png')\n",
        "se = Image.open('/content/drive/MyDrive/Viagens/Bandeiras_Br/Bandeira_de_Sergipe.png')\n",
        "ac = Image.open('/content/drive/MyDrive/Viagens/Bandeiras_Br/Bandeira_do_Acre.png')\n",
        "#\n",
        "ap = Image.open('/content/drive/MyDrive/Viagens/Bandeiras_Br/Bandeira_do_Amapa.png')\n",
        "am = Image.open('/content/drive/MyDrive/Viagens/Bandeiras_Br/Bandeira_do_Amazonas.png')\n",
        "ce = Image.open('/content/drive/MyDrive/Viagens/Bandeiras_Br/Bandeira_do_Ceara.png')\n",
        "df = Image.open('/content/drive/MyDrive/Viagens/Bandeiras_Br/Bandeira_do_Distrito_Federal_Brasil.png')\n",
        "#\n",
        "es = Image.open('/content/drive/MyDrive/Viagens/Bandeiras_Br/Bandeira_do_Espírito_Santo.png')\n",
        "ma = Image.open('/content/drive/MyDrive/Viagens/Bandeiras_Br/Bandeira_do_Maranhao.png')\n",
        "pa = Image.open('/content/drive/MyDrive/Viagens/Bandeiras_Br/Bandeira_do_Para.png')\n",
        "pr = Image.open('/content/drive/MyDrive/Viagens/Bandeiras_Br/Bandeira_do_Parana.png')\n",
        "#\n",
        "pi = Image.open('/content/drive/MyDrive/Viagens/Bandeiras_Br/Bandeira_do_Piaui.png')\n",
        "rn = Image.open('/content/drive/MyDrive/Viagens/Bandeiras_Br/Bandeira_do_Rio_Grande_do_Norte.png')\n",
        "rs = Image.open('/content/drive/MyDrive/Viagens/Bandeiras_Br/Bandeira_do_Rio_Grande_do_Sul.png')\n",
        "to = Image.open('/content/drive/MyDrive/Viagens/Bandeiras_Br/Bandeira_do_Tocantins.png')\n",
        "#\n",
        "sp = Image.open('/content/drive/MyDrive/Viagens/Bandeiras_Br/Bandeira_Sao_Paulo.png')\n",
        "ms = Image.open('/content/drive/MyDrive/Viagens/Bandeiras_Br/Bandeira_Mato_Grosso_do_Sul.png')\n",
        "mt = Image.open('/content/drive/MyDrive/Viagens/Bandeiras_Br/Bandeira_de_Mato_Grosso.png')\n"
      ]
    },
    {
      "cell_type": "code",
      "execution_count": null,
      "metadata": {
        "id": "bl5Wd2YbzXFO"
      },
      "outputs": [],
      "source": [
        "dict_icons = {'RJ':rj, 'BA':ba, 'PB':pb, 'AL':al, 'GO':go, 'MG':mg, 'PE':pe, 'RO': ro, 'RR':rr, 'SC': sc, 'SE': se, 'AC':ac, 'AP':ap, 'AM': am, 'CE':ce, 'DF':df,\n",
        "              'ES': es, 'MA':ma, 'PA': pa, 'PR': pr, 'PI':pi, 'RN': rn, 'RS': rs, 'TO':to, 'SP':sp, 'MS':ms, 'MT':mt}"
      ]
    },
    {
      "cell_type": "code",
      "execution_count": null,
      "metadata": {
        "id": "80s42c5GCIhT"
      },
      "outputs": [],
      "source": [
        "X = np.arange(len(height))\n",
        "X"
      ]
    },
    {
      "cell_type": "code",
      "source": [
        "temp_top10[\"uf_origem_linha\"]"
      ],
      "metadata": {
        "id": "sBoCF5nqCL2U"
      },
      "execution_count": null,
      "outputs": []
    },
    {
      "cell_type": "code",
      "execution_count": null,
      "metadata": {
        "id": "dJsiiqEDrtlS"
      },
      "outputs": [],
      "source": [
        "fig = plt.figure(figsize=(7, 2.5), dpi = 200, facecolor = \"#EFE9E6\")\n",
        "ax = plt.subplot(111, facecolor = \"#EFE9E6\")\n",
        "\n",
        "plt.ylabel(\"total bilhetes\")\n",
        "#plt.xlabel(\"uf\")\n",
        "plt.title(\"Top 10\\nTotal de Bilhetes Emitidos por UF?\\nPeriodo: 2019\\n\")\n",
        "\n",
        "\n",
        "# Add spines\n",
        "ax.spines[\"top\"].set(visible = False)\n",
        "ax.spines[\"right\"].set(visible = False)\n",
        "\n",
        "# Add grid and axis labels\n",
        "ax.grid(True, color = \"lightgrey\", ls = \":\")\n",
        "\n",
        "# We specify the width of the bar\n",
        "width = 0.5\n",
        "\n",
        "# Fouls conceded\n",
        "ax.bar(\n",
        "    X,\n",
        "    height,\n",
        "    ec = \"black\",\n",
        "    lw = .9,\n",
        "    color = \"#005a9b\",\n",
        "    zorder = 3,\n",
        "    width = width\n",
        ")\n",
        "\n",
        "for index, y in enumerate(height):\n",
        "    ax.annotate(\n",
        "        xy = (index, y),\n",
        "        text = f\"{y}\",\n",
        "        xytext = (0, 7),\n",
        "        textcoords = \"offset points\",\n",
        "        size = 8,\n",
        "        color = \"black\",# \"#005a9b\",\n",
        "        ha = \"center\",\n",
        "        va = \"center\",\n",
        "        weight = \"bold\"\n",
        "    )\n",
        "\n",
        "xticks_ = ax.xaxis.set_ticks(\n",
        "    ticks = X,\n",
        "    labels = []\n",
        ")\n",
        "\n",
        "ax.tick_params(labelsize = 6)\n",
        "\n",
        "\n",
        "# --- Axes transformations\n",
        "\n",
        "DC_to_FC = ax.transData.transform\n",
        "FC_to_NFC = fig.transFigure.inverted().transform\n",
        "\n",
        "# Native data to normalized data coordinates\n",
        "DC_to_NFC = lambda x: FC_to_NFC(DC_to_FC(x))\n",
        "\n",
        "for index, uf in enumerate(temp_top10[\"uf_origem_linha\"]):\n",
        "    ax_coords = DC_to_NFC([index - width/2, -0.005])\n",
        "    logo_ax = fig.add_axes([ax_coords[0], ax_coords[1], 0.07, 0.07], anchor = \"W\")\n",
        "    uf_icon = dict_icons.get(uf)\n",
        "    logo_ax.imshow(uf_icon)\n",
        "    logo_ax.axis(\"off\")\n",
        "\n",
        "    logo_ax.annotate(\n",
        "        xy =(0, 0),\n",
        "        text = f\"{temp_uf_total['uf_origem_linha'].iloc[index]}\",\n",
        "        xytext = (8.5, -23.5), # (x,y) x é a posicao relativa ao eixo vertical e y eixo horizontal onde aparece o icone da UF\n",
        "        textcoords = \"offset points\",\n",
        "        size = 7,\n",
        "        ha = \"center\",\n",
        "        va = \"center\"\n",
        "    )\n",
        "\n",
        "# fig_text(\n",
        "#     x = 0.12, y = 1.2,\n",
        "#     s = \"Top 10 - Total de Bilhete Emitidos por UF?\",\n",
        "#     weight = \"bold\",\n",
        "#     size = 10\n",
        "# )\n",
        "\n",
        "# fig_text(\n",
        "#     x = 0.12, y = 1.1,\n",
        "#     s = \"Periodo: 2019/2020\",\n",
        "#     color = \"grey\",\n",
        "#     size = 8\n",
        "# )\n",
        "#plt.tight_layout()\n",
        "plt.subplots_adjust(top=0.70)\n",
        "plt.savefig(\"\\nTop10_Total_Bilhetes_por_UF.png\")\n",
        "plt.savefig(\"Fig12.png\", bbox_inches='tight')\n",
        "plt.show()"
      ]
    },
    {
      "cell_type": "markdown",
      "source": [
        "# INICIAR ANALISE"
      ],
      "metadata": {
        "id": "v5ABcwCJDT7i"
      }
    },
    {
      "cell_type": "markdown",
      "source": [
        "![](https://drive.google.com/uc?export=view&id=1uRhFT-YkC2B2VHM9FAi-U5Sofkdu7zNU)\n"
      ],
      "metadata": {
        "id": "mUIXxOJLDV-u"
      }
    },
    {
      "cell_type": "markdown",
      "source": [
        "# **Análises com base nos gráficos gerados**"
      ],
      "metadata": {
        "id": "KLGew5StuxwR"
      }
    },
    {
      "cell_type": "code",
      "source": [
        "# Fig1\n",
        "print('\\033[1m',\"\\n\\n\\tOuarta-feira ficou atrás de sexta-feira e domingo. Feriados ocorrridos na quinta-feira emendando com a sexta-feira \\natravés de banco de horas, pode ser uma explicação.\\n\")\n",
        "fig = Image.open('/content/Fig1.png')\n",
        "fig.show()"
      ],
      "metadata": {
        "id": "GMG3IVWfTcqu"
      },
      "execution_count": null,
      "outputs": []
    },
    {
      "cell_type": "code",
      "source": [
        "# Fig2\n",
        "print('\\033[1m',\"\\n\\n\\tA cidade de Campinas no Estado de São Paulo destaca-se entre as mais visitadas, as demais são todas capitais e o distrito federal.\\n\\tNa região de Campinas se localizam a Unicamp, centros de pesquisas como o CPQD e grandes empresas tais como a IBM e EMS.\\n\")\n",
        "fig = Image.open('/content/Fig2.png')\n",
        "fig.show()"
      ],
      "metadata": {
        "id": "GPydaG_Zzg7E"
      },
      "execution_count": null,
      "outputs": []
    },
    {
      "cell_type": "code",
      "source": [
        "# Fig3\n",
        "#print(df5['ano_viagem'].value_counts(normalize=True))\n",
        "\"\"\"\n",
        "2019    0.720453\n",
        "2020    0.279547\n",
        "Name: ano_viagem, dtype: float64\n",
        "\"\"\"\n",
        "print('\\033[1m',\"\\n\\n\\tNa base de dados o ano de 2020 representa 28%, sendo um ano marcado pelas restrições de deslocamento devido a pandemia do Covid.\\n\\tOs meses de Dezembro, Novembro e Março mostram os valores relativos a 2019, pois não haviam restrições ainda.\\n\\n\")\n",
        "fig = Image.open('/content/Fig3.png')\n",
        "fig.show()"
      ],
      "metadata": {
        "id": "_MJ0tGO71C6q"
      },
      "execution_count": null,
      "outputs": []
    },
    {
      "cell_type": "code",
      "source": [
        "# Fig4\n",
        "#print(df5['tipo_gratitude'].value_counts(normalize=True))\n",
        "\"\"\"\n",
        "Tarifa Normal - sem desconto                                                     0.708986\n",
        "Tarifa Promocional - Parágrafo 3º, art. 27 do Decreto nº 2.521/98                0.217253\n",
        "Bilhete de Viagem do Idoso 50% - Inciso II, art. 40 da Lei nº 10.741/03          0.033761\n",
        "Bilhete de Viagem do Idoso 100% - Inciso I, art. 40 da Lei nº 10.741/03          0.013223\n",
        "Gratuidade Jovem de Baixa Renda 100% - Inciso I, art. 32 da Lei nº 12.852/13     0.009013\n",
        "Autorização de Viagem - Passe Livre - Art. 1º da Lei nº 8.899/94                 0.007683\n",
        "Gratuidade Jovem de Baixa Renda 50% - Inciso II, art. 32 da Lei nº 12.852/13     0.006179\n",
        "Gratuidade de Criança - Inciso XVII, art. 29 do Decreto nº 2.521/98              0.003333\n",
        "Passe Livre Auditores e Agentes do Trabalho - Art. 34 do Decreto nº 4.552/02     0.000568\n",
        "Autorização de Viagem - Passe Livre Acompanhante - Art. 1º da Lei nº 8.899/94    0.000001\n",
        "Name: tipo_gratitude, dtype: float64\n",
        "\"\"\"\n",
        "print('\\033[1m',\"\\n\\n\\tA tarifa normal, sem desconto representa 70% e o restante corresponde ao uso de algum beneficio social ou promoção.\\n\")\n",
        "fig = Image.open('/content/Fig4.png')\n",
        "fig.show()"
      ],
      "metadata": {
        "id": "LlLWPbtzzhOg"
      },
      "execution_count": null,
      "outputs": []
    },
    {
      "cell_type": "code",
      "source": [
        "# Fig5\n",
        "print('\\033[1m',\"\\n\\n\\tNatal e ano novo são os maiores responsáveis por bilhetes emitidos, provavelmente comprados com antecedência devido ao grande fluxo no periodo.\\n\\n\")\n",
        "fig = Image.open('/content/Fig5.png')\n",
        "fig.show()"
      ],
      "metadata": {
        "id": "cRJYuAPDzheG"
      },
      "execution_count": null,
      "outputs": []
    },
    {
      "cell_type": "code",
      "source": [
        "# Fig6\n",
        "print('\\033[1m',\"\\n\\n\\tO Estado de São Paulo esta presente como destino, em 4 dos 10 Top maiores volumes de bilhetes emitidos.\\n\\tO que indica ser um ponto de atração para diversas pessoas.\\n\\tQue visitam por motivo de trabalho, familiar ou a passeio.\\n\\n\")\n",
        "fig = Image.open('/content/Fig6.png')\n",
        "fig.show()"
      ],
      "metadata": {
        "id": "ZkYW3Raf_NsG"
      },
      "execution_count": null,
      "outputs": []
    },
    {
      "cell_type": "code",
      "source": [
        "#df_uf.loc[df_uf['count']>= filter].sort_values(by='count', ascending=False)[['uf_origem_linha', 'uf_destino_linha', 'count']].head()"
      ],
      "metadata": {
        "id": "C96ddplozOq0"
      },
      "execution_count": null,
      "outputs": []
    },
    {
      "cell_type": "code",
      "source": [
        "# Fig7\n",
        "# df_uf.loc[df_uf['count']>= filter].sort_values(by='count', ascending=False)[['uf_origem_linha', 'uf_destino_linha', 'count']]\n",
        "\"\"\"\n",
        "\tuf_origem_linha\tuf_destino_linha\tcount\n",
        "0\tPR\tSP\t154065\n",
        "1\tMG\tRJ\t134074\n",
        "2\tSP\tMG\t133341\n",
        "3\tSP\tRJ\t127959\n",
        "-\n",
        "-\n",
        "-\n",
        "35\tAL\tPE\t10547\n",
        "36\tBA\tRJ\t10502\n",
        "\"\"\"\n",
        "print('\\033[1m',\"\\n\\n\\tOs maiores fluxos de pessoas viajando saem do Paraná, São Paulo, Minas Gerais, Rio de Janeiro, Espirito Santo e Bahia.\\n\\n\")\n",
        "fig = Image.open('/content/Fig7.png')\n",
        "fig.show()"
      ],
      "metadata": {
        "id": "exjRUf4q_N4-"
      },
      "execution_count": null,
      "outputs": []
    },
    {
      "cell_type": "code",
      "source": [
        "# Fig8\n",
        "print('\\033[1m',\"\\n\\n\\tNo mês de Março de 2019 ocorreu o carnaval e provavelmente muitas pessoas viajaram.\\n\\tEm 2020 haviam restrições devido ao Covid.\\n\\n\")\n",
        "fig = Image.open('/content/Fig8.png')\n",
        "fig.show()"
      ],
      "metadata": {
        "id": "vG6H8YzdH078"
      },
      "execution_count": null,
      "outputs": []
    },
    {
      "cell_type": "code",
      "source": [
        "# Fig9\n",
        "print('\\033[1m',\"\\n\\n\\tOs Estados do Paraná e São Paulo apresentam grande fluxo de viajantes e a maioria deles prefere viajar na sexta-feira ou domingo.\\n\\n\")\n",
        "fig = Image.open('/content/Fig9.png')\n",
        "fig.show()"
      ],
      "metadata": {
        "id": "k4o6A6Kq_OFn"
      },
      "execution_count": null,
      "outputs": []
    },
    {
      "cell_type": "code",
      "source": [
        "# Fig10\n",
        "print('\\033[1m',\"\\n\\n\\tA tabela mostra as linhas com maiores bilhetes emitidos.\\n\\tAs cidades: São Paulo, Curitiba e Belo Horizonte,  surgem como grandes fontes de viagens entre capitais.\\n\\n\")\n",
        "fig = Image.open('/content/Fig10.png')\n",
        "fig.show()"
      ],
      "metadata": {
        "id": "v4ZIwTvTy5m7"
      },
      "execution_count": null,
      "outputs": []
    },
    {
      "cell_type": "code",
      "source": [
        "# Fig11\n",
        "print('\\033[1m',\"\\n\\n\\tOs Estados de São Paulo, Paraná e Minas Gerais respondem por um enorme fluxo de viagens.\\n\\n\")\n",
        "fig = Image.open('/content/Fig11.png')\n",
        "fig.show()"
      ],
      "metadata": {
        "id": "9H4W_PrN4z0W"
      },
      "execution_count": null,
      "outputs": []
    }
  ],
  "metadata": {
    "colab": {
      "provenance": [],
      "include_colab_link": true
    },
    "kernelspec": {
      "display_name": "Python 3",
      "name": "python3"
    },
    "language_info": {
      "name": "python"
    }
  },
  "nbformat": 4,
  "nbformat_minor": 0
}